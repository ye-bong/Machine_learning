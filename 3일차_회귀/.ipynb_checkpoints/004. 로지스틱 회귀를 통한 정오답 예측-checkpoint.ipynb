{
 "cells": [
  {
   "cell_type": "markdown",
   "metadata": {
    "id": "7FfN6Fs1oBNg"
   },
   "source": [
    "## 로지스틱 회귀"
   ]
  },
  {
   "cell_type": "code",
   "execution_count": 1,
   "metadata": {
    "colab": {
     "base_uri": "https://localhost:8080/"
    },
    "executionInfo": {
     "elapsed": 19950,
     "status": "ok",
     "timestamp": 1693315453876,
     "user": {
      "displayName": "박나연",
      "userId": "15219795176792784727"
     },
     "user_tz": -540
    },
    "id": "YUomHxwAwqsq",
    "outputId": "4de66810-fc49-42d6-f7d6-7cc01a9b79d0"
   },
   "outputs": [
    {
     "name": "stdout",
     "output_type": "stream",
     "text": [
      "Mounted at /content/drive\n"
     ]
    }
   ],
   "source": [
    "from google.colab import drive\n",
    "drive.mount('/content/drive')"
   ]
  },
  {
   "cell_type": "code",
   "execution_count": 2,
   "metadata": {
    "colab": {
     "base_uri": "https://localhost:8080/"
    },
    "executionInfo": {
     "elapsed": 514,
     "status": "ok",
     "timestamp": 1693315454387,
     "user": {
      "displayName": "박나연",
      "userId": "15219795176792784727"
     },
     "user_tz": -540
    },
    "id": "ToPvDFQvwuWY",
    "outputId": "afbcf839-f513-4b44-8168-8166707104ee"
   },
   "outputs": [
    {
     "name": "stdout",
     "output_type": "stream",
     "text": [
      "/content/drive/MyDrive/강의자료/머신러닝기초/3일차_회귀\n"
     ]
    }
   ],
   "source": [
    "%cd /content/drive/MyDrive/강의자료/머신러닝기초/3일차_회귀"
   ]
  },
  {
   "cell_type": "code",
   "execution_count": 3,
   "metadata": {
    "executionInfo": {
     "elapsed": 1967,
     "status": "ok",
     "timestamp": 1693315456353,
     "user": {
      "displayName": "박나연",
      "userId": "15219795176792784727"
     },
     "user_tz": -540
    },
    "id": "7FlU9jfENP05"
   },
   "outputs": [],
   "source": [
    "import pandas as pd\n",
    "import matplotlib.pyplot as plt\n",
    "%matplotlib inline\n",
    "\n",
    "from sklearn.linear_model import LogisticRegression"
   ]
  },
  {
   "cell_type": "markdown",
   "metadata": {
    "id": "7zr8_ghgNMSP"
   },
   "source": [
    "```python\n",
    "df = pd.read_csv('./datasets/초등_4학년_수학_차시문항풀이이력.csv', index_col=0)\n",
    "pd.set_option('display.max_columns', len(df.columns))\n",
    "df.head()\n",
    "```"
   ]
  },
  {
   "cell_type": "code",
   "execution_count": null,
   "metadata": {
    "id": "dPUQYPuFoBNi"
   },
   "outputs": [],
   "source": []
  },
  {
   "cell_type": "markdown",
   "metadata": {
    "id": "9jOiuGxDNSQJ"
   },
   "source": [
    "```python\n",
    "df['정오답'] =  df['정오답'].map({'O': 1, 'X': 0})\n",
    "```"
   ]
  },
  {
   "cell_type": "code",
   "execution_count": 5,
   "metadata": {
    "executionInfo": {
     "elapsed": 8,
     "status": "ok",
     "timestamp": 1693315458816,
     "user": {
      "displayName": "박나연",
      "userId": "15219795176792784727"
     },
     "user_tz": -540
    },
    "id": "lzTtdFCjoBNj"
   },
   "outputs": [],
   "source": []
  },
  {
   "cell_type": "markdown",
   "metadata": {
    "id": "IUVw6unkNVjc"
   },
   "source": [
    "Q. 어떤 피쳐가 정오답에 영향을 미칠까?"
   ]
  },
  {
   "cell_type": "markdown",
   "metadata": {
    "id": "d8_Xb2iSNUI3"
   },
   "source": [
    "```python\n",
    "df = df[['정오답', '강의타입', '동영상재생시간', '실제재생시간', '학습일', '문항코드', '대단원코드', '중단원코드', '소단원코드', '토픽코드', '난이도', '평가영역']]\n",
    "```"
   ]
  },
  {
   "cell_type": "code",
   "execution_count": 6,
   "metadata": {
    "executionInfo": {
     "elapsed": 7,
     "status": "ok",
     "timestamp": 1693315458816,
     "user": {
      "displayName": "박나연",
      "userId": "15219795176792784727"
     },
     "user_tz": -540
    },
    "id": "u6OVN2wZb5HJ"
   },
   "outputs": [],
   "source": []
  },
  {
   "cell_type": "markdown",
   "metadata": {
    "id": "YtzB-2gENaOn"
   },
   "source": [
    "```python\n",
    "df = df.dropna(subset=['정오답'])\n",
    "```"
   ]
  },
  {
   "cell_type": "code",
   "execution_count": 7,
   "metadata": {
    "executionInfo": {
     "elapsed": 8,
     "status": "ok",
     "timestamp": 1693315458817,
     "user": {
      "displayName": "박나연",
      "userId": "15219795176792784727"
     },
     "user_tz": -540
    },
    "id": "heWszFzgoBNk",
    "scrolled": true
   },
   "outputs": [],
   "source": []
  },
  {
   "cell_type": "markdown",
   "metadata": {
    "id": "MeCZH4HSNfmU"
   },
   "source": [
    "```python\n",
    "df['학습일'] = df.학습일.apply(pd.to_datetime)\n",
    "df['hour'] = df.학습일.apply(lambda x: x.hour)\n",
    "```"
   ]
  },
  {
   "cell_type": "code",
   "execution_count": 8,
   "metadata": {
    "executionInfo": {
     "elapsed": 11335,
     "status": "ok",
     "timestamp": 1693315471046,
     "user": {
      "displayName": "박나연",
      "userId": "15219795176792784727"
     },
     "user_tz": -540
    },
    "id": "rNkPRHapb6iT"
   },
   "outputs": [],
   "source": []
  },
  {
   "cell_type": "code",
   "execution_count": null,
   "metadata": {
    "id": "LiJib5Zreatb"
   },
   "outputs": [],
   "source": []
  },
  {
   "cell_type": "markdown",
   "metadata": {
    "id": "AKSykduENicx"
   },
   "source": [
    "카테고리형 변수 원핫인코딩"
   ]
  },
  {
   "cell_type": "markdown",
   "metadata": {
    "id": "9NPk7AbtNhR5"
   },
   "source": [
    "```python\n",
    "df = pd.get_dummies(df, columns=['강의타입', '문항코드', '대단원코드', '중단원코드', '소단원코드', '토픽코드', '난이도', '평가영역', 'hour'])\n",
    "```"
   ]
  },
  {
   "cell_type": "code",
   "execution_count": 9,
   "metadata": {
    "executionInfo": {
     "elapsed": 698,
     "status": "ok",
     "timestamp": 1693315471740,
     "user": {
      "displayName": "박나연",
      "userId": "15219795176792784727"
     },
     "user_tz": -540
    },
    "id": "1Jjc2r9nR9wr"
   },
   "outputs": [],
   "source": []
  },
  {
   "cell_type": "markdown",
   "metadata": {
    "id": "a8auk5HNNmj-"
   },
   "source": [
    "```python\n",
    "df = df.drop(labels='학습일', axis=1)\n",
    "```"
   ]
  },
  {
   "cell_type": "code",
   "execution_count": 10,
   "metadata": {
    "executionInfo": {
     "elapsed": 574,
     "status": "ok",
     "timestamp": 1693315472312,
     "user": {
      "displayName": "박나연",
      "userId": "15219795176792784727"
     },
     "user_tz": -540
    },
    "id": "XTK0PZb-NqPr"
   },
   "outputs": [],
   "source": []
  },
  {
   "cell_type": "markdown",
   "metadata": {
    "id": "XAnd5km-Nqep"
   },
   "source": [
    "```python\n",
    "X = df.iloc[:,1:].to_numpy()\n",
    "Y = df['정오답'].to_numpy()\n",
    "```"
   ]
  },
  {
   "cell_type": "code",
   "execution_count": 11,
   "metadata": {
    "executionInfo": {
     "elapsed": 458,
     "status": "ok",
     "timestamp": 1693315472768,
     "user": {
      "displayName": "박나연",
      "userId": "15219795176792784727"
     },
     "user_tz": -540
    },
    "id": "IABzmJzXNt1U"
   },
   "outputs": [],
   "source": []
  },
  {
   "cell_type": "markdown",
   "metadata": {
    "id": "2E6iCTs1NuB3"
   },
   "source": [
    "```python\n",
    "from sklearn.preprocessing import StandardScaler\n",
    "from sklearn.model_selection import train_test_split\n",
    "\n",
    "X_train , X_test, y_train , y_test = train_test_split(X, Y, test_size=0.2, random_state=0)\n",
    "```"
   ]
  },
  {
   "cell_type": "code",
   "execution_count": 12,
   "metadata": {
    "executionInfo": {
     "elapsed": 3135,
     "status": "ok",
     "timestamp": 1693315475900,
     "user": {
      "displayName": "박나연",
      "userId": "15219795176792784727"
     },
     "user_tz": -540
    },
    "id": "s_72CSBdNxF6"
   },
   "outputs": [],
   "source": []
  },
  {
   "cell_type": "markdown",
   "metadata": {
    "id": "ND76yLU4Nxu0"
   },
   "source": [
    "```python\n",
    "from sklearn.metrics import accuracy_score, roc_auc_score\n",
    "\n",
    "# 로지스틱 회귀를 이용하여 학습 및 예측 수행.\n",
    "# solver인자값을 생성자로 입력하지 않으면 solver='lbfgs'  \n",
    "lr_clf = LogisticRegression() # solver='lbfgs'\n",
    "lr_clf.fit(X_train, y_train)\n",
    "lr_preds = lr_clf.predict(X_test)\n",
    "\n",
    "# accuracy와 roc_auc 측정\n",
    "print('accuracy: {0:.3f}, roc_auc:{1:.3f}'.format(accuracy_score(y_test, lr_preds),\n",
    "                                                 roc_auc_score(y_test , lr_preds)))\n",
    "```"
   ]
  },
  {
   "cell_type": "code",
   "execution_count": null,
   "metadata": {
    "id": "K1ZExi-eS2JM"
   },
   "outputs": [],
   "source": []
  },
  {
   "cell_type": "markdown",
   "metadata": {
    "id": "xZFx72I_N29v"
   },
   "source": [
    "#### 더 성능을 높여보자."
   ]
  },
  {
   "cell_type": "markdown",
   "metadata": {
    "id": "zwnFlnO2n95Y"
   },
   "source": [
    "재생시간 스케일링"
   ]
  },
  {
   "cell_type": "markdown",
   "metadata": {
    "id": "V52MKaP8OAG3"
   },
   "source": [
    "```python\n",
    "df[['동영상재생시간','실제재생시간']]\n",
    "```"
   ]
  },
  {
   "cell_type": "code",
   "execution_count": null,
   "metadata": {
    "id": "BlEWh1NVygCg"
   },
   "outputs": [],
   "source": []
  },
  {
   "cell_type": "markdown",
   "metadata": {
    "id": "MAoh1TvlOC4Z"
   },
   "source": [
    "```python\n",
    "scaler = StandardScaler()\n",
    "data_scaled = scaler.fit_transform(df[['동영상재생시간','실제재생시간']])\n",
    "```"
   ]
  },
  {
   "cell_type": "code",
   "execution_count": 15,
   "metadata": {
    "executionInfo": {
     "elapsed": 597,
     "status": "ok",
     "timestamp": 1693315507142,
     "user": {
      "displayName": "박나연",
      "userId": "15219795176792784727"
     },
     "user_tz": -540
    },
    "id": "HX5sgaMKyP0G"
   },
   "outputs": [],
   "source": []
  },
  {
   "cell_type": "markdown",
   "metadata": {
    "id": "NqvIpF3HOIkZ"
   },
   "source": [
    "```python\n",
    "df[['동영상재생시간','실제재생시간']] = data_scaled\n",
    "```"
   ]
  },
  {
   "cell_type": "code",
   "execution_count": 16,
   "metadata": {
    "executionInfo": {
     "elapsed": 6,
     "status": "ok",
     "timestamp": 1693315507142,
     "user": {
      "displayName": "박나연",
      "userId": "15219795176792784727"
     },
     "user_tz": -540
    },
    "id": "XUshKcGMymk3"
   },
   "outputs": [],
   "source": []
  },
  {
   "cell_type": "markdown",
   "metadata": {
    "id": "J2VCugS-OK2S"
   },
   "source": [
    "```python\n",
    "X = df.iloc[:,1:].to_numpy()\n",
    "Y = df['정오답'].to_numpy()\n",
    "```"
   ]
  },
  {
   "cell_type": "code",
   "execution_count": 17,
   "metadata": {
    "executionInfo": {
     "elapsed": 523,
     "status": "ok",
     "timestamp": 1693315507660,
     "user": {
      "displayName": "박나연",
      "userId": "15219795176792784727"
     },
     "user_tz": -540
    },
    "id": "BpeD1A0tUDj7"
   },
   "outputs": [],
   "source": []
  },
  {
   "cell_type": "markdown",
   "metadata": {
    "id": "QOhY3xr5OOMK"
   },
   "source": [
    "```python\n",
    "from sklearn.preprocessing import StandardScaler\n",
    "from sklearn.model_selection import train_test_split\n",
    "\n",
    "X_train , X_test, y_train , y_test = train_test_split(X, Y, test_size=0.2, random_state=0)\n",
    "```"
   ]
  },
  {
   "cell_type": "code",
   "execution_count": 18,
   "metadata": {
    "executionInfo": {
     "elapsed": 1576,
     "status": "ok",
     "timestamp": 1693315509233,
     "user": {
      "displayName": "박나연",
      "userId": "15219795176792784727"
     },
     "user_tz": -540
    },
    "id": "ayQXyB1nzF_Q",
    "scrolled": true
   },
   "outputs": [],
   "source": []
  },
  {
   "cell_type": "markdown",
   "metadata": {
    "id": "MOdzP9kqOQBs"
   },
   "source": [
    "```python\n",
    "# 로지스틱 회귀를 이용하여 학습 및 예측 수행.\n",
    "# solver인자값을 생성자로 입력하지 않으면 solver='lbfgs'  \n",
    "lr_clf = LogisticRegression() # solver='lbfgs'\n",
    "lr_clf.fit(X_train, y_train)\n",
    "lr_preds = lr_clf.predict(X_test)\n",
    "\n",
    "# accuracy와 roc_auc 측정\n",
    "print('accuracy: {0:.3f}, roc_auc:{1:.3f}'.format(accuracy_score(y_test, lr_preds),\n",
    "                                                 roc_auc_score(y_test , lr_preds)))\n",
    "```"
   ]
  },
  {
   "cell_type": "code",
   "execution_count": null,
   "metadata": {
    "id": "G2Z2sZNJy-z9"
   },
   "outputs": [],
   "source": []
  },
  {
   "cell_type": "markdown",
   "metadata": {
    "id": "PI5OFr7NOTQ4"
   },
   "source": [
    "```python\n",
    "pd.DataFrame(data=[lr_preds, y_test])\n",
    "```"
   ]
  },
  {
   "cell_type": "code",
   "execution_count": null,
   "metadata": {
    "id": "ePUCrk9VoBNo"
   },
   "outputs": [],
   "source": []
  },
  {
   "cell_type": "code",
   "execution_count": null,
   "metadata": {
    "id": "BHwhC8U4oBNo"
   },
   "outputs": [],
   "source": []
  },
  {
   "cell_type": "code",
   "execution_count": null,
   "metadata": {
    "id": "WGYHORmxoBNo"
   },
   "outputs": [],
   "source": []
  },
  {
   "cell_type": "code",
   "execution_count": null,
   "metadata": {
    "id": "KsOZVcVZpc_9"
   },
   "outputs": [],
   "source": []
  }
 ],
 "metadata": {
  "colab": {
   "provenance": []
  },
  "kernelspec": {
   "display_name": "Python 3 (ipykernel)",
   "language": "python",
   "name": "python3"
  },
  "language_info": {
   "codemirror_mode": {
    "name": "ipython",
    "version": 3
   },
   "file_extension": ".py",
   "mimetype": "text/x-python",
   "name": "python",
   "nbconvert_exporter": "python",
   "pygments_lexer": "ipython3",
   "version": "3.10.9"
  }
 },
 "nbformat": 4,
 "nbformat_minor": 1
}
