{
 "cells": [
  {
   "cell_type": "markdown",
   "metadata": {
    "id": "7FfN6Fs1oBNg"
   },
   "source": [
    "## 로지스틱 회귀"
   ]
  },
  {
   "cell_type": "code",
   "execution_count": 1,
   "metadata": {
    "colab": {
     "base_uri": "https://localhost:8080/"
    },
    "executionInfo": {
     "elapsed": 19950,
     "status": "ok",
     "timestamp": 1693315453876,
     "user": {
      "displayName": "박나연",
      "userId": "15219795176792784727"
     },
     "user_tz": -540
    },
    "id": "YUomHxwAwqsq",
    "outputId": "4de66810-fc49-42d6-f7d6-7cc01a9b79d0"
   },
   "outputs": [
    {
     "name": "stdout",
     "output_type": "stream",
     "text": [
      "Mounted at /content/drive\n"
     ]
    }
   ],
   "source": [
    "from google.colab import drive\n",
    "drive.mount('/content/drive')"
   ]
  },
  {
   "cell_type": "code",
   "execution_count": 2,
   "metadata": {
    "colab": {
     "base_uri": "https://localhost:8080/"
    },
    "executionInfo": {
     "elapsed": 514,
     "status": "ok",
     "timestamp": 1693315454387,
     "user": {
      "displayName": "박나연",
      "userId": "15219795176792784727"
     },
     "user_tz": -540
    },
    "id": "ToPvDFQvwuWY",
    "outputId": "afbcf839-f513-4b44-8168-8166707104ee"
   },
   "outputs": [
    {
     "name": "stdout",
     "output_type": "stream",
     "text": [
      "/content/drive/MyDrive/강의자료/머신러닝기초/3일차_회귀\n"
     ]
    }
   ],
   "source": [
    "%cd /content/drive/MyDrive/강의자료/머신러닝기초/3일차_회귀"
   ]
  },
  {
   "cell_type": "code",
   "execution_count": 2,
   "metadata": {
    "executionInfo": {
     "elapsed": 1967,
     "status": "ok",
     "timestamp": 1693315456353,
     "user": {
      "displayName": "박나연",
      "userId": "15219795176792784727"
     },
     "user_tz": -540
    },
    "id": "7FlU9jfENP05"
   },
   "outputs": [],
   "source": [
    "import pandas as pd\n",
    "import matplotlib.pyplot as plt\n",
    "%matplotlib inline\n",
    "\n",
    "from sklearn.linear_model import LogisticRegression"
   ]
  },
  {
   "cell_type": "markdown",
   "metadata": {
    "id": "7zr8_ghgNMSP"
   },
   "source": [
    "```python\n",
    "df = pd.read_csv('./datasets/초등_4학년_수학_차시문항풀이이력.csv', index_col=0)\n",
    "pd.set_option('display.max_columns', len(df.columns))\n",
    "df.head()\n",
    "```"
   ]
  },
  {
   "cell_type": "code",
   "execution_count": 3,
   "metadata": {
    "id": "dPUQYPuFoBNi"
   },
   "outputs": [],
   "source": [
    "df = pd.read_csv('./datasets/초등_4학년_수학_차시문항풀이이력.csv', index_col=0)"
   ]
  },
  {
   "cell_type": "code",
   "execution_count": 4,
   "metadata": {},
   "outputs": [
    {
     "data": {
      "text/html": [
       "<div>\n",
       "<style scoped>\n",
       "    .dataframe tbody tr th:only-of-type {\n",
       "        vertical-align: middle;\n",
       "    }\n",
       "\n",
       "    .dataframe tbody tr th {\n",
       "        vertical-align: top;\n",
       "    }\n",
       "\n",
       "    .dataframe thead th {\n",
       "        text-align: right;\n",
       "    }\n",
       "</style>\n",
       "<table border=\"1\" class=\"dataframe\">\n",
       "  <thead>\n",
       "    <tr style=\"text-align: right;\">\n",
       "      <th></th>\n",
       "      <th>사용자ID</th>\n",
       "      <th>차시코드</th>\n",
       "      <th>단원코드</th>\n",
       "      <th>단원제목</th>\n",
       "      <th>강의내용</th>\n",
       "      <th>강의명</th>\n",
       "      <th>학년</th>\n",
       "      <th>학기</th>\n",
       "      <th>시험구분</th>\n",
       "      <th>강의구분</th>\n",
       "      <th>강의타입</th>\n",
       "      <th>동영상재생시간</th>\n",
       "      <th>실제재생시간</th>\n",
       "      <th>확인문제점수</th>\n",
       "      <th>학습일</th>\n",
       "      <th>문항번호</th>\n",
       "      <th>문항코드</th>\n",
       "      <th>사용자입력</th>\n",
       "      <th>정오답</th>\n",
       "      <th>영역</th>\n",
       "      <th>대단원코드</th>\n",
       "      <th>대단원제목</th>\n",
       "      <th>중단원코드</th>\n",
       "      <th>중단원제목</th>\n",
       "      <th>소단원코드</th>\n",
       "      <th>소단원제목</th>\n",
       "      <th>토픽코드</th>\n",
       "      <th>토픽제목</th>\n",
       "      <th>난이도</th>\n",
       "      <th>평가영역</th>\n",
       "    </tr>\n",
       "  </thead>\n",
       "  <tbody>\n",
       "    <tr>\n",
       "      <th>0</th>\n",
       "      <td>62fbd7b7-6a32-4da2-b203-acdec95e00b2</td>\n",
       "      <td>T0ME41U43001</td>\n",
       "      <td>T0ME41U43</td>\n",
       "      <td>1학기 복습</td>\n",
       "      <td>만, 다섯 자리 수 알아보기</td>\n",
       "      <td>수학 1단원 【복습①】</td>\n",
       "      <td>4</td>\n",
       "      <td>1</td>\n",
       "      <td>NaN</td>\n",
       "      <td>E</td>\n",
       "      <td>AAA</td>\n",
       "      <td>0</td>\n",
       "      <td>8</td>\n",
       "      <td>-1</td>\n",
       "      <td>2022-07-04 21:00:03</td>\n",
       "      <td>1.0</td>\n",
       "      <td>30016642.0</td>\n",
       "      <td>10000</td>\n",
       "      <td>O</td>\n",
       "      <td>MA</td>\n",
       "      <td>17120995.0</td>\n",
       "      <td>1. 큰 수</td>\n",
       "      <td>14201237.0</td>\n",
       "      <td>다섯 자리 수</td>\n",
       "      <td>12233514.0</td>\n",
       "      <td>다섯 자리 수의 이해</td>\n",
       "      <td>12234054.0</td>\n",
       "      <td>모형 돈 세어 보기</td>\n",
       "      <td>2.0</td>\n",
       "      <td>91.0</td>\n",
       "    </tr>\n",
       "    <tr>\n",
       "      <th>1</th>\n",
       "      <td>62fbd7b7-6a32-4da2-b203-acdec95e00b2</td>\n",
       "      <td>T0ME41U43001</td>\n",
       "      <td>T0ME41U43</td>\n",
       "      <td>1학기 복습</td>\n",
       "      <td>만, 다섯 자리 수 알아보기</td>\n",
       "      <td>수학 1단원 【복습①】</td>\n",
       "      <td>4</td>\n",
       "      <td>1</td>\n",
       "      <td>NaN</td>\n",
       "      <td>E</td>\n",
       "      <td>AAA</td>\n",
       "      <td>0</td>\n",
       "      <td>8</td>\n",
       "      <td>-1</td>\n",
       "      <td>2022-07-04 21:00:03</td>\n",
       "      <td>2.0</td>\n",
       "      <td>30016654.0</td>\n",
       "      <td>1000/^ROW^/100/^ROW^/10/^ROW^/1</td>\n",
       "      <td>O</td>\n",
       "      <td>MA</td>\n",
       "      <td>17120995.0</td>\n",
       "      <td>1. 큰 수</td>\n",
       "      <td>14201237.0</td>\n",
       "      <td>다섯 자리 수</td>\n",
       "      <td>12233514.0</td>\n",
       "      <td>다섯 자리 수의 이해</td>\n",
       "      <td>12233718.0</td>\n",
       "      <td>10000 알아보기</td>\n",
       "      <td>2.0</td>\n",
       "      <td>91.0</td>\n",
       "    </tr>\n",
       "    <tr>\n",
       "      <th>2</th>\n",
       "      <td>62fbd7b7-6a32-4da2-b203-acdec95e00b2</td>\n",
       "      <td>T0ME41U43001</td>\n",
       "      <td>T0ME41U43</td>\n",
       "      <td>1학기 복습</td>\n",
       "      <td>만, 다섯 자리 수 알아보기</td>\n",
       "      <td>수학 1단원 【복습①】</td>\n",
       "      <td>4</td>\n",
       "      <td>1</td>\n",
       "      <td>NaN</td>\n",
       "      <td>E</td>\n",
       "      <td>AAA</td>\n",
       "      <td>0</td>\n",
       "      <td>8</td>\n",
       "      <td>-1</td>\n",
       "      <td>2022-07-04 21:00:03</td>\n",
       "      <td>3.0</td>\n",
       "      <td>30016589.0</td>\n",
       "      <td>713758/^ROW^/칠만십삼천칠배오십팔</td>\n",
       "      <td>X</td>\n",
       "      <td>MA</td>\n",
       "      <td>17120995.0</td>\n",
       "      <td>1. 큰 수</td>\n",
       "      <td>14201237.0</td>\n",
       "      <td>다섯 자리 수</td>\n",
       "      <td>12233514.0</td>\n",
       "      <td>다섯 자리 수의 이해</td>\n",
       "      <td>12234058.0</td>\n",
       "      <td>10000이 ■, 1000이 ▲ ……인 다섯 자리 수를 나타내기</td>\n",
       "      <td>2.0</td>\n",
       "      <td>91.0</td>\n",
       "    </tr>\n",
       "    <tr>\n",
       "      <th>3</th>\n",
       "      <td>62fbd7b7-6a32-4da2-b203-acdec95e00b2</td>\n",
       "      <td>T0ME41U43001</td>\n",
       "      <td>T0ME41U43</td>\n",
       "      <td>1학기 복습</td>\n",
       "      <td>만, 다섯 자리 수 알아보기</td>\n",
       "      <td>수학 1단원 【복습①】</td>\n",
       "      <td>4</td>\n",
       "      <td>1</td>\n",
       "      <td>NaN</td>\n",
       "      <td>E</td>\n",
       "      <td>AAA</td>\n",
       "      <td>0</td>\n",
       "      <td>8</td>\n",
       "      <td>-1</td>\n",
       "      <td>2022-07-04 21:00:03</td>\n",
       "      <td>4.0</td>\n",
       "      <td>30016571.0</td>\n",
       "      <td>60000/^ROW^/3000/^ROW^/100/^ROW^/90/^ROW^/7</td>\n",
       "      <td>O</td>\n",
       "      <td>MA</td>\n",
       "      <td>17120995.0</td>\n",
       "      <td>1. 큰 수</td>\n",
       "      <td>14201237.0</td>\n",
       "      <td>다섯 자리 수</td>\n",
       "      <td>12233515.0</td>\n",
       "      <td>다섯 자리 수의 자릿값</td>\n",
       "      <td>12233721.0</td>\n",
       "      <td>각 자릿수의 합으로 나타내기</td>\n",
       "      <td>3.0</td>\n",
       "      <td>91.0</td>\n",
       "    </tr>\n",
       "    <tr>\n",
       "      <th>4</th>\n",
       "      <td>62fbd7b7-6a32-4da2-b203-acdec95e00b2</td>\n",
       "      <td>T0ME41U43001</td>\n",
       "      <td>T0ME41U43</td>\n",
       "      <td>1학기 복습</td>\n",
       "      <td>만, 다섯 자리 수 알아보기</td>\n",
       "      <td>수학 1단원 【복습①】</td>\n",
       "      <td>4</td>\n",
       "      <td>1</td>\n",
       "      <td>NaN</td>\n",
       "      <td>E</td>\n",
       "      <td>AAA</td>\n",
       "      <td>0</td>\n",
       "      <td>8</td>\n",
       "      <td>-1</td>\n",
       "      <td>2022-07-04 21:00:03</td>\n",
       "      <td>5.0</td>\n",
       "      <td>30016608.0</td>\n",
       "      <td>천/^ROW^/2000</td>\n",
       "      <td>O</td>\n",
       "      <td>MA</td>\n",
       "      <td>17120995.0</td>\n",
       "      <td>1. 큰 수</td>\n",
       "      <td>14201237.0</td>\n",
       "      <td>다섯 자리 수</td>\n",
       "      <td>12233515.0</td>\n",
       "      <td>다섯 자리 수의 자릿값</td>\n",
       "      <td>12233719.0</td>\n",
       "      <td>각 자리의 숫자와 나타내는 값 알아보기</td>\n",
       "      <td>3.0</td>\n",
       "      <td>91.0</td>\n",
       "    </tr>\n",
       "  </tbody>\n",
       "</table>\n",
       "</div>"
      ],
      "text/plain": [
       "                                  사용자ID          차시코드       단원코드    단원제목  \\\n",
       "0  62fbd7b7-6a32-4da2-b203-acdec95e00b2  T0ME41U43001  T0ME41U43  1학기 복습   \n",
       "1  62fbd7b7-6a32-4da2-b203-acdec95e00b2  T0ME41U43001  T0ME41U43  1학기 복습   \n",
       "2  62fbd7b7-6a32-4da2-b203-acdec95e00b2  T0ME41U43001  T0ME41U43  1학기 복습   \n",
       "3  62fbd7b7-6a32-4da2-b203-acdec95e00b2  T0ME41U43001  T0ME41U43  1학기 복습   \n",
       "4  62fbd7b7-6a32-4da2-b203-acdec95e00b2  T0ME41U43001  T0ME41U43  1학기 복습   \n",
       "\n",
       "              강의내용           강의명  학년  학기  시험구분 강의구분 강의타입  동영상재생시간  실제재생시간  \\\n",
       "0  만, 다섯 자리 수 알아보기  수학 1단원 【복습①】   4   1   NaN    E  AAA        0       8   \n",
       "1  만, 다섯 자리 수 알아보기  수학 1단원 【복습①】   4   1   NaN    E  AAA        0       8   \n",
       "2  만, 다섯 자리 수 알아보기  수학 1단원 【복습①】   4   1   NaN    E  AAA        0       8   \n",
       "3  만, 다섯 자리 수 알아보기  수학 1단원 【복습①】   4   1   NaN    E  AAA        0       8   \n",
       "4  만, 다섯 자리 수 알아보기  수학 1단원 【복습①】   4   1   NaN    E  AAA        0       8   \n",
       "\n",
       "   확인문제점수                  학습일  문항번호        문항코드  \\\n",
       "0      -1  2022-07-04 21:00:03   1.0  30016642.0   \n",
       "1      -1  2022-07-04 21:00:03   2.0  30016654.0   \n",
       "2      -1  2022-07-04 21:00:03   3.0  30016589.0   \n",
       "3      -1  2022-07-04 21:00:03   4.0  30016571.0   \n",
       "4      -1  2022-07-04 21:00:03   5.0  30016608.0   \n",
       "\n",
       "                                         사용자입력 정오답  영역       대단원코드   대단원제목  \\\n",
       "0                                        10000   O  MA  17120995.0  1. 큰 수   \n",
       "1              1000/^ROW^/100/^ROW^/10/^ROW^/1   O  MA  17120995.0  1. 큰 수   \n",
       "2                      713758/^ROW^/칠만십삼천칠배오십팔   X  MA  17120995.0  1. 큰 수   \n",
       "3  60000/^ROW^/3000/^ROW^/100/^ROW^/90/^ROW^/7   O  MA  17120995.0  1. 큰 수   \n",
       "4                                 천/^ROW^/2000   O  MA  17120995.0  1. 큰 수   \n",
       "\n",
       "        중단원코드    중단원제목       소단원코드         소단원제목        토픽코드  \\\n",
       "0  14201237.0  다섯 자리 수  12233514.0   다섯 자리 수의 이해  12234054.0   \n",
       "1  14201237.0  다섯 자리 수  12233514.0   다섯 자리 수의 이해  12233718.0   \n",
       "2  14201237.0  다섯 자리 수  12233514.0   다섯 자리 수의 이해  12234058.0   \n",
       "3  14201237.0  다섯 자리 수  12233515.0  다섯 자리 수의 자릿값  12233721.0   \n",
       "4  14201237.0  다섯 자리 수  12233515.0  다섯 자리 수의 자릿값  12233719.0   \n",
       "\n",
       "                                  토픽제목  난이도  평가영역  \n",
       "0                           모형 돈 세어 보기  2.0  91.0  \n",
       "1                           10000 알아보기  2.0  91.0  \n",
       "2  10000이 ■, 1000이 ▲ ……인 다섯 자리 수를 나타내기  2.0  91.0  \n",
       "3                      각 자릿수의 합으로 나타내기  3.0  91.0  \n",
       "4                각 자리의 숫자와 나타내는 값 알아보기  3.0  91.0  "
      ]
     },
     "execution_count": 4,
     "metadata": {},
     "output_type": "execute_result"
    }
   ],
   "source": [
    "pd.set_option('display.max_columns', len(df.columns))\n",
    "df.head()"
   ]
  },
  {
   "cell_type": "markdown",
   "metadata": {
    "id": "9jOiuGxDNSQJ"
   },
   "source": [
    "```python\n",
    "df['정오답'] =  df['정오답'].map({'O': 1, 'X': 0})\n",
    "```"
   ]
  },
  {
   "cell_type": "code",
   "execution_count": 5,
   "metadata": {
    "executionInfo": {
     "elapsed": 8,
     "status": "ok",
     "timestamp": 1693315458816,
     "user": {
      "displayName": "박나연",
      "userId": "15219795176792784727"
     },
     "user_tz": -540
    },
    "id": "lzTtdFCjoBNj"
   },
   "outputs": [],
   "source": [
    "df['정오답'] =  df['정오답'].map({'O': 1, 'X': 0})"
   ]
  },
  {
   "cell_type": "markdown",
   "metadata": {
    "id": "IUVw6unkNVjc"
   },
   "source": [
    "Q. 어떤 피쳐가 정오답에 영향을 미칠까?"
   ]
  },
  {
   "cell_type": "markdown",
   "metadata": {
    "id": "d8_Xb2iSNUI3"
   },
   "source": [
    "```python\n",
    "df = df[['정오답', '강의타입', '동영상재생시간', '실제재생시간', '학습일', '문항코드', '대단원코드', '중단원코드', '소단원코드', '토픽코드', '난이도', '평가영역']]\n",
    "```"
   ]
  },
  {
   "cell_type": "code",
   "execution_count": 6,
   "metadata": {
    "executionInfo": {
     "elapsed": 7,
     "status": "ok",
     "timestamp": 1693315458816,
     "user": {
      "displayName": "박나연",
      "userId": "15219795176792784727"
     },
     "user_tz": -540
    },
    "id": "u6OVN2wZb5HJ"
   },
   "outputs": [],
   "source": [
    "df = df[['정오답', '강의타입', '동영상재생시간', '실제재생시간', '학습일', '문항코드', '대단원코드', '중단원코드', '소단원코드', '토픽코드', '난이도', '평가영역']]"
   ]
  },
  {
   "cell_type": "markdown",
   "metadata": {
    "id": "YtzB-2gENaOn"
   },
   "source": [
    "```python\n",
    "df = df.dropna(subset=['정오답'])\n",
    "```"
   ]
  },
  {
   "cell_type": "code",
   "execution_count": 7,
   "metadata": {
    "executionInfo": {
     "elapsed": 8,
     "status": "ok",
     "timestamp": 1693315458817,
     "user": {
      "displayName": "박나연",
      "userId": "15219795176792784727"
     },
     "user_tz": -540
    },
    "id": "heWszFzgoBNk",
    "scrolled": true
   },
   "outputs": [],
   "source": [
    "df = df.dropna(subset=['정오답'])"
   ]
  },
  {
   "cell_type": "markdown",
   "metadata": {
    "id": "MeCZH4HSNfmU"
   },
   "source": [
    "```python\n",
    "df['학습일'] = df.학습일.apply(pd.to_datetime)\n",
    "df['hour'] = df.학습일.apply(lambda x: x.hour)\n",
    "```"
   ]
  },
  {
   "cell_type": "code",
   "execution_count": 9,
   "metadata": {
    "executionInfo": {
     "elapsed": 11335,
     "status": "ok",
     "timestamp": 1693315471046,
     "user": {
      "displayName": "박나연",
      "userId": "15219795176792784727"
     },
     "user_tz": -540
    },
    "id": "rNkPRHapb6iT"
   },
   "outputs": [],
   "source": [
    "df['학습일'] = df.학습일.apply(pd.to_datetime)"
   ]
  },
  {
   "cell_type": "code",
   "execution_count": 10,
   "metadata": {
    "id": "LiJib5Zreatb"
   },
   "outputs": [],
   "source": [
    "df['hour'] = df.학습일.apply(lambda x: x.hour)"
   ]
  },
  {
   "cell_type": "markdown",
   "metadata": {
    "id": "AKSykduENicx"
   },
   "source": [
    "카테고리형 변수 원핫인코딩"
   ]
  },
  {
   "cell_type": "markdown",
   "metadata": {
    "id": "9NPk7AbtNhR5"
   },
   "source": [
    "```python\n",
    "df = pd.get_dummies(df, columns=['강의타입', '문항코드', '대단원코드', '중단원코드', '소단원코드', '토픽코드', '난이도', '평가영역', 'hour'])\n",
    "```"
   ]
  },
  {
   "cell_type": "code",
   "execution_count": 11,
   "metadata": {
    "executionInfo": {
     "elapsed": 698,
     "status": "ok",
     "timestamp": 1693315471740,
     "user": {
      "displayName": "박나연",
      "userId": "15219795176792784727"
     },
     "user_tz": -540
    },
    "id": "1Jjc2r9nR9wr"
   },
   "outputs": [],
   "source": [
    "df = pd.get_dummies(df, columns=['강의타입', '문항코드', '대단원코드', '중단원코드', '소단원코드', '토픽코드', '난이도', '평가영역', 'hour'])"
   ]
  },
  {
   "cell_type": "markdown",
   "metadata": {
    "id": "a8auk5HNNmj-"
   },
   "source": [
    "```python\n",
    "df = df.drop(labels='학습일', axis=1)\n",
    "```"
   ]
  },
  {
   "cell_type": "code",
   "execution_count": 12,
   "metadata": {
    "executionInfo": {
     "elapsed": 574,
     "status": "ok",
     "timestamp": 1693315472312,
     "user": {
      "displayName": "박나연",
      "userId": "15219795176792784727"
     },
     "user_tz": -540
    },
    "id": "XTK0PZb-NqPr"
   },
   "outputs": [],
   "source": [
    "df = df.drop(labels='학습일', axis=1)"
   ]
  },
  {
   "cell_type": "markdown",
   "metadata": {
    "id": "XAnd5km-Nqep"
   },
   "source": [
    "```python\n",
    "X = df.iloc[:,1:].to_numpy()\n",
    "Y = df['정오답'].to_numpy()\n",
    "```"
   ]
  },
  {
   "cell_type": "code",
   "execution_count": 13,
   "metadata": {
    "executionInfo": {
     "elapsed": 458,
     "status": "ok",
     "timestamp": 1693315472768,
     "user": {
      "displayName": "박나연",
      "userId": "15219795176792784727"
     },
     "user_tz": -540
    },
    "id": "IABzmJzXNt1U"
   },
   "outputs": [],
   "source": [
    "X = df.iloc[:,1:].to_numpy()\n",
    "Y = df['정오답'].to_numpy()"
   ]
  },
  {
   "cell_type": "markdown",
   "metadata": {
    "id": "2E6iCTs1NuB3"
   },
   "source": [
    "```python\n",
    "from sklearn.preprocessing import StandardScaler\n",
    "from sklearn.model_selection import train_test_split\n",
    "\n",
    "X_train , X_test, y_train , y_test = train_test_split(X, Y, test_size=0.2, random_state=0)\n",
    "```"
   ]
  },
  {
   "cell_type": "code",
   "execution_count": 14,
   "metadata": {
    "executionInfo": {
     "elapsed": 3135,
     "status": "ok",
     "timestamp": 1693315475900,
     "user": {
      "displayName": "박나연",
      "userId": "15219795176792784727"
     },
     "user_tz": -540
    },
    "id": "s_72CSBdNxF6"
   },
   "outputs": [],
   "source": [
    "from sklearn.preprocessing import StandardScaler\n",
    "from sklearn.model_selection import train_test_split\n",
    "\n",
    "X_train , X_test, y_train , y_test = train_test_split(X, Y, test_size=0.2, random_state=0)"
   ]
  },
  {
   "cell_type": "markdown",
   "metadata": {
    "id": "ND76yLU4Nxu0"
   },
   "source": [
    "```python\n",
    "from sklearn.metrics import accuracy_score, roc_auc_score\n",
    "\n",
    "# 로지스틱 회귀를 이용하여 학습 및 예측 수행.\n",
    "# solver인자값을 생성자로 입력하지 않으면 solver='lbfgs'  \n",
    "lr_clf = LogisticRegression() # solver='lbfgs'\n",
    "lr_clf.fit(X_train, y_train)\n",
    "lr_preds = lr_clf.predict(X_test)\n",
    "\n",
    "# accuracy와 roc_auc 측정\n",
    "print('accuracy: {0:.3f}, roc_auc:{1:.3f}'.format(accuracy_score(y_test, lr_preds),\n",
    "                                                 roc_auc_score(y_test , lr_preds)))\n",
    "```"
   ]
  },
  {
   "cell_type": "code",
   "execution_count": 15,
   "metadata": {
    "id": "K1ZExi-eS2JM"
   },
   "outputs": [
    {
     "name": "stdout",
     "output_type": "stream",
     "text": [
      "accuracy: 0.723, roc_auc:0.578\n"
     ]
    },
    {
     "name": "stderr",
     "output_type": "stream",
     "text": [
      "C:\\ProgramData\\anaconda3\\lib\\site-packages\\sklearn\\linear_model\\_logistic.py:458: ConvergenceWarning: lbfgs failed to converge (status=1):\n",
      "STOP: TOTAL NO. of ITERATIONS REACHED LIMIT.\n",
      "\n",
      "Increase the number of iterations (max_iter) or scale the data as shown in:\n",
      "    https://scikit-learn.org/stable/modules/preprocessing.html\n",
      "Please also refer to the documentation for alternative solver options:\n",
      "    https://scikit-learn.org/stable/modules/linear_model.html#logistic-regression\n",
      "  n_iter_i = _check_optimize_result(\n"
     ]
    }
   ],
   "source": [
    "from sklearn.metrics import accuracy_score, roc_auc_score\n",
    "\n",
    "# 로지스틱 회귀를 이용하여 학습 및 예측 수행.\n",
    "# solver인자값을 생성자로 입력하지 않으면 solver='lbfgs'  \n",
    "lr_clf = LogisticRegression() # solver='lbfgs'\n",
    "lr_clf.fit(X_train, y_train)\n",
    "lr_preds = lr_clf.predict(X_test)\n",
    "\n",
    "# accuracy와 roc_auc 측정\n",
    "print('accuracy: {0:.3f}, roc_auc:{1:.3f}'.format(accuracy_score(y_test, lr_preds),\n",
    "                                                 roc_auc_score(y_test , lr_preds)))"
   ]
  },
  {
   "cell_type": "code",
   "execution_count": 17,
   "metadata": {},
   "outputs": [
    {
     "data": {
      "text/plain": [
       "array([0.34280428, 0.65719572])"
      ]
     },
     "execution_count": 17,
     "metadata": {},
     "output_type": "execute_result"
    }
   ],
   "source": [
    "lr_clf.predict_proba(X_test)[0] # 정답일 확률/오답일 확률"
   ]
  },
  {
   "cell_type": "markdown",
   "metadata": {
    "id": "xZFx72I_N29v"
   },
   "source": [
    "#### 더 성능을 높여보자."
   ]
  },
  {
   "cell_type": "markdown",
   "metadata": {
    "id": "zwnFlnO2n95Y"
   },
   "source": [
    "재생시간 스케일링"
   ]
  },
  {
   "cell_type": "markdown",
   "metadata": {
    "id": "V52MKaP8OAG3"
   },
   "source": [
    "```python\n",
    "df[['동영상재생시간','실제재생시간']]\n",
    "```"
   ]
  },
  {
   "cell_type": "code",
   "execution_count": null,
   "metadata": {
    "id": "BlEWh1NVygCg"
   },
   "outputs": [],
   "source": [
    "# 동영상에서 재생바가 위치한 시간  # 동영상을 본 시긴"
   ]
  },
  {
   "cell_type": "code",
   "execution_count": 18,
   "metadata": {},
   "outputs": [
    {
     "data": {
      "text/html": [
       "<div>\n",
       "<style scoped>\n",
       "    .dataframe tbody tr th:only-of-type {\n",
       "        vertical-align: middle;\n",
       "    }\n",
       "\n",
       "    .dataframe tbody tr th {\n",
       "        vertical-align: top;\n",
       "    }\n",
       "\n",
       "    .dataframe thead th {\n",
       "        text-align: right;\n",
       "    }\n",
       "</style>\n",
       "<table border=\"1\" class=\"dataframe\">\n",
       "  <thead>\n",
       "    <tr style=\"text-align: right;\">\n",
       "      <th></th>\n",
       "      <th>동영상재생시간</th>\n",
       "      <th>실제재생시간</th>\n",
       "    </tr>\n",
       "  </thead>\n",
       "  <tbody>\n",
       "    <tr>\n",
       "      <th>0</th>\n",
       "      <td>0</td>\n",
       "      <td>8</td>\n",
       "    </tr>\n",
       "    <tr>\n",
       "      <th>1</th>\n",
       "      <td>0</td>\n",
       "      <td>8</td>\n",
       "    </tr>\n",
       "    <tr>\n",
       "      <th>2</th>\n",
       "      <td>0</td>\n",
       "      <td>8</td>\n",
       "    </tr>\n",
       "    <tr>\n",
       "      <th>3</th>\n",
       "      <td>0</td>\n",
       "      <td>8</td>\n",
       "    </tr>\n",
       "    <tr>\n",
       "      <th>4</th>\n",
       "      <td>0</td>\n",
       "      <td>8</td>\n",
       "    </tr>\n",
       "    <tr>\n",
       "      <th>...</th>\n",
       "      <td>...</td>\n",
       "      <td>...</td>\n",
       "    </tr>\n",
       "    <tr>\n",
       "      <th>99995</th>\n",
       "      <td>0</td>\n",
       "      <td>69</td>\n",
       "    </tr>\n",
       "    <tr>\n",
       "      <th>99996</th>\n",
       "      <td>193</td>\n",
       "      <td>67</td>\n",
       "    </tr>\n",
       "    <tr>\n",
       "      <th>99997</th>\n",
       "      <td>193</td>\n",
       "      <td>67</td>\n",
       "    </tr>\n",
       "    <tr>\n",
       "      <th>99998</th>\n",
       "      <td>193</td>\n",
       "      <td>67</td>\n",
       "    </tr>\n",
       "    <tr>\n",
       "      <th>99999</th>\n",
       "      <td>193</td>\n",
       "      <td>67</td>\n",
       "    </tr>\n",
       "  </tbody>\n",
       "</table>\n",
       "<p>92125 rows × 2 columns</p>\n",
       "</div>"
      ],
      "text/plain": [
       "       동영상재생시간  실제재생시간\n",
       "0            0       8\n",
       "1            0       8\n",
       "2            0       8\n",
       "3            0       8\n",
       "4            0       8\n",
       "...        ...     ...\n",
       "99995        0      69\n",
       "99996      193      67\n",
       "99997      193      67\n",
       "99998      193      67\n",
       "99999      193      67\n",
       "\n",
       "[92125 rows x 2 columns]"
      ]
     },
     "execution_count": 18,
     "metadata": {},
     "output_type": "execute_result"
    }
   ],
   "source": [
    "df[['동영상재생시간','실제재생시간']]"
   ]
  },
  {
   "cell_type": "markdown",
   "metadata": {
    "id": "MAoh1TvlOC4Z"
   },
   "source": [
    "```python\n",
    "scaler = StandardScaler()\n",
    "data_scaled = scaler.fit_transform(df[['동영상재생시간','실제재생시간']])\n",
    "```"
   ]
  },
  {
   "cell_type": "code",
   "execution_count": 19,
   "metadata": {
    "executionInfo": {
     "elapsed": 597,
     "status": "ok",
     "timestamp": 1693315507142,
     "user": {
      "displayName": "박나연",
      "userId": "15219795176792784727"
     },
     "user_tz": -540
    },
    "id": "HX5sgaMKyP0G"
   },
   "outputs": [],
   "source": [
    "scaler = StandardScaler()\n",
    "data_scaled = scaler.fit_transform(df[['동영상재생시간','실제재생시간']])"
   ]
  },
  {
   "cell_type": "markdown",
   "metadata": {
    "id": "NqvIpF3HOIkZ"
   },
   "source": [
    "```python\n",
    "df[['동영상재생시간','실제재생시간']] = data_scaled\n",
    "```"
   ]
  },
  {
   "cell_type": "code",
   "execution_count": 20,
   "metadata": {
    "executionInfo": {
     "elapsed": 6,
     "status": "ok",
     "timestamp": 1693315507142,
     "user": {
      "displayName": "박나연",
      "userId": "15219795176792784727"
     },
     "user_tz": -540
    },
    "id": "XUshKcGMymk3"
   },
   "outputs": [],
   "source": [
    "df[['동영상재생시간','실제재생시간']] = data_scaled"
   ]
  },
  {
   "cell_type": "markdown",
   "metadata": {
    "id": "J2VCugS-OK2S"
   },
   "source": [
    "```python\n",
    "X = df.iloc[:,1:].to_numpy()\n",
    "Y = df['정오답'].to_numpy()\n",
    "```"
   ]
  },
  {
   "cell_type": "code",
   "execution_count": 23,
   "metadata": {
    "executionInfo": {
     "elapsed": 523,
     "status": "ok",
     "timestamp": 1693315507660,
     "user": {
      "displayName": "박나연",
      "userId": "15219795176792784727"
     },
     "user_tz": -540
    },
    "id": "BpeD1A0tUDj7"
   },
   "outputs": [],
   "source": [
    "X = df.iloc[:,1:].to_numpy()\n",
    "Y = df['정오답'].to_numpy()"
   ]
  },
  {
   "cell_type": "markdown",
   "metadata": {
    "id": "QOhY3xr5OOMK"
   },
   "source": [
    "```python\n",
    "from sklearn.preprocessing import StandardScaler\n",
    "from sklearn.model_selection import train_test_split\n",
    "\n",
    "X_train , X_test, y_train , y_test = train_test_split(X, Y, test_size=0.2, random_state=0)\n",
    "```"
   ]
  },
  {
   "cell_type": "code",
   "execution_count": 24,
   "metadata": {
    "executionInfo": {
     "elapsed": 1576,
     "status": "ok",
     "timestamp": 1693315509233,
     "user": {
      "displayName": "박나연",
      "userId": "15219795176792784727"
     },
     "user_tz": -540
    },
    "id": "ayQXyB1nzF_Q",
    "scrolled": true
   },
   "outputs": [],
   "source": [
    "from sklearn.preprocessing import StandardScaler\n",
    "from sklearn.model_selection import train_test_split\n",
    "\n",
    "X_train , X_test, y_train , y_test = train_test_split(X, Y, test_size=0.2, random_state=0)"
   ]
  },
  {
   "cell_type": "markdown",
   "metadata": {
    "id": "MOdzP9kqOQBs"
   },
   "source": [
    "```python\n",
    "# 로지스틱 회귀를 이용하여 학습 및 예측 수행.\n",
    "# solver인자값을 생성자로 입력하지 않으면 solver='lbfgs'  \n",
    "lr_clf = LogisticRegression() # solver='lbfgs'\n",
    "lr_clf.fit(X_train, y_train)\n",
    "lr_preds = lr_clf.predict(X_test)\n",
    "\n",
    "# accuracy와 roc_auc 측정\n",
    "print('accuracy: {0:.3f}, roc_auc:{1:.3f}'.format(accuracy_score(y_test, lr_preds),\n",
    "                                                 roc_auc_score(y_test , lr_preds)))\n",
    "```"
   ]
  },
  {
   "cell_type": "code",
   "execution_count": 25,
   "metadata": {
    "id": "G2Z2sZNJy-z9"
   },
   "outputs": [
    {
     "name": "stdout",
     "output_type": "stream",
     "text": [
      "accuracy: 0.751, roc_auc:0.643\n"
     ]
    },
    {
     "name": "stderr",
     "output_type": "stream",
     "text": [
      "C:\\ProgramData\\anaconda3\\lib\\site-packages\\sklearn\\linear_model\\_logistic.py:458: ConvergenceWarning: lbfgs failed to converge (status=1):\n",
      "STOP: TOTAL NO. of ITERATIONS REACHED LIMIT.\n",
      "\n",
      "Increase the number of iterations (max_iter) or scale the data as shown in:\n",
      "    https://scikit-learn.org/stable/modules/preprocessing.html\n",
      "Please also refer to the documentation for alternative solver options:\n",
      "    https://scikit-learn.org/stable/modules/linear_model.html#logistic-regression\n",
      "  n_iter_i = _check_optimize_result(\n"
     ]
    }
   ],
   "source": [
    "# 로지스틱 회귀를 이용하여 학습 및 예측 수행.\n",
    "# solver인자값을 생성자로 입력하지 않으면 solver='lbfgs'  \n",
    "lr_clf = LogisticRegression() # solver='lbfgs'\n",
    "lr_clf.fit(X_train, y_train)\n",
    "lr_preds = lr_clf.predict(X_test)\n",
    "\n",
    "# accuracy와 roc_auc 측정\n",
    "print('accuracy: {0:.3f}, roc_auc:{1:.3f}'.format(accuracy_score(y_test, lr_preds),\n",
    "                                                 roc_auc_score(y_test , lr_preds)))"
   ]
  },
  {
   "cell_type": "markdown",
   "metadata": {
    "id": "PI5OFr7NOTQ4"
   },
   "source": [
    "```python\n",
    "pd.DataFrame(data=[lr_preds, y_test])\n",
    "```"
   ]
  },
  {
   "cell_type": "code",
   "execution_count": 26,
   "metadata": {
    "id": "ePUCrk9VoBNo"
   },
   "outputs": [
    {
     "data": {
      "text/html": [
       "<div>\n",
       "<style scoped>\n",
       "    .dataframe tbody tr th:only-of-type {\n",
       "        vertical-align: middle;\n",
       "    }\n",
       "\n",
       "    .dataframe tbody tr th {\n",
       "        vertical-align: top;\n",
       "    }\n",
       "\n",
       "    .dataframe thead th {\n",
       "        text-align: right;\n",
       "    }\n",
       "</style>\n",
       "<table border=\"1\" class=\"dataframe\">\n",
       "  <thead>\n",
       "    <tr style=\"text-align: right;\">\n",
       "      <th></th>\n",
       "      <th>0</th>\n",
       "      <th>1</th>\n",
       "      <th>2</th>\n",
       "      <th>3</th>\n",
       "      <th>4</th>\n",
       "      <th>5</th>\n",
       "      <th>6</th>\n",
       "      <th>7</th>\n",
       "      <th>8</th>\n",
       "      <th>9</th>\n",
       "      <th>10</th>\n",
       "      <th>11</th>\n",
       "      <th>12</th>\n",
       "      <th>13</th>\n",
       "      <th>14</th>\n",
       "      <th>...</th>\n",
       "      <th>18410</th>\n",
       "      <th>18411</th>\n",
       "      <th>18412</th>\n",
       "      <th>18413</th>\n",
       "      <th>18414</th>\n",
       "      <th>18415</th>\n",
       "      <th>18416</th>\n",
       "      <th>18417</th>\n",
       "      <th>18418</th>\n",
       "      <th>18419</th>\n",
       "      <th>18420</th>\n",
       "      <th>18421</th>\n",
       "      <th>18422</th>\n",
       "      <th>18423</th>\n",
       "      <th>18424</th>\n",
       "    </tr>\n",
       "  </thead>\n",
       "  <tbody>\n",
       "    <tr>\n",
       "      <th>0</th>\n",
       "      <td>1.0</td>\n",
       "      <td>1.0</td>\n",
       "      <td>0.0</td>\n",
       "      <td>1.0</td>\n",
       "      <td>1.0</td>\n",
       "      <td>1.0</td>\n",
       "      <td>1.0</td>\n",
       "      <td>1.0</td>\n",
       "      <td>1.0</td>\n",
       "      <td>1.0</td>\n",
       "      <td>1.0</td>\n",
       "      <td>1.0</td>\n",
       "      <td>1.0</td>\n",
       "      <td>1.0</td>\n",
       "      <td>1.0</td>\n",
       "      <td>...</td>\n",
       "      <td>0.0</td>\n",
       "      <td>1.0</td>\n",
       "      <td>1.0</td>\n",
       "      <td>1.0</td>\n",
       "      <td>1.0</td>\n",
       "      <td>1.0</td>\n",
       "      <td>1.0</td>\n",
       "      <td>1.0</td>\n",
       "      <td>1.0</td>\n",
       "      <td>0.0</td>\n",
       "      <td>0.0</td>\n",
       "      <td>1.0</td>\n",
       "      <td>1.0</td>\n",
       "      <td>0.0</td>\n",
       "      <td>1.0</td>\n",
       "    </tr>\n",
       "    <tr>\n",
       "      <th>1</th>\n",
       "      <td>1.0</td>\n",
       "      <td>1.0</td>\n",
       "      <td>1.0</td>\n",
       "      <td>1.0</td>\n",
       "      <td>1.0</td>\n",
       "      <td>0.0</td>\n",
       "      <td>1.0</td>\n",
       "      <td>1.0</td>\n",
       "      <td>1.0</td>\n",
       "      <td>0.0</td>\n",
       "      <td>1.0</td>\n",
       "      <td>1.0</td>\n",
       "      <td>0.0</td>\n",
       "      <td>1.0</td>\n",
       "      <td>1.0</td>\n",
       "      <td>...</td>\n",
       "      <td>0.0</td>\n",
       "      <td>1.0</td>\n",
       "      <td>1.0</td>\n",
       "      <td>1.0</td>\n",
       "      <td>1.0</td>\n",
       "      <td>1.0</td>\n",
       "      <td>1.0</td>\n",
       "      <td>1.0</td>\n",
       "      <td>0.0</td>\n",
       "      <td>1.0</td>\n",
       "      <td>0.0</td>\n",
       "      <td>1.0</td>\n",
       "      <td>1.0</td>\n",
       "      <td>0.0</td>\n",
       "      <td>1.0</td>\n",
       "    </tr>\n",
       "  </tbody>\n",
       "</table>\n",
       "<p>2 rows × 18425 columns</p>\n",
       "</div>"
      ],
      "text/plain": [
       "   0      1      2      3      4      5      6      7      8      9      \\\n",
       "0    1.0    1.0    0.0    1.0    1.0    1.0    1.0    1.0    1.0    1.0   \n",
       "1    1.0    1.0    1.0    1.0    1.0    0.0    1.0    1.0    1.0    0.0   \n",
       "\n",
       "   10     11     12     13     14     ...  18410  18411  18412  18413  18414  \\\n",
       "0    1.0    1.0    1.0    1.0    1.0  ...    0.0    1.0    1.0    1.0    1.0   \n",
       "1    1.0    1.0    0.0    1.0    1.0  ...    0.0    1.0    1.0    1.0    1.0   \n",
       "\n",
       "   18415  18416  18417  18418  18419  18420  18421  18422  18423  18424  \n",
       "0    1.0    1.0    1.0    1.0    0.0    0.0    1.0    1.0    0.0    1.0  \n",
       "1    1.0    1.0    1.0    0.0    1.0    0.0    1.0    1.0    0.0    1.0  \n",
       "\n",
       "[2 rows x 18425 columns]"
      ]
     },
     "execution_count": 26,
     "metadata": {},
     "output_type": "execute_result"
    }
   ],
   "source": [
    "pd.DataFrame(data=[lr_preds, y_test])\n",
    "# 0: 예측값\n",
    "# 1: 실제값"
   ]
  },
  {
   "cell_type": "code",
   "execution_count": null,
   "metadata": {
    "id": "BHwhC8U4oBNo"
   },
   "outputs": [],
   "source": []
  },
  {
   "cell_type": "code",
   "execution_count": null,
   "metadata": {
    "id": "WGYHORmxoBNo"
   },
   "outputs": [],
   "source": []
  },
  {
   "cell_type": "code",
   "execution_count": null,
   "metadata": {
    "id": "KsOZVcVZpc_9"
   },
   "outputs": [],
   "source": []
  }
 ],
 "metadata": {
  "colab": {
   "provenance": []
  },
  "kernelspec": {
   "display_name": "Python 3 (ipykernel)",
   "language": "python",
   "name": "python3"
  },
  "language_info": {
   "codemirror_mode": {
    "name": "ipython",
    "version": 3
   },
   "file_extension": ".py",
   "mimetype": "text/x-python",
   "name": "python",
   "nbconvert_exporter": "python",
   "pygments_lexer": "ipython3",
   "version": "3.10.9"
  }
 },
 "nbformat": 4,
 "nbformat_minor": 1
}
