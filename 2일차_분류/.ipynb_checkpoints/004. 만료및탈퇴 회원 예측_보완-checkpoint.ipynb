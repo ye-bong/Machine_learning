{
 "cells": [
  {
   "cell_type": "markdown",
   "metadata": {
    "id": "M6lz8oL2w3wG"
   },
   "source": [
    "### 데이터 전처리"
   ]
  },
  {
   "cell_type": "code",
   "execution_count": null,
   "metadata": {
    "id": "I2xXpkSbw3wI"
   },
   "outputs": [],
   "source": [
    "import pandas as pd\n",
    "\n",
    "from sklearn.ensemble import VotingClassifier\n",
    "from sklearn.linear_model import LogisticRegression\n",
    "from sklearn.neighbors import KNeighborsClassifier\n",
    "from sklearn.datasets import load_breast_cancer\n",
    "from sklearn.model_selection import train_test_split\n",
    "from sklearn.metrics import accuracy_score\n",
    "import warnings\n",
    "warnings.filterwarnings('ignore')"
   ]
  },
  {
   "cell_type": "code",
   "execution_count": null,
   "metadata": {
    "colab": {
     "base_uri": "https://localhost:8080/"
    },
    "executionInfo": {
     "elapsed": 36858,
     "status": "ok",
     "timestamp": 1678775651390,
     "user": {
      "displayName": "박나연",
      "userId": "09406148759772297697"
     },
     "user_tz": -540
    },
    "id": "QiYky7GtykCY",
    "outputId": "26d8a420-3a96-4761-ae41-d95b2b79e1b1"
   },
   "outputs": [
    {
     "name": "stdout",
     "output_type": "stream",
     "text": [
      "Mounted at /content/drive\n"
     ]
    }
   ],
   "source": [
    "from google.colab import drive\n",
    "drive.mount('/content/drive')"
   ]
  },
  {
   "cell_type": "code",
   "execution_count": null,
   "metadata": {
    "id": "qVfBtdxYykz7"
   },
   "outputs": [],
   "source": [
    "%cd /content/drive/MyDrive/강의자료/머신러닝기초/2일차_분류"
   ]
  },
  {
   "cell_type": "markdown",
   "metadata": {
    "id": "6CtmBxFX8laF"
   },
   "source": [
    "```python\n",
    "class0_data = pd.read_csv('./datasets/만료및탈퇴회원.csv', index_col=0)\n",
    "class1_data = pd.read_csv('./datasets/정회원.csv', index_col=0)\n",
    "display(class0_data, class1_data)\n",
    "```"
   ]
  },
  {
   "cell_type": "code",
   "execution_count": null,
   "metadata": {
    "id": "QqDAZIYnw3wJ",
    "scrolled": true
   },
   "outputs": [],
   "source": []
  },
  {
   "cell_type": "code",
   "execution_count": null,
   "metadata": {
    "id": "B3XWzgpP05pb"
   },
   "outputs": [],
   "source": []
  },
  {
   "cell_type": "markdown",
   "metadata": {
    "id": "dOHqXGMk9fKZ"
   },
   "source": [
    "**분석 목표 : 다음달에 탈퇴하는 회원의 현재달의 징조 파악하기**"
   ]
  },
  {
   "cell_type": "markdown",
   "metadata": {
    "id": "Qp8yofaV8no6"
   },
   "source": [
    "```python\n",
    "## 11월에 탈퇴한 회원의 10월 데이터 - 탈퇴회원 데이터\n",
    "exit_user = class0_data[class0_data['mm'] == 11]['userid'].unique()\n",
    "exit_data = class1_data[(class1_data['userid'].isin(exit_user)) & (class1_data['mm'] == 10)]\n",
    "\n",
    "exit_data['target'] = 'WILL EXIT'\n",
    "\n",
    "exit_data\n",
    "\n",
    "```"
   ]
  },
  {
   "cell_type": "code",
   "execution_count": null,
   "metadata": {
    "id": "rU2UpdKX5C0z"
   },
   "outputs": [],
   "source": []
  },
  {
   "cell_type": "markdown",
   "metadata": {
    "id": "5FX4D5ly8wDX"
   },
   "source": [
    "```python\n",
    "## 11월에 정회원인 회원의 10월 데이터 - 정회원 데이터\n",
    "regular_user = class1_data[class1_data['mm'] == 11]['userid'].unique()\n",
    "regular_data = class1_data[(class1_data['userid'].isin(regular_user)) & (class1_data['mm'] == 10)]\n",
    "\n",
    "regular_data['target'] = 'WILL STAY'\n",
    "\n",
    "regular_data\n",
    "```"
   ]
  },
  {
   "cell_type": "code",
   "execution_count": null,
   "metadata": {
    "id": "hLTOxGu32Qas"
   },
   "outputs": [],
   "source": []
  },
  {
   "cell_type": "markdown",
   "metadata": {
    "id": "k43LJTK681af"
   },
   "source": [
    "```python\n",
    "dataset = pd.concat([exit_data, regular_data])\n",
    "```"
   ]
  },
  {
   "cell_type": "code",
   "execution_count": null,
   "metadata": {
    "id": "RJH-zP0q1Ikx"
   },
   "outputs": [],
   "source": []
  },
  {
   "cell_type": "markdown",
   "metadata": {
    "id": "80Y-YhAo83_T"
   },
   "source": [
    "```python\n",
    "dataset['target'].value_counts()\n",
    "```"
   ]
  },
  {
   "cell_type": "code",
   "execution_count": null,
   "metadata": {
    "id": "7A044fmEw3wO"
   },
   "outputs": [],
   "source": []
  },
  {
   "cell_type": "code",
   "execution_count": null,
   "metadata": {
    "id": "YyGdKb1ew3wO"
   },
   "outputs": [],
   "source": []
  },
  {
   "cell_type": "code",
   "execution_count": null,
   "metadata": {
    "id": "Nh-VX1Sjw3wP"
   },
   "outputs": [],
   "source": []
  },
  {
   "cell_type": "markdown",
   "metadata": {
    "id": "VUt2Lg4K87Fj"
   },
   "source": [
    "```python\n",
    "dataset = dataset.dropna(subset = ['point_gain_activeday_count', 'point_gain_count', 'point_gain',\n",
    "             'point_loss_activeday_count', 'point_loss_count', 'point_loss',\n",
    "             'tablet_activeday_count', 'tablet_moved_menu_count', 'tablet_leave_count', 'tablet_resume_count',\n",
    "             'tablet_login_count', 'tablet_logout_count', 'study_activeday_count', 'study_count',\n",
    "             'study_notcompleted_count', 'study_completed_count',\n",
    "             'study_restart_count', 'total_system_learning_time', 'total_caliper_learning_time',\n",
    "             'media_activeday_count', 'media_count',\n",
    "             'video_action_count', 'video_start_count', 'video_restart_count',\n",
    "             'video_pause_count', 'video_jump_count', 'video_resume_count',\n",
    "             'video_speed_count', 'video_volume_count', 'video_end_count',\n",
    "             'test_activeday_count', 'test_count', 'test_average_score',\n",
    "             'test_item_count', 'test_correct_count', 'wrong_count',\n",
    "             'wrong_item_count', 'wrong_correct_count'\n",
    "             ])\n",
    "```"
   ]
  },
  {
   "cell_type": "code",
   "execution_count": null,
   "metadata": {
    "id": "WOP1kf9Jw3wQ"
   },
   "outputs": [],
   "source": []
  },
  {
   "cell_type": "markdown",
   "metadata": {
    "id": "tO1pR-2f888Y"
   },
   "source": [
    "```python\n",
    "X = dataset[['point_gain_activeday_count', 'point_gain_count', 'point_gain',\n",
    "             'point_loss_activeday_count', 'point_loss_count', 'point_loss',\n",
    "             'tablet_activeday_count', 'tablet_moved_menu_count', 'tablet_leave_count', 'tablet_resume_count',\n",
    "             'tablet_login_count', 'tablet_logout_count', 'study_activeday_count', 'study_count',\n",
    "             'study_notcompleted_count', 'study_completed_count',\n",
    "             'study_restart_count', 'total_system_learning_time', 'total_caliper_learning_time',\n",
    "             'media_activeday_count', 'media_count',\n",
    "             'video_action_count', 'video_start_count', 'video_restart_count',\n",
    "             'video_pause_count', 'video_jump_count', 'video_resume_count',\n",
    "             'video_speed_count', 'video_volume_count', 'video_end_count',\n",
    "             'test_activeday_count', 'test_count', 'test_average_score',\n",
    "             'test_item_count', 'test_correct_count', 'wrong_count',\n",
    "             'wrong_item_count', 'wrong_correct_count'\n",
    "             ]]\n",
    "```"
   ]
  },
  {
   "cell_type": "code",
   "execution_count": null,
   "metadata": {
    "id": "pOhFI5ML23Qz"
   },
   "outputs": [],
   "source": []
  },
  {
   "cell_type": "markdown",
   "metadata": {
    "id": "dRwbJj4n9AZ-"
   },
   "source": [
    "```python\n",
    "Y = dataset['target']\n",
    "```"
   ]
  },
  {
   "cell_type": "code",
   "execution_count": null,
   "metadata": {
    "id": "J9B5LGVPw3wQ"
   },
   "outputs": [],
   "source": []
  },
  {
   "cell_type": "markdown",
   "metadata": {
    "id": "RukUxwXq7n-4"
   },
   "source": [
    "```python\n",
    "X_train, X_test, y_train, y_test = train_test_split(X, Y, test_size=0.2)\n",
    "```"
   ]
  },
  {
   "cell_type": "code",
   "execution_count": null,
   "metadata": {
    "id": "esJqZfrE287L"
   },
   "outputs": [],
   "source": []
  },
  {
   "cell_type": "markdown",
   "metadata": {
    "id": "qNau3TfKxM5_"
   },
   "source": [
    "### 모델 적용"
   ]
  },
  {
   "cell_type": "markdown",
   "metadata": {
    "id": "L2w2ojIV9Tvm"
   },
   "source": [
    "#### Bagging(배깅)"
   ]
  },
  {
   "cell_type": "markdown",
   "metadata": {
    "id": "wB3TrhAGaAbf"
   },
   "source": [
    "```python\n",
    "from sklearn.ensemble import BaggingClassifier\n",
    "from sklearn.metrics import accuracy_score, recall_score, precision_score, roc_auc_score, confusion_matrix\n",
    "lr_clf = LogisticRegression(solver='liblinear')\n",
    "\n",
    "bagging_clf = BaggingClassifier(base_estimator=lr_clf)\n",
    "\n",
    "# BaggingClassifier 학습/예측.\n",
    "bagging_clf.fit(X_train , y_train)\n",
    "pred = bagging_clf.predict(X_test)\n",
    "```"
   ]
  },
  {
   "cell_type": "code",
   "execution_count": null,
   "metadata": {
    "id": "e7BvuGchaEkq"
   },
   "outputs": [],
   "source": []
  },
  {
   "cell_type": "markdown",
   "metadata": {
    "id": "KCDz6Wgq9DEf"
   },
   "source": [
    "```python\n",
    "# 평가\n",
    "accuracy = accuracy_score(y_test , pred)\n",
    "recall = recall_score(y_test, pred)\n",
    "precision = precision_score(y_test, pred)\n",
    "auc = roc_auc_score(y_test, pred)\n",
    "matrix = confusion_matrix(y_test, pred)\n",
    "\n",
    "print('Bagging 분류기 정확도: {0:.4f}'.format(accuracy))\n",
    "print('Bagging 분류기 Recall: {0:.4f}'.format(recall))\n",
    "print('Bagging 분류기 Precision: {0:.4f}'.format(precision))\n",
    "print('Bagging 분류기 AUC: {0:.4f}'.format(auc))\n",
    "print('Bagging 분류기 Confusion Matrix:','\\n', matrix)\n",
    "```"
   ]
  },
  {
   "cell_type": "code",
   "execution_count": null,
   "metadata": {
    "id": "ArmSeBW0w3wR"
   },
   "outputs": [],
   "source": []
  },
  {
   "cell_type": "markdown",
   "metadata": {
    "id": "nCyhNWXIaGUm"
   },
   "source": [
    "```python\n",
    "# 개별 모델의 학습/예측/평가.\n",
    "lr_clf.fit(X_train , y_train)\n",
    "pred = lr_clf.predict(X_test)\n",
    "class_name= lr_clf.__class__.__name__\n",
    "\n",
    "accuracy = accuracy_score(y_test , pred)\n",
    "recall = recall_score(y_test, pred)\n",
    "precision = precision_score(y_test, pred)\n",
    "auc = roc_auc_score(y_test, pred)\n",
    "matrix = confusion_matrix(y_test, pred)\n",
    "\n",
    "print('{0} 정확도: {1:.4f}'.format(class_name, accuracy))\n",
    "print('{0} Recall: {1:.4f}'.format(class_name, recall))\n",
    "print('{0} Precision: {1:.4f}'.format(class_name, precision))\n",
    "print('{0} AUC: {1:.4f}'.format(class_name, auc))\n",
    "print('{0} Confusion Matrix:'.format(class_name),'\\n', matrix)\n",
    "```\n"
   ]
  },
  {
   "cell_type": "code",
   "execution_count": null,
   "metadata": {
    "id": "TapBkM6YaIJP"
   },
   "outputs": [],
   "source": []
  },
  {
   "cell_type": "code",
   "execution_count": null,
   "metadata": {
    "id": "tUuUyOL0aIDe"
   },
   "outputs": [],
   "source": []
  },
  {
   "cell_type": "markdown",
   "metadata": {
    "id": "C1BopffU9Ve7"
   },
   "source": [
    "#### 랜덤 포레스트"
   ]
  },
  {
   "cell_type": "markdown",
   "metadata": {
    "id": "mFAuKDvF9E_E"
   },
   "source": [
    "```python\n",
    "from sklearn.ensemble import RandomForestClassifier\n",
    "\n",
    "rf_clf = RandomForestClassifier(n_estimators=100, random_state=0, max_depth=8)\n",
    "rf_clf.fit(X_train , y_train)\n",
    "pred = rf_clf.predict(X_test)\n",
    "\n",
    "accuracy = accuracy_score(y_test , pred)\n",
    "recall = recall_score(y_test, pred)\n",
    "precision = precision_score(y_test, pred)\n",
    "auc = roc_auc_score(y_test, pred)\n",
    "matrix = confusion_matrix(y_test, pred)\n",
    "\n",
    "print('랜덤 포레스트 정확도: {0:.4f}'.format(accuracy))\n",
    "print('랜덤 포레스트 Recall: {0:.4f}'.format(recall))\n",
    "print('랜덤 포레스트 Precision: {0:.4f}'.format(precision))\n",
    "print('랜덤 포레스트 AUC: {0:.4f}'.format(auc))\n",
    "print('랜덤 포레스트 Confusion Matrix:','\\n', matrix)\n",
    "```"
   ]
  },
  {
   "cell_type": "code",
   "execution_count": null,
   "metadata": {
    "id": "PZmec74nw3wT"
   },
   "outputs": [],
   "source": []
  },
  {
   "cell_type": "markdown",
   "metadata": {
    "id": "MAQzeIzb9GtO"
   },
   "source": [
    "```python\n",
    "ftr_importances_values = rf_clf.feature_importances_\n",
    "ftr_importances = pd.Series(ftr_importances_values,index=X_train.columns)\n",
    "ftr_importances.sort_values(ascending=False)[:20]\n",
    "```"
   ]
  },
  {
   "cell_type": "code",
   "execution_count": null,
   "metadata": {
    "id": "SkqAAYJhaLqE"
   },
   "outputs": [],
   "source": []
  },
  {
   "cell_type": "markdown",
   "metadata": {
    "id": "Bjw3iGXw9ISe"
   },
   "source": [
    "```python\n",
    "import matplotlib.pyplot as plt\n",
    "import seaborn as sns\n",
    "%matplotlib inline\n",
    "\n",
    "ftr_importances_values = rf_clf.feature_importances_\n",
    "ftr_importances = pd.Series(ftr_importances_values,index=X_train.columns  )\n",
    "ftr_top20 = ftr_importances.sort_values(ascending=False)[:20]\n",
    "\n",
    "plt.figure(figsize=(8,6))\n",
    "plt.title('Feature importances Top 20')\n",
    "sns.barplot(x=ftr_top20 , y = ftr_top20.index)\n",
    "plt.show()\n",
    "```"
   ]
  },
  {
   "cell_type": "code",
   "execution_count": null,
   "metadata": {
    "id": "zVBI97APw3wU"
   },
   "outputs": [],
   "source": []
  },
  {
   "cell_type": "code",
   "execution_count": null,
   "metadata": {
    "id": "ANfRhElTw3wV"
   },
   "outputs": [],
   "source": []
  },
  {
   "cell_type": "markdown",
   "metadata": {
    "id": "zUQawU8B9Xb9"
   },
   "source": [
    "#### 그래디언트 부스팅"
   ]
  },
  {
   "cell_type": "markdown",
   "metadata": {
    "id": "TyCp3_2F9KJD"
   },
   "source": [
    "```python\n",
    "from sklearn.ensemble import GradientBoostingClassifier\n",
    "import time\n",
    "import warnings\n",
    "warnings.filterwarnings('ignore')\n",
    "\n",
    "# GBM 수행 시간 측정을 위함. 시작 시간 설정.\n",
    "start_time = time.time()\n",
    "\n",
    "gb_clf = GradientBoostingClassifier(random_state=0)\n",
    "gb_clf.fit(X_train , y_train)\n",
    "gb_pred = gb_clf.predict(X_test)\n",
    "\n",
    "accuracy = accuracy_score(y_test , gb_pred)\n",
    "recall = recall_score(y_test, gb_pred)\n",
    "precision = precision_score(y_test, gb_pred)\n",
    "auc = roc_auc_score(y_test, gb_pred)\n",
    "matrix = confusion_matrix(y_test, gb_pred)\n",
    "\n",
    "print('GBM 정확도: {0:.4f}'.format(accuracy))\n",
    "print('GBM Recall: {0:.4f}'.format(recall))\n",
    "print('GBM Precision: {0:.4f}'.format(precision))\n",
    "print('GBM AUC: {0:.4f}'.format(auc))\n",
    "print('GBM Confusion Matrix:','\\n', matrix)\n",
    "\n",
    "print(\"GBM 수행 시간: {0:.1f} 초 \".format(time.time() - start_time))\n",
    "```"
   ]
  },
  {
   "cell_type": "code",
   "execution_count": null,
   "metadata": {
    "id": "eSkng7sIzw6v"
   },
   "outputs": [],
   "source": []
  },
  {
   "cell_type": "code",
   "execution_count": null,
   "metadata": {
    "id": "kbiShzy_w3wV"
   },
   "outputs": [],
   "source": []
  },
  {
   "cell_type": "code",
   "execution_count": null,
   "metadata": {
    "id": "OWMnv65bw3wW"
   },
   "outputs": [],
   "source": []
  }
 ],
 "metadata": {
  "colab": {
   "collapsed_sections": [
    "L2w2ojIV9Tvm",
    "C1BopffU9Ve7",
    "zUQawU8B9Xb9"
   ],
   "provenance": []
  },
  "kernelspec": {
   "display_name": "Python 3 (ipykernel)",
   "language": "python",
   "name": "python3"
  },
  "language_info": {
   "codemirror_mode": {
    "name": "ipython",
    "version": 3
   },
   "file_extension": ".py",
   "mimetype": "text/x-python",
   "name": "python",
   "nbconvert_exporter": "python",
   "pygments_lexer": "ipython3",
   "version": "3.10.9"
  }
 },
 "nbformat": 4,
 "nbformat_minor": 1
}
