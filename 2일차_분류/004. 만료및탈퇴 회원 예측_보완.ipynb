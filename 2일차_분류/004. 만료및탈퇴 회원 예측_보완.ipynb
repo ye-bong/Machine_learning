{
 "cells": [
  {
   "cell_type": "markdown",
   "metadata": {
    "id": "M6lz8oL2w3wG"
   },
   "source": [
    "### 데이터 전처리"
   ]
  },
  {
   "cell_type": "code",
   "execution_count": 2,
   "metadata": {
    "id": "I2xXpkSbw3wI"
   },
   "outputs": [],
   "source": [
    "import pandas as pd\n",
    "\n",
    "from sklearn.ensemble import VotingClassifier\n",
    "from sklearn.linear_model import LogisticRegression\n",
    "from sklearn.neighbors import KNeighborsClassifier\n",
    "from sklearn.datasets import load_breast_cancer\n",
    "from sklearn.model_selection import train_test_split\n",
    "from sklearn.metrics import accuracy_score\n",
    "import warnings\n",
    "warnings.filterwarnings('ignore')"
   ]
  },
  {
   "cell_type": "code",
   "execution_count": null,
   "metadata": {
    "colab": {
     "base_uri": "https://localhost:8080/"
    },
    "executionInfo": {
     "elapsed": 36858,
     "status": "ok",
     "timestamp": 1678775651390,
     "user": {
      "displayName": "박나연",
      "userId": "09406148759772297697"
     },
     "user_tz": -540
    },
    "id": "QiYky7GtykCY",
    "outputId": "26d8a420-3a96-4761-ae41-d95b2b79e1b1"
   },
   "outputs": [
    {
     "name": "stdout",
     "output_type": "stream",
     "text": [
      "Mounted at /content/drive\n"
     ]
    }
   ],
   "source": [
    "from google.colab import drive\n",
    "drive.mount('/content/drive')"
   ]
  },
  {
   "cell_type": "code",
   "execution_count": null,
   "metadata": {
    "id": "qVfBtdxYykz7"
   },
   "outputs": [],
   "source": [
    "%cd /content/drive/MyDrive/강의자료/머신러닝기초/2일차_분류"
   ]
  },
  {
   "cell_type": "markdown",
   "metadata": {
    "id": "6CtmBxFX8laF"
   },
   "source": [
    "```python\n",
    "class0_data = pd.read_csv('./datasets/만료및탈퇴회원.csv', index_col=0)\n",
    "class1_data = pd.read_csv('./datasets/정회원.csv', index_col=0)\n",
    "display(class0_data, class1_data)\n",
    "```"
   ]
  },
  {
   "cell_type": "code",
   "execution_count": null,
   "metadata": {
    "id": "QqDAZIYnw3wJ",
    "scrolled": true
   },
   "outputs": [],
   "source": []
  },
  {
   "cell_type": "code",
   "execution_count": 3,
   "metadata": {
    "id": "B3XWzgpP05pb"
   },
   "outputs": [],
   "source": [
    "class0_data = pd.read_csv('./datasets/datasets/만료및탈퇴회원.csv', index_col=0)\n",
    "class1_data = pd.read_csv('./datasets/datasets/정회원.csv', index_col=0)"
   ]
  },
  {
   "cell_type": "markdown",
   "metadata": {
    "id": "dOHqXGMk9fKZ"
   },
   "source": [
    "**분석 목표 : 다음달에 탈퇴하는 회원의 현재달의 징조 파악하기**"
   ]
  },
  {
   "cell_type": "markdown",
   "metadata": {
    "id": "Qp8yofaV8no6"
   },
   "source": [
    "```python\n",
    "## 11월에 탈퇴한 회원의 10월 데이터 - 탈퇴회원 데이터\n",
    "exit_user = class0_data[class0_data['mm'] == 11]['userid'].unique()\n",
    "exit_data = class1_data[(class1_data['userid'].isin(exit_user)) & (class1_data['mm'] == 10)]\n",
    "\n",
    "exit_data['target'] = 'WILL EXIT'\n",
    "\n",
    "exit_data\n",
    "\n",
    "```"
   ]
  },
  {
   "cell_type": "code",
   "execution_count": 4,
   "metadata": {
    "id": "rU2UpdKX5C0z"
   },
   "outputs": [
    {
     "data": {
      "text/html": [
       "<div>\n",
       "<style scoped>\n",
       "    .dataframe tbody tr th:only-of-type {\n",
       "        vertical-align: middle;\n",
       "    }\n",
       "\n",
       "    .dataframe tbody tr th {\n",
       "        vertical-align: top;\n",
       "    }\n",
       "\n",
       "    .dataframe thead th {\n",
       "        text-align: right;\n",
       "    }\n",
       "</style>\n",
       "<table border=\"1\" class=\"dataframe\">\n",
       "  <thead>\n",
       "    <tr style=\"text-align: right;\">\n",
       "      <th></th>\n",
       "      <th>userid</th>\n",
       "      <th>gender</th>\n",
       "      <th>membertype_codename</th>\n",
       "      <th>grade_codename</th>\n",
       "      <th>memberstatus</th>\n",
       "      <th>memberstatus_codename</th>\n",
       "      <th>memberstatus_change</th>\n",
       "      <th>status_null_count</th>\n",
       "      <th>statusgroup_10_count</th>\n",
       "      <th>statusgroup_20_count</th>\n",
       "      <th>...</th>\n",
       "      <th>test_count</th>\n",
       "      <th>test_average_score</th>\n",
       "      <th>test_item_count</th>\n",
       "      <th>test_correct_count</th>\n",
       "      <th>wrong_count</th>\n",
       "      <th>wrong_item_count</th>\n",
       "      <th>wrong_correct_count</th>\n",
       "      <th>yyyy</th>\n",
       "      <th>mm</th>\n",
       "      <th>target</th>\n",
       "    </tr>\n",
       "  </thead>\n",
       "  <tbody>\n",
       "    <tr>\n",
       "      <th>3678</th>\n",
       "      <td>00132af0-87d8-4b7e-bbbf-4d67a1accc2b</td>\n",
       "      <td>F</td>\n",
       "      <td>초등</td>\n",
       "      <td>초3</td>\n",
       "      <td>11</td>\n",
       "      <td>학습생(정)</td>\n",
       "      <td>11,-,11,-,11,-,11,-,11,-,11,-,11,-</td>\n",
       "      <td>15</td>\n",
       "      <td>0</td>\n",
       "      <td>0</td>\n",
       "      <td>...</td>\n",
       "      <td>39.0</td>\n",
       "      <td>64.36</td>\n",
       "      <td>220.0</td>\n",
       "      <td>143.0</td>\n",
       "      <td>2.0</td>\n",
       "      <td>5.0</td>\n",
       "      <td>4.0</td>\n",
       "      <td>2021</td>\n",
       "      <td>10</td>\n",
       "      <td>WILL EXIT</td>\n",
       "    </tr>\n",
       "    <tr>\n",
       "      <th>3693</th>\n",
       "      <td>01123b39-b626-4d80-a399-8d424c11b4a0</td>\n",
       "      <td>M</td>\n",
       "      <td>초등</td>\n",
       "      <td>초5</td>\n",
       "      <td>11</td>\n",
       "      <td>학습생(정)</td>\n",
       "      <td>11,-,11,-,11,-,11,-,11,-,11,-,11</td>\n",
       "      <td>15</td>\n",
       "      <td>0</td>\n",
       "      <td>0</td>\n",
       "      <td>...</td>\n",
       "      <td>14.0</td>\n",
       "      <td>76.00</td>\n",
       "      <td>97.0</td>\n",
       "      <td>75.0</td>\n",
       "      <td>NaN</td>\n",
       "      <td>NaN</td>\n",
       "      <td>NaN</td>\n",
       "      <td>2021</td>\n",
       "      <td>10</td>\n",
       "      <td>WILL EXIT</td>\n",
       "    </tr>\n",
       "    <tr>\n",
       "      <th>3717</th>\n",
       "      <td>02300eca-940f-4971-a898-5fb83d3b07ea</td>\n",
       "      <td>F</td>\n",
       "      <td>초등</td>\n",
       "      <td>초1</td>\n",
       "      <td>11</td>\n",
       "      <td>학습생(정)</td>\n",
       "      <td>-,11,-,11,-,11,-,11,-,11</td>\n",
       "      <td>24</td>\n",
       "      <td>0</td>\n",
       "      <td>0</td>\n",
       "      <td>...</td>\n",
       "      <td>9.0</td>\n",
       "      <td>74.89</td>\n",
       "      <td>51.0</td>\n",
       "      <td>37.0</td>\n",
       "      <td>NaN</td>\n",
       "      <td>NaN</td>\n",
       "      <td>NaN</td>\n",
       "      <td>2021</td>\n",
       "      <td>10</td>\n",
       "      <td>WILL EXIT</td>\n",
       "    </tr>\n",
       "    <tr>\n",
       "      <th>3719</th>\n",
       "      <td>0248e2ee-9ecb-48f8-9658-67fd41d99b24</td>\n",
       "      <td>M</td>\n",
       "      <td>초등</td>\n",
       "      <td>초3</td>\n",
       "      <td>11</td>\n",
       "      <td>학습생(정)</td>\n",
       "      <td>-,11,-,11,-,11,-,11,-,11,-,11,-</td>\n",
       "      <td>19</td>\n",
       "      <td>0</td>\n",
       "      <td>0</td>\n",
       "      <td>...</td>\n",
       "      <td>36.0</td>\n",
       "      <td>43.22</td>\n",
       "      <td>196.0</td>\n",
       "      <td>92.0</td>\n",
       "      <td>NaN</td>\n",
       "      <td>NaN</td>\n",
       "      <td>NaN</td>\n",
       "      <td>2021</td>\n",
       "      <td>10</td>\n",
       "      <td>WILL EXIT</td>\n",
       "    </tr>\n",
       "    <tr>\n",
       "      <th>3742</th>\n",
       "      <td>03411e28-b8e4-419d-aae0-b9809ed60402</td>\n",
       "      <td>M</td>\n",
       "      <td>초등</td>\n",
       "      <td>초5</td>\n",
       "      <td>11</td>\n",
       "      <td>학습생(정)</td>\n",
       "      <td>-,11,-,11,-</td>\n",
       "      <td>29</td>\n",
       "      <td>0</td>\n",
       "      <td>0</td>\n",
       "      <td>...</td>\n",
       "      <td>8.0</td>\n",
       "      <td>75.38</td>\n",
       "      <td>49.0</td>\n",
       "      <td>37.0</td>\n",
       "      <td>NaN</td>\n",
       "      <td>NaN</td>\n",
       "      <td>NaN</td>\n",
       "      <td>2021</td>\n",
       "      <td>10</td>\n",
       "      <td>WILL EXIT</td>\n",
       "    </tr>\n",
       "    <tr>\n",
       "      <th>...</th>\n",
       "      <td>...</td>\n",
       "      <td>...</td>\n",
       "      <td>...</td>\n",
       "      <td>...</td>\n",
       "      <td>...</td>\n",
       "      <td>...</td>\n",
       "      <td>...</td>\n",
       "      <td>...</td>\n",
       "      <td>...</td>\n",
       "      <td>...</td>\n",
       "      <td>...</td>\n",
       "      <td>...</td>\n",
       "      <td>...</td>\n",
       "      <td>...</td>\n",
       "      <td>...</td>\n",
       "      <td>...</td>\n",
       "      <td>...</td>\n",
       "      <td>...</td>\n",
       "      <td>...</td>\n",
       "      <td>...</td>\n",
       "      <td>...</td>\n",
       "    </tr>\n",
       "    <tr>\n",
       "      <th>97036</th>\n",
       "      <td>1225f6fc-204b-469e-a9c2-2c5f7f360747</td>\n",
       "      <td>F</td>\n",
       "      <td>초등</td>\n",
       "      <td>초2</td>\n",
       "      <td>11</td>\n",
       "      <td>학습생(정)</td>\n",
       "      <td>11</td>\n",
       "      <td>0</td>\n",
       "      <td>0</td>\n",
       "      <td>0</td>\n",
       "      <td>...</td>\n",
       "      <td>28.0</td>\n",
       "      <td>84.18</td>\n",
       "      <td>105.0</td>\n",
       "      <td>97.0</td>\n",
       "      <td>NaN</td>\n",
       "      <td>NaN</td>\n",
       "      <td>NaN</td>\n",
       "      <td>2022</td>\n",
       "      <td>10</td>\n",
       "      <td>WILL EXIT</td>\n",
       "    </tr>\n",
       "    <tr>\n",
       "      <th>97042</th>\n",
       "      <td>124dbcb9-76ca-4d47-ae35-e53fff3cc1ff</td>\n",
       "      <td>M</td>\n",
       "      <td>초등</td>\n",
       "      <td>초5</td>\n",
       "      <td>11</td>\n",
       "      <td>학습생(정)</td>\n",
       "      <td>55,11</td>\n",
       "      <td>0</td>\n",
       "      <td>0</td>\n",
       "      <td>0</td>\n",
       "      <td>...</td>\n",
       "      <td>NaN</td>\n",
       "      <td>NaN</td>\n",
       "      <td>NaN</td>\n",
       "      <td>NaN</td>\n",
       "      <td>NaN</td>\n",
       "      <td>NaN</td>\n",
       "      <td>NaN</td>\n",
       "      <td>2022</td>\n",
       "      <td>10</td>\n",
       "      <td>WILL EXIT</td>\n",
       "    </tr>\n",
       "    <tr>\n",
       "      <th>97204</th>\n",
       "      <td>1aafd5a8-b056-4361-8649-fb4820797965</td>\n",
       "      <td>M</td>\n",
       "      <td>초등</td>\n",
       "      <td>초3</td>\n",
       "      <td>11</td>\n",
       "      <td>학습생(정)</td>\n",
       "      <td>11</td>\n",
       "      <td>0</td>\n",
       "      <td>0</td>\n",
       "      <td>0</td>\n",
       "      <td>...</td>\n",
       "      <td>48.0</td>\n",
       "      <td>62.58</td>\n",
       "      <td>247.0</td>\n",
       "      <td>143.0</td>\n",
       "      <td>3.0</td>\n",
       "      <td>11.0</td>\n",
       "      <td>8.0</td>\n",
       "      <td>2022</td>\n",
       "      <td>10</td>\n",
       "      <td>WILL EXIT</td>\n",
       "    </tr>\n",
       "    <tr>\n",
       "      <th>97285</th>\n",
       "      <td>1dc2e28a-b2c4-462b-83cb-98fdddfabf21</td>\n",
       "      <td>M</td>\n",
       "      <td>초등</td>\n",
       "      <td>초6</td>\n",
       "      <td>11</td>\n",
       "      <td>학습생(정)</td>\n",
       "      <td>11</td>\n",
       "      <td>0</td>\n",
       "      <td>0</td>\n",
       "      <td>0</td>\n",
       "      <td>...</td>\n",
       "      <td>2.0</td>\n",
       "      <td>20.00</td>\n",
       "      <td>10.0</td>\n",
       "      <td>2.0</td>\n",
       "      <td>NaN</td>\n",
       "      <td>NaN</td>\n",
       "      <td>NaN</td>\n",
       "      <td>2022</td>\n",
       "      <td>10</td>\n",
       "      <td>WILL EXIT</td>\n",
       "    </tr>\n",
       "    <tr>\n",
       "      <th>97376</th>\n",
       "      <td>2296b811-523b-4307-97ef-8c75e62c6276</td>\n",
       "      <td>F</td>\n",
       "      <td>초등</td>\n",
       "      <td>초3</td>\n",
       "      <td>11</td>\n",
       "      <td>학습생(정)</td>\n",
       "      <td>11</td>\n",
       "      <td>0</td>\n",
       "      <td>0</td>\n",
       "      <td>0</td>\n",
       "      <td>...</td>\n",
       "      <td>37.0</td>\n",
       "      <td>47.54</td>\n",
       "      <td>188.0</td>\n",
       "      <td>59.0</td>\n",
       "      <td>NaN</td>\n",
       "      <td>NaN</td>\n",
       "      <td>NaN</td>\n",
       "      <td>2022</td>\n",
       "      <td>10</td>\n",
       "      <td>WILL EXIT</td>\n",
       "    </tr>\n",
       "  </tbody>\n",
       "</table>\n",
       "<p>1251 rows × 55 columns</p>\n",
       "</div>"
      ],
      "text/plain": [
       "                                     userid gender membertype_codename  \\\n",
       "3678   00132af0-87d8-4b7e-bbbf-4d67a1accc2b      F                  초등   \n",
       "3693   01123b39-b626-4d80-a399-8d424c11b4a0      M                  초등   \n",
       "3717   02300eca-940f-4971-a898-5fb83d3b07ea      F                  초등   \n",
       "3719   0248e2ee-9ecb-48f8-9658-67fd41d99b24      M                  초등   \n",
       "3742   03411e28-b8e4-419d-aae0-b9809ed60402      M                  초등   \n",
       "...                                     ...    ...                 ...   \n",
       "97036  1225f6fc-204b-469e-a9c2-2c5f7f360747      F                  초등   \n",
       "97042  124dbcb9-76ca-4d47-ae35-e53fff3cc1ff      M                  초등   \n",
       "97204  1aafd5a8-b056-4361-8649-fb4820797965      M                  초등   \n",
       "97285  1dc2e28a-b2c4-462b-83cb-98fdddfabf21      M                  초등   \n",
       "97376  2296b811-523b-4307-97ef-8c75e62c6276      F                  초등   \n",
       "\n",
       "      grade_codename  memberstatus memberstatus_codename  \\\n",
       "3678              초3            11                학습생(정)   \n",
       "3693              초5            11                학습생(정)   \n",
       "3717              초1            11                학습생(정)   \n",
       "3719              초3            11                학습생(정)   \n",
       "3742              초5            11                학습생(정)   \n",
       "...              ...           ...                   ...   \n",
       "97036             초2            11                학습생(정)   \n",
       "97042             초5            11                학습생(정)   \n",
       "97204             초3            11                학습생(정)   \n",
       "97285             초6            11                학습생(정)   \n",
       "97376             초3            11                학습생(정)   \n",
       "\n",
       "                      memberstatus_change  status_null_count  \\\n",
       "3678   11,-,11,-,11,-,11,-,11,-,11,-,11,-                 15   \n",
       "3693     11,-,11,-,11,-,11,-,11,-,11,-,11                 15   \n",
       "3717             -,11,-,11,-,11,-,11,-,11                 24   \n",
       "3719      -,11,-,11,-,11,-,11,-,11,-,11,-                 19   \n",
       "3742                          -,11,-,11,-                 29   \n",
       "...                                   ...                ...   \n",
       "97036                                  11                  0   \n",
       "97042                               55,11                  0   \n",
       "97204                                  11                  0   \n",
       "97285                                  11                  0   \n",
       "97376                                  11                  0   \n",
       "\n",
       "       statusgroup_10_count  statusgroup_20_count  ...  test_count  \\\n",
       "3678                      0                     0  ...        39.0   \n",
       "3693                      0                     0  ...        14.0   \n",
       "3717                      0                     0  ...         9.0   \n",
       "3719                      0                     0  ...        36.0   \n",
       "3742                      0                     0  ...         8.0   \n",
       "...                     ...                   ...  ...         ...   \n",
       "97036                     0                     0  ...        28.0   \n",
       "97042                     0                     0  ...         NaN   \n",
       "97204                     0                     0  ...        48.0   \n",
       "97285                     0                     0  ...         2.0   \n",
       "97376                     0                     0  ...        37.0   \n",
       "\n",
       "       test_average_score  test_item_count  test_correct_count  wrong_count  \\\n",
       "3678                64.36            220.0               143.0          2.0   \n",
       "3693                76.00             97.0                75.0          NaN   \n",
       "3717                74.89             51.0                37.0          NaN   \n",
       "3719                43.22            196.0                92.0          NaN   \n",
       "3742                75.38             49.0                37.0          NaN   \n",
       "...                   ...              ...                 ...          ...   \n",
       "97036               84.18            105.0                97.0          NaN   \n",
       "97042                 NaN              NaN                 NaN          NaN   \n",
       "97204               62.58            247.0               143.0          3.0   \n",
       "97285               20.00             10.0                 2.0          NaN   \n",
       "97376               47.54            188.0                59.0          NaN   \n",
       "\n",
       "       wrong_item_count  wrong_correct_count  yyyy  mm     target  \n",
       "3678                5.0                  4.0  2021  10  WILL EXIT  \n",
       "3693                NaN                  NaN  2021  10  WILL EXIT  \n",
       "3717                NaN                  NaN  2021  10  WILL EXIT  \n",
       "3719                NaN                  NaN  2021  10  WILL EXIT  \n",
       "3742                NaN                  NaN  2021  10  WILL EXIT  \n",
       "...                 ...                  ...   ...  ..        ...  \n",
       "97036               NaN                  NaN  2022  10  WILL EXIT  \n",
       "97042               NaN                  NaN  2022  10  WILL EXIT  \n",
       "97204              11.0                  8.0  2022  10  WILL EXIT  \n",
       "97285               NaN                  NaN  2022  10  WILL EXIT  \n",
       "97376               NaN                  NaN  2022  10  WILL EXIT  \n",
       "\n",
       "[1251 rows x 55 columns]"
      ]
     },
     "execution_count": 4,
     "metadata": {},
     "output_type": "execute_result"
    }
   ],
   "source": [
    "exit_user = class0_data[class0_data['mm'] == 11]['userid'].unique()\n",
    "exit_data = class1_data[(class1_data['userid'].isin(exit_user)) & (class1_data['mm'] == 10)] #10월에는 정회원이지만 11월에는 탈퇴하는 회원들의 데이터\n",
    "\n",
    "exit_data['target'] = 'WILL EXIT'\n",
    "\n",
    "exit_data"
   ]
  },
  {
   "cell_type": "markdown",
   "metadata": {
    "id": "5FX4D5ly8wDX"
   },
   "source": [
    "```python\n",
    "## 11월에 정회원인 회원의 10월 데이터 - 정회원 데이터\n",
    "regular_user = class1_data[class1_data['mm'] == 11]['userid'].unique()\n",
    "regular_data = class1_data[(class1_data['userid'].isin(regular_user)) & (class1_data['mm'] == 10)]\n",
    "\n",
    "regular_data['target'] = 'WILL STAY'\n",
    "\n",
    "regular_data\n",
    "```"
   ]
  },
  {
   "cell_type": "code",
   "execution_count": 5,
   "metadata": {
    "id": "hLTOxGu32Qas"
   },
   "outputs": [
    {
     "data": {
      "text/html": [
       "<div>\n",
       "<style scoped>\n",
       "    .dataframe tbody tr th:only-of-type {\n",
       "        vertical-align: middle;\n",
       "    }\n",
       "\n",
       "    .dataframe tbody tr th {\n",
       "        vertical-align: top;\n",
       "    }\n",
       "\n",
       "    .dataframe thead th {\n",
       "        text-align: right;\n",
       "    }\n",
       "</style>\n",
       "<table border=\"1\" class=\"dataframe\">\n",
       "  <thead>\n",
       "    <tr style=\"text-align: right;\">\n",
       "      <th></th>\n",
       "      <th>userid</th>\n",
       "      <th>gender</th>\n",
       "      <th>membertype_codename</th>\n",
       "      <th>grade_codename</th>\n",
       "      <th>memberstatus</th>\n",
       "      <th>memberstatus_codename</th>\n",
       "      <th>memberstatus_change</th>\n",
       "      <th>status_null_count</th>\n",
       "      <th>statusgroup_10_count</th>\n",
       "      <th>statusgroup_20_count</th>\n",
       "      <th>...</th>\n",
       "      <th>test_count</th>\n",
       "      <th>test_average_score</th>\n",
       "      <th>test_item_count</th>\n",
       "      <th>test_correct_count</th>\n",
       "      <th>wrong_count</th>\n",
       "      <th>wrong_item_count</th>\n",
       "      <th>wrong_correct_count</th>\n",
       "      <th>yyyy</th>\n",
       "      <th>mm</th>\n",
       "      <th>target</th>\n",
       "    </tr>\n",
       "  </thead>\n",
       "  <tbody>\n",
       "    <tr>\n",
       "      <th>26901</th>\n",
       "      <td>000213f1-0f58-48d6-bcb3-3c15864b7d5a</td>\n",
       "      <td>M</td>\n",
       "      <td>초등</td>\n",
       "      <td>초4</td>\n",
       "      <td>11</td>\n",
       "      <td>학습생(정)</td>\n",
       "      <td>11,-,11,-,11,-,11,-,11,-,11,-,11,-,11</td>\n",
       "      <td>20</td>\n",
       "      <td>0</td>\n",
       "      <td>0</td>\n",
       "      <td>...</td>\n",
       "      <td>19.0</td>\n",
       "      <td>46.89</td>\n",
       "      <td>99.0</td>\n",
       "      <td>33.0</td>\n",
       "      <td>1.0</td>\n",
       "      <td>15.0</td>\n",
       "      <td>13.0</td>\n",
       "      <td>2021</td>\n",
       "      <td>10</td>\n",
       "      <td>WILL STAY</td>\n",
       "    </tr>\n",
       "    <tr>\n",
       "      <th>26902</th>\n",
       "      <td>0006cc87-557b-4ee7-8604-8b3afa86a31c</td>\n",
       "      <td>F</td>\n",
       "      <td>초등</td>\n",
       "      <td>초2</td>\n",
       "      <td>11</td>\n",
       "      <td>학습생(정)</td>\n",
       "      <td>11,-,11,-,11,-,11,-,11,-,11,-</td>\n",
       "      <td>11</td>\n",
       "      <td>0</td>\n",
       "      <td>0</td>\n",
       "      <td>...</td>\n",
       "      <td>28.0</td>\n",
       "      <td>79.57</td>\n",
       "      <td>170.0</td>\n",
       "      <td>132.0</td>\n",
       "      <td>7.0</td>\n",
       "      <td>7.0</td>\n",
       "      <td>7.0</td>\n",
       "      <td>2021</td>\n",
       "      <td>10</td>\n",
       "      <td>WILL STAY</td>\n",
       "    </tr>\n",
       "    <tr>\n",
       "      <th>26903</th>\n",
       "      <td>001ef835-25e0-4f2a-9aa8-4aa2bad7a3dc</td>\n",
       "      <td>M</td>\n",
       "      <td>초등</td>\n",
       "      <td>초4</td>\n",
       "      <td>11</td>\n",
       "      <td>학습생(정)</td>\n",
       "      <td>-,11,-,11,-,11,-,11,-,11,-,11,-</td>\n",
       "      <td>22</td>\n",
       "      <td>0</td>\n",
       "      <td>0</td>\n",
       "      <td>...</td>\n",
       "      <td>17.0</td>\n",
       "      <td>66.35</td>\n",
       "      <td>104.0</td>\n",
       "      <td>74.0</td>\n",
       "      <td>NaN</td>\n",
       "      <td>NaN</td>\n",
       "      <td>NaN</td>\n",
       "      <td>2021</td>\n",
       "      <td>10</td>\n",
       "      <td>WILL STAY</td>\n",
       "    </tr>\n",
       "    <tr>\n",
       "      <th>26904</th>\n",
       "      <td>001f9510-f994-4516-b77d-d8a1bf181289</td>\n",
       "      <td>F</td>\n",
       "      <td>초등</td>\n",
       "      <td>초3</td>\n",
       "      <td>11</td>\n",
       "      <td>학습생(정)</td>\n",
       "      <td>11,-,11,-,11,-,11,-</td>\n",
       "      <td>7</td>\n",
       "      <td>0</td>\n",
       "      <td>0</td>\n",
       "      <td>...</td>\n",
       "      <td>71.0</td>\n",
       "      <td>90.35</td>\n",
       "      <td>446.0</td>\n",
       "      <td>393.0</td>\n",
       "      <td>21.0</td>\n",
       "      <td>26.0</td>\n",
       "      <td>26.0</td>\n",
       "      <td>2021</td>\n",
       "      <td>10</td>\n",
       "      <td>WILL STAY</td>\n",
       "    </tr>\n",
       "    <tr>\n",
       "      <th>26905</th>\n",
       "      <td>00203c3e-dd28-450d-b2d6-b6959dc81d04</td>\n",
       "      <td>M</td>\n",
       "      <td>초등</td>\n",
       "      <td>초3</td>\n",
       "      <td>11</td>\n",
       "      <td>학습생(정)</td>\n",
       "      <td>11,-,11,-,11,-,11,-,11,-,11,-</td>\n",
       "      <td>14</td>\n",
       "      <td>0</td>\n",
       "      <td>0</td>\n",
       "      <td>...</td>\n",
       "      <td>35.0</td>\n",
       "      <td>77.09</td>\n",
       "      <td>243.0</td>\n",
       "      <td>191.0</td>\n",
       "      <td>3.0</td>\n",
       "      <td>9.0</td>\n",
       "      <td>9.0</td>\n",
       "      <td>2021</td>\n",
       "      <td>10</td>\n",
       "      <td>WILL STAY</td>\n",
       "    </tr>\n",
       "    <tr>\n",
       "      <th>...</th>\n",
       "      <td>...</td>\n",
       "      <td>...</td>\n",
       "      <td>...</td>\n",
       "      <td>...</td>\n",
       "      <td>...</td>\n",
       "      <td>...</td>\n",
       "      <td>...</td>\n",
       "      <td>...</td>\n",
       "      <td>...</td>\n",
       "      <td>...</td>\n",
       "      <td>...</td>\n",
       "      <td>...</td>\n",
       "      <td>...</td>\n",
       "      <td>...</td>\n",
       "      <td>...</td>\n",
       "      <td>...</td>\n",
       "      <td>...</td>\n",
       "      <td>...</td>\n",
       "      <td>...</td>\n",
       "      <td>...</td>\n",
       "      <td>...</td>\n",
       "    </tr>\n",
       "    <tr>\n",
       "      <th>58117</th>\n",
       "      <td>ffba3c0f-5af8-4fa5-9b3b-2c2e432dedc3</td>\n",
       "      <td>F</td>\n",
       "      <td>초등</td>\n",
       "      <td>초2</td>\n",
       "      <td>11</td>\n",
       "      <td>학습생(정)</td>\n",
       "      <td>11,-,11,-,11,-,11,-,11,-</td>\n",
       "      <td>11</td>\n",
       "      <td>0</td>\n",
       "      <td>0</td>\n",
       "      <td>...</td>\n",
       "      <td>26.0</td>\n",
       "      <td>72.19</td>\n",
       "      <td>152.0</td>\n",
       "      <td>106.0</td>\n",
       "      <td>NaN</td>\n",
       "      <td>NaN</td>\n",
       "      <td>NaN</td>\n",
       "      <td>2021</td>\n",
       "      <td>10</td>\n",
       "      <td>WILL STAY</td>\n",
       "    </tr>\n",
       "    <tr>\n",
       "      <th>58118</th>\n",
       "      <td>ffc0b882-6280-44c5-b11e-1147e1bf6e0f</td>\n",
       "      <td>F</td>\n",
       "      <td>초등</td>\n",
       "      <td>초3</td>\n",
       "      <td>11</td>\n",
       "      <td>학습생(정)</td>\n",
       "      <td>-,11,-,11,-,11,-,11,-</td>\n",
       "      <td>25</td>\n",
       "      <td>0</td>\n",
       "      <td>0</td>\n",
       "      <td>...</td>\n",
       "      <td>16.0</td>\n",
       "      <td>74.00</td>\n",
       "      <td>120.0</td>\n",
       "      <td>93.0</td>\n",
       "      <td>6.0</td>\n",
       "      <td>6.0</td>\n",
       "      <td>6.0</td>\n",
       "      <td>2021</td>\n",
       "      <td>10</td>\n",
       "      <td>WILL STAY</td>\n",
       "    </tr>\n",
       "    <tr>\n",
       "      <th>58119</th>\n",
       "      <td>ffc0cb97-b4e9-4a19-8f07-e5c5870a6f5a</td>\n",
       "      <td>M</td>\n",
       "      <td>초등</td>\n",
       "      <td>초1</td>\n",
       "      <td>11</td>\n",
       "      <td>학습생(정)</td>\n",
       "      <td>-,11,-,11,-,11,-,11,-,11</td>\n",
       "      <td>9</td>\n",
       "      <td>0</td>\n",
       "      <td>0</td>\n",
       "      <td>...</td>\n",
       "      <td>46.0</td>\n",
       "      <td>79.85</td>\n",
       "      <td>270.0</td>\n",
       "      <td>216.0</td>\n",
       "      <td>NaN</td>\n",
       "      <td>NaN</td>\n",
       "      <td>NaN</td>\n",
       "      <td>2021</td>\n",
       "      <td>10</td>\n",
       "      <td>WILL STAY</td>\n",
       "    </tr>\n",
       "    <tr>\n",
       "      <th>58120</th>\n",
       "      <td>ffcae717-8d1e-4055-be25-24a907f7397c</td>\n",
       "      <td>M</td>\n",
       "      <td>초등</td>\n",
       "      <td>초6</td>\n",
       "      <td>11</td>\n",
       "      <td>학습생(정)</td>\n",
       "      <td>11,-,11,-,11,-,11,-,11,-,11,-</td>\n",
       "      <td>7</td>\n",
       "      <td>0</td>\n",
       "      <td>0</td>\n",
       "      <td>...</td>\n",
       "      <td>13.0</td>\n",
       "      <td>81.08</td>\n",
       "      <td>80.0</td>\n",
       "      <td>67.0</td>\n",
       "      <td>NaN</td>\n",
       "      <td>NaN</td>\n",
       "      <td>NaN</td>\n",
       "      <td>2021</td>\n",
       "      <td>10</td>\n",
       "      <td>WILL STAY</td>\n",
       "    </tr>\n",
       "    <tr>\n",
       "      <th>58121</th>\n",
       "      <td>fff4b6d8-1457-4732-9686-4f898a91df7d</td>\n",
       "      <td>F</td>\n",
       "      <td>초등</td>\n",
       "      <td>초3</td>\n",
       "      <td>11</td>\n",
       "      <td>학습생(정)</td>\n",
       "      <td>-,11,-,11,-,11,-,11,-,11,-,11,-,11,-</td>\n",
       "      <td>21</td>\n",
       "      <td>0</td>\n",
       "      <td>0</td>\n",
       "      <td>...</td>\n",
       "      <td>1.0</td>\n",
       "      <td>100.00</td>\n",
       "      <td>5.0</td>\n",
       "      <td>5.0</td>\n",
       "      <td>NaN</td>\n",
       "      <td>NaN</td>\n",
       "      <td>NaN</td>\n",
       "      <td>2021</td>\n",
       "      <td>10</td>\n",
       "      <td>WILL STAY</td>\n",
       "    </tr>\n",
       "  </tbody>\n",
       "</table>\n",
       "<p>4128 rows × 55 columns</p>\n",
       "</div>"
      ],
      "text/plain": [
       "                                     userid gender membertype_codename  \\\n",
       "26901  000213f1-0f58-48d6-bcb3-3c15864b7d5a      M                  초등   \n",
       "26902  0006cc87-557b-4ee7-8604-8b3afa86a31c      F                  초등   \n",
       "26903  001ef835-25e0-4f2a-9aa8-4aa2bad7a3dc      M                  초등   \n",
       "26904  001f9510-f994-4516-b77d-d8a1bf181289      F                  초등   \n",
       "26905  00203c3e-dd28-450d-b2d6-b6959dc81d04      M                  초등   \n",
       "...                                     ...    ...                 ...   \n",
       "58117  ffba3c0f-5af8-4fa5-9b3b-2c2e432dedc3      F                  초등   \n",
       "58118  ffc0b882-6280-44c5-b11e-1147e1bf6e0f      F                  초등   \n",
       "58119  ffc0cb97-b4e9-4a19-8f07-e5c5870a6f5a      M                  초등   \n",
       "58120  ffcae717-8d1e-4055-be25-24a907f7397c      M                  초등   \n",
       "58121  fff4b6d8-1457-4732-9686-4f898a91df7d      F                  초등   \n",
       "\n",
       "      grade_codename  memberstatus memberstatus_codename  \\\n",
       "26901             초4            11                학습생(정)   \n",
       "26902             초2            11                학습생(정)   \n",
       "26903             초4            11                학습생(정)   \n",
       "26904             초3            11                학습생(정)   \n",
       "26905             초3            11                학습생(정)   \n",
       "...              ...           ...                   ...   \n",
       "58117             초2            11                학습생(정)   \n",
       "58118             초3            11                학습생(정)   \n",
       "58119             초1            11                학습생(정)   \n",
       "58120             초6            11                학습생(정)   \n",
       "58121             초3            11                학습생(정)   \n",
       "\n",
       "                         memberstatus_change  status_null_count  \\\n",
       "26901  11,-,11,-,11,-,11,-,11,-,11,-,11,-,11                 20   \n",
       "26902          11,-,11,-,11,-,11,-,11,-,11,-                 11   \n",
       "26903        -,11,-,11,-,11,-,11,-,11,-,11,-                 22   \n",
       "26904                    11,-,11,-,11,-,11,-                  7   \n",
       "26905          11,-,11,-,11,-,11,-,11,-,11,-                 14   \n",
       "...                                      ...                ...   \n",
       "58117               11,-,11,-,11,-,11,-,11,-                 11   \n",
       "58118                  -,11,-,11,-,11,-,11,-                 25   \n",
       "58119               -,11,-,11,-,11,-,11,-,11                  9   \n",
       "58120          11,-,11,-,11,-,11,-,11,-,11,-                  7   \n",
       "58121   -,11,-,11,-,11,-,11,-,11,-,11,-,11,-                 21   \n",
       "\n",
       "       statusgroup_10_count  statusgroup_20_count  ...  test_count  \\\n",
       "26901                     0                     0  ...        19.0   \n",
       "26902                     0                     0  ...        28.0   \n",
       "26903                     0                     0  ...        17.0   \n",
       "26904                     0                     0  ...        71.0   \n",
       "26905                     0                     0  ...        35.0   \n",
       "...                     ...                   ...  ...         ...   \n",
       "58117                     0                     0  ...        26.0   \n",
       "58118                     0                     0  ...        16.0   \n",
       "58119                     0                     0  ...        46.0   \n",
       "58120                     0                     0  ...        13.0   \n",
       "58121                     0                     0  ...         1.0   \n",
       "\n",
       "       test_average_score  test_item_count  test_correct_count  wrong_count  \\\n",
       "26901               46.89             99.0                33.0          1.0   \n",
       "26902               79.57            170.0               132.0          7.0   \n",
       "26903               66.35            104.0                74.0          NaN   \n",
       "26904               90.35            446.0               393.0         21.0   \n",
       "26905               77.09            243.0               191.0          3.0   \n",
       "...                   ...              ...                 ...          ...   \n",
       "58117               72.19            152.0               106.0          NaN   \n",
       "58118               74.00            120.0                93.0          6.0   \n",
       "58119               79.85            270.0               216.0          NaN   \n",
       "58120               81.08             80.0                67.0          NaN   \n",
       "58121              100.00              5.0                 5.0          NaN   \n",
       "\n",
       "       wrong_item_count  wrong_correct_count  yyyy  mm     target  \n",
       "26901              15.0                 13.0  2021  10  WILL STAY  \n",
       "26902               7.0                  7.0  2021  10  WILL STAY  \n",
       "26903               NaN                  NaN  2021  10  WILL STAY  \n",
       "26904              26.0                 26.0  2021  10  WILL STAY  \n",
       "26905               9.0                  9.0  2021  10  WILL STAY  \n",
       "...                 ...                  ...   ...  ..        ...  \n",
       "58117               NaN                  NaN  2021  10  WILL STAY  \n",
       "58118               6.0                  6.0  2021  10  WILL STAY  \n",
       "58119               NaN                  NaN  2021  10  WILL STAY  \n",
       "58120               NaN                  NaN  2021  10  WILL STAY  \n",
       "58121               NaN                  NaN  2021  10  WILL STAY  \n",
       "\n",
       "[4128 rows x 55 columns]"
      ]
     },
     "execution_count": 5,
     "metadata": {},
     "output_type": "execute_result"
    }
   ],
   "source": [
    "regular_user = class1_data[class1_data['mm'] == 11]['userid'].unique()\n",
    "regular_data = class1_data[(class1_data['userid'].isin(regular_user)) & (class1_data['mm'] == 10)]\n",
    "\n",
    "regular_data['target'] = 'WILL STAY'\n",
    "\n",
    "regular_data"
   ]
  },
  {
   "cell_type": "markdown",
   "metadata": {
    "id": "k43LJTK681af"
   },
   "source": [
    "```python\n",
    "dataset = pd.concat([exit_data, regular_data])\n",
    "```"
   ]
  },
  {
   "cell_type": "code",
   "execution_count": 7,
   "metadata": {
    "id": "RJH-zP0q1Ikx"
   },
   "outputs": [],
   "source": [
    "dataset = pd.concat([exit_data, regular_data])"
   ]
  },
  {
   "cell_type": "markdown",
   "metadata": {
    "id": "80Y-YhAo83_T"
   },
   "source": [
    "```python\n",
    "dataset['target'].value_counts()\n",
    "```"
   ]
  },
  {
   "cell_type": "code",
   "execution_count": 8,
   "metadata": {
    "id": "7A044fmEw3wO"
   },
   "outputs": [
    {
     "data": {
      "text/plain": [
       "WILL STAY    4128\n",
       "WILL EXIT    1251\n",
       "Name: target, dtype: int64"
      ]
     },
     "execution_count": 8,
     "metadata": {},
     "output_type": "execute_result"
    }
   ],
   "source": [
    "dataset['target'].value_counts()"
   ]
  },
  {
   "cell_type": "code",
   "execution_count": null,
   "metadata": {
    "id": "YyGdKb1ew3wO"
   },
   "outputs": [],
   "source": []
  },
  {
   "cell_type": "code",
   "execution_count": null,
   "metadata": {
    "id": "Nh-VX1Sjw3wP"
   },
   "outputs": [],
   "source": []
  },
  {
   "cell_type": "markdown",
   "metadata": {
    "id": "VUt2Lg4K87Fj"
   },
   "source": [
    "```python\n",
    "dataset = dataset.dropna(subset = ['point_gain_activeday_count', 'point_gain_count', 'point_gain',\n",
    "             'point_loss_activeday_count', 'point_loss_count', 'point_loss',\n",
    "             'tablet_activeday_count', 'tablet_moved_menu_count', 'tablet_leave_count', 'tablet_resume_count',\n",
    "             'tablet_login_count', 'tablet_logout_count', 'study_activeday_count', 'study_count',\n",
    "             'study_notcompleted_count', 'study_completed_count',\n",
    "             'study_restart_count', 'total_system_learning_time', 'total_caliper_learning_time',\n",
    "             'media_activeday_count', 'media_count',\n",
    "             'video_action_count', 'video_start_count', 'video_restart_count',\n",
    "             'video_pause_count', 'video_jump_count', 'video_resume_count',\n",
    "             'video_speed_count', 'video_volume_count', 'video_end_count',\n",
    "             'test_activeday_count', 'test_count', 'test_average_score',\n",
    "             'test_item_count', 'test_correct_count', 'wrong_count',\n",
    "             'wrong_item_count', 'wrong_correct_count'\n",
    "             ])\n",
    "```"
   ]
  },
  {
   "cell_type": "code",
   "execution_count": 9,
   "metadata": {
    "id": "WOP1kf9Jw3wQ"
   },
   "outputs": [],
   "source": [
    "dataset = dataset.dropna(subset = ['point_gain_activeday_count', 'point_gain_count', 'point_gain',\n",
    "             'point_loss_activeday_count', 'point_loss_count', 'point_loss',\n",
    "             'tablet_activeday_count', 'tablet_moved_menu_count', 'tablet_leave_count', 'tablet_resume_count',\n",
    "             'tablet_login_count', 'tablet_logout_count', 'study_activeday_count', 'study_count',\n",
    "             'study_notcompleted_count', 'study_completed_count',\n",
    "             'study_restart_count', 'total_system_learning_time', 'total_caliper_learning_time',\n",
    "             'media_activeday_count', 'media_count',\n",
    "             'video_action_count', 'video_start_count', 'video_restart_count',\n",
    "             'video_pause_count', 'video_jump_count', 'video_resume_count',\n",
    "             'video_speed_count', 'video_volume_count', 'video_end_count',\n",
    "             'test_activeday_count', 'test_count', 'test_average_score',\n",
    "             'test_item_count', 'test_correct_count', 'wrong_count',\n",
    "             'wrong_item_count', 'wrong_correct_count'\n",
    "             ])"
   ]
  },
  {
   "cell_type": "markdown",
   "metadata": {
    "id": "tO1pR-2f888Y"
   },
   "source": [
    "```python\n",
    "X = dataset[['point_gain_activeday_count', 'point_gain_count', 'point_gain',\n",
    "             'point_loss_activeday_count', 'point_loss_count', 'point_loss',\n",
    "             'tablet_activeday_count', 'tablet_moved_menu_count', 'tablet_leave_count', 'tablet_resume_count',\n",
    "             'tablet_login_count', 'tablet_logout_count', 'study_activeday_count', 'study_count',\n",
    "             'study_notcompleted_count', 'study_completed_count',\n",
    "             'study_restart_count', 'total_system_learning_time', 'total_caliper_learning_time',\n",
    "             'media_activeday_count', 'media_count',\n",
    "             'video_action_count', 'video_start_count', 'video_restart_count',\n",
    "             'video_pause_count', 'video_jump_count', 'video_resume_count',\n",
    "             'video_speed_count', 'video_volume_count', 'video_end_count',\n",
    "             'test_activeday_count', 'test_count', 'test_average_score',\n",
    "             'test_item_count', 'test_correct_count', 'wrong_count',\n",
    "             'wrong_item_count', 'wrong_correct_count'\n",
    "             ]]\n",
    "```"
   ]
  },
  {
   "cell_type": "code",
   "execution_count": 10,
   "metadata": {
    "id": "pOhFI5ML23Qz"
   },
   "outputs": [],
   "source": [
    "X = dataset[['point_gain_activeday_count', 'point_gain_count', 'point_gain',\n",
    "             'point_loss_activeday_count', 'point_loss_count', 'point_loss',\n",
    "             'tablet_activeday_count', 'tablet_moved_menu_count', 'tablet_leave_count', 'tablet_resume_count',\n",
    "             'tablet_login_count', 'tablet_logout_count', 'study_activeday_count', 'study_count',\n",
    "             'study_notcompleted_count', 'study_completed_count',\n",
    "             'study_restart_count', 'total_system_learning_time', 'total_caliper_learning_time',\n",
    "             'media_activeday_count', 'media_count',\n",
    "             'video_action_count', 'video_start_count', 'video_restart_count',\n",
    "             'video_pause_count', 'video_jump_count', 'video_resume_count',\n",
    "             'video_speed_count', 'video_volume_count', 'video_end_count',\n",
    "             'test_activeday_count', 'test_count', 'test_average_score',\n",
    "             'test_item_count', 'test_correct_count', 'wrong_count',\n",
    "             'wrong_item_count', 'wrong_correct_count'\n",
    "             ]]"
   ]
  },
  {
   "cell_type": "markdown",
   "metadata": {
    "id": "dRwbJj4n9AZ-"
   },
   "source": [
    "```python\n",
    "Y = dataset['target']\n",
    "```"
   ]
  },
  {
   "cell_type": "code",
   "execution_count": 15,
   "metadata": {
    "id": "J9B5LGVPw3wQ"
   },
   "outputs": [
    {
     "data": {
      "text/plain": [
       "3678     WILL EXIT\n",
       "3766     WILL EXIT\n",
       "3779     WILL EXIT\n",
       "3809     WILL EXIT\n",
       "3822     WILL EXIT\n",
       "           ...    \n",
       "58111    WILL STAY\n",
       "58113    WILL STAY\n",
       "58115    WILL STAY\n",
       "58116    WILL STAY\n",
       "58118    WILL STAY\n",
       "Name: target, Length: 3280, dtype: object"
      ]
     },
     "execution_count": 15,
     "metadata": {},
     "output_type": "execute_result"
    }
   ],
   "source": [
    "Y = dataset['target']\n",
    "Y"
   ]
  },
  {
   "cell_type": "code",
   "execution_count": 16,
   "metadata": {},
   "outputs": [],
   "source": [
    "# 유지-0, 이탈-1  \n",
    "Y = Y.apply(lambda x: 0 if x=='WILL STAY' else 1)"
   ]
  },
  {
   "cell_type": "code",
   "execution_count": 23,
   "metadata": {},
   "outputs": [
    {
     "data": {
      "text/plain": [
       "0    2694\n",
       "1     586\n",
       "Name: target, dtype: int64"
      ]
     },
     "execution_count": 23,
     "metadata": {},
     "output_type": "execute_result"
    }
   ],
   "source": [
    "Y.value_counts()"
   ]
  },
  {
   "cell_type": "markdown",
   "metadata": {
    "id": "RukUxwXq7n-4"
   },
   "source": [
    "```python\n",
    "X_train, X_test, y_train, y_test = train_test_split(X, Y, test_size=0.2)\n",
    "```"
   ]
  },
  {
   "cell_type": "code",
   "execution_count": 34,
   "metadata": {
    "id": "esJqZfrE287L"
   },
   "outputs": [],
   "source": [
    "X_train, X_test, y_train, y_test = train_test_split(X, Y, test_size=0.2, random_state=7)"
   ]
  },
  {
   "cell_type": "markdown",
   "metadata": {
    "id": "qNau3TfKxM5_"
   },
   "source": [
    "### 모델 적용"
   ]
  },
  {
   "cell_type": "markdown",
   "metadata": {
    "id": "L2w2ojIV9Tvm"
   },
   "source": [
    "#### Bagging(배깅)"
   ]
  },
  {
   "cell_type": "markdown",
   "metadata": {
    "id": "wB3TrhAGaAbf"
   },
   "source": [
    "```python\n",
    "from sklearn.ensemble import BaggingClassifier\n",
    "from sklearn.metrics import accuracy_score, recall_score, precision_score, roc_auc_score, confusion_matrix\n",
    "lr_clf = LogisticRegression(solver='liblinear')\n",
    "\n",
    "bagging_clf = BaggingClassifier(base_estimator=lr_clf)\n",
    "\n",
    "# BaggingClassifier 학습/예측.\n",
    "bagging_clf.fit(X_train , y_train)\n",
    "pred = bagging_clf.predict(X_test)\n",
    "```"
   ]
  },
  {
   "cell_type": "code",
   "execution_count": 35,
   "metadata": {
    "id": "e7BvuGchaEkq"
   },
   "outputs": [],
   "source": [
    "from sklearn.ensemble import BaggingClassifier\n",
    "from sklearn.metrics import accuracy_score, recall_score, precision_score, roc_auc_score, confusion_matrix\n",
    "lr_clf = LogisticRegression(solver='liblinear')\n",
    "\n",
    "bagging_clf = BaggingClassifier(base_estimator=lr_clf)\n",
    "\n",
    "# BaggingClassifier 학습/예측.\n",
    "bagging_clf.fit(X_train , y_train)\n",
    "pred = bagging_clf.predict(X_test)"
   ]
  },
  {
   "cell_type": "code",
   "execution_count": 36,
   "metadata": {},
   "outputs": [
    {
     "data": {
      "text/plain": [
       "56536    0\n",
       "27608    0\n",
       "36645    0\n",
       "56946    0\n",
       "56385    1\n",
       "        ..\n",
       "56579    0\n",
       "57899    0\n",
       "23238    1\n",
       "27771    0\n",
       "6913     1\n",
       "Name: target, Length: 656, dtype: int64"
      ]
     },
     "execution_count": 36,
     "metadata": {},
     "output_type": "execute_result"
    }
   ],
   "source": [
    "y_test"
   ]
  },
  {
   "cell_type": "code",
   "execution_count": 37,
   "metadata": {},
   "outputs": [
    {
     "data": {
      "text/plain": [
       "array([0, 0, 0, 0, 0, 0, 0, 0, 0, 0, 0, 0, 0, 0, 0, 0, 0, 0, 0, 0, 0, 0,\n",
       "       0, 0, 0, 0, 0, 0, 0, 0, 0, 0, 0, 0, 0, 0, 0, 0, 0, 0, 0, 0, 0, 0,\n",
       "       0, 0, 0, 0, 0, 0, 0, 0, 0, 0, 0, 0, 0, 0, 0, 0, 0, 0, 0, 0, 0, 0,\n",
       "       0, 0, 0, 0, 0, 0, 0, 0, 0, 0, 0, 0, 0, 0, 0, 0, 0, 0, 0, 0, 0, 0,\n",
       "       1, 0, 0, 0, 0, 0, 0, 0, 0, 0, 0, 0, 0, 0, 0, 0, 0, 0, 0, 0, 0, 0,\n",
       "       0, 0, 0, 0, 0, 0, 0, 0, 0, 0, 0, 0, 0, 0, 0, 0, 0, 0, 0, 0, 0, 0,\n",
       "       0, 0, 0, 0, 0, 0, 0, 0, 0, 0, 0, 0, 0, 0, 0, 0, 0, 0, 0, 0, 0, 1,\n",
       "       0, 0, 0, 0, 0, 0, 0, 0, 0, 0, 0, 0, 0, 0, 0, 0, 0, 0, 0, 0, 0, 0,\n",
       "       0, 0, 0, 0, 0, 0, 0, 0, 0, 0, 0, 0, 0, 0, 0, 0, 0, 0, 0, 0, 0, 0,\n",
       "       0, 0, 0, 0, 0, 0, 0, 0, 0, 0, 0, 0, 0, 0, 0, 0, 0, 0, 0, 0, 0, 0,\n",
       "       0, 0, 0, 0, 0, 0, 0, 0, 0, 0, 0, 0, 0, 0, 0, 0, 0, 0, 0, 0, 0, 0,\n",
       "       0, 0, 0, 0, 0, 0, 0, 0, 1, 0, 0, 0, 0, 0, 0, 0, 0, 0, 0, 0, 0, 0,\n",
       "       0, 0, 0, 0, 0, 0, 0, 0, 0, 0, 0, 0, 0, 0, 0, 0, 0, 0, 0, 0, 0, 0,\n",
       "       0, 0, 0, 0, 0, 0, 0, 0, 0, 0, 0, 0, 0, 0, 0, 0, 0, 0, 0, 0, 0, 0,\n",
       "       0, 0, 0, 0, 0, 0, 0, 0, 0, 0, 0, 0, 0, 0, 0, 0, 0, 0, 0, 0, 0, 0,\n",
       "       0, 0, 0, 0, 0, 0, 0, 0, 0, 0, 0, 0, 0, 0, 0, 0, 0, 0, 0, 0, 0, 0,\n",
       "       0, 0, 0, 0, 0, 0, 0, 0, 0, 0, 0, 0, 0, 0, 0, 0, 0, 0, 0, 0, 0, 0,\n",
       "       0, 0, 0, 0, 0, 0, 0, 0, 0, 0, 0, 0, 0, 0, 0, 0, 0, 0, 0, 0, 0, 0,\n",
       "       0, 0, 0, 0, 0, 0, 0, 0, 0, 0, 0, 0, 0, 0, 0, 0, 0, 0, 0, 0, 0, 0,\n",
       "       0, 0, 0, 0, 0, 0, 0, 0, 0, 0, 0, 0, 0, 0, 0, 0, 0, 0, 0, 0, 0, 0,\n",
       "       0, 0, 0, 0, 0, 0, 0, 0, 0, 0, 0, 0, 0, 0, 0, 0, 0, 0, 0, 0, 0, 0,\n",
       "       0, 0, 0, 0, 0, 0, 0, 0, 0, 0, 0, 0, 0, 0, 0, 0, 0, 0, 0, 0, 0, 0,\n",
       "       0, 0, 0, 0, 0, 0, 0, 0, 0, 1, 0, 0, 0, 0, 0, 0, 0, 0, 0, 0, 0, 0,\n",
       "       0, 0, 0, 0, 0, 0, 0, 0, 0, 0, 0, 0, 0, 0, 0, 0, 0, 0, 0, 0, 0, 0,\n",
       "       0, 0, 0, 0, 0, 0, 0, 0, 0, 0, 0, 0, 0, 0, 0, 0, 0, 0, 0, 0, 0, 0,\n",
       "       0, 0, 0, 0, 0, 0, 0, 0, 0, 0, 0, 0, 0, 0, 0, 0, 0, 0, 0, 0, 0, 0,\n",
       "       0, 0, 0, 0, 0, 0, 0, 0, 0, 0, 0, 0, 0, 0, 0, 0, 0, 0, 0, 0, 0, 0,\n",
       "       0, 0, 0, 0, 0, 0, 0, 0, 0, 0, 0, 0, 0, 0, 0, 0, 0, 0, 0, 0, 0, 0,\n",
       "       0, 0, 0, 0, 0, 0, 0, 0, 0, 0, 0, 0, 0, 0, 0, 0, 0, 0, 0, 0, 0, 0,\n",
       "       0, 0, 0, 0, 0, 0, 0, 0, 0, 0, 0, 0, 0, 0, 0, 0, 0, 0], dtype=int64)"
      ]
     },
     "execution_count": 37,
     "metadata": {},
     "output_type": "execute_result"
    }
   ],
   "source": [
    "pred"
   ]
  },
  {
   "cell_type": "markdown",
   "metadata": {
    "id": "KCDz6Wgq9DEf"
   },
   "source": [
    "```python\n",
    "# 평가\n",
    "accuracy = accuracy_score(y_test , pred)\n",
    "recall = recall_score(y_test, pred)\n",
    "precision = precision_score(y_test, pred)\n",
    "auc = roc_auc_score(y_test, pred)\n",
    "matrix = confusion_matrix(y_test, pred)\n",
    "\n",
    "print('Bagging 분류기 정확도: {0:.4f}'.format(accuracy))\n",
    "print('Bagging 분류기 Recall: {0:.4f}'.format(recall))\n",
    "print('Bagging 분류기 Precision: {0:.4f}'.format(precision))\n",
    "print('Bagging 분류기 AUC: {0:.4f}'.format(auc))\n",
    "print('Bagging 분류기 Confusion Matrix:','\\n', matrix)\n",
    "```"
   ]
  },
  {
   "cell_type": "code",
   "execution_count": 38,
   "metadata": {
    "id": "ArmSeBW0w3wR"
   },
   "outputs": [
    {
     "name": "stdout",
     "output_type": "stream",
     "text": [
      "Bagging 분류기 정확도: 0.8308\n",
      "Bagging 분류기 Recall: 0.0092\n",
      "Bagging 분류기 Precision: 0.2500\n",
      "Bagging 분류기 AUC: 0.5018\n",
      "Bagging 분류기 Confusion Matrix: \n",
      " [[544   3]\n",
      " [108   1]]\n"
     ]
    }
   ],
   "source": [
    "# 평가\n",
    "accuracy = accuracy_score(y_test , pred)\n",
    "recall = recall_score(y_test, pred)\n",
    "precision = precision_score(y_test, pred)\n",
    "auc = roc_auc_score(y_test, pred)\n",
    "matrix = confusion_matrix(y_test, pred)\n",
    "\n",
    "print('Bagging 분류기 정확도: {0:.4f}'.format(accuracy))\n",
    "print('Bagging 분류기 Recall: {0:.4f}'.format(recall))\n",
    "print('Bagging 분류기 Precision: {0:.4f}'.format(precision))\n",
    "print('Bagging 분류기 AUC: {0:.4f}'.format(auc))\n",
    "print('Bagging 분류기 Confusion Matrix:','\\n', matrix)"
   ]
  },
  {
   "cell_type": "markdown",
   "metadata": {
    "id": "nCyhNWXIaGUm"
   },
   "source": [
    "```python\n",
    "# 개별 모델의 학습/예측/평가.\n",
    "lr_clf.fit(X_train , y_train)\n",
    "pred = lr_clf.predict(X_test)\n",
    "class_name= lr_clf.__class__.__name__\n",
    "\n",
    "accuracy = accuracy_score(y_test , pred)\n",
    "recall = recall_score(y_test, pred)\n",
    "precision = precision_score(y_test, pred)\n",
    "auc = roc_auc_score(y_test, pred)\n",
    "matrix = confusion_matrix(y_test, pred)\n",
    "\n",
    "print('{0} 정확도: {1:.4f}'.format(class_name, accuracy))\n",
    "print('{0} Recall: {1:.4f}'.format(class_name, recall))\n",
    "print('{0} Precision: {1:.4f}'.format(class_name, precision))\n",
    "print('{0} AUC: {1:.4f}'.format(class_name, auc))\n",
    "print('{0} Confusion Matrix:'.format(class_name),'\\n', matrix)\n",
    "```\n"
   ]
  },
  {
   "cell_type": "code",
   "execution_count": 22,
   "metadata": {
    "id": "TapBkM6YaIJP"
   },
   "outputs": [
    {
     "name": "stdout",
     "output_type": "stream",
     "text": [
      "LogisticRegression 정확도: 0.7942\n",
      "LogisticRegression Recall: 0.0000\n",
      "LogisticRegression Precision: 0.0000\n",
      "LogisticRegression AUC: 0.4981\n",
      "LogisticRegression Confusion Matrix: \n",
      " [[521   2]\n",
      " [133   0]]\n"
     ]
    }
   ],
   "source": [
    "# 개별 모델의 학습/예측/평가.\n",
    "lr_clf.fit(X_train , y_train)\n",
    "pred = lr_clf.predict(X_test)\n",
    "class_name= lr_clf.__class__.__name__\n",
    "\n",
    "accuracy = accuracy_score(y_test , pred)\n",
    "recall = recall_score(y_test, pred)\n",
    "precision = precision_score(y_test, pred)\n",
    "auc = roc_auc_score(y_test, pred)\n",
    "matrix = confusion_matrix(y_test, pred)\n",
    "\n",
    "print('{0} 정확도: {1:.4f}'.format(class_name, accuracy))\n",
    "print('{0} Recall: {1:.4f}'.format(class_name, recall))\n",
    "print('{0} Precision: {1:.4f}'.format(class_name, precision))\n",
    "print('{0} AUC: {1:.4f}'.format(class_name, auc))\n",
    "print('{0} Confusion Matrix:'.format(class_name),'\\n', matrix)"
   ]
  },
  {
   "cell_type": "code",
   "execution_count": null,
   "metadata": {
    "id": "tUuUyOL0aIDe"
   },
   "outputs": [],
   "source": []
  },
  {
   "cell_type": "markdown",
   "metadata": {
    "id": "C1BopffU9Ve7"
   },
   "source": [
    "#### 랜덤 포레스트"
   ]
  },
  {
   "cell_type": "markdown",
   "metadata": {
    "id": "mFAuKDvF9E_E"
   },
   "source": [
    "```python\n",
    "from sklearn.ensemble import RandomForestClassifier\n",
    "\n",
    "rf_clf = RandomForestClassifier(n_estimators=100, random_state=0, max_depth=8)\n",
    "rf_clf.fit(X_train , y_train)\n",
    "pred = rf_clf.predict(X_test)\n",
    "\n",
    "accuracy = accuracy_score(y_test , pred)\n",
    "recall = recall_score(y_test, pred)\n",
    "precision = precision_score(y_test, pred)\n",
    "auc = roc_auc_score(y_test, pred)\n",
    "matrix = confusion_matrix(y_test, pred)\n",
    "\n",
    "print('랜덤 포레스트 정확도: {0:.4f}'.format(accuracy))\n",
    "print('랜덤 포레스트 Recall: {0:.4f}'.format(recall))\n",
    "print('랜덤 포레스트 Precision: {0:.4f}'.format(precision))\n",
    "print('랜덤 포레스트 AUC: {0:.4f}'.format(auc))\n",
    "print('랜덤 포레스트 Confusion Matrix:','\\n', matrix)\n",
    "```"
   ]
  },
  {
   "cell_type": "code",
   "execution_count": 24,
   "metadata": {
    "id": "PZmec74nw3wT"
   },
   "outputs": [
    {
     "name": "stdout",
     "output_type": "stream",
     "text": [
      "랜덤 포레스트 정확도: 0.7881\n",
      "랜덤 포레스트 Recall: 0.0000\n",
      "랜덤 포레스트 Precision: 0.0000\n",
      "랜덤 포레스트 AUC: 0.4943\n",
      "랜덤 포레스트 Confusion Matrix: \n",
      " [[517   6]\n",
      " [133   0]]\n"
     ]
    }
   ],
   "source": [
    "from sklearn.ensemble import RandomForestClassifier\n",
    "\n",
    "rf_clf = RandomForestClassifier(n_estimators=100, random_state=0, max_depth=8)\n",
    "rf_clf.fit(X_train , y_train)\n",
    "pred = rf_clf.predict(X_test)\n",
    "\n",
    "accuracy = accuracy_score(y_test , pred)\n",
    "recall = recall_score(y_test, pred)\n",
    "precision = precision_score(y_test, pred)\n",
    "auc = roc_auc_score(y_test, pred)\n",
    "matrix = confusion_matrix(y_test, pred)\n",
    "\n",
    "print('랜덤 포레스트 정확도: {0:.4f}'.format(accuracy))\n",
    "print('랜덤 포레스트 Recall: {0:.4f}'.format(recall))\n",
    "print('랜덤 포레스트 Precision: {0:.4f}'.format(precision))\n",
    "print('랜덤 포레스트 AUC: {0:.4f}'.format(auc))\n",
    "print('랜덤 포레스트 Confusion Matrix:','\\n', matrix)"
   ]
  },
  {
   "cell_type": "markdown",
   "metadata": {
    "id": "MAQzeIzb9GtO"
   },
   "source": [
    "```python\n",
    "ftr_importances_values = rf_clf.feature_importances_\n",
    "ftr_importances = pd.Series(ftr_importances_values,index=X_train.columns)\n",
    "ftr_importances.sort_values(ascending=False)[:20]\n",
    "```"
   ]
  },
  {
   "cell_type": "code",
   "execution_count": 25,
   "metadata": {
    "id": "SkqAAYJhaLqE"
   },
   "outputs": [
    {
     "data": {
      "text/plain": [
       "point_gain                     0.070076\n",
       "tablet_moved_menu_count        0.046554\n",
       "point_gain_count               0.045218\n",
       "total_system_learning_time     0.042270\n",
       "test_correct_count             0.041380\n",
       "test_average_score             0.039051\n",
       "study_restart_count            0.036375\n",
       "video_action_count             0.034002\n",
       "media_count                    0.033986\n",
       "study_completed_count          0.032968\n",
       "total_caliper_learning_time    0.029696\n",
       "test_activeday_count           0.027710\n",
       "wrong_item_count               0.027095\n",
       "point_gain_activeday_count     0.027011\n",
       "test_item_count                0.026982\n",
       "tablet_leave_count             0.026432\n",
       "video_end_count                0.026332\n",
       "video_jump_count               0.026238\n",
       "study_activeday_count          0.025940\n",
       "study_count                    0.024848\n",
       "dtype: float64"
      ]
     },
     "execution_count": 25,
     "metadata": {},
     "output_type": "execute_result"
    }
   ],
   "source": [
    "ftr_importances_values = rf_clf.feature_importances_\n",
    "ftr_importances = pd.Series(ftr_importances_values,index=X_train.columns)\n",
    "ftr_importances.sort_values(ascending=False)[:20]"
   ]
  },
  {
   "cell_type": "markdown",
   "metadata": {
    "id": "Bjw3iGXw9ISe"
   },
   "source": [
    "```python\n",
    "import matplotlib.pyplot as plt\n",
    "import seaborn as sns\n",
    "%matplotlib inline\n",
    "\n",
    "ftr_importances_values = rf_clf.feature_importances_\n",
    "ftr_importances = pd.Series(ftr_importances_values,index=X_train.columns  )\n",
    "ftr_top20 = ftr_importances.sort_values(ascending=False)[:20]\n",
    "\n",
    "plt.figure(figsize=(8,6))\n",
    "plt.title('Feature importances Top 20')\n",
    "sns.barplot(x=ftr_top20 , y = ftr_top20.index)\n",
    "plt.show()\n",
    "```"
   ]
  },
  {
   "cell_type": "code",
   "execution_count": 26,
   "metadata": {
    "id": "zVBI97APw3wU"
   },
   "outputs": [
    {
     "data": {
      "image/png": "[encoded data removed]",
      "text/plain": [
       "<Figure size 800x600 with 1 Axes>"
      ]
     },
     "metadata": {},
     "output_type": "display_data"
    }
   ],
   "source": [
    "import matplotlib.pyplot as plt\n",
    "import seaborn as sns\n",
    "%matplotlib inline\n",
    "\n",
    "ftr_importances_values = rf_clf.feature_importances_\n",
    "ftr_importances = pd.Series(ftr_importances_values,index=X_train.columns  )\n",
    "ftr_top20 = ftr_importances.sort_values(ascending=False)[:20]\n",
    "\n",
    "plt.figure(figsize=(8,6))\n",
    "plt.title('Feature importances Top 20')\n",
    "sns.barplot(x=ftr_top20 , y = ftr_top20.index)\n",
    "plt.show()"
   ]
  },
  {
   "cell_type": "code",
   "execution_count": null,
   "metadata": {
    "id": "ANfRhElTw3wV"
   },
   "outputs": [],
   "source": []
  },
  {
   "cell_type": "markdown",
   "metadata": {
    "id": "zUQawU8B9Xb9"
   },
   "source": [
    "#### 그래디언트 부스팅"
   ]
  },
  {
   "cell_type": "markdown",
   "metadata": {
    "id": "TyCp3_2F9KJD"
   },
   "source": [
    "```python\n",
    "from sklearn.ensemble import GradientBoostingClassifier\n",
    "import time\n",
    "import warnings\n",
    "warnings.filterwarnings('ignore')\n",
    "\n",
    "# GBM 수행 시간 측정을 위함. 시작 시간 설정.\n",
    "start_time = time.time()\n",
    "\n",
    "gb_clf = GradientBoostingClassifier(random_state=0)\n",
    "gb_clf.fit(X_train , y_train)\n",
    "gb_pred = gb_clf.predict(X_test)\n",
    "\n",
    "accuracy = accuracy_score(y_test , gb_pred)\n",
    "recall = recall_score(y_test, gb_pred)\n",
    "precision = precision_score(y_test, gb_pred)\n",
    "auc = roc_auc_score(y_test, gb_pred)\n",
    "matrix = confusion_matrix(y_test, gb_pred)\n",
    "\n",
    "print('GBM 정확도: {0:.4f}'.format(accuracy))\n",
    "print('GBM Recall: {0:.4f}'.format(recall))\n",
    "print('GBM Precision: {0:.4f}'.format(precision))\n",
    "print('GBM AUC: {0:.4f}'.format(auc))\n",
    "print('GBM Confusion Matrix:','\\n', matrix)\n",
    "\n",
    "print(\"GBM 수행 시간: {0:.1f} 초 \".format(time.time() - start_time))\n",
    "```"
   ]
  },
  {
   "cell_type": "code",
   "execution_count": 27,
   "metadata": {
    "id": "eSkng7sIzw6v"
   },
   "outputs": [
    {
     "name": "stdout",
     "output_type": "stream",
     "text": [
      "GBM 정확도: 0.7805\n",
      "GBM Recall: 0.0150\n",
      "GBM Precision: 0.1333\n",
      "GBM AUC: 0.4951\n",
      "GBM Confusion Matrix: \n",
      " [[510  13]\n",
      " [131   2]]\n",
      "GBM 수행 시간: 1.6 초 \n"
     ]
    }
   ],
   "source": [
    "from sklearn.ensemble import GradientBoostingClassifier\n",
    "import time\n",
    "import warnings\n",
    "warnings.filterwarnings('ignore')\n",
    "\n",
    "# GBM 수행 시간 측정을 위함. 시작 시간 설정.\n",
    "start_time = time.time()\n",
    "\n",
    "gb_clf = GradientBoostingClassifier(random_state=0)\n",
    "gb_clf.fit(X_train , y_train)\n",
    "gb_pred = gb_clf.predict(X_test)\n",
    "\n",
    "accuracy = accuracy_score(y_test , gb_pred)\n",
    "recall = recall_score(y_test, gb_pred)\n",
    "precision = precision_score(y_test, gb_pred)\n",
    "auc = roc_auc_score(y_test, gb_pred)\n",
    "matrix = confusion_matrix(y_test, gb_pred)\n",
    "\n",
    "print('GBM 정확도: {0:.4f}'.format(accuracy))\n",
    "print('GBM Recall: {0:.4f}'.format(recall))\n",
    "print('GBM Precision: {0:.4f}'.format(precision))\n",
    "print('GBM AUC: {0:.4f}'.format(auc))\n",
    "print('GBM Confusion Matrix:','\\n', matrix)\n",
    "\n",
    "print(\"GBM 수행 시간: {0:.1f} 초 \".format(time.time() - start_time))"
   ]
  },
  {
   "cell_type": "code",
   "execution_count": null,
   "metadata": {
    "id": "kbiShzy_w3wV"
   },
   "outputs": [],
   "source": []
  },
  {
   "cell_type": "code",
   "execution_count": null,
   "metadata": {
    "id": "OWMnv65bw3wW"
   },
   "outputs": [],
   "source": []
  }
 ],
 "metadata": {
  "colab": {
   "collapsed_sections": [
    "L2w2ojIV9Tvm",
    "C1BopffU9Ve7",
    "zUQawU8B9Xb9"
   ],
   "provenance": []
  },
  "kernelspec": {
   "display_name": "Python 3 (ipykernel)",
   "language": "python",
   "name": "python3"
  },
  "language_info": {
   "codemirror_mode": {
    "name": "ipython",
    "version": 3
   },
   "file_extension": ".py",
   "mimetype": "text/x-python",
   "name": "python",
   "nbconvert_exporter": "python",
   "pygments_lexer": "ipython3",
   "version": "3.10.9"
  }
 },
 "nbformat": 4,
 "nbformat_minor": 1
}
