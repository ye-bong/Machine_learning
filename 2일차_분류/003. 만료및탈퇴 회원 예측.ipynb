{
 "cells": [
  {
   "cell_type": "markdown",
   "metadata": {
    "id": "M6lz8oL2w3wG"
   },
   "source": [
    "### 데이터 전처리"
   ]
  },
  {
   "cell_type": "code",
   "execution_count": 1,
   "metadata": {
    "executionInfo": {
     "elapsed": 4040,
     "status": "ok",
     "timestamp": 1693225817878,
     "user": {
      "displayName": "박나연",
      "userId": "15219795176792784727"
     },
     "user_tz": -540
    },
    "id": "W6PiftzZrvy7"
   },
   "outputs": [],
   "source": [
    "import pandas as pd\n",
    "\n",
    "from sklearn.ensemble import VotingClassifier\n",
    "from sklearn.linear_model import LogisticRegression\n",
    "from sklearn.neighbors import KNeighborsClassifier\n",
    "from sklearn.datasets import load_breast_cancer\n",
    "from sklearn.model_selection import train_test_split\n",
    "from sklearn.metrics import accuracy_score\n",
    "import warnings\n",
    "warnings.filterwarnings('ignore')"
   ]
  },
  {
   "cell_type": "code",
   "execution_count": 1,
   "metadata": {
    "colab": {
     "base_uri": "https://localhost:8080/"
    },
    "executionInfo": {
     "elapsed": 24912,
     "status": "ok",
     "timestamp": 1693225809703,
     "user": {
      "displayName": "박나연",
      "userId": "15219795176792784727"
     },
     "user_tz": -540
    },
    "id": "QiYky7GtykCY",
    "outputId": "857a8bee-1080-46b3-dd0e-739f9770a3da"
   },
   "outputs": [
    {
     "name": "stdout",
     "output_type": "stream",
     "text": [
      "Mounted at /content/drive\n"
     ]
    }
   ],
   "source": [
    "from google.colab import drive\n",
    "drive.mount('/content/drive')"
   ]
  },
  {
   "cell_type": "code",
   "execution_count": 2,
   "metadata": {
    "colab": {
     "base_uri": "https://localhost:8080/"
    },
    "executionInfo": {
     "elapsed": 6,
     "status": "ok",
     "timestamp": 1693225809704,
     "user": {
      "displayName": "박나연",
      "userId": "15219795176792784727"
     },
     "user_tz": -540
    },
    "id": "qVfBtdxYykz7",
    "outputId": "9f764616-ccb2-4f62-c297-9bfd6ade402f"
   },
   "outputs": [
    {
     "name": "stdout",
     "output_type": "stream",
     "text": [
      "/content/drive/MyDrive/강의자료/머신러닝기초/2일차_분류\n"
     ]
    }
   ],
   "source": [
    "%cd /content/drive/MyDrive/강의자료/머신러닝기초/2일차_분류"
   ]
  },
  {
   "cell_type": "markdown",
   "metadata": {
    "id": "imgCcNq47Xgj"
   },
   "source": [
    "```python\n",
    "class0_data = pd.read_csv('./datasets/만료및탈퇴회원.csv', index_col=0)\n",
    "class1_data = pd.read_csv('./datasets/정회원.csv', index_col=0)\n",
    "display(class0_data, class1_data)\n",
    "```"
   ]
  },
  {
   "cell_type": "code",
   "execution_count": 2,
   "metadata": {
    "id": "i1gdSxOqIj_G"
   },
   "outputs": [
    {
     "data": {
      "text/html": [
       "<div>\n",
       "<style scoped>\n",
       "    .dataframe tbody tr th:only-of-type {\n",
       "        vertical-align: middle;\n",
       "    }\n",
       "\n",
       "    .dataframe tbody tr th {\n",
       "        vertical-align: top;\n",
       "    }\n",
       "\n",
       "    .dataframe thead th {\n",
       "        text-align: right;\n",
       "    }\n",
       "</style>\n",
       "<table border=\"1\" class=\"dataframe\">\n",
       "  <thead>\n",
       "    <tr style=\"text-align: right;\">\n",
       "      <th></th>\n",
       "      <th>userid</th>\n",
       "      <th>gender</th>\n",
       "      <th>membertype_codename</th>\n",
       "      <th>grade_codename</th>\n",
       "      <th>memberstatus</th>\n",
       "      <th>memberstatus_codename</th>\n",
       "      <th>memberstatus_change</th>\n",
       "      <th>status_null_count</th>\n",
       "      <th>statusgroup_10_count</th>\n",
       "      <th>statusgroup_20_count</th>\n",
       "      <th>...</th>\n",
       "      <th>test_activeday_count</th>\n",
       "      <th>test_count</th>\n",
       "      <th>test_average_score</th>\n",
       "      <th>test_item_count</th>\n",
       "      <th>test_correct_count</th>\n",
       "      <th>wrong_count</th>\n",
       "      <th>wrong_item_count</th>\n",
       "      <th>wrong_correct_count</th>\n",
       "      <th>yyyy</th>\n",
       "      <th>mm</th>\n",
       "    </tr>\n",
       "  </thead>\n",
       "  <tbody>\n",
       "    <tr>\n",
       "      <th>0</th>\n",
       "      <td>008c6dd3-23f5-47f2-bf12-786243927bd5</td>\n",
       "      <td>F</td>\n",
       "      <td>초등</td>\n",
       "      <td>초6</td>\n",
       "      <td>44</td>\n",
       "      <td>학습생(만료)</td>\n",
       "      <td>44</td>\n",
       "      <td>0</td>\n",
       "      <td>0</td>\n",
       "      <td>0</td>\n",
       "      <td>...</td>\n",
       "      <td>NaN</td>\n",
       "      <td>NaN</td>\n",
       "      <td>NaN</td>\n",
       "      <td>NaN</td>\n",
       "      <td>NaN</td>\n",
       "      <td>NaN</td>\n",
       "      <td>NaN</td>\n",
       "      <td>NaN</td>\n",
       "      <td>2022</td>\n",
       "      <td>9</td>\n",
       "    </tr>\n",
       "    <tr>\n",
       "      <th>1</th>\n",
       "      <td>027a7135-be16-4574-a826-5e4b34eed8a0</td>\n",
       "      <td>M</td>\n",
       "      <td>초등</td>\n",
       "      <td>초6</td>\n",
       "      <td>44</td>\n",
       "      <td>학습생(만료)</td>\n",
       "      <td>44</td>\n",
       "      <td>0</td>\n",
       "      <td>0</td>\n",
       "      <td>0</td>\n",
       "      <td>...</td>\n",
       "      <td>NaN</td>\n",
       "      <td>NaN</td>\n",
       "      <td>NaN</td>\n",
       "      <td>NaN</td>\n",
       "      <td>NaN</td>\n",
       "      <td>NaN</td>\n",
       "      <td>NaN</td>\n",
       "      <td>NaN</td>\n",
       "      <td>2022</td>\n",
       "      <td>9</td>\n",
       "    </tr>\n",
       "    <tr>\n",
       "      <th>2</th>\n",
       "      <td>02e998fc-1b98-485b-87ca-4e1ef40637f3</td>\n",
       "      <td>M</td>\n",
       "      <td>초등</td>\n",
       "      <td>초2</td>\n",
       "      <td>44</td>\n",
       "      <td>학습생(만료)</td>\n",
       "      <td>01,44</td>\n",
       "      <td>0</td>\n",
       "      <td>0</td>\n",
       "      <td>2</td>\n",
       "      <td>...</td>\n",
       "      <td>NaN</td>\n",
       "      <td>NaN</td>\n",
       "      <td>NaN</td>\n",
       "      <td>NaN</td>\n",
       "      <td>NaN</td>\n",
       "      <td>NaN</td>\n",
       "      <td>NaN</td>\n",
       "      <td>NaN</td>\n",
       "      <td>2022</td>\n",
       "      <td>9</td>\n",
       "    </tr>\n",
       "    <tr>\n",
       "      <th>3</th>\n",
       "      <td>0342a5d3-2b88-42ee-ba65-665af2cb48c3</td>\n",
       "      <td>F</td>\n",
       "      <td>초등</td>\n",
       "      <td>초3</td>\n",
       "      <td>44</td>\n",
       "      <td>학습생(만료)</td>\n",
       "      <td>44</td>\n",
       "      <td>0</td>\n",
       "      <td>0</td>\n",
       "      <td>0</td>\n",
       "      <td>...</td>\n",
       "      <td>NaN</td>\n",
       "      <td>NaN</td>\n",
       "      <td>NaN</td>\n",
       "      <td>NaN</td>\n",
       "      <td>NaN</td>\n",
       "      <td>NaN</td>\n",
       "      <td>NaN</td>\n",
       "      <td>NaN</td>\n",
       "      <td>2022</td>\n",
       "      <td>9</td>\n",
       "    </tr>\n",
       "    <tr>\n",
       "      <th>4</th>\n",
       "      <td>03b8bdcb-699f-4632-a2f2-90da954b34ac</td>\n",
       "      <td>M</td>\n",
       "      <td>초등</td>\n",
       "      <td>초5</td>\n",
       "      <td>44</td>\n",
       "      <td>학습생(만료)</td>\n",
       "      <td>-,00,01,44</td>\n",
       "      <td>3</td>\n",
       "      <td>0</td>\n",
       "      <td>15</td>\n",
       "      <td>...</td>\n",
       "      <td>1.0</td>\n",
       "      <td>1.0</td>\n",
       "      <td>100.0</td>\n",
       "      <td>1.0</td>\n",
       "      <td>1.0</td>\n",
       "      <td>NaN</td>\n",
       "      <td>NaN</td>\n",
       "      <td>NaN</td>\n",
       "      <td>2022</td>\n",
       "      <td>9</td>\n",
       "    </tr>\n",
       "    <tr>\n",
       "      <th>...</th>\n",
       "      <td>...</td>\n",
       "      <td>...</td>\n",
       "      <td>...</td>\n",
       "      <td>...</td>\n",
       "      <td>...</td>\n",
       "      <td>...</td>\n",
       "      <td>...</td>\n",
       "      <td>...</td>\n",
       "      <td>...</td>\n",
       "      <td>...</td>\n",
       "      <td>...</td>\n",
       "      <td>...</td>\n",
       "      <td>...</td>\n",
       "      <td>...</td>\n",
       "      <td>...</td>\n",
       "      <td>...</td>\n",
       "      <td>...</td>\n",
       "      <td>...</td>\n",
       "      <td>...</td>\n",
       "      <td>...</td>\n",
       "      <td>...</td>\n",
       "    </tr>\n",
       "    <tr>\n",
       "      <th>111846</th>\n",
       "      <td>fe0e970c-f546-4d32-8d15-a77889d1da78</td>\n",
       "      <td>M</td>\n",
       "      <td>초등</td>\n",
       "      <td>초5</td>\n",
       "      <td>44</td>\n",
       "      <td>학습생(만료)</td>\n",
       "      <td>11,44</td>\n",
       "      <td>0</td>\n",
       "      <td>0</td>\n",
       "      <td>0</td>\n",
       "      <td>...</td>\n",
       "      <td>6.0</td>\n",
       "      <td>10.0</td>\n",
       "      <td>71.0</td>\n",
       "      <td>59.0</td>\n",
       "      <td>46.0</td>\n",
       "      <td>NaN</td>\n",
       "      <td>NaN</td>\n",
       "      <td>NaN</td>\n",
       "      <td>2022</td>\n",
       "      <td>11</td>\n",
       "    </tr>\n",
       "    <tr>\n",
       "      <th>111847</th>\n",
       "      <td>fe10a0fd-b106-47a9-9440-4499e7bc42c7</td>\n",
       "      <td>M</td>\n",
       "      <td>초등</td>\n",
       "      <td>초3</td>\n",
       "      <td>44</td>\n",
       "      <td>학습생(만료)</td>\n",
       "      <td>44</td>\n",
       "      <td>0</td>\n",
       "      <td>0</td>\n",
       "      <td>0</td>\n",
       "      <td>...</td>\n",
       "      <td>NaN</td>\n",
       "      <td>NaN</td>\n",
       "      <td>NaN</td>\n",
       "      <td>NaN</td>\n",
       "      <td>NaN</td>\n",
       "      <td>NaN</td>\n",
       "      <td>NaN</td>\n",
       "      <td>NaN</td>\n",
       "      <td>2022</td>\n",
       "      <td>11</td>\n",
       "    </tr>\n",
       "    <tr>\n",
       "      <th>111848</th>\n",
       "      <td>ff02ec2b-0152-4028-b72f-79a6d78485b6</td>\n",
       "      <td>F</td>\n",
       "      <td>초등</td>\n",
       "      <td>초5</td>\n",
       "      <td>44</td>\n",
       "      <td>학습생(만료)</td>\n",
       "      <td>44</td>\n",
       "      <td>0</td>\n",
       "      <td>0</td>\n",
       "      <td>0</td>\n",
       "      <td>...</td>\n",
       "      <td>NaN</td>\n",
       "      <td>NaN</td>\n",
       "      <td>NaN</td>\n",
       "      <td>NaN</td>\n",
       "      <td>NaN</td>\n",
       "      <td>NaN</td>\n",
       "      <td>NaN</td>\n",
       "      <td>NaN</td>\n",
       "      <td>2022</td>\n",
       "      <td>11</td>\n",
       "    </tr>\n",
       "    <tr>\n",
       "      <th>111849</th>\n",
       "      <td>ff64565a-53f8-4362-8376-32432a231566</td>\n",
       "      <td>F</td>\n",
       "      <td>초등</td>\n",
       "      <td>초4</td>\n",
       "      <td>44</td>\n",
       "      <td>학습생(만료)</td>\n",
       "      <td>44</td>\n",
       "      <td>0</td>\n",
       "      <td>0</td>\n",
       "      <td>0</td>\n",
       "      <td>...</td>\n",
       "      <td>NaN</td>\n",
       "      <td>NaN</td>\n",
       "      <td>NaN</td>\n",
       "      <td>NaN</td>\n",
       "      <td>NaN</td>\n",
       "      <td>NaN</td>\n",
       "      <td>NaN</td>\n",
       "      <td>NaN</td>\n",
       "      <td>2022</td>\n",
       "      <td>11</td>\n",
       "    </tr>\n",
       "    <tr>\n",
       "      <th>111850</th>\n",
       "      <td>ff8221b3-84fd-400c-937a-17ec2a7bd184</td>\n",
       "      <td>M</td>\n",
       "      <td>초등</td>\n",
       "      <td>초6</td>\n",
       "      <td>44</td>\n",
       "      <td>학습생(만료)</td>\n",
       "      <td>44,-</td>\n",
       "      <td>26</td>\n",
       "      <td>0</td>\n",
       "      <td>0</td>\n",
       "      <td>...</td>\n",
       "      <td>NaN</td>\n",
       "      <td>NaN</td>\n",
       "      <td>NaN</td>\n",
       "      <td>NaN</td>\n",
       "      <td>NaN</td>\n",
       "      <td>NaN</td>\n",
       "      <td>NaN</td>\n",
       "      <td>NaN</td>\n",
       "      <td>2022</td>\n",
       "      <td>11</td>\n",
       "    </tr>\n",
       "  </tbody>\n",
       "</table>\n",
       "<p>111851 rows × 54 columns</p>\n",
       "</div>"
      ],
      "text/plain": [
       "                                      userid gender membertype_codename  \\\n",
       "0       008c6dd3-23f5-47f2-bf12-786243927bd5      F                  초등   \n",
       "1       027a7135-be16-4574-a826-5e4b34eed8a0      M                  초등   \n",
       "2       02e998fc-1b98-485b-87ca-4e1ef40637f3      M                  초등   \n",
       "3       0342a5d3-2b88-42ee-ba65-665af2cb48c3      F                  초등   \n",
       "4       03b8bdcb-699f-4632-a2f2-90da954b34ac      M                  초등   \n",
       "...                                      ...    ...                 ...   \n",
       "111846  fe0e970c-f546-4d32-8d15-a77889d1da78      M                  초등   \n",
       "111847  fe10a0fd-b106-47a9-9440-4499e7bc42c7      M                  초등   \n",
       "111848  ff02ec2b-0152-4028-b72f-79a6d78485b6      F                  초등   \n",
       "111849  ff64565a-53f8-4362-8376-32432a231566      F                  초등   \n",
       "111850  ff8221b3-84fd-400c-937a-17ec2a7bd184      M                  초등   \n",
       "\n",
       "       grade_codename  memberstatus memberstatus_codename memberstatus_change  \\\n",
       "0                  초6            44               학습생(만료)                  44   \n",
       "1                  초6            44               학습생(만료)                  44   \n",
       "2                  초2            44               학습생(만료)               01,44   \n",
       "3                  초3            44               학습생(만료)                  44   \n",
       "4                  초5            44               학습생(만료)          -,00,01,44   \n",
       "...               ...           ...                   ...                 ...   \n",
       "111846             초5            44               학습생(만료)               11,44   \n",
       "111847             초3            44               학습생(만료)                  44   \n",
       "111848             초5            44               학습생(만료)                  44   \n",
       "111849             초4            44               학습생(만료)                  44   \n",
       "111850             초6            44               학습생(만료)                44,-   \n",
       "\n",
       "        status_null_count  statusgroup_10_count  statusgroup_20_count  ...  \\\n",
       "0                       0                     0                     0  ...   \n",
       "1                       0                     0                     0  ...   \n",
       "2                       0                     0                     2  ...   \n",
       "3                       0                     0                     0  ...   \n",
       "4                       3                     0                    15  ...   \n",
       "...                   ...                   ...                   ...  ...   \n",
       "111846                  0                     0                     0  ...   \n",
       "111847                  0                     0                     0  ...   \n",
       "111848                  0                     0                     0  ...   \n",
       "111849                  0                     0                     0  ...   \n",
       "111850                 26                     0                     0  ...   \n",
       "\n",
       "        test_activeday_count  test_count  test_average_score  test_item_count  \\\n",
       "0                        NaN         NaN                 NaN              NaN   \n",
       "1                        NaN         NaN                 NaN              NaN   \n",
       "2                        NaN         NaN                 NaN              NaN   \n",
       "3                        NaN         NaN                 NaN              NaN   \n",
       "4                        1.0         1.0               100.0              1.0   \n",
       "...                      ...         ...                 ...              ...   \n",
       "111846                   6.0        10.0                71.0             59.0   \n",
       "111847                   NaN         NaN                 NaN              NaN   \n",
       "111848                   NaN         NaN                 NaN              NaN   \n",
       "111849                   NaN         NaN                 NaN              NaN   \n",
       "111850                   NaN         NaN                 NaN              NaN   \n",
       "\n",
       "        test_correct_count  wrong_count  wrong_item_count  \\\n",
       "0                      NaN          NaN               NaN   \n",
       "1                      NaN          NaN               NaN   \n",
       "2                      NaN          NaN               NaN   \n",
       "3                      NaN          NaN               NaN   \n",
       "4                      1.0          NaN               NaN   \n",
       "...                    ...          ...               ...   \n",
       "111846                46.0          NaN               NaN   \n",
       "111847                 NaN          NaN               NaN   \n",
       "111848                 NaN          NaN               NaN   \n",
       "111849                 NaN          NaN               NaN   \n",
       "111850                 NaN          NaN               NaN   \n",
       "\n",
       "        wrong_correct_count  yyyy  mm  \n",
       "0                       NaN  2022   9  \n",
       "1                       NaN  2022   9  \n",
       "2                       NaN  2022   9  \n",
       "3                       NaN  2022   9  \n",
       "4                       NaN  2022   9  \n",
       "...                     ...   ...  ..  \n",
       "111846                  NaN  2022  11  \n",
       "111847                  NaN  2022  11  \n",
       "111848                  NaN  2022  11  \n",
       "111849                  NaN  2022  11  \n",
       "111850                  NaN  2022  11  \n",
       "\n",
       "[111851 rows x 54 columns]"
      ]
     },
     "metadata": {},
     "output_type": "display_data"
    },
    {
     "data": {
      "text/html": [
       "<div>\n",
       "<style scoped>\n",
       "    .dataframe tbody tr th:only-of-type {\n",
       "        vertical-align: middle;\n",
       "    }\n",
       "\n",
       "    .dataframe tbody tr th {\n",
       "        vertical-align: top;\n",
       "    }\n",
       "\n",
       "    .dataframe thead th {\n",
       "        text-align: right;\n",
       "    }\n",
       "</style>\n",
       "<table border=\"1\" class=\"dataframe\">\n",
       "  <thead>\n",
       "    <tr style=\"text-align: right;\">\n",
       "      <th></th>\n",
       "      <th>userid</th>\n",
       "      <th>gender</th>\n",
       "      <th>membertype_codename</th>\n",
       "      <th>grade_codename</th>\n",
       "      <th>memberstatus</th>\n",
       "      <th>memberstatus_codename</th>\n",
       "      <th>memberstatus_change</th>\n",
       "      <th>status_null_count</th>\n",
       "      <th>statusgroup_10_count</th>\n",
       "      <th>statusgroup_20_count</th>\n",
       "      <th>...</th>\n",
       "      <th>test_activeday_count</th>\n",
       "      <th>test_count</th>\n",
       "      <th>test_average_score</th>\n",
       "      <th>test_item_count</th>\n",
       "      <th>test_correct_count</th>\n",
       "      <th>wrong_count</th>\n",
       "      <th>wrong_item_count</th>\n",
       "      <th>wrong_correct_count</th>\n",
       "      <th>yyyy</th>\n",
       "      <th>mm</th>\n",
       "    </tr>\n",
       "  </thead>\n",
       "  <tbody>\n",
       "    <tr>\n",
       "      <th>0</th>\n",
       "      <td>00030bf4-20ae-4b1d-a9e1-f9f8c6511cbd</td>\n",
       "      <td>M</td>\n",
       "      <td>초등</td>\n",
       "      <td>초2</td>\n",
       "      <td>11</td>\n",
       "      <td>학습생(정)</td>\n",
       "      <td>11,-,11,-,11,-,11,-,11,-,11</td>\n",
       "      <td>12</td>\n",
       "      <td>0</td>\n",
       "      <td>0</td>\n",
       "      <td>...</td>\n",
       "      <td>16.0</td>\n",
       "      <td>25.0</td>\n",
       "      <td>72.60</td>\n",
       "      <td>137.0</td>\n",
       "      <td>102.0</td>\n",
       "      <td>7.0</td>\n",
       "      <td>9.0</td>\n",
       "      <td>9.0</td>\n",
       "      <td>2022</td>\n",
       "      <td>5</td>\n",
       "    </tr>\n",
       "    <tr>\n",
       "      <th>1</th>\n",
       "      <td>000864c3-209f-48c5-9fe8-fbb78f0a34f2</td>\n",
       "      <td>M</td>\n",
       "      <td>초등</td>\n",
       "      <td>초3</td>\n",
       "      <td>11</td>\n",
       "      <td>학습생(정)</td>\n",
       "      <td>11,-,11,-,11,-,11,-,11,-,11,-</td>\n",
       "      <td>22</td>\n",
       "      <td>0</td>\n",
       "      <td>0</td>\n",
       "      <td>...</td>\n",
       "      <td>7.0</td>\n",
       "      <td>17.0</td>\n",
       "      <td>78.12</td>\n",
       "      <td>117.0</td>\n",
       "      <td>92.0</td>\n",
       "      <td>NaN</td>\n",
       "      <td>NaN</td>\n",
       "      <td>NaN</td>\n",
       "      <td>2022</td>\n",
       "      <td>5</td>\n",
       "    </tr>\n",
       "    <tr>\n",
       "      <th>2</th>\n",
       "      <td>00162b6a-6d94-4d74-a612-8e4da80a231d</td>\n",
       "      <td>M</td>\n",
       "      <td>초등</td>\n",
       "      <td>초6</td>\n",
       "      <td>11</td>\n",
       "      <td>학습생(정)</td>\n",
       "      <td>-,11,-,11,-,11,-,11,-,11,-,11,-,11</td>\n",
       "      <td>22</td>\n",
       "      <td>0</td>\n",
       "      <td>0</td>\n",
       "      <td>...</td>\n",
       "      <td>6.0</td>\n",
       "      <td>10.0</td>\n",
       "      <td>51.30</td>\n",
       "      <td>78.0</td>\n",
       "      <td>37.0</td>\n",
       "      <td>2.0</td>\n",
       "      <td>17.0</td>\n",
       "      <td>17.0</td>\n",
       "      <td>2022</td>\n",
       "      <td>5</td>\n",
       "    </tr>\n",
       "    <tr>\n",
       "      <th>3</th>\n",
       "      <td>0022ec3b-7297-4bf0-a49c-406fec1b4278</td>\n",
       "      <td>M</td>\n",
       "      <td>초등</td>\n",
       "      <td>초2</td>\n",
       "      <td>11</td>\n",
       "      <td>학습생(정)</td>\n",
       "      <td>-,11,-,11,-,11</td>\n",
       "      <td>3</td>\n",
       "      <td>0</td>\n",
       "      <td>0</td>\n",
       "      <td>...</td>\n",
       "      <td>21.0</td>\n",
       "      <td>39.0</td>\n",
       "      <td>69.03</td>\n",
       "      <td>222.0</td>\n",
       "      <td>148.0</td>\n",
       "      <td>25.0</td>\n",
       "      <td>36.0</td>\n",
       "      <td>36.0</td>\n",
       "      <td>2022</td>\n",
       "      <td>5</td>\n",
       "    </tr>\n",
       "    <tr>\n",
       "      <th>4</th>\n",
       "      <td>002547f0-fc48-49c9-b8d8-66887209e61f</td>\n",
       "      <td>M</td>\n",
       "      <td>초등</td>\n",
       "      <td>초4</td>\n",
       "      <td>11</td>\n",
       "      <td>학습생(정)</td>\n",
       "      <td>-,11,-,11,-,11,-,11,-,11</td>\n",
       "      <td>8</td>\n",
       "      <td>0</td>\n",
       "      <td>0</td>\n",
       "      <td>...</td>\n",
       "      <td>22.0</td>\n",
       "      <td>58.0</td>\n",
       "      <td>72.67</td>\n",
       "      <td>410.0</td>\n",
       "      <td>309.0</td>\n",
       "      <td>31.0</td>\n",
       "      <td>48.0</td>\n",
       "      <td>48.0</td>\n",
       "      <td>2022</td>\n",
       "      <td>5</td>\n",
       "    </tr>\n",
       "    <tr>\n",
       "      <th>...</th>\n",
       "      <td>...</td>\n",
       "      <td>...</td>\n",
       "      <td>...</td>\n",
       "      <td>...</td>\n",
       "      <td>...</td>\n",
       "      <td>...</td>\n",
       "      <td>...</td>\n",
       "      <td>...</td>\n",
       "      <td>...</td>\n",
       "      <td>...</td>\n",
       "      <td>...</td>\n",
       "      <td>...</td>\n",
       "      <td>...</td>\n",
       "      <td>...</td>\n",
       "      <td>...</td>\n",
       "      <td>...</td>\n",
       "      <td>...</td>\n",
       "      <td>...</td>\n",
       "      <td>...</td>\n",
       "      <td>...</td>\n",
       "      <td>...</td>\n",
       "    </tr>\n",
       "    <tr>\n",
       "      <th>99995</th>\n",
       "      <td>897aecf4-f213-48d3-9ee9-bbf7a3015313</td>\n",
       "      <td>F</td>\n",
       "      <td>초등</td>\n",
       "      <td>초3</td>\n",
       "      <td>11</td>\n",
       "      <td>학습생(정)</td>\n",
       "      <td>11</td>\n",
       "      <td>0</td>\n",
       "      <td>0</td>\n",
       "      <td>0</td>\n",
       "      <td>...</td>\n",
       "      <td>9.0</td>\n",
       "      <td>24.0</td>\n",
       "      <td>74.08</td>\n",
       "      <td>173.0</td>\n",
       "      <td>133.0</td>\n",
       "      <td>NaN</td>\n",
       "      <td>NaN</td>\n",
       "      <td>NaN</td>\n",
       "      <td>2022</td>\n",
       "      <td>9</td>\n",
       "    </tr>\n",
       "    <tr>\n",
       "      <th>99996</th>\n",
       "      <td>89949613-340b-4d8d-9a16-450d35f95e25</td>\n",
       "      <td>F</td>\n",
       "      <td>초등</td>\n",
       "      <td>초3</td>\n",
       "      <td>11</td>\n",
       "      <td>학습생(정)</td>\n",
       "      <td>11</td>\n",
       "      <td>0</td>\n",
       "      <td>0</td>\n",
       "      <td>0</td>\n",
       "      <td>...</td>\n",
       "      <td>16.0</td>\n",
       "      <td>52.0</td>\n",
       "      <td>66.69</td>\n",
       "      <td>301.0</td>\n",
       "      <td>227.0</td>\n",
       "      <td>NaN</td>\n",
       "      <td>NaN</td>\n",
       "      <td>NaN</td>\n",
       "      <td>2022</td>\n",
       "      <td>9</td>\n",
       "    </tr>\n",
       "    <tr>\n",
       "      <th>99997</th>\n",
       "      <td>899b9567-69b2-484c-87a8-368bb31ed469</td>\n",
       "      <td>M</td>\n",
       "      <td>초등</td>\n",
       "      <td>초1</td>\n",
       "      <td>11</td>\n",
       "      <td>학습생(정)</td>\n",
       "      <td>11</td>\n",
       "      <td>0</td>\n",
       "      <td>0</td>\n",
       "      <td>0</td>\n",
       "      <td>...</td>\n",
       "      <td>24.0</td>\n",
       "      <td>54.0</td>\n",
       "      <td>83.78</td>\n",
       "      <td>307.0</td>\n",
       "      <td>254.0</td>\n",
       "      <td>NaN</td>\n",
       "      <td>NaN</td>\n",
       "      <td>NaN</td>\n",
       "      <td>2022</td>\n",
       "      <td>9</td>\n",
       "    </tr>\n",
       "    <tr>\n",
       "      <th>99998</th>\n",
       "      <td>89bb2f78-b0da-4cfa-9e8c-793656ad2c63</td>\n",
       "      <td>M</td>\n",
       "      <td>초등</td>\n",
       "      <td>초5</td>\n",
       "      <td>11</td>\n",
       "      <td>학습생(정)</td>\n",
       "      <td>11</td>\n",
       "      <td>0</td>\n",
       "      <td>0</td>\n",
       "      <td>0</td>\n",
       "      <td>...</td>\n",
       "      <td>21.0</td>\n",
       "      <td>37.0</td>\n",
       "      <td>82.84</td>\n",
       "      <td>243.0</td>\n",
       "      <td>209.0</td>\n",
       "      <td>18.0</td>\n",
       "      <td>21.0</td>\n",
       "      <td>21.0</td>\n",
       "      <td>2022</td>\n",
       "      <td>9</td>\n",
       "    </tr>\n",
       "    <tr>\n",
       "      <th>99999</th>\n",
       "      <td>89c41bcf-28e5-4fd8-a475-96ffb2256391</td>\n",
       "      <td>F</td>\n",
       "      <td>초등</td>\n",
       "      <td>초2</td>\n",
       "      <td>11</td>\n",
       "      <td>학습생(정)</td>\n",
       "      <td>11</td>\n",
       "      <td>0</td>\n",
       "      <td>0</td>\n",
       "      <td>0</td>\n",
       "      <td>...</td>\n",
       "      <td>24.0</td>\n",
       "      <td>85.0</td>\n",
       "      <td>81.32</td>\n",
       "      <td>381.0</td>\n",
       "      <td>303.0</td>\n",
       "      <td>24.0</td>\n",
       "      <td>39.0</td>\n",
       "      <td>39.0</td>\n",
       "      <td>2022</td>\n",
       "      <td>9</td>\n",
       "    </tr>\n",
       "  </tbody>\n",
       "</table>\n",
       "<p>100000 rows × 54 columns</p>\n",
       "</div>"
      ],
      "text/plain": [
       "                                     userid gender membertype_codename  \\\n",
       "0      00030bf4-20ae-4b1d-a9e1-f9f8c6511cbd      M                  초등   \n",
       "1      000864c3-209f-48c5-9fe8-fbb78f0a34f2      M                  초등   \n",
       "2      00162b6a-6d94-4d74-a612-8e4da80a231d      M                  초등   \n",
       "3      0022ec3b-7297-4bf0-a49c-406fec1b4278      M                  초등   \n",
       "4      002547f0-fc48-49c9-b8d8-66887209e61f      M                  초등   \n",
       "...                                     ...    ...                 ...   \n",
       "99995  897aecf4-f213-48d3-9ee9-bbf7a3015313      F                  초등   \n",
       "99996  89949613-340b-4d8d-9a16-450d35f95e25      F                  초등   \n",
       "99997  899b9567-69b2-484c-87a8-368bb31ed469      M                  초등   \n",
       "99998  89bb2f78-b0da-4cfa-9e8c-793656ad2c63      M                  초등   \n",
       "99999  89c41bcf-28e5-4fd8-a475-96ffb2256391      F                  초등   \n",
       "\n",
       "      grade_codename  memberstatus memberstatus_codename  \\\n",
       "0                 초2            11                학습생(정)   \n",
       "1                 초3            11                학습생(정)   \n",
       "2                 초6            11                학습생(정)   \n",
       "3                 초2            11                학습생(정)   \n",
       "4                 초4            11                학습생(정)   \n",
       "...              ...           ...                   ...   \n",
       "99995             초3            11                학습생(정)   \n",
       "99996             초3            11                학습생(정)   \n",
       "99997             초1            11                학습생(정)   \n",
       "99998             초5            11                학습생(정)   \n",
       "99999             초2            11                학습생(정)   \n",
       "\n",
       "                      memberstatus_change  status_null_count  \\\n",
       "0             11,-,11,-,11,-,11,-,11,-,11                 12   \n",
       "1           11,-,11,-,11,-,11,-,11,-,11,-                 22   \n",
       "2      -,11,-,11,-,11,-,11,-,11,-,11,-,11                 22   \n",
       "3                          -,11,-,11,-,11                  3   \n",
       "4                -,11,-,11,-,11,-,11,-,11                  8   \n",
       "...                                   ...                ...   \n",
       "99995                                  11                  0   \n",
       "99996                                  11                  0   \n",
       "99997                                  11                  0   \n",
       "99998                                  11                  0   \n",
       "99999                                  11                  0   \n",
       "\n",
       "       statusgroup_10_count  statusgroup_20_count  ...  test_activeday_count  \\\n",
       "0                         0                     0  ...                  16.0   \n",
       "1                         0                     0  ...                   7.0   \n",
       "2                         0                     0  ...                   6.0   \n",
       "3                         0                     0  ...                  21.0   \n",
       "4                         0                     0  ...                  22.0   \n",
       "...                     ...                   ...  ...                   ...   \n",
       "99995                     0                     0  ...                   9.0   \n",
       "99996                     0                     0  ...                  16.0   \n",
       "99997                     0                     0  ...                  24.0   \n",
       "99998                     0                     0  ...                  21.0   \n",
       "99999                     0                     0  ...                  24.0   \n",
       "\n",
       "       test_count  test_average_score  test_item_count  test_correct_count  \\\n",
       "0            25.0               72.60            137.0               102.0   \n",
       "1            17.0               78.12            117.0                92.0   \n",
       "2            10.0               51.30             78.0                37.0   \n",
       "3            39.0               69.03            222.0               148.0   \n",
       "4            58.0               72.67            410.0               309.0   \n",
       "...           ...                 ...              ...                 ...   \n",
       "99995        24.0               74.08            173.0               133.0   \n",
       "99996        52.0               66.69            301.0               227.0   \n",
       "99997        54.0               83.78            307.0               254.0   \n",
       "99998        37.0               82.84            243.0               209.0   \n",
       "99999        85.0               81.32            381.0               303.0   \n",
       "\n",
       "       wrong_count  wrong_item_count  wrong_correct_count  yyyy  mm  \n",
       "0              7.0               9.0                  9.0  2022   5  \n",
       "1              NaN               NaN                  NaN  2022   5  \n",
       "2              2.0              17.0                 17.0  2022   5  \n",
       "3             25.0              36.0                 36.0  2022   5  \n",
       "4             31.0              48.0                 48.0  2022   5  \n",
       "...            ...               ...                  ...   ...  ..  \n",
       "99995          NaN               NaN                  NaN  2022   9  \n",
       "99996          NaN               NaN                  NaN  2022   9  \n",
       "99997          NaN               NaN                  NaN  2022   9  \n",
       "99998         18.0              21.0                 21.0  2022   9  \n",
       "99999         24.0              39.0                 39.0  2022   9  \n",
       "\n",
       "[100000 rows x 54 columns]"
      ]
     },
     "metadata": {},
     "output_type": "display_data"
    }
   ],
   "source": [
    "class0_data = pd.read_csv('./datasets/datasets/만료및탈퇴회원.csv', index_col=0)\n",
    "class1_data = pd.read_csv('./datasets/datasets/정회원.csv', index_col=0)\n",
    "display(class0_data, class1_data)"
   ]
  },
  {
   "cell_type": "markdown",
   "metadata": {
    "id": "l9bzlecD7ZUk"
   },
   "source": [
    "```python\n",
    "## 당월 학습 중 탈퇴한 회원만 분석 포함\n",
    "## 당초부터 탈퇴중이었던 회원 제외\n",
    "class0_data = class0_data[(class0_data['memberstatus_change'] == '44') |\n",
    "                          (class0_data['memberstatus_change'] == '88') |\n",
    "                          (class0_data['memberstatus_change'] == '66')]\n",
    "```"
   ]
  },
  {
   "cell_type": "code",
   "execution_count": 5,
   "metadata": {},
   "outputs": [
    {
     "data": {
      "text/html": [
       "<div>\n",
       "<style scoped>\n",
       "    .dataframe tbody tr th:only-of-type {\n",
       "        vertical-align: middle;\n",
       "    }\n",
       "\n",
       "    .dataframe tbody tr th {\n",
       "        vertical-align: top;\n",
       "    }\n",
       "\n",
       "    .dataframe thead th {\n",
       "        text-align: right;\n",
       "    }\n",
       "</style>\n",
       "<table border=\"1\" class=\"dataframe\">\n",
       "  <thead>\n",
       "    <tr style=\"text-align: right;\">\n",
       "      <th></th>\n",
       "      <th>memberstatus</th>\n",
       "      <th>memberstatus_codename</th>\n",
       "    </tr>\n",
       "  </thead>\n",
       "  <tbody>\n",
       "    <tr>\n",
       "      <th>0</th>\n",
       "      <td>44</td>\n",
       "      <td>학습생(만료)</td>\n",
       "    </tr>\n",
       "    <tr>\n",
       "      <th>61</th>\n",
       "      <td>66</td>\n",
       "      <td>학습생(미납_중지)</td>\n",
       "    </tr>\n",
       "    <tr>\n",
       "      <th>66</th>\n",
       "      <td>88</td>\n",
       "      <td>학습생(탈퇴)</td>\n",
       "    </tr>\n",
       "  </tbody>\n",
       "</table>\n",
       "</div>"
      ],
      "text/plain": [
       "    memberstatus memberstatus_codename\n",
       "0             44               학습생(만료)\n",
       "61            66            학습생(미납_중지)\n",
       "66            88               학습생(탈퇴)"
      ]
     },
     "execution_count": 5,
     "metadata": {},
     "output_type": "execute_result"
    }
   ],
   "source": [
    "class0_data[['memberstatus','memberstatus_codename']].drop_duplicates()"
   ]
  },
  {
   "cell_type": "code",
   "execution_count": 6,
   "metadata": {
    "id": "5TPqebYJw3wL"
   },
   "outputs": [
    {
     "data": {
      "text/html": [
       "<div>\n",
       "<style scoped>\n",
       "    .dataframe tbody tr th:only-of-type {\n",
       "        vertical-align: middle;\n",
       "    }\n",
       "\n",
       "    .dataframe tbody tr th {\n",
       "        vertical-align: top;\n",
       "    }\n",
       "\n",
       "    .dataframe thead th {\n",
       "        text-align: right;\n",
       "    }\n",
       "</style>\n",
       "<table border=\"1\" class=\"dataframe\">\n",
       "  <thead>\n",
       "    <tr style=\"text-align: right;\">\n",
       "      <th></th>\n",
       "      <th>memberstatus</th>\n",
       "      <th>memberstatus_codename</th>\n",
       "    </tr>\n",
       "  </thead>\n",
       "  <tbody>\n",
       "    <tr>\n",
       "      <th>0</th>\n",
       "      <td>11</td>\n",
       "      <td>학습생(정)</td>\n",
       "    </tr>\n",
       "  </tbody>\n",
       "</table>\n",
       "</div>"
      ],
      "text/plain": [
       "   memberstatus memberstatus_codename\n",
       "0            11                학습생(정)"
      ]
     },
     "execution_count": 6,
     "metadata": {},
     "output_type": "execute_result"
    }
   ],
   "source": [
    "class1_data[['memberstatus','memberstatus_codename']].drop_duplicates()"
   ]
  },
  {
   "cell_type": "code",
   "execution_count": 7,
   "metadata": {
    "id": "EVGDQDqyu92c"
   },
   "outputs": [],
   "source": [
    "class0_data = class0_data[(class0_data['memberstatus_change'] == '44') |\n",
    "                          (class0_data['memberstatus_change'] == '88') |\n",
    "                          (class0_data['memberstatus_change'] == '66')]\n",
    "\n",
    "# 현재 달 도중에 탈퇴(만료)한 학생만 포함"
   ]
  },
  {
   "cell_type": "markdown",
   "metadata": {
    "id": "mNjk-luo7fM-"
   },
   "source": [
    "```python\n",
    "dataset = pd.concat([class0_data, class1_data])\n",
    "```"
   ]
  },
  {
   "cell_type": "markdown",
   "metadata": {},
   "source": [
    "class0: 탈퇴, 만료 회원\n",
    "class1: 정회원"
   ]
  },
  {
   "cell_type": "code",
   "execution_count": 8,
   "metadata": {},
   "outputs": [],
   "source": [
    "dataset = pd.concat([class0_data, class1_data])"
   ]
  },
  {
   "cell_type": "markdown",
   "metadata": {
    "id": "rqJNoIKO7hpw"
   },
   "source": [
    "```python\n",
    "dataset['memberstatus_codename'].value_counts()\n",
    "```"
   ]
  },
  {
   "cell_type": "code",
   "execution_count": 9,
   "metadata": {
    "id": "Nh-VX1Sjw3wP"
   },
   "outputs": [
    {
     "data": {
      "text/plain": [
       "학습생(만료)       109892\n",
       "학습생(정)        100000\n",
       "학습생(미납_중지)      1067\n",
       "학습생(탈퇴)          892\n",
       "Name: memberstatus_codename, dtype: int64"
      ]
     },
     "execution_count": 9,
     "metadata": {},
     "output_type": "execute_result"
    }
   ],
   "source": [
    "dataset['memberstatus_codename'].value_counts()"
   ]
  },
  {
   "cell_type": "markdown",
   "metadata": {
    "id": "HwoFPizV7kwZ"
   },
   "source": [
    "```python\n",
    "# 만료, 탈퇴, 미납 회원을 0 나머지를 1로 타겟하기\n",
    "dataset['target'] = dataset['memberstatus_codename'].apply(lambda x : 0 if x in ['학습생(만료)', '학습생(탈퇴)', '학습생(미납_중지)'] else 1 )\n",
    "```"
   ]
  },
  {
   "cell_type": "code",
   "execution_count": 10,
   "metadata": {
    "id": "tMI0sXNAw3wQ"
   },
   "outputs": [],
   "source": [
    "dataset['target'] = dataset['memberstatus_codename'].apply(lambda x : 0 if x in ['학습생(만료)', '학습생(탈퇴)', '학습생(미납_중지)'] else 1 )"
   ]
  },
  {
   "cell_type": "code",
   "execution_count": 11,
   "metadata": {},
   "outputs": [
    {
     "data": {
      "text/html": [
       "<div>\n",
       "<style scoped>\n",
       "    .dataframe tbody tr th:only-of-type {\n",
       "        vertical-align: middle;\n",
       "    }\n",
       "\n",
       "    .dataframe tbody tr th {\n",
       "        vertical-align: top;\n",
       "    }\n",
       "\n",
       "    .dataframe thead th {\n",
       "        text-align: right;\n",
       "    }\n",
       "</style>\n",
       "<table border=\"1\" class=\"dataframe\">\n",
       "  <thead>\n",
       "    <tr style=\"text-align: right;\">\n",
       "      <th></th>\n",
       "      <th>target</th>\n",
       "      <th>memberstatus_codename</th>\n",
       "    </tr>\n",
       "  </thead>\n",
       "  <tbody>\n",
       "    <tr>\n",
       "      <th>0</th>\n",
       "      <td>0</td>\n",
       "      <td>학습생(만료)</td>\n",
       "    </tr>\n",
       "    <tr>\n",
       "      <th>61</th>\n",
       "      <td>0</td>\n",
       "      <td>학습생(미납_중지)</td>\n",
       "    </tr>\n",
       "    <tr>\n",
       "      <th>66</th>\n",
       "      <td>0</td>\n",
       "      <td>학습생(탈퇴)</td>\n",
       "    </tr>\n",
       "    <tr>\n",
       "      <th>0</th>\n",
       "      <td>1</td>\n",
       "      <td>학습생(정)</td>\n",
       "    </tr>\n",
       "  </tbody>\n",
       "</table>\n",
       "</div>"
      ],
      "text/plain": [
       "    target memberstatus_codename\n",
       "0        0               학습생(만료)\n",
       "61       0            학습생(미납_중지)\n",
       "66       0               학습생(탈퇴)\n",
       "0        1                학습생(정)"
      ]
     },
     "execution_count": 11,
     "metadata": {},
     "output_type": "execute_result"
    }
   ],
   "source": [
    "dataset[['target','memberstatus_codename']].drop_duplicates()"
   ]
  },
  {
   "cell_type": "markdown",
   "metadata": {
    "id": "Lc1a5vvH7rfS"
   },
   "source": [
    "```python\n",
    "# 사용하고자 하는 피쳐(Feature)의 널값이 있다면 삭제하기\n",
    "dataset = dataset.dropna(subset = ['point_gain_activeday_count', 'point_gain_count', 'point_gain',\n",
    "             'point_loss_activeday_count', 'point_loss_count', 'point_loss',\n",
    "             'tablet_activeday_count', 'tablet_moved_menu_count', 'tablet_leave_count', 'tablet_resume_count',\n",
    "             'tablet_login_count', 'tablet_logout_count', 'study_activeday_count', 'study_count',\n",
    "             'study_notcompleted_count', 'study_completed_count',\n",
    "             'study_restart_count', 'total_system_learning_time', 'total_caliper_learning_time',\n",
    "             'media_activeday_count', 'media_count',\n",
    "             'video_action_count', 'video_start_count', 'video_restart_count',\n",
    "             'video_pause_count', 'video_jump_count', 'video_resume_count',\n",
    "             'video_speed_count', 'video_volume_count', 'video_end_count',\n",
    "             'test_activeday_count', 'test_count', 'test_average_score',\n",
    "             'test_item_count', 'test_correct_count', 'wrong_count',\n",
    "             'wrong_item_count', 'wrong_correct_count'\n",
    "             ])\n",
    "```"
   ]
  },
  {
   "cell_type": "code",
   "execution_count": 12,
   "metadata": {
    "id": "WOP1kf9Jw3wQ"
   },
   "outputs": [],
   "source": [
    "dataset = dataset.dropna(subset = ['point_gain_activeday_count', 'point_gain_count', 'point_gain',\n",
    "             'point_loss_activeday_count', 'point_loss_count', 'point_loss',\n",
    "             'tablet_activeday_count', 'tablet_moved_menu_count', 'tablet_leave_count', 'tablet_resume_count',\n",
    "             'tablet_login_count', 'tablet_logout_count', 'study_activeday_count', 'study_count',\n",
    "             'study_notcompleted_count', 'study_completed_count',\n",
    "             'study_restart_count', 'total_system_learning_time', 'total_caliper_learning_time',\n",
    "             'media_activeday_count', 'media_count',\n",
    "             'video_action_count', 'video_start_count', 'video_restart_count',\n",
    "             'video_pause_count', 'video_jump_count', 'video_resume_count',\n",
    "             'video_speed_count', 'video_volume_count', 'video_end_count',\n",
    "             'test_activeday_count', 'test_count', 'test_average_score',\n",
    "             'test_item_count', 'test_correct_count', 'wrong_count',\n",
    "             'wrong_item_count', 'wrong_correct_count'\n",
    "             ])"
   ]
  },
  {
   "cell_type": "markdown",
   "metadata": {
    "id": "_ZbTv34570Zp"
   },
   "source": [
    "```python\n",
    "X = dataset[['point_gain_activeday_count', 'point_gain_count', 'point_gain',\n",
    "             'point_loss_activeday_count', 'point_loss_count', 'point_loss',\n",
    "             'tablet_activeday_count', 'tablet_moved_menu_count', 'tablet_leave_count', 'tablet_resume_count',\n",
    "             'tablet_login_count', 'tablet_logout_count', 'study_activeday_count', 'study_count',\n",
    "             'study_notcompleted_count', 'study_completed_count',\n",
    "             'study_restart_count', 'total_system_learning_time', 'total_caliper_learning_time',\n",
    "             'media_activeday_count', 'media_count',\n",
    "             'video_action_count', 'video_start_count', 'video_restart_count',\n",
    "             'video_pause_count', 'video_jump_count', 'video_resume_count',\n",
    "             'video_speed_count', 'video_volume_count', 'video_end_count',\n",
    "             'test_activeday_count', 'test_count', 'test_average_score',\n",
    "             'test_item_count', 'test_correct_count', 'wrong_count',\n",
    "             'wrong_item_count', 'wrong_correct_count'\n",
    "             ]]\n",
    "```"
   ]
  },
  {
   "cell_type": "code",
   "execution_count": 13,
   "metadata": {
    "id": "cUyyHVudwSyM"
   },
   "outputs": [],
   "source": [
    "X = dataset[['point_gain_activeday_count', 'point_gain_count', 'point_gain',\n",
    "             'point_loss_activeday_count', 'point_loss_count', 'point_loss',\n",
    "             'tablet_activeday_count', 'tablet_moved_menu_count', 'tablet_leave_count', 'tablet_resume_count',\n",
    "             'tablet_login_count', 'tablet_logout_count', 'study_activeday_count', 'study_count',\n",
    "             'study_notcompleted_count', 'study_completed_count',\n",
    "             'study_restart_count', 'total_system_learning_time', 'total_caliper_learning_time',\n",
    "             'media_activeday_count', 'media_count',\n",
    "             'video_action_count', 'video_start_count', 'video_restart_count',\n",
    "             'video_pause_count', 'video_jump_count', 'video_resume_count',\n",
    "             'video_speed_count', 'video_volume_count', 'video_end_count',\n",
    "             'test_activeday_count', 'test_count', 'test_average_score',\n",
    "             'test_item_count', 'test_correct_count', 'wrong_count',\n",
    "             'wrong_item_count', 'wrong_correct_count'\n",
    "             ]]"
   ]
  },
  {
   "cell_type": "markdown",
   "metadata": {
    "id": "RuI6ze2J75tu"
   },
   "source": [
    "```python\n",
    "Y = dataset['target']\n",
    "```"
   ]
  },
  {
   "cell_type": "code",
   "execution_count": 18,
   "metadata": {
    "id": "uBG2Vutf78t7"
   },
   "outputs": [
    {
     "data": {
      "text/plain": [
       "24       0\n",
       "29       0\n",
       "46       0\n",
       "57       0\n",
       "89       0\n",
       "        ..\n",
       "99992    1\n",
       "99993    1\n",
       "99994    1\n",
       "99998    1\n",
       "99999    1\n",
       "Name: target, Length: 71476, dtype: int64"
      ]
     },
     "execution_count": 18,
     "metadata": {},
     "output_type": "execute_result"
    }
   ],
   "source": [
    "Y = dataset['target']\n",
    "Y"
   ]
  },
  {
   "cell_type": "markdown",
   "metadata": {
    "id": "Z-LFZLzkVIxc"
   },
   "source": [
    "```python\n",
    "X_train, X_test, y_train, y_test = train_test_split(X, Y,\n",
    "                                                    test_size=0.2 , random_state= 156)\n",
    "```"
   ]
  },
  {
   "cell_type": "code",
   "execution_count": 15,
   "metadata": {
    "id": "szvkrqd5wh3P"
   },
   "outputs": [],
   "source": [
    "X_train, X_test, y_train, y_test = train_test_split(X, Y,\n",
    "                                                    test_size=0.2 , random_state= 156)"
   ]
  },
  {
   "cell_type": "code",
   "execution_count": null,
   "metadata": {
    "id": "yU22OmLdVLm1"
   },
   "outputs": [],
   "source": []
  },
  {
   "cell_type": "markdown",
   "metadata": {
    "id": "qNau3TfKxM5_"
   },
   "source": [
    "### 모델 적용"
   ]
  },
  {
   "cell_type": "markdown",
   "metadata": {
    "id": "MN8_T12G8Pvu"
   },
   "source": [
    "#### Bagging(배깅)"
   ]
  },
  {
   "cell_type": "markdown",
   "metadata": {
    "id": "XgCa7ngCX4BO"
   },
   "source": [
    "```python\n",
    "from sklearn.ensemble import BaggingClassifier\n",
    "from sklearn.metrics import accuracy_score, recall_score, precision_score, roc_auc_score, confusion_matrix\n",
    "lr_clf = LogisticRegression(solver='liblinear')\n",
    "\n",
    "bagging_clf = BaggingClassifier(base_estimator=lr_clf)\n",
    "\n",
    "# BaggingClassifier 학습/예측.\n",
    "bagging_clf.fit(X_train , y_train)\n",
    "pred = bagging_clf.predict(X_test)\n",
    "```"
   ]
  },
  {
   "cell_type": "code",
   "execution_count": 16,
   "metadata": {
    "id": "LItXZkCfw587"
   },
   "outputs": [],
   "source": [
    "from sklearn.ensemble import BaggingClassifier\n",
    "from sklearn.metrics import accuracy_score, recall_score, precision_score, roc_auc_score, confusion_matrix\n",
    "lr_clf = LogisticRegression(solver='liblinear')\n",
    "\n",
    "bagging_clf = BaggingClassifier(base_estimator=lr_clf)\n",
    "\n",
    "# BaggingClassifier 학습/예측.\n",
    "bagging_clf.fit(X_train , y_train)\n",
    "pred = bagging_clf.predict(X_test)"
   ]
  },
  {
   "cell_type": "markdown",
   "metadata": {
    "id": "J-TaBG8wV_M_"
   },
   "source": [
    "```python\n",
    "# 평가\n",
    "accuracy = accuracy_score(y_test , pred)\n",
    "recall = recall_score(y_test, pred)\n",
    "precision = precision_score(y_test, pred)\n",
    "auc = roc_auc_score(y_test, pred)\n",
    "matrix = confusion_matrix(y_test, pred)\n",
    "\n",
    "print('Bagging 분류기 정확도: {0:.4f}'.format(accuracy))\n",
    "print('Bagging 분류기 Recall: {0:.4f}'.format(recall))\n",
    "print('Bagging 분류기 Precision: {0:.4f}'.format(precision))\n",
    "print('Bagging 분류기 AUC: {0:.4f}'.format(auc))\n",
    "print('Bagging 분류기 Confusion Matrix:','\\n', matrix)\n",
    "\n",
    "```"
   ]
  },
  {
   "cell_type": "code",
   "execution_count": 17,
   "metadata": {
    "id": "j0U6xGlCWCDb"
   },
   "outputs": [
    {
     "name": "stdout",
     "output_type": "stream",
     "text": [
      "Bagging 분류기 정확도: 0.9447\n",
      "Bagging 분류기 Recall: 0.9761\n",
      "Bagging 분류기 Precision: 0.9627\n",
      "Bagging 분류기 AUC: 0.8240\n",
      "Bagging 분류기 Confusion Matrix: \n",
      " [[  993   485]\n",
      " [  306 12512]]\n"
     ]
    }
   ],
   "source": [
    "# 평가\n",
    "accuracy = accuracy_score(y_test , pred)\n",
    "recall = recall_score(y_test, pred)\n",
    "precision = precision_score(y_test, pred)\n",
    "auc = roc_auc_score(y_test, pred)\n",
    "matrix = confusion_matrix(y_test, pred)\n",
    "\n",
    "print('Bagging 분류기 정확도: {0:.4f}'.format(accuracy))\n",
    "print('Bagging 분류기 Recall: {0:.4f}'.format(recall))\n",
    "print('Bagging 분류기 Precision: {0:.4f}'.format(precision))\n",
    "print('Bagging 분류기 AUC: {0:.4f}'.format(auc))\n",
    "print('Bagging 분류기 Confusion Matrix:','\\n', matrix)\n",
    "\n",
    "# 실무에서 모델을 개발할때 모델의 정확도를 보고할때 auc를 기준으로 보고함 -> auc가 0.75, 0.8 만 넘어도 좋다고 함."
   ]
  },
  {
   "cell_type": "markdown",
   "metadata": {
    "id": "IdFyKvtp8DPW"
   },
   "source": [
    "```python\n",
    "# 개별 모델의 학습/예측/평가.\n",
    "lr_clf.fit(X_train , y_train)\n",
    "pred = lr_clf.predict(X_test)\n",
    "class_name= lr_clf.__class__.__name__\n",
    "\n",
    "accuracy = accuracy_score(y_test , pred)\n",
    "recall = recall_score(y_test, pred)\n",
    "precision = precision_score(y_test, pred)\n",
    "auc = roc_auc_score(y_test, pred)\n",
    "matrix = confusion_matrix(y_test, pred)\n",
    "\n",
    "print('{0} 정확도: {1:.4f}'.format(class_name, accuracy))\n",
    "print('{0} Recall: {1:.4f}'.format(class_name, recall))\n",
    "print('{0} Precision: {1:.4f}'.format(class_name, precision))\n",
    "print('{0} AUC: {1:.4f}'.format(class_name, auc))\n",
    "print('{0} Confusion Matrix:'.format(class_name),'\\n', matrix)\n",
    "\n",
    "```"
   ]
  },
  {
   "cell_type": "code",
   "execution_count": null,
   "metadata": {
    "id": "ArmSeBW0w3wR"
   },
   "outputs": [],
   "source": []
  },
  {
   "cell_type": "markdown",
   "metadata": {
    "id": "fD9S1WwL8R5h"
   },
   "source": [
    "#### 랜덤 포레스트"
   ]
  },
  {
   "cell_type": "markdown",
   "metadata": {
    "id": "c7U1WuNq8N1n"
   },
   "source": [
    "```python\n",
    "from sklearn.ensemble import RandomForestClassifier\n",
    "\n",
    "rf_clf = RandomForestClassifier(n_estimators=100, random_state=0, max_depth=8)\n",
    "rf_clf.fit(X_train , y_train)\n",
    "pred = rf_clf.predict(X_test)\n",
    "\n",
    "accuracy = accuracy_score(y_test , pred)\n",
    "recall = recall_score(y_test, pred)\n",
    "precision = precision_score(y_test, pred)\n",
    "auc = roc_auc_score(y_test, pred)\n",
    "matrix = confusion_matrix(y_test, pred)\n",
    "\n",
    "print('랜덤 포레스트 정확도: {0:.4f}'.format(accuracy))\n",
    "print('랜덤 포레스트 Recall: {0:.4f}'.format(recall))\n",
    "print('랜덤 포레스트 Precision: {0:.4f}'.format(precision))\n",
    "print('랜덤 포레스트 AUC: {0:.4f}'.format(auc))\n",
    "print('랜덤 포레스트 Confusion Matrix:','\\n', matrix)\n",
    "```"
   ]
  },
  {
   "cell_type": "code",
   "execution_count": null,
   "metadata": {
    "id": "PZmec74nw3wT"
   },
   "outputs": [],
   "source": []
  },
  {
   "cell_type": "markdown",
   "metadata": {
    "id": "ikx6DKnn8UQ8"
   },
   "source": [
    "```python\n",
    "ftr_importances_values = rf_clf.feature_importances_\n",
    "ftr_importances = pd.Series(ftr_importances_values,index=X_train.columns)\n",
    "ftr_importances.sort_values(ascending=False)[:20]\n",
    "```"
   ]
  },
  {
   "cell_type": "code",
   "execution_count": null,
   "metadata": {
    "id": "Zt3hSsp4Y7d-"
   },
   "outputs": [],
   "source": []
  },
  {
   "cell_type": "markdown",
   "metadata": {
    "id": "fadeZboG8WM7"
   },
   "source": [
    "```python\n",
    "import matplotlib.pyplot as plt\n",
    "import seaborn as sns\n",
    "%matplotlib inline\n",
    "\n",
    "ftr_importances_values = rf_clf.feature_importances_\n",
    "ftr_importances = pd.Series(ftr_importances_values,index=X_train.columns  )\n",
    "ftr_top20 = ftr_importances.sort_values(ascending=False)[:20]\n",
    "\n",
    "plt.figure(figsize=(8,6))\n",
    "plt.title('Feature importances Top 20')\n",
    "sns.barplot(x=ftr_top20 , y = ftr_top20.index)\n",
    "plt.show()\n",
    "```"
   ]
  },
  {
   "cell_type": "code",
   "execution_count": null,
   "metadata": {
    "id": "ANfRhElTw3wV"
   },
   "outputs": [],
   "source": []
  },
  {
   "cell_type": "code",
   "execution_count": null,
   "metadata": {
    "id": "eSkng7sIzw6v"
   },
   "outputs": [],
   "source": []
  },
  {
   "cell_type": "markdown",
   "metadata": {
    "id": "7vdc_CHf8YJm"
   },
   "source": [
    "#### 그래디언트 부스팅"
   ]
  },
  {
   "cell_type": "markdown",
   "metadata": {
    "id": "cCAiHVVi8Z_J"
   },
   "source": [
    "```python\n",
    "from sklearn.ensemble import GradientBoostingClassifier\n",
    "import time\n",
    "import warnings\n",
    "warnings.filterwarnings('ignore')\n",
    "\n",
    "# GBM 수행 시간 측정을 위함. 시작 시간 설정.\n",
    "start_time = time.time()\n",
    "\n",
    "gb_clf = GradientBoostingClassifier(random_state=0)\n",
    "gb_clf.fit(X_train , y_train)\n",
    "gb_pred = gb_clf.predict(X_test)\n",
    "\n",
    "accuracy = accuracy_score(y_test , gb_pred)\n",
    "recall = recall_score(y_test, gb_pred)\n",
    "precision = precision_score(y_test, gb_pred)\n",
    "auc = roc_auc_score(y_test, gb_pred)\n",
    "matrix = confusion_matrix(y_test, gb_pred)\n",
    "\n",
    "print('GBM 정확도: {0:.4f}'.format(accuracy))\n",
    "print('GBM Recall: {0:.4f}'.format(recall))\n",
    "print('GBM Precision: {0:.4f}'.format(precision))\n",
    "print('GBM AUC: {0:.4f}'.format(auc))\n",
    "print('GBM Confusion Matrix:','\\n', matrix)\n",
    "\n",
    "print(\"GBM 수행 시간: {0:.1f} 초 \".format(time.time() - start_time))\n",
    "```"
   ]
  },
  {
   "cell_type": "code",
   "execution_count": null,
   "metadata": {
    "id": "kbiShzy_w3wV"
   },
   "outputs": [],
   "source": []
  },
  {
   "cell_type": "code",
   "execution_count": null,
   "metadata": {
    "id": "OWMnv65bw3wW"
   },
   "outputs": [],
   "source": []
  }
 ],
 "metadata": {
  "colab": {
   "collapsed_sections": [
    "MN8_T12G8Pvu",
    "fD9S1WwL8R5h",
    "7vdc_CHf8YJm"
   ],
   "provenance": []
  },
  "kernelspec": {
   "display_name": "Python 3 (ipykernel)",
   "language": "python",
   "name": "python3"
  },
  "language_info": {
   "codemirror_mode": {
    "name": "ipython",
    "version": 3
   },
   "file_extension": ".py",
   "mimetype": "text/x-python",
   "name": "python",
   "nbconvert_exporter": "python",
   "pygments_lexer": "ipython3",
   "version": "3.10.9"
  }
 },
 "nbformat": 4,
 "nbformat_minor": 1
}
