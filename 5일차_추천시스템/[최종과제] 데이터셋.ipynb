{
 "cells": [
  {
   "cell_type": "code",
   "execution_count": null,
   "id": "LV4YFefLIRJy",
   "metadata": {
    "colab": {
     "base_uri": "https://localhost:8080/"
    },
    "executionInfo": {
     "elapsed": 17519,
     "status": "ok",
     "timestamp": 1679025674213,
     "user": {
      "displayName": "박나연",
      "userId": "09406148759772297697"
     },
     "user_tz": -540
    },
    "id": "LV4YFefLIRJy",
    "outputId": "1515551a-8f59-40df-f880-0f2e409babb6"
   },
   "outputs": [
    {
     "name": "stdout",
     "output_type": "stream",
     "text": [
      "Mounted at /content/drive\n"
     ]
    }
   ],
   "source": [
    "from google.colab import drive\n",
    "drive.mount('/content/drive')"
   ]
  },
  {
   "cell_type": "code",
   "execution_count": null,
   "id": "uDEa3algIRr3",
   "metadata": {
    "id": "uDEa3algIRr3"
   },
   "outputs": [],
   "source": [
    "%cd /content/drive/MyDrive/강의자료/머신러닝기초/5일차_추천시스템 및 최종과제"
   ]
  },
  {
   "cell_type": "markdown",
   "id": "374a281a",
   "metadata": {},
   "source": [
    "- 세가지 데이터 중에서 분류나 회귀나 다양한 기법들을 사용해서 분석"
   ]
  },
  {
   "cell_type": "markdown",
   "id": "4bb316f9",
   "metadata": {
    "id": "4bb316f9"
   },
   "source": [
    "## 1. 중학 실력 Test 데이터"
   ]
  },
  {
   "cell_type": "markdown",
   "id": "94487750",
   "metadata": {
    "id": "94487750"
   },
   "source": [
    "ISHERPA_2010 > TBL_WWW_SelfTest_Info, TBL_WWW_SelfTest_Wrong_Note_EduBase 테이블 사용"
   ]
  },
  {
   "cell_type": "markdown",
   "id": "13d80883",
   "metadata": {
    "id": "13d80883"
   },
   "source": [
    "### 1-1. 데이터 불러오기"
   ]
  },
  {
   "cell_type": "code",
   "execution_count": null,
   "id": "2c6d8af4",
   "metadata": {
    "colab": {
     "base_uri": "https://localhost:8080/",
     "height": 531
    },
    "executionInfo": {
     "elapsed": 2078,
     "status": "ok",
     "timestamp": 1679025715852,
     "user": {
      "displayName": "박나연",
      "userId": "09406148759772297697"
     },
     "user_tz": -540
    },
    "id": "2c6d8af4",
    "outputId": "734a21a9-74c1-4422-fa81-2e4d0febf735"
   },
   "outputs": [
    {
     "data": {
      "text/html": [
       "\n",
       "  <div id=\"df-3c84c485-80ec-4bf1-9fac-6515b2572f12\">\n",
       "    <div class=\"colab-df-container\">\n",
       "      <div>\n",
       "<style scoped>\n",
       "    .dataframe tbody tr th:only-of-type {\n",
       "        vertical-align: middle;\n",
       "    }\n",
       "\n",
       "    .dataframe tbody tr th {\n",
       "        vertical-align: top;\n",
       "    }\n",
       "\n",
       "    .dataframe thead th {\n",
       "        text-align: right;\n",
       "    }\n",
       "</style>\n",
       "<table border=\"1\" class=\"dataframe\">\n",
       "  <thead>\n",
       "    <tr style=\"text-align: right;\">\n",
       "      <th></th>\n",
       "      <th>idx</th>\n",
       "      <th>guid</th>\n",
       "      <th>st_year</th>\n",
       "      <th>Test_Name</th>\n",
       "      <th>Subject</th>\n",
       "      <th>Subject2</th>\n",
       "      <th>Grade</th>\n",
       "      <th>Grade2</th>\n",
       "      <th>Term</th>\n",
       "      <th>Test_Level</th>\n",
       "      <th>take_date</th>\n",
       "      <th>test_time</th>\n",
       "      <th>Test_Jumsu</th>\n",
       "      <th>QuizNum</th>\n",
       "      <th>QuizCode</th>\n",
       "      <th>QuizYN</th>\n",
       "      <th>QuizAnswer</th>\n",
       "    </tr>\n",
       "  </thead>\n",
       "  <tbody>\n",
       "    <tr>\n",
       "      <th>0</th>\n",
       "      <td>521308</td>\n",
       "      <td>9728f3ec-0b86-4d5e-99c2-4412fc09d3a7</td>\n",
       "      <td>2022</td>\n",
       "      <td>수수행대비</td>\n",
       "      <td>MM</td>\n",
       "      <td>MM</td>\n",
       "      <td>8</td>\n",
       "      <td>8</td>\n",
       "      <td>01;02</td>\n",
       "      <td>04;03</td>\n",
       "      <td>2022-08-19 20:01:02.977</td>\n",
       "      <td>1305</td>\n",
       "      <td>85</td>\n",
       "      <td>20</td>\n",
       "      <td>40094723</td>\n",
       "      <td>N</td>\n",
       "      <td>④</td>\n",
       "    </tr>\n",
       "    <tr>\n",
       "      <th>1</th>\n",
       "      <td>521308</td>\n",
       "      <td>9728f3ec-0b86-4d5e-99c2-4412fc09d3a7</td>\n",
       "      <td>2022</td>\n",
       "      <td>수수행대비</td>\n",
       "      <td>MM</td>\n",
       "      <td>MM</td>\n",
       "      <td>8</td>\n",
       "      <td>8</td>\n",
       "      <td>01;02</td>\n",
       "      <td>04;03</td>\n",
       "      <td>2022-08-19 20:01:02.977</td>\n",
       "      <td>1305</td>\n",
       "      <td>85</td>\n",
       "      <td>19</td>\n",
       "      <td>40095385</td>\n",
       "      <td>Y</td>\n",
       "      <td>⑤</td>\n",
       "    </tr>\n",
       "    <tr>\n",
       "      <th>2</th>\n",
       "      <td>521308</td>\n",
       "      <td>9728f3ec-0b86-4d5e-99c2-4412fc09d3a7</td>\n",
       "      <td>2022</td>\n",
       "      <td>수수행대비</td>\n",
       "      <td>MM</td>\n",
       "      <td>MM</td>\n",
       "      <td>8</td>\n",
       "      <td>8</td>\n",
       "      <td>01;02</td>\n",
       "      <td>04;03</td>\n",
       "      <td>2022-08-19 20:01:02.977</td>\n",
       "      <td>1305</td>\n",
       "      <td>85</td>\n",
       "      <td>18</td>\n",
       "      <td>40094651</td>\n",
       "      <td>Y</td>\n",
       "      <td>6</td>\n",
       "    </tr>\n",
       "    <tr>\n",
       "      <th>3</th>\n",
       "      <td>521308</td>\n",
       "      <td>9728f3ec-0b86-4d5e-99c2-4412fc09d3a7</td>\n",
       "      <td>2022</td>\n",
       "      <td>수수행대비</td>\n",
       "      <td>MM</td>\n",
       "      <td>MM</td>\n",
       "      <td>8</td>\n",
       "      <td>8</td>\n",
       "      <td>01;02</td>\n",
       "      <td>04;03</td>\n",
       "      <td>2022-08-19 20:01:02.977</td>\n",
       "      <td>1305</td>\n",
       "      <td>85</td>\n",
       "      <td>17</td>\n",
       "      <td>40095295</td>\n",
       "      <td>Y</td>\n",
       "      <td>②</td>\n",
       "    </tr>\n",
       "    <tr>\n",
       "      <th>4</th>\n",
       "      <td>521308</td>\n",
       "      <td>9728f3ec-0b86-4d5e-99c2-4412fc09d3a7</td>\n",
       "      <td>2022</td>\n",
       "      <td>수수행대비</td>\n",
       "      <td>MM</td>\n",
       "      <td>MM</td>\n",
       "      <td>8</td>\n",
       "      <td>8</td>\n",
       "      <td>01;02</td>\n",
       "      <td>04;03</td>\n",
       "      <td>2022-08-19 20:01:02.977</td>\n",
       "      <td>1305</td>\n",
       "      <td>85</td>\n",
       "      <td>16</td>\n",
       "      <td>40095274</td>\n",
       "      <td>Y</td>\n",
       "      <td>①</td>\n",
       "    </tr>\n",
       "  </tbody>\n",
       "</table>\n",
       "</div>\n",
       "      <button class=\"colab-df-convert\" onclick=\"convertToInteractive('df-3c84c485-80ec-4bf1-9fac-6515b2572f12')\"\n",
       "              title=\"Convert this dataframe to an interactive table.\"\n",
       "              style=\"display:none;\">\n",
       "        \n",
       "  <svg xmlns=\"http://www.w3.org/2000/svg\" height=\"24px\"viewBox=\"0 0 24 24\"\n",
       "       width=\"24px\">\n",
       "    <path d=\"M0 0h24v24H0V0z\" fill=\"none\"/>\n",
       "    <path d=\"M18.56 5.44l.94 2.06.94-2.06 2.06-.94-2.06-.94-.94-2.06-.94 2.06-2.06.94zm-11 1L8.5 8.5l.94-2.06 2.06-.94-2.06-.94L8.5 2.5l-.94 2.06-2.06.94zm10 10l.94 2.06.94-2.06 2.06-.94-2.06-.94-.94-2.06-.94 2.06-2.06.94z\"/><path d=\"M17.41 7.96l-1.37-1.37c-.4-.4-.92-.59-1.43-.59-.52 0-1.04.2-1.43.59L10.3 9.45l-7.72 7.72c-.78.78-.78 2.05 0 2.83L4 21.41c.39.39.9.59 1.41.59.51 0 1.02-.2 1.41-.59l7.78-7.78 2.81-2.81c.8-.78.8-2.07 0-2.86zM5.41 20L4 18.59l7.72-7.72 1.47 1.35L5.41 20z\"/>\n",
       "  </svg>\n",
       "      </button>\n",
       "      \n",
       "  <style>\n",
       "    .colab-df-container {\n",
       "      display:flex;\n",
       "      flex-wrap:wrap;\n",
       "      gap: 12px;\n",
       "    }\n",
       "\n",
       "    .colab-df-convert {\n",
       "      background-color: #E8F0FE;\n",
       "      border: none;\n",
       "      border-radius: 50%;\n",
       "      cursor: pointer;\n",
       "      display: none;\n",
       "      fill: #1967D2;\n",
       "      height: 32px;\n",
       "      padding: 0 0 0 0;\n",
       "      width: 32px;\n",
       "    }\n",
       "\n",
       "    .colab-df-convert:hover {\n",
       "      background-color: #E2EBFA;\n",
       "      box-shadow: 0px 1px 2px rgba(60, 64, 67, 0.3), 0px 1px 3px 1px rgba(60, 64, 67, 0.15);\n",
       "      fill: #174EA6;\n",
       "    }\n",
       "\n",
       "    [theme=dark] .colab-df-convert {\n",
       "      background-color: #3B4455;\n",
       "      fill: #D2E3FC;\n",
       "    }\n",
       "\n",
       "    [theme=dark] .colab-df-convert:hover {\n",
       "      background-color: #434B5C;\n",
       "      box-shadow: 0px 1px 3px 1px rgba(0, 0, 0, 0.15);\n",
       "      filter: drop-shadow(0px 1px 2px rgba(0, 0, 0, 0.3));\n",
       "      fill: #FFFFFF;\n",
       "    }\n",
       "  </style>\n",
       "\n",
       "      <script>\n",
       "        const buttonEl =\n",
       "          document.querySelector('#df-3c84c485-80ec-4bf1-9fac-6515b2572f12 button.colab-df-convert');\n",
       "        buttonEl.style.display =\n",
       "          google.colab.kernel.accessAllowed ? 'block' : 'none';\n",
       "\n",
       "        async function convertToInteractive(key) {\n",
       "          const element = document.querySelector('#df-3c84c485-80ec-4bf1-9fac-6515b2572f12');\n",
       "          const dataTable =\n",
       "            await google.colab.kernel.invokeFunction('convertToInteractive',\n",
       "                                                     [key], {});\n",
       "          if (!dataTable) return;\n",
       "\n",
       "          const docLinkHtml = 'Like what you see? Visit the ' +\n",
       "            '<a target=\"_blank\" href=https://colab.research.google.com/notebooks/data_table.ipynb>data table notebook</a>'\n",
       "            + ' to learn more about interactive tables.';\n",
       "          element.innerHTML = '';\n",
       "          dataTable['output_type'] = 'display_data';\n",
       "          await google.colab.output.renderOutput(dataTable, element);\n",
       "          const docLink = document.createElement('div');\n",
       "          docLink.innerHTML = docLinkHtml;\n",
       "          element.appendChild(docLink);\n",
       "        }\n",
       "      </script>\n",
       "    </div>\n",
       "  </div>\n",
       "  "
      ],
      "text/plain": [
       "      idx                                  guid  st_year Test_Name Subject  \\\n",
       "0  521308  9728f3ec-0b86-4d5e-99c2-4412fc09d3a7     2022     수수행대비      MM   \n",
       "1  521308  9728f3ec-0b86-4d5e-99c2-4412fc09d3a7     2022     수수행대비      MM   \n",
       "2  521308  9728f3ec-0b86-4d5e-99c2-4412fc09d3a7     2022     수수행대비      MM   \n",
       "3  521308  9728f3ec-0b86-4d5e-99c2-4412fc09d3a7     2022     수수행대비      MM   \n",
       "4  521308  9728f3ec-0b86-4d5e-99c2-4412fc09d3a7     2022     수수행대비      MM   \n",
       "\n",
       "  Subject2  Grade Grade2   Term Test_Level                take_date  \\\n",
       "0       MM      8      8  01;02      04;03  2022-08-19 20:01:02.977   \n",
       "1       MM      8      8  01;02      04;03  2022-08-19 20:01:02.977   \n",
       "2       MM      8      8  01;02      04;03  2022-08-19 20:01:02.977   \n",
       "3       MM      8      8  01;02      04;03  2022-08-19 20:01:02.977   \n",
       "4       MM      8      8  01;02      04;03  2022-08-19 20:01:02.977   \n",
       "\n",
       "   test_time  Test_Jumsu  QuizNum  QuizCode QuizYN QuizAnswer  \n",
       "0       1305          85       20  40094723      N          ④  \n",
       "1       1305          85       19  40095385      Y          ⑤  \n",
       "2       1305          85       18  40094651      Y          6  \n",
       "3       1305          85       17  40095295      Y          ②  \n",
       "4       1305          85       16  40095274      Y          ①  "
      ]
     },
     "execution_count": 3,
     "metadata": {},
     "output_type": "execute_result"
    }
   ],
   "source": [
    "import pandas as pd\n",
    "\n",
    "dataset1 = pd.read_csv('./datasets/중학실력Test_문항별정오답.csv')\n",
    "dataset1.head()"
   ]
  },
  {
   "cell_type": "code",
   "execution_count": null,
   "id": "FsMRzTEQ3cFO",
   "metadata": {
    "colab": {
     "base_uri": "https://localhost:8080/"
    },
    "executionInfo": {
     "elapsed": 553,
     "status": "ok",
     "timestamp": 1679027985932,
     "user": {
      "displayName": "박나연",
      "userId": "09406148759772297697"
     },
     "user_tz": -540
    },
    "id": "FsMRzTEQ3cFO",
    "outputId": "bb7c9815-0330-4318-df5e-75b75a07fe2c"
   },
   "outputs": [
    {
     "data": {
      "text/plain": [
       "array(['04;03', '02;01', '02', '01', nan, '05;03;02;01', '04;03;02',\n",
       "       '05;04;03', '05;02;01', '05;04;03;02;01', '03;02;01', '03;02',\n",
       "       '05;04', '04;03;02;01', '05;03;01', '05;04;03;02', '04',\n",
       "       '05;04;03;01', '03', '05;04;01', '05;01', '05', '04;02',\n",
       "       '05;04;02;01', '04;01', 'undefined04;03;02;01', '01;02;03;04;05',\n",
       "       '03;01', '05;03', '05;03;02', '02;03;04', '04;05', '01;02;03',\n",
       "       '03;04', '02;03', '02;03;04;05', '01;02'], dtype=object)"
      ]
     },
     "execution_count": 6,
     "metadata": {},
     "output_type": "execute_result"
    }
   ],
   "source": [
    "dataset1['Test_Level'].unique()"
   ]
  },
  {
   "cell_type": "code",
   "execution_count": null,
   "id": "DMWy3V0huzrL",
   "metadata": {
    "colab": {
     "base_uri": "https://localhost:8080/"
    },
    "executionInfo": {
     "elapsed": 276,
     "status": "ok",
     "timestamp": 1679025736605,
     "user": {
      "displayName": "박나연",
      "userId": "09406148759772297697"
     },
     "user_tz": -540
    },
    "id": "DMWy3V0huzrL",
    "outputId": "34f17854-d4ce-4da7-bd5c-dd635df5a5c9"
   },
   "outputs": [
    {
     "data": {
      "text/plain": [
       "array(['수수행대비', '수학 2-2 ( 1단원)', '2', '좌표평면 하', '수학_삼각비', '시험', '1', '3',\n",
       "       '수학', '1학기전체(수와연산~이차함수)/ 중~최하', '좌표 1', '이 아프다', '수학1', '영어 시험지',\n",
       "       '이제 기술이 재미있어질 시간', '8월 24일 수학', '8월 25일 수학', '0804수학 중하',\n",
       "       '2-1 문자의 사용과 식의계산(하80!)-숙제', '111'], dtype=object)"
      ]
     },
     "execution_count": 5,
     "metadata": {},
     "output_type": "execute_result"
    }
   ],
   "source": [
    "dataset1['Test_Name'].unique()[:20]"
   ]
  },
  {
   "cell_type": "markdown",
   "id": "959cd80b",
   "metadata": {
    "id": "959cd80b"
   },
   "source": [
    "### 1-2. 데이터 컬럼 설명"
   ]
  },
  {
   "cell_type": "markdown",
   "id": "ba1ae49e",
   "metadata": {
    "id": "ba1ae49e"
   },
   "source": [
    "- idx : 인덱스\n",
    "- guid : 회원아이디\n",
    "- st_year : 년도\n",
    "- Test_Name : 시험지명\n",
    "- Subject : 교과\n",
    "- Subject2 : 과목\n",
    "- Grade : 학년\n",
    "- Grade2 : 사용자가 선택한 학년\n",
    "- Term : 학기\n",
    "- Test_Level : 시험 난이도 (01 최하 ~ 05 최상)\n",
    "- take_date : 시험응시일\n",
    "- test_time : 제출시간(초)\n",
    "- Test_Jumsu : 시험점수\n",
    "- QuizNum : 시험순번\n",
    "- QuizCode : 퀴즈코드(문항코드)\n",
    "- QuizYN : 문항정오답\n",
    "- QuizAnswer : 사용자입력답"
   ]
  },
  {
   "cell_type": "markdown",
   "id": "107b4f51",
   "metadata": {
    "id": "107b4f51"
   },
   "source": [
    "### 1-3. 데이터 활용 아이디어 (참고)"
   ]
  },
  {
   "cell_type": "markdown",
   "id": "8181fe8a",
   "metadata": {
    "id": "8181fe8a"
   },
   "source": [
    "- 문항별 정오답을 예측해보기 (로지스틱 회귀로 분류)\n",
    "\n",
    "\n",
    "- 시험 점수를 예측해보기 (선형 회귀)\n"
   ]
  },
  {
   "cell_type": "markdown",
   "id": "1d58d705",
   "metadata": {
    "id": "1d58d705"
   },
   "source": [
    "## 2. 월간 학습자 통계 데이터"
   ]
  },
  {
   "cell_type": "markdown",
   "id": "5c4136e3",
   "metadata": {
    "id": "5c4136e3"
   },
   "source": [
    "### 2-1. 데이터 불러오기"
   ]
  },
  {
   "cell_type": "code",
   "execution_count": null,
   "id": "65986298",
   "metadata": {
    "colab": {
     "base_uri": "https://localhost:8080/",
     "height": 560
    },
    "executionInfo": {
     "elapsed": 3921,
     "status": "ok",
     "timestamp": 1678333452341,
     "user": {
      "displayName": "박나연",
      "userId": "09406148759772297697"
     },
     "user_tz": -540
    },
    "id": "65986298",
    "outputId": "116a57e6-25bd-4676-ac65-46d54ddd7519"
   },
   "outputs": [
    {
     "data": {
      "text/html": [
       "\n",
       "  <div id=\"df-84912d03-e475-43f7-b9f0-08c907a95f30\">\n",
       "    <div class=\"colab-df-container\">\n",
       "      <div>\n",
       "<style scoped>\n",
       "    .dataframe tbody tr th:only-of-type {\n",
       "        vertical-align: middle;\n",
       "    }\n",
       "\n",
       "    .dataframe tbody tr th {\n",
       "        vertical-align: top;\n",
       "    }\n",
       "\n",
       "    .dataframe thead th {\n",
       "        text-align: right;\n",
       "    }\n",
       "</style>\n",
       "<table border=\"1\" class=\"dataframe\">\n",
       "  <thead>\n",
       "    <tr style=\"text-align: right;\">\n",
       "      <th></th>\n",
       "      <th>userid</th>\n",
       "      <th>gender</th>\n",
       "      <th>membertype_codename</th>\n",
       "      <th>grade_codename</th>\n",
       "      <th>memberstatus</th>\n",
       "      <th>memberstatus_codename</th>\n",
       "      <th>memberstatus_change</th>\n",
       "      <th>status_null_count</th>\n",
       "      <th>statusgroup_10_count</th>\n",
       "      <th>statusgroup_20_count</th>\n",
       "      <th>...</th>\n",
       "      <th>test_activeday_count</th>\n",
       "      <th>test_count</th>\n",
       "      <th>test_average_score</th>\n",
       "      <th>test_item_count</th>\n",
       "      <th>test_correct_count</th>\n",
       "      <th>wrong_count</th>\n",
       "      <th>wrong_item_count</th>\n",
       "      <th>wrong_correct_count</th>\n",
       "      <th>yyyy</th>\n",
       "      <th>mm</th>\n",
       "    </tr>\n",
       "  </thead>\n",
       "  <tbody>\n",
       "    <tr>\n",
       "      <th>0</th>\n",
       "      <td>008c6dd3-23f5-47f2-bf12-786243927bd5</td>\n",
       "      <td>F</td>\n",
       "      <td>초등</td>\n",
       "      <td>초6</td>\n",
       "      <td>44</td>\n",
       "      <td>학습생(만료)</td>\n",
       "      <td>44</td>\n",
       "      <td>0</td>\n",
       "      <td>0</td>\n",
       "      <td>0</td>\n",
       "      <td>...</td>\n",
       "      <td>NaN</td>\n",
       "      <td>NaN</td>\n",
       "      <td>NaN</td>\n",
       "      <td>NaN</td>\n",
       "      <td>NaN</td>\n",
       "      <td>NaN</td>\n",
       "      <td>NaN</td>\n",
       "      <td>NaN</td>\n",
       "      <td>2022</td>\n",
       "      <td>9</td>\n",
       "    </tr>\n",
       "    <tr>\n",
       "      <th>1</th>\n",
       "      <td>027a7135-be16-4574-a826-5e4b34eed8a0</td>\n",
       "      <td>M</td>\n",
       "      <td>초등</td>\n",
       "      <td>초6</td>\n",
       "      <td>44</td>\n",
       "      <td>학습생(만료)</td>\n",
       "      <td>44</td>\n",
       "      <td>0</td>\n",
       "      <td>0</td>\n",
       "      <td>0</td>\n",
       "      <td>...</td>\n",
       "      <td>NaN</td>\n",
       "      <td>NaN</td>\n",
       "      <td>NaN</td>\n",
       "      <td>NaN</td>\n",
       "      <td>NaN</td>\n",
       "      <td>NaN</td>\n",
       "      <td>NaN</td>\n",
       "      <td>NaN</td>\n",
       "      <td>2022</td>\n",
       "      <td>9</td>\n",
       "    </tr>\n",
       "    <tr>\n",
       "      <th>2</th>\n",
       "      <td>02e998fc-1b98-485b-87ca-4e1ef40637f3</td>\n",
       "      <td>M</td>\n",
       "      <td>초등</td>\n",
       "      <td>초2</td>\n",
       "      <td>44</td>\n",
       "      <td>학습생(만료)</td>\n",
       "      <td>01,44</td>\n",
       "      <td>0</td>\n",
       "      <td>0</td>\n",
       "      <td>2</td>\n",
       "      <td>...</td>\n",
       "      <td>NaN</td>\n",
       "      <td>NaN</td>\n",
       "      <td>NaN</td>\n",
       "      <td>NaN</td>\n",
       "      <td>NaN</td>\n",
       "      <td>NaN</td>\n",
       "      <td>NaN</td>\n",
       "      <td>NaN</td>\n",
       "      <td>2022</td>\n",
       "      <td>9</td>\n",
       "    </tr>\n",
       "    <tr>\n",
       "      <th>3</th>\n",
       "      <td>0342a5d3-2b88-42ee-ba65-665af2cb48c3</td>\n",
       "      <td>F</td>\n",
       "      <td>초등</td>\n",
       "      <td>초3</td>\n",
       "      <td>44</td>\n",
       "      <td>학습생(만료)</td>\n",
       "      <td>44</td>\n",
       "      <td>0</td>\n",
       "      <td>0</td>\n",
       "      <td>0</td>\n",
       "      <td>...</td>\n",
       "      <td>NaN</td>\n",
       "      <td>NaN</td>\n",
       "      <td>NaN</td>\n",
       "      <td>NaN</td>\n",
       "      <td>NaN</td>\n",
       "      <td>NaN</td>\n",
       "      <td>NaN</td>\n",
       "      <td>NaN</td>\n",
       "      <td>2022</td>\n",
       "      <td>9</td>\n",
       "    </tr>\n",
       "    <tr>\n",
       "      <th>4</th>\n",
       "      <td>03b8bdcb-699f-4632-a2f2-90da954b34ac</td>\n",
       "      <td>M</td>\n",
       "      <td>초등</td>\n",
       "      <td>초5</td>\n",
       "      <td>44</td>\n",
       "      <td>학습생(만료)</td>\n",
       "      <td>-,00,01,44</td>\n",
       "      <td>3</td>\n",
       "      <td>0</td>\n",
       "      <td>15</td>\n",
       "      <td>...</td>\n",
       "      <td>1.0</td>\n",
       "      <td>1.0</td>\n",
       "      <td>100.0</td>\n",
       "      <td>1.0</td>\n",
       "      <td>1.0</td>\n",
       "      <td>NaN</td>\n",
       "      <td>NaN</td>\n",
       "      <td>NaN</td>\n",
       "      <td>2022</td>\n",
       "      <td>9</td>\n",
       "    </tr>\n",
       "  </tbody>\n",
       "</table>\n",
       "<p>5 rows × 54 columns</p>\n",
       "</div>\n",
       "      <button class=\"colab-df-convert\" onclick=\"convertToInteractive('df-84912d03-e475-43f7-b9f0-08c907a95f30')\"\n",
       "              title=\"Convert this dataframe to an interactive table.\"\n",
       "              style=\"display:none;\">\n",
       "        \n",
       "  <svg xmlns=\"http://www.w3.org/2000/svg\" height=\"24px\"viewBox=\"0 0 24 24\"\n",
       "       width=\"24px\">\n",
       "    <path d=\"M0 0h24v24H0V0z\" fill=\"none\"/>\n",
       "    <path d=\"M18.56 5.44l.94 2.06.94-2.06 2.06-.94-2.06-.94-.94-2.06-.94 2.06-2.06.94zm-11 1L8.5 8.5l.94-2.06 2.06-.94-2.06-.94L8.5 2.5l-.94 2.06-2.06.94zm10 10l.94 2.06.94-2.06 2.06-.94-2.06-.94-.94-2.06-.94 2.06-2.06.94z\"/><path d=\"M17.41 7.96l-1.37-1.37c-.4-.4-.92-.59-1.43-.59-.52 0-1.04.2-1.43.59L10.3 9.45l-7.72 7.72c-.78.78-.78 2.05 0 2.83L4 21.41c.39.39.9.59 1.41.59.51 0 1.02-.2 1.41-.59l7.78-7.78 2.81-2.81c.8-.78.8-2.07 0-2.86zM5.41 20L4 18.59l7.72-7.72 1.47 1.35L5.41 20z\"/>\n",
       "  </svg>\n",
       "      </button>\n",
       "      \n",
       "  <style>\n",
       "    .colab-df-container {\n",
       "      display:flex;\n",
       "      flex-wrap:wrap;\n",
       "      gap: 12px;\n",
       "    }\n",
       "\n",
       "    .colab-df-convert {\n",
       "      background-color: #E8F0FE;\n",
       "      border: none;\n",
       "      border-radius: 50%;\n",
       "      cursor: pointer;\n",
       "      display: none;\n",
       "      fill: #1967D2;\n",
       "      height: 32px;\n",
       "      padding: 0 0 0 0;\n",
       "      width: 32px;\n",
       "    }\n",
       "\n",
       "    .colab-df-convert:hover {\n",
       "      background-color: #E2EBFA;\n",
       "      box-shadow: 0px 1px 2px rgba(60, 64, 67, 0.3), 0px 1px 3px 1px rgba(60, 64, 67, 0.15);\n",
       "      fill: #174EA6;\n",
       "    }\n",
       "\n",
       "    [theme=dark] .colab-df-convert {\n",
       "      background-color: #3B4455;\n",
       "      fill: #D2E3FC;\n",
       "    }\n",
       "\n",
       "    [theme=dark] .colab-df-convert:hover {\n",
       "      background-color: #434B5C;\n",
       "      box-shadow: 0px 1px 3px 1px rgba(0, 0, 0, 0.15);\n",
       "      filter: drop-shadow(0px 1px 2px rgba(0, 0, 0, 0.3));\n",
       "      fill: #FFFFFF;\n",
       "    }\n",
       "  </style>\n",
       "\n",
       "      <script>\n",
       "        const buttonEl =\n",
       "          document.querySelector('#df-84912d03-e475-43f7-b9f0-08c907a95f30 button.colab-df-convert');\n",
       "        buttonEl.style.display =\n",
       "          google.colab.kernel.accessAllowed ? 'block' : 'none';\n",
       "\n",
       "        async function convertToInteractive(key) {\n",
       "          const element = document.querySelector('#df-84912d03-e475-43f7-b9f0-08c907a95f30');\n",
       "          const dataTable =\n",
       "            await google.colab.kernel.invokeFunction('convertToInteractive',\n",
       "                                                     [key], {});\n",
       "          if (!dataTable) return;\n",
       "\n",
       "          const docLinkHtml = 'Like what you see? Visit the ' +\n",
       "            '<a target=\"_blank\" href=https://colab.research.google.com/notebooks/data_table.ipynb>data table notebook</a>'\n",
       "            + ' to learn more about interactive tables.';\n",
       "          element.innerHTML = '';\n",
       "          dataTable['output_type'] = 'display_data';\n",
       "          await google.colab.output.renderOutput(dataTable, element);\n",
       "          const docLink = document.createElement('div');\n",
       "          docLink.innerHTML = docLinkHtml;\n",
       "          element.appendChild(docLink);\n",
       "        }\n",
       "      </script>\n",
       "    </div>\n",
       "  </div>\n",
       "  "
      ],
      "text/plain": [
       "                                 userid gender membertype_codename  \\\n",
       "0  008c6dd3-23f5-47f2-bf12-786243927bd5      F                  초등   \n",
       "1  027a7135-be16-4574-a826-5e4b34eed8a0      M                  초등   \n",
       "2  02e998fc-1b98-485b-87ca-4e1ef40637f3      M                  초등   \n",
       "3  0342a5d3-2b88-42ee-ba65-665af2cb48c3      F                  초등   \n",
       "4  03b8bdcb-699f-4632-a2f2-90da954b34ac      M                  초등   \n",
       "\n",
       "  grade_codename  memberstatus memberstatus_codename memberstatus_change  \\\n",
       "0             초6            44               학습생(만료)                  44   \n",
       "1             초6            44               학습생(만료)                  44   \n",
       "2             초2            44               학습생(만료)               01,44   \n",
       "3             초3            44               학습생(만료)                  44   \n",
       "4             초5            44               학습생(만료)          -,00,01,44   \n",
       "\n",
       "   status_null_count  statusgroup_10_count  statusgroup_20_count  ...  \\\n",
       "0                  0                     0                     0  ...   \n",
       "1                  0                     0                     0  ...   \n",
       "2                  0                     0                     2  ...   \n",
       "3                  0                     0                     0  ...   \n",
       "4                  3                     0                    15  ...   \n",
       "\n",
       "   test_activeday_count  test_count  test_average_score  test_item_count  \\\n",
       "0                   NaN         NaN                 NaN              NaN   \n",
       "1                   NaN         NaN                 NaN              NaN   \n",
       "2                   NaN         NaN                 NaN              NaN   \n",
       "3                   NaN         NaN                 NaN              NaN   \n",
       "4                   1.0         1.0               100.0              1.0   \n",
       "\n",
       "   test_correct_count  wrong_count  wrong_item_count  wrong_correct_count  \\\n",
       "0                 NaN          NaN               NaN                  NaN   \n",
       "1                 NaN          NaN               NaN                  NaN   \n",
       "2                 NaN          NaN               NaN                  NaN   \n",
       "3                 NaN          NaN               NaN                  NaN   \n",
       "4                 1.0          NaN               NaN                  NaN   \n",
       "\n",
       "   yyyy  mm  \n",
       "0  2022   9  \n",
       "1  2022   9  \n",
       "2  2022   9  \n",
       "3  2022   9  \n",
       "4  2022   9  \n",
       "\n",
       "[5 rows x 54 columns]"
      ]
     },
     "execution_count": 4,
     "metadata": {},
     "output_type": "execute_result"
    }
   ],
   "source": [
    "dataset2 = pd.read_csv('./datasets/월간학습자통계.csv',index_col=0)\n",
    "dataset2.head()"
   ]
  },
  {
   "cell_type": "code",
   "execution_count": null,
   "id": "GhQ_ay2dM-K7",
   "metadata": {
    "colab": {
     "base_uri": "https://localhost:8080/"
    },
    "executionInfo": {
     "elapsed": 11,
     "status": "ok",
     "timestamp": 1678333455377,
     "user": {
      "displayName": "박나연",
      "userId": "09406148759772297697"
     },
     "user_tz": -540
    },
    "id": "GhQ_ay2dM-K7",
    "outputId": "35b54a40-bb21-4c3a-e567-b7d18308a67e"
   },
   "outputs": [
    {
     "data": {
      "text/plain": [
       "학습생(만료)       109892\n",
       "학습생(정)        100000\n",
       "학습생(미납_중지)      1067\n",
       "학습생(탈퇴)          892\n",
       "Name: memberstatus_codename, dtype: int64"
      ]
     },
     "execution_count": 6,
     "metadata": {},
     "output_type": "execute_result"
    }
   ],
   "source": [
    "dataset2['memberstatus_codename'].value_counts()"
   ]
  },
  {
   "cell_type": "markdown",
   "id": "a053c938",
   "metadata": {
    "id": "a053c938"
   },
   "source": [
    "### 2-2. 데이터 컬럼 설명"
   ]
  },
  {
   "cell_type": "markdown",
   "id": "5eef006c",
   "metadata": {
    "id": "5eef006c"
   },
   "source": [
    "- userid : 인덱스\n",
    "- gender : 회원아이디\n",
    "- membertype_codename : 회원구분 코드의 한글명(학교급) ex. 초등\n",
    "- grade_codename : 학년 코드\n",
    "- memberstatus : 회원상태 (정회원, 준회원, 탈퇴회원 등)\n",
    "- memberstatus_codename : 회원상태 코드의 한글명\n",
    "- memberstatus_change : 월 중 회원상태 변화\n",
    "- status_null_count : 회원상태 없음 일수\n",
    "- statusgroup_10_count : 임시회원 일수\n",
    "- statusgroup_20_count : 무료회원 일수\n",
    "- statusgroup_30_count : 유료회원 일수\n",
    "- statusgroup_40_count : 중지회원 일수\n",
    "- statusgroup_50_count : 만료회원 일수\n",
    "- statusgroup_90_count : 해지회원 일수\n",
    "- point_gain_activeday_count : 포인트 획득일수\n",
    "- point_gain_count : 포인트 획득 횟수\n",
    "- point_gain : 획득 포인트\n",
    "- point_loss_activeday_count : 포인트 차감일수\n",
    "- point_loss_count : 포인트 차감 횟수\n",
    "- point_loss : 차감 포인트\n",
    "- tablet_activeday_count : 기기 활성 횟수\n",
    "- tablet_moved_menu_count : 기기 메뉴이동 횟수\n",
    "- tablet_leave_count :기기 물리적 종료 횟수\n",
    "- tablet_resume_count : 기기 물리적 재개 횟수\n",
    "- tablet_login_count : 로그인 횟수\n",
    "- tablet_logout_count : 기기 로그아웃 횟수\n",
    "- study_activeday_count :학습 활성일 횟수\n",
    "- study_count : 학습 횟수\n",
    "- study_notcompleted_count : 학습 미완료 횟수\n",
    "- study_completed_count : 학습 완료 횟수\n",
    "- study_restart_count : 학습 재시작 횟수\n",
    "- total_system_learning_time : 학습 시간합계(시스템)\n",
    "- total_caliper_learning_time : 학습 시간합계(캘리퍼)\n",
    "- media_activeday_count : 미디어 활동 활성 일수\n",
    "- media_count : 미디어 학습 횟수\n",
    "- video_action_count : 비디오 활동 횟수\n",
    "- video_start_count : 비디오 시작 횟수\n",
    "- video_restart_count : 비디오 재시작 횟수\n",
    "- video_pause_count : 비디오 일시정지 횟수\n",
    "- video_jump_count : 비디오 점프 횟수\n",
    "- video_resume_count : 비디오 재개(일시정지 후 횟수)\n",
    "- video_speed_count : 비디오 속도 조절 횟수\n",
    "- video_volume_count : 비디오 볼륨 조절 횟수\n",
    "- video_end_count : 비디오 종료 횟수\n",
    "- test_activeday_count : 평가 활성 일수\n",
    "- test_count : 평가 횟수\n",
    "- test_average_score : 평가 평균 점수\n",
    "- test_item_count : 평가 문항 개수\n",
    "- test_correct_count : 평가 정답 개수\n",
    "- wrong_count : 오답 노트 진입 횟수\n",
    "- wrong_item_count : 오답 노트 문항 개수\n",
    "- wrong_correct_count : 오답 노트 정답 개수\n",
    "- yyyy : 년\n",
    "- mm : 월"
   ]
  },
  {
   "cell_type": "markdown",
   "id": "078821ea",
   "metadata": {
    "id": "078821ea"
   },
   "source": [
    "### 2-3. 데이터 활용 아이디어"
   ]
  },
  {
   "cell_type": "markdown",
   "id": "ead0f18a",
   "metadata": {
    "id": "ead0f18a"
   },
   "source": [
    "- 학생별 평가 평균 점수 예측하기 (선형 회귀)\n",
    "\n",
    "\n",
    "- 유사한 학습 횟수를 가지는 학생 군집화"
   ]
  },
  {
   "cell_type": "markdown",
   "id": "95e5c7fa",
   "metadata": {
    "id": "95e5c7fa"
   },
   "source": [
    "## 3. 학생별 과목별 점수 데이터"
   ]
  },
  {
   "cell_type": "markdown",
   "id": "9e7fba73",
   "metadata": {
    "id": "9e7fba73"
   },
   "source": [
    "4일차 GMM을 통한 학생 수준별 군집화 실습을 통해 사용했던 데이터! --> 중1 데이터\n",
    "\n",
    "\n",
    "본 데이터는 중2 데이터"
   ]
  },
  {
   "cell_type": "markdown",
   "id": "e32476bd",
   "metadata": {
    "id": "e32476bd"
   },
   "source": [
    "### 3-1. 데이터 불러오기"
   ]
  },
  {
   "cell_type": "code",
   "execution_count": null,
   "id": "d289199c",
   "metadata": {
    "colab": {
     "base_uri": "https://localhost:8080/",
     "height": 206
    },
    "executionInfo": {
     "elapsed": 650,
     "status": "ok",
     "timestamp": 1678346533746,
     "user": {
      "displayName": "박나연",
      "userId": "09406148759772297697"
     },
     "user_tz": -540
    },
    "id": "d289199c",
    "outputId": "38749f18-2d2b-48b8-ec30-6ef2b38194fb"
   },
   "outputs": [
    {
     "data": {
      "text/html": [
       "\n",
       "  <div id=\"df-1ea85665-2f02-42dd-a58a-6b1c9c44c9c7\">\n",
       "    <div class=\"colab-df-container\">\n",
       "      <div>\n",
       "<style scoped>\n",
       "    .dataframe tbody tr th:only-of-type {\n",
       "        vertical-align: middle;\n",
       "    }\n",
       "\n",
       "    .dataframe tbody tr th {\n",
       "        vertical-align: top;\n",
       "    }\n",
       "\n",
       "    .dataframe thead th {\n",
       "        text-align: right;\n",
       "    }\n",
       "</style>\n",
       "<table border=\"1\" class=\"dataframe\">\n",
       "  <thead>\n",
       "    <tr style=\"text-align: right;\">\n",
       "      <th></th>\n",
       "      <th>응시기간</th>\n",
       "      <th>시험명</th>\n",
       "      <th>학년</th>\n",
       "      <th>응시일자</th>\n",
       "      <th>전체</th>\n",
       "      <th>국어</th>\n",
       "      <th>영어</th>\n",
       "      <th>수학</th>\n",
       "      <th>과학</th>\n",
       "      <th>사회</th>\n",
       "      <th>역사</th>\n",
       "    </tr>\n",
       "  </thead>\n",
       "  <tbody>\n",
       "    <tr>\n",
       "      <th>0</th>\n",
       "      <td>2021. 12 ~2022. 12</td>\n",
       "      <td>AI진단평가</td>\n",
       "      <td>중2</td>\n",
       "      <td>2021-12-23 00:00:00</td>\n",
       "      <td>338</td>\n",
       "      <td>68</td>\n",
       "      <td>93.0</td>\n",
       "      <td>71.0</td>\n",
       "      <td>NaN</td>\n",
       "      <td>53.0</td>\n",
       "      <td>53.0</td>\n",
       "    </tr>\n",
       "    <tr>\n",
       "      <th>1</th>\n",
       "      <td>2021. 12 ~2022. 12</td>\n",
       "      <td>AI진단평가</td>\n",
       "      <td>중2</td>\n",
       "      <td>2021-12-23 00:00:00</td>\n",
       "      <td>50</td>\n",
       "      <td>18</td>\n",
       "      <td>0.0</td>\n",
       "      <td>9.0</td>\n",
       "      <td>NaN</td>\n",
       "      <td>23.0</td>\n",
       "      <td>NaN</td>\n",
       "    </tr>\n",
       "    <tr>\n",
       "      <th>2</th>\n",
       "      <td>2021. 12 ~2022. 12</td>\n",
       "      <td>AI진단평가</td>\n",
       "      <td>중2</td>\n",
       "      <td>2021-12-23 00:00:00</td>\n",
       "      <td>65</td>\n",
       "      <td>29</td>\n",
       "      <td>36.0</td>\n",
       "      <td>NaN</td>\n",
       "      <td>NaN</td>\n",
       "      <td>NaN</td>\n",
       "      <td>NaN</td>\n",
       "    </tr>\n",
       "    <tr>\n",
       "      <th>3</th>\n",
       "      <td>2021. 12 ~2022. 12</td>\n",
       "      <td>AI진단평가</td>\n",
       "      <td>중2</td>\n",
       "      <td>2021-12-24 00:00:00</td>\n",
       "      <td>276</td>\n",
       "      <td>75</td>\n",
       "      <td>72.0</td>\n",
       "      <td>76.0</td>\n",
       "      <td>NaN</td>\n",
       "      <td>38.0</td>\n",
       "      <td>15.0</td>\n",
       "    </tr>\n",
       "    <tr>\n",
       "      <th>4</th>\n",
       "      <td>2021. 12 ~2022. 12</td>\n",
       "      <td>AI진단평가</td>\n",
       "      <td>중2</td>\n",
       "      <td>2021-12-26 00:00:00</td>\n",
       "      <td>29</td>\n",
       "      <td>29</td>\n",
       "      <td>0.0</td>\n",
       "      <td>0.0</td>\n",
       "      <td>NaN</td>\n",
       "      <td>0.0</td>\n",
       "      <td>0.0</td>\n",
       "    </tr>\n",
       "  </tbody>\n",
       "</table>\n",
       "</div>\n",
       "      <button class=\"colab-df-convert\" onclick=\"convertToInteractive('df-1ea85665-2f02-42dd-a58a-6b1c9c44c9c7')\"\n",
       "              title=\"Convert this dataframe to an interactive table.\"\n",
       "              style=\"display:none;\">\n",
       "        \n",
       "  <svg xmlns=\"http://www.w3.org/2000/svg\" height=\"24px\"viewBox=\"0 0 24 24\"\n",
       "       width=\"24px\">\n",
       "    <path d=\"M0 0h24v24H0V0z\" fill=\"none\"/>\n",
       "    <path d=\"M18.56 5.44l.94 2.06.94-2.06 2.06-.94-2.06-.94-.94-2.06-.94 2.06-2.06.94zm-11 1L8.5 8.5l.94-2.06 2.06-.94-2.06-.94L8.5 2.5l-.94 2.06-2.06.94zm10 10l.94 2.06.94-2.06 2.06-.94-2.06-.94-.94-2.06-.94 2.06-2.06.94z\"/><path d=\"M17.41 7.96l-1.37-1.37c-.4-.4-.92-.59-1.43-.59-.52 0-1.04.2-1.43.59L10.3 9.45l-7.72 7.72c-.78.78-.78 2.05 0 2.83L4 21.41c.39.39.9.59 1.41.59.51 0 1.02-.2 1.41-.59l7.78-7.78 2.81-2.81c.8-.78.8-2.07 0-2.86zM5.41 20L4 18.59l7.72-7.72 1.47 1.35L5.41 20z\"/>\n",
       "  </svg>\n",
       "      </button>\n",
       "      \n",
       "  <style>\n",
       "    .colab-df-container {\n",
       "      display:flex;\n",
       "      flex-wrap:wrap;\n",
       "      gap: 12px;\n",
       "    }\n",
       "\n",
       "    .colab-df-convert {\n",
       "      background-color: #E8F0FE;\n",
       "      border: none;\n",
       "      border-radius: 50%;\n",
       "      cursor: pointer;\n",
       "      display: none;\n",
       "      fill: #1967D2;\n",
       "      height: 32px;\n",
       "      padding: 0 0 0 0;\n",
       "      width: 32px;\n",
       "    }\n",
       "\n",
       "    .colab-df-convert:hover {\n",
       "      background-color: #E2EBFA;\n",
       "      box-shadow: 0px 1px 2px rgba(60, 64, 67, 0.3), 0px 1px 3px 1px rgba(60, 64, 67, 0.15);\n",
       "      fill: #174EA6;\n",
       "    }\n",
       "\n",
       "    [theme=dark] .colab-df-convert {\n",
       "      background-color: #3B4455;\n",
       "      fill: #D2E3FC;\n",
       "    }\n",
       "\n",
       "    [theme=dark] .colab-df-convert:hover {\n",
       "      background-color: #434B5C;\n",
       "      box-shadow: 0px 1px 3px 1px rgba(0, 0, 0, 0.15);\n",
       "      filter: drop-shadow(0px 1px 2px rgba(0, 0, 0, 0.3));\n",
       "      fill: #FFFFFF;\n",
       "    }\n",
       "  </style>\n",
       "\n",
       "      <script>\n",
       "        const buttonEl =\n",
       "          document.querySelector('#df-1ea85665-2f02-42dd-a58a-6b1c9c44c9c7 button.colab-df-convert');\n",
       "        buttonEl.style.display =\n",
       "          google.colab.kernel.accessAllowed ? 'block' : 'none';\n",
       "\n",
       "        async function convertToInteractive(key) {\n",
       "          const element = document.querySelector('#df-1ea85665-2f02-42dd-a58a-6b1c9c44c9c7');\n",
       "          const dataTable =\n",
       "            await google.colab.kernel.invokeFunction('convertToInteractive',\n",
       "                                                     [key], {});\n",
       "          if (!dataTable) return;\n",
       "\n",
       "          const docLinkHtml = 'Like what you see? Visit the ' +\n",
       "            '<a target=\"_blank\" href=https://colab.research.google.com/notebooks/data_table.ipynb>data table notebook</a>'\n",
       "            + ' to learn more about interactive tables.';\n",
       "          element.innerHTML = '';\n",
       "          dataTable['output_type'] = 'display_data';\n",
       "          await google.colab.output.renderOutput(dataTable, element);\n",
       "          const docLink = document.createElement('div');\n",
       "          docLink.innerHTML = docLinkHtml;\n",
       "          element.appendChild(docLink);\n",
       "        }\n",
       "      </script>\n",
       "    </div>\n",
       "  </div>\n",
       "  "
      ],
      "text/plain": [
       "                 응시기간     시험명  학년                 응시일자   전체  국어    영어    수학  \\\n",
       "0  2021. 12 ~2022. 12  AI진단평가  중2  2021-12-23 00:00:00  338  68  93.0  71.0   \n",
       "1  2021. 12 ~2022. 12  AI진단평가  중2  2021-12-23 00:00:00   50  18   0.0   9.0   \n",
       "2  2021. 12 ~2022. 12  AI진단평가  중2  2021-12-23 00:00:00   65  29  36.0   NaN   \n",
       "3  2021. 12 ~2022. 12  AI진단평가  중2  2021-12-24 00:00:00  276  75  72.0  76.0   \n",
       "4  2021. 12 ~2022. 12  AI진단평가  중2  2021-12-26 00:00:00   29  29   0.0   0.0   \n",
       "\n",
       "   과학    사회    역사  \n",
       "0 NaN  53.0  53.0  \n",
       "1 NaN  23.0   NaN  \n",
       "2 NaN   NaN   NaN  \n",
       "3 NaN  38.0  15.0  \n",
       "4 NaN   0.0   0.0  "
      ]
     },
     "execution_count": 8,
     "metadata": {},
     "output_type": "execute_result"
    }
   ],
   "source": [
    "dataset3 = pd.read_csv('./datasets/중2_AI진단평가_과목별점수.csv',index_col=0)\n",
    "dataset3.head()"
   ]
  },
  {
   "cell_type": "markdown",
   "id": "ed5b46b1",
   "metadata": {
    "id": "ed5b46b1"
   },
   "source": [
    "### 3-2. 데이터 활용 아이디어"
   ]
  },
  {
   "cell_type": "markdown",
   "id": "b9b13b46",
   "metadata": {
    "id": "b9b13b46"
   },
   "source": [
    "- 데이터 핸들링 하기 (시각화, groupby 등 다양한 전처리 연습하기)\n",
    "\n",
    "\n",
    "- 유사 사용자 클러스터링 하기"
   ]
  }
 ],
 "metadata": {
  "colab": {
   "provenance": []
  },
  "kernelspec": {
   "display_name": "Python 3 (ipykernel)",
   "language": "python",
   "name": "python3"
  },
  "language_info": {
   "codemirror_mode": {
    "name": "ipython",
    "version": 3
   },
   "file_extension": ".py",
   "mimetype": "text/x-python",
   "name": "python",
   "nbconvert_exporter": "python",
   "pygments_lexer": "ipython3",
   "version": "3.10.9"
  }
 },
 "nbformat": 4,
 "nbformat_minor": 5
}
