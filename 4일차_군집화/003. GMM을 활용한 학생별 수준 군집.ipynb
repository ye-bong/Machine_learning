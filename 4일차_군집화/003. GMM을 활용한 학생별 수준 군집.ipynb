{
 "cells": [
  {
   "cell_type": "markdown",
   "id": "d9d1332b",
   "metadata": {
    "id": "d9d1332b"
   },
   "source": [
    "## GMM 모델 적용 예시(iris 데이터)"
   ]
  },
  {
   "cell_type": "code",
   "execution_count": 2,
   "id": "e9a1702c",
   "metadata": {
    "executionInfo": {
     "elapsed": 2529,
     "status": "ok",
     "timestamp": 1693401147913,
     "user": {
      "displayName": "박나연",
      "userId": "15219795176792784727"
     },
     "user_tz": -540
    },
    "id": "e9a1702c"
   },
   "outputs": [],
   "source": [
    "from sklearn.mixture import GaussianMixture\n",
    "import matplotlib.pyplot as plt\n",
    "import seaborn as sns"
   ]
  },
  {
   "cell_type": "code",
   "execution_count": 3,
   "id": "fd7f6d56",
   "metadata": {
    "executionInfo": {
     "elapsed": 5,
     "status": "ok",
     "timestamp": 1693401147913,
     "user": {
      "displayName": "박나연",
      "userId": "15219795176792784727"
     },
     "user_tz": -540
    },
    "id": "fd7f6d56"
   },
   "outputs": [],
   "source": [
    "from sklearn.datasets import load_iris\n",
    "from sklearn.cluster import KMeans\n",
    "\n",
    "import matplotlib.pyplot as plt\n",
    "import numpy as np\n",
    "import pandas as pd\n",
    "%matplotlib inline\n",
    "\n",
    "iris = load_iris()\n",
    "feature_names = ['sepal_length', 'sepal_width', 'petal_length', 'petal_width']\n",
    "\n",
    "irisDF = pd.DataFrame(data = iris.data, columns=feature_names)\n",
    "irisDF['target'] = iris.target"
   ]
  },
  {
   "cell_type": "code",
   "execution_count": 4,
   "id": "2b5900e4",
   "metadata": {
    "colab": {
     "base_uri": "https://localhost:8080/"
    },
    "executionInfo": {
     "elapsed": 516,
     "status": "ok",
     "timestamp": 1693401148426,
     "user": {
      "displayName": "박나연",
      "userId": "15219795176792784727"
     },
     "user_tz": -540
    },
    "id": "2b5900e4",
    "outputId": "45f59057-2753-4287-abe9-17ab77565aba"
   },
   "outputs": [
    {
     "name": "stdout",
     "output_type": "stream",
     "text": [
      "target  gmm_cluster\n",
      "0       1              50\n",
      "1       2              45\n",
      "        0               5\n",
      "2       0              50\n",
      "Name: gmm_cluster, dtype: int64\n"
     ]
    }
   ],
   "source": [
    "gmm = GaussianMixture(n_components=3, random_state = 42)\n",
    "gmm_labels = gmm.fit_predict(iris.data)\n",
    "\n",
    "irisDF['gmm_cluster'] = gmm_labels\n",
    "\n",
    "print(irisDF.groupby('target')['gmm_cluster'].value_counts())"
   ]
  },
  {
   "cell_type": "code",
   "execution_count": 5,
   "id": "508e3dd9",
   "metadata": {
    "colab": {
     "base_uri": "https://localhost:8080/",
     "height": 423
    },
    "executionInfo": {
     "elapsed": 5,
     "status": "ok",
     "timestamp": 1693401148426,
     "user": {
      "displayName": "박나연",
      "userId": "15219795176792784727"
     },
     "user_tz": -540
    },
    "id": "508e3dd9",
    "outputId": "0d59ad71-c01b-4b55-dbb2-e6729da8f7b3"
   },
   "outputs": [
    {
     "data": {
      "text/html": [
       "\n",
       "  <div id=\"df-bbddec34-378f-40b3-b6f3-077d3e83c635\" class=\"colab-df-container\">\n",
       "    <div>\n",
       "<style scoped>\n",
       "    .dataframe tbody tr th:only-of-type {\n",
       "        vertical-align: middle;\n",
       "    }\n",
       "\n",
       "    .dataframe tbody tr th {\n",
       "        vertical-align: top;\n",
       "    }\n",
       "\n",
       "    .dataframe thead th {\n",
       "        text-align: right;\n",
       "    }\n",
       "</style>\n",
       "<table border=\"1\" class=\"dataframe\">\n",
       "  <thead>\n",
       "    <tr style=\"text-align: right;\">\n",
       "      <th></th>\n",
       "      <th>sepal_length</th>\n",
       "      <th>sepal_width</th>\n",
       "      <th>petal_length</th>\n",
       "      <th>petal_width</th>\n",
       "      <th>target</th>\n",
       "      <th>gmm_cluster</th>\n",
       "    </tr>\n",
       "  </thead>\n",
       "  <tbody>\n",
       "    <tr>\n",
       "      <th>0</th>\n",
       "      <td>5.1</td>\n",
       "      <td>3.5</td>\n",
       "      <td>1.4</td>\n",
       "      <td>0.2</td>\n",
       "      <td>0</td>\n",
       "      <td>1</td>\n",
       "    </tr>\n",
       "    <tr>\n",
       "      <th>1</th>\n",
       "      <td>4.9</td>\n",
       "      <td>3.0</td>\n",
       "      <td>1.4</td>\n",
       "      <td>0.2</td>\n",
       "      <td>0</td>\n",
       "      <td>1</td>\n",
       "    </tr>\n",
       "    <tr>\n",
       "      <th>2</th>\n",
       "      <td>4.7</td>\n",
       "      <td>3.2</td>\n",
       "      <td>1.3</td>\n",
       "      <td>0.2</td>\n",
       "      <td>0</td>\n",
       "      <td>1</td>\n",
       "    </tr>\n",
       "    <tr>\n",
       "      <th>3</th>\n",
       "      <td>4.6</td>\n",
       "      <td>3.1</td>\n",
       "      <td>1.5</td>\n",
       "      <td>0.2</td>\n",
       "      <td>0</td>\n",
       "      <td>1</td>\n",
       "    </tr>\n",
       "    <tr>\n",
       "      <th>4</th>\n",
       "      <td>5.0</td>\n",
       "      <td>3.6</td>\n",
       "      <td>1.4</td>\n",
       "      <td>0.2</td>\n",
       "      <td>0</td>\n",
       "      <td>1</td>\n",
       "    </tr>\n",
       "    <tr>\n",
       "      <th>...</th>\n",
       "      <td>...</td>\n",
       "      <td>...</td>\n",
       "      <td>...</td>\n",
       "      <td>...</td>\n",
       "      <td>...</td>\n",
       "      <td>...</td>\n",
       "    </tr>\n",
       "    <tr>\n",
       "      <th>145</th>\n",
       "      <td>6.7</td>\n",
       "      <td>3.0</td>\n",
       "      <td>5.2</td>\n",
       "      <td>2.3</td>\n",
       "      <td>2</td>\n",
       "      <td>0</td>\n",
       "    </tr>\n",
       "    <tr>\n",
       "      <th>146</th>\n",
       "      <td>6.3</td>\n",
       "      <td>2.5</td>\n",
       "      <td>5.0</td>\n",
       "      <td>1.9</td>\n",
       "      <td>2</td>\n",
       "      <td>0</td>\n",
       "    </tr>\n",
       "    <tr>\n",
       "      <th>147</th>\n",
       "      <td>6.5</td>\n",
       "      <td>3.0</td>\n",
       "      <td>5.2</td>\n",
       "      <td>2.0</td>\n",
       "      <td>2</td>\n",
       "      <td>0</td>\n",
       "    </tr>\n",
       "    <tr>\n",
       "      <th>148</th>\n",
       "      <td>6.2</td>\n",
       "      <td>3.4</td>\n",
       "      <td>5.4</td>\n",
       "      <td>2.3</td>\n",
       "      <td>2</td>\n",
       "      <td>0</td>\n",
       "    </tr>\n",
       "    <tr>\n",
       "      <th>149</th>\n",
       "      <td>5.9</td>\n",
       "      <td>3.0</td>\n",
       "      <td>5.1</td>\n",
       "      <td>1.8</td>\n",
       "      <td>2</td>\n",
       "      <td>0</td>\n",
       "    </tr>\n",
       "  </tbody>\n",
       "</table>\n",
       "<p>150 rows × 6 columns</p>\n",
       "</div>\n",
       "    <div class=\"colab-df-buttons\">\n",
       "\n",
       "  <div class=\"colab-df-container\">\n",
       "    <button class=\"colab-df-convert\" onclick=\"convertToInteractive('df-bbddec34-378f-40b3-b6f3-077d3e83c635')\"\n",
       "            title=\"Convert this dataframe to an interactive table.\"\n",
       "            style=\"display:none;\">\n",
       "\n",
       "  <svg xmlns=\"http://www.w3.org/2000/svg\" height=\"24px\" viewBox=\"0 -960 960 960\">\n",
       "    <path d=\"M120-120v-720h720v720H120Zm60-500h600v-160H180v160Zm220 220h160v-160H400v160Zm0 220h160v-160H400v160ZM180-400h160v-160H180v160Zm440 0h160v-160H620v160ZM180-180h160v-160H180v160Zm440 0h160v-160H620v160Z\"/>\n",
       "  </svg>\n",
       "    </button>\n",
       "\n",
       "  <style>\n",
       "    .colab-df-container {\n",
       "      display:flex;\n",
       "      gap: 12px;\n",
       "    }\n",
       "\n",
       "    .colab-df-convert {\n",
       "      background-color: #E8F0FE;\n",
       "      border: none;\n",
       "      border-radius: 50%;\n",
       "      cursor: pointer;\n",
       "      display: none;\n",
       "      fill: #1967D2;\n",
       "      height: 32px;\n",
       "      padding: 0 0 0 0;\n",
       "      width: 32px;\n",
       "    }\n",
       "\n",
       "    .colab-df-convert:hover {\n",
       "      background-color: #E2EBFA;\n",
       "      box-shadow: 0px 1px 2px rgba(60, 64, 67, 0.3), 0px 1px 3px 1px rgba(60, 64, 67, 0.15);\n",
       "      fill: #174EA6;\n",
       "    }\n",
       "\n",
       "    .colab-df-buttons div {\n",
       "      margin-bottom: 4px;\n",
       "    }\n",
       "\n",
       "    [theme=dark] .colab-df-convert {\n",
       "      background-color: #3B4455;\n",
       "      fill: #D2E3FC;\n",
       "    }\n",
       "\n",
       "    [theme=dark] .colab-df-convert:hover {\n",
       "      background-color: #434B5C;\n",
       "      box-shadow: 0px 1px 3px 1px rgba(0, 0, 0, 0.15);\n",
       "      filter: drop-shadow(0px 1px 2px rgba(0, 0, 0, 0.3));\n",
       "      fill: #FFFFFF;\n",
       "    }\n",
       "  </style>\n",
       "\n",
       "    <script>\n",
       "      const buttonEl =\n",
       "        document.querySelector('#df-bbddec34-378f-40b3-b6f3-077d3e83c635 button.colab-df-convert');\n",
       "      buttonEl.style.display =\n",
       "        google.colab.kernel.accessAllowed ? 'block' : 'none';\n",
       "\n",
       "      async function convertToInteractive(key) {\n",
       "        const element = document.querySelector('#df-bbddec34-378f-40b3-b6f3-077d3e83c635');\n",
       "        const dataTable =\n",
       "          await google.colab.kernel.invokeFunction('convertToInteractive',\n",
       "                                                    [key], {});\n",
       "        if (!dataTable) return;\n",
       "\n",
       "        const docLinkHtml = 'Like what you see? Visit the ' +\n",
       "          '<a target=\"_blank\" href=https://colab.research.google.com/notebooks/data_table.ipynb>data table notebook</a>'\n",
       "          + ' to learn more about interactive tables.';\n",
       "        element.innerHTML = '';\n",
       "        dataTable['output_type'] = 'display_data';\n",
       "        await google.colab.output.renderOutput(dataTable, element);\n",
       "        const docLink = document.createElement('div');\n",
       "        docLink.innerHTML = docLinkHtml;\n",
       "        element.appendChild(docLink);\n",
       "      }\n",
       "    </script>\n",
       "  </div>\n",
       "\n",
       "\n",
       "<div id=\"df-2613fa3d-f996-4da2-8f01-034b5dd1e4fc\">\n",
       "  <button class=\"colab-df-quickchart\" onclick=\"quickchart('df-2613fa3d-f996-4da2-8f01-034b5dd1e4fc')\"\n",
       "            title=\"Suggest charts.\"\n",
       "            style=\"display:none;\">\n",
       "\n",
       "<svg xmlns=\"http://www.w3.org/2000/svg\" height=\"24px\"viewBox=\"0 0 24 24\"\n",
       "     width=\"24px\">\n",
       "    <g>\n",
       "        <path d=\"M19 3H5c-1.1 0-2 .9-2 2v14c0 1.1.9 2 2 2h14c1.1 0 2-.9 2-2V5c0-1.1-.9-2-2-2zM9 17H7v-7h2v7zm4 0h-2V7h2v10zm4 0h-2v-4h2v4z\"/>\n",
       "    </g>\n",
       "</svg>\n",
       "  </button>\n",
       "\n",
       "<style>\n",
       "  .colab-df-quickchart {\n",
       "    background-color: #E8F0FE;\n",
       "    border: none;\n",
       "    border-radius: 50%;\n",
       "    cursor: pointer;\n",
       "    display: none;\n",
       "    fill: #1967D2;\n",
       "    height: 32px;\n",
       "    padding: 0 0 0 0;\n",
       "    width: 32px;\n",
       "  }\n",
       "\n",
       "  .colab-df-quickchart:hover {\n",
       "    background-color: #E2EBFA;\n",
       "    box-shadow: 0px 1px 2px rgba(60, 64, 67, 0.3), 0px 1px 3px 1px rgba(60, 64, 67, 0.15);\n",
       "    fill: #174EA6;\n",
       "  }\n",
       "\n",
       "  [theme=dark] .colab-df-quickchart {\n",
       "    background-color: #3B4455;\n",
       "    fill: #D2E3FC;\n",
       "  }\n",
       "\n",
       "  [theme=dark] .colab-df-quickchart:hover {\n",
       "    background-color: #434B5C;\n",
       "    box-shadow: 0px 1px 3px 1px rgba(0, 0, 0, 0.15);\n",
       "    filter: drop-shadow(0px 1px 2px rgba(0, 0, 0, 0.3));\n",
       "    fill: #FFFFFF;\n",
       "  }\n",
       "</style>\n",
       "\n",
       "  <script>\n",
       "    async function quickchart(key) {\n",
       "      const charts = await google.colab.kernel.invokeFunction(\n",
       "          'suggestCharts', [key], {});\n",
       "    }\n",
       "    (() => {\n",
       "      let quickchartButtonEl =\n",
       "        document.querySelector('#df-2613fa3d-f996-4da2-8f01-034b5dd1e4fc button');\n",
       "      quickchartButtonEl.style.display =\n",
       "        google.colab.kernel.accessAllowed ? 'block' : 'none';\n",
       "    })();\n",
       "  </script>\n",
       "</div>\n",
       "    </div>\n",
       "  </div>\n"
      ],
      "text/plain": [
       "     sepal_length  sepal_width  petal_length  petal_width  target  gmm_cluster\n",
       "0             5.1          3.5           1.4          0.2       0            1\n",
       "1             4.9          3.0           1.4          0.2       0            1\n",
       "2             4.7          3.2           1.3          0.2       0            1\n",
       "3             4.6          3.1           1.5          0.2       0            1\n",
       "4             5.0          3.6           1.4          0.2       0            1\n",
       "..            ...          ...           ...          ...     ...          ...\n",
       "145           6.7          3.0           5.2          2.3       2            0\n",
       "146           6.3          2.5           5.0          1.9       2            0\n",
       "147           6.5          3.0           5.2          2.0       2            0\n",
       "148           6.2          3.4           5.4          2.3       2            0\n",
       "149           5.9          3.0           5.1          1.8       2            0\n",
       "\n",
       "[150 rows x 6 columns]"
      ]
     },
     "execution_count": 5,
     "metadata": {},
     "output_type": "execute_result"
    }
   ],
   "source": [
    "irisDF"
   ]
  },
  {
   "cell_type": "markdown",
   "id": "2f2a1576",
   "metadata": {
    "id": "2f2a1576"
   },
   "source": [
    "## 초등 학생별 수준 군집화"
   ]
  },
  {
   "cell_type": "code",
   "execution_count": 1,
   "id": "IXQUd7JN6lJF",
   "metadata": {
    "colab": {
     "base_uri": "https://localhost:8080/"
    },
    "executionInfo": {
     "elapsed": 19152,
     "status": "ok",
     "timestamp": 1693401145387,
     "user": {
      "displayName": "박나연",
      "userId": "15219795176792784727"
     },
     "user_tz": -540
    },
    "id": "IXQUd7JN6lJF",
    "outputId": "b4caafc4-fb4b-4ab3-f395-cb7c0b15d871"
   },
   "outputs": [
    {
     "name": "stdout",
     "output_type": "stream",
     "text": [
      "Mounted at /content/drive\n"
     ]
    }
   ],
   "source": [
    "from google.colab import drive\n",
    "drive.mount('/content/drive')"
   ]
  },
  {
   "cell_type": "code",
   "execution_count": 6,
   "id": "j2muK0n06j9c",
   "metadata": {
    "colab": {
     "base_uri": "https://localhost:8080/"
    },
    "executionInfo": {
     "elapsed": 341,
     "status": "ok",
     "timestamp": 1693401210309,
     "user": {
      "displayName": "박나연",
      "userId": "15219795176792784727"
     },
     "user_tz": -540
    },
    "id": "j2muK0n06j9c",
    "outputId": "e0209fc4-26f4-4250-d7e7-330e73e44f89"
   },
   "outputs": [
    {
     "name": "stdout",
     "output_type": "stream",
     "text": [
      "/content/drive/MyDrive/강의자료/머신러닝기초/4일차_차원축소와군집화\n"
     ]
    }
   ],
   "source": [
    "%cd /content/drive/MyDrive/강의자료/머신러닝기초/4일차_차원축소와군집화"
   ]
  },
  {
   "cell_type": "markdown",
   "id": "KLYHHRRHTKWX",
   "metadata": {
    "id": "KLYHHRRHTKWX"
   },
   "source": [
    "```python\n",
    "middle1_score_df = pd.read_csv('./datasets/중1_밀크T중학_AI진단평가_개인별전과목점수.csv',index_col=0)\n",
    "```"
   ]
  },
  {
   "cell_type": "code",
   "execution_count": 5,
   "id": "79036d97",
   "metadata": {
    "executionInfo": {
     "elapsed": 479,
     "status": "ok",
     "timestamp": 1693401236559,
     "user": {
      "displayName": "박나연",
      "userId": "15219795176792784727"
     },
     "user_tz": -540
    },
    "id": "79036d97",
    "scrolled": false
   },
   "outputs": [
    {
     "data": {
      "text/html": [
       "<div>\n",
       "<style scoped>\n",
       "    .dataframe tbody tr th:only-of-type {\n",
       "        vertical-align: middle;\n",
       "    }\n",
       "\n",
       "    .dataframe tbody tr th {\n",
       "        vertical-align: top;\n",
       "    }\n",
       "\n",
       "    .dataframe thead th {\n",
       "        text-align: right;\n",
       "    }\n",
       "</style>\n",
       "<table border=\"1\" class=\"dataframe\">\n",
       "  <thead>\n",
       "    <tr style=\"text-align: right;\">\n",
       "      <th></th>\n",
       "      <th>시험명</th>\n",
       "      <th>전체</th>\n",
       "      <th>국어</th>\n",
       "      <th>영어</th>\n",
       "      <th>수학</th>\n",
       "      <th>과학</th>\n",
       "      <th>사회</th>\n",
       "      <th>역사</th>\n",
       "      <th>평균</th>\n",
       "    </tr>\n",
       "  </thead>\n",
       "  <tbody>\n",
       "    <tr>\n",
       "      <th>0</th>\n",
       "      <td>AI진단평가</td>\n",
       "      <td>173</td>\n",
       "      <td>22.0</td>\n",
       "      <td>65.0</td>\n",
       "      <td>41.0</td>\n",
       "      <td>30.0</td>\n",
       "      <td>15.0</td>\n",
       "      <td>NaN</td>\n",
       "      <td>34.6</td>\n",
       "    </tr>\n",
       "    <tr>\n",
       "      <th>1</th>\n",
       "      <td>AI진단평가</td>\n",
       "      <td>47</td>\n",
       "      <td>47.0</td>\n",
       "      <td>0.0</td>\n",
       "      <td>0.0</td>\n",
       "      <td>0.0</td>\n",
       "      <td>0.0</td>\n",
       "      <td>NaN</td>\n",
       "      <td>9.4</td>\n",
       "    </tr>\n",
       "    <tr>\n",
       "      <th>2</th>\n",
       "      <td>AI진단평가</td>\n",
       "      <td>68</td>\n",
       "      <td>68.0</td>\n",
       "      <td>0.0</td>\n",
       "      <td>0.0</td>\n",
       "      <td>0.0</td>\n",
       "      <td>0.0</td>\n",
       "      <td>NaN</td>\n",
       "      <td>13.6</td>\n",
       "    </tr>\n",
       "    <tr>\n",
       "      <th>3</th>\n",
       "      <td>AI진단평가</td>\n",
       "      <td>324</td>\n",
       "      <td>68.0</td>\n",
       "      <td>86.0</td>\n",
       "      <td>57.0</td>\n",
       "      <td>15.0</td>\n",
       "      <td>53.0</td>\n",
       "      <td>45.0</td>\n",
       "      <td>54.0</td>\n",
       "    </tr>\n",
       "    <tr>\n",
       "      <th>4</th>\n",
       "      <td>AI진단평가</td>\n",
       "      <td>312</td>\n",
       "      <td>93.0</td>\n",
       "      <td>93.0</td>\n",
       "      <td>57.0</td>\n",
       "      <td>46.0</td>\n",
       "      <td>23.0</td>\n",
       "      <td>NaN</td>\n",
       "      <td>62.4</td>\n",
       "    </tr>\n",
       "    <tr>\n",
       "      <th>...</th>\n",
       "      <td>...</td>\n",
       "      <td>...</td>\n",
       "      <td>...</td>\n",
       "      <td>...</td>\n",
       "      <td>...</td>\n",
       "      <td>...</td>\n",
       "      <td>...</td>\n",
       "      <td>...</td>\n",
       "      <td>...</td>\n",
       "    </tr>\n",
       "    <tr>\n",
       "      <th>3524</th>\n",
       "      <td>AI진단평가</td>\n",
       "      <td>170</td>\n",
       "      <td>47.0</td>\n",
       "      <td>29.0</td>\n",
       "      <td>41.0</td>\n",
       "      <td>38.0</td>\n",
       "      <td>15.0</td>\n",
       "      <td>NaN</td>\n",
       "      <td>34.0</td>\n",
       "    </tr>\n",
       "    <tr>\n",
       "      <th>3525</th>\n",
       "      <td>AI진단평가</td>\n",
       "      <td>101</td>\n",
       "      <td>61.0</td>\n",
       "      <td>40.0</td>\n",
       "      <td>0.0</td>\n",
       "      <td>0.0</td>\n",
       "      <td>0.0</td>\n",
       "      <td>NaN</td>\n",
       "      <td>20.2</td>\n",
       "    </tr>\n",
       "    <tr>\n",
       "      <th>3526</th>\n",
       "      <td>AI진단평가</td>\n",
       "      <td>293</td>\n",
       "      <td>79.0</td>\n",
       "      <td>93.0</td>\n",
       "      <td>23.0</td>\n",
       "      <td>45.0</td>\n",
       "      <td>53.0</td>\n",
       "      <td>NaN</td>\n",
       "      <td>58.6</td>\n",
       "    </tr>\n",
       "    <tr>\n",
       "      <th>3527</th>\n",
       "      <td>AI진단평가</td>\n",
       "      <td>326</td>\n",
       "      <td>58.0</td>\n",
       "      <td>72.0</td>\n",
       "      <td>32.0</td>\n",
       "      <td>82.0</td>\n",
       "      <td>82.0</td>\n",
       "      <td>NaN</td>\n",
       "      <td>65.2</td>\n",
       "    </tr>\n",
       "    <tr>\n",
       "      <th>3528</th>\n",
       "      <td>AI진단평가</td>\n",
       "      <td>403</td>\n",
       "      <td>72.0</td>\n",
       "      <td>100.0</td>\n",
       "      <td>88.0</td>\n",
       "      <td>53.0</td>\n",
       "      <td>90.0</td>\n",
       "      <td>NaN</td>\n",
       "      <td>80.6</td>\n",
       "    </tr>\n",
       "  </tbody>\n",
       "</table>\n",
       "<p>3529 rows × 9 columns</p>\n",
       "</div>"
      ],
      "text/plain": [
       "         시험명   전체    국어     영어    수학    과학    사회    역사    평균\n",
       "0     AI진단평가  173  22.0   65.0  41.0  30.0  15.0   NaN  34.6\n",
       "1     AI진단평가   47  47.0    0.0   0.0   0.0   0.0   NaN   9.4\n",
       "2     AI진단평가   68  68.0    0.0   0.0   0.0   0.0   NaN  13.6\n",
       "3     AI진단평가  324  68.0   86.0  57.0  15.0  53.0  45.0  54.0\n",
       "4     AI진단평가  312  93.0   93.0  57.0  46.0  23.0   NaN  62.4\n",
       "...      ...  ...   ...    ...   ...   ...   ...   ...   ...\n",
       "3524  AI진단평가  170  47.0   29.0  41.0  38.0  15.0   NaN  34.0\n",
       "3525  AI진단평가  101  61.0   40.0   0.0   0.0   0.0   NaN  20.2\n",
       "3526  AI진단평가  293  79.0   93.0  23.0  45.0  53.0   NaN  58.6\n",
       "3527  AI진단평가  326  58.0   72.0  32.0  82.0  82.0   NaN  65.2\n",
       "3528  AI진단평가  403  72.0  100.0  88.0  53.0  90.0   NaN  80.6\n",
       "\n",
       "[3529 rows x 9 columns]"
      ]
     },
     "execution_count": 5,
     "metadata": {},
     "output_type": "execute_result"
    }
   ],
   "source": [
    "middle1_score_df = pd.read_csv('./datasets/중1_밀크T중학_AI진단평가_개인별전과목점수.csv',index_col=0)\n",
    "middle1_score_df"
   ]
  },
  {
   "cell_type": "markdown",
   "id": "iSTKDgu7TL9l",
   "metadata": {
    "id": "iSTKDgu7TL9l"
   },
   "source": [
    "```python\n",
    "middle1_score_df[['국어','영어','수학','과학','사회','역사']].dropna()\n",
    "```"
   ]
  },
  {
   "cell_type": "code",
   "execution_count": 6,
   "id": "f4KYfs7iBcv-",
   "metadata": {
    "id": "f4KYfs7iBcv-"
   },
   "outputs": [
    {
     "data": {
      "text/html": [
       "<div>\n",
       "<style scoped>\n",
       "    .dataframe tbody tr th:only-of-type {\n",
       "        vertical-align: middle;\n",
       "    }\n",
       "\n",
       "    .dataframe tbody tr th {\n",
       "        vertical-align: top;\n",
       "    }\n",
       "\n",
       "    .dataframe thead th {\n",
       "        text-align: right;\n",
       "    }\n",
       "</style>\n",
       "<table border=\"1\" class=\"dataframe\">\n",
       "  <thead>\n",
       "    <tr style=\"text-align: right;\">\n",
       "      <th></th>\n",
       "      <th>국어</th>\n",
       "      <th>영어</th>\n",
       "      <th>수학</th>\n",
       "      <th>과학</th>\n",
       "      <th>사회</th>\n",
       "      <th>역사</th>\n",
       "    </tr>\n",
       "  </thead>\n",
       "  <tbody>\n",
       "    <tr>\n",
       "      <th>3</th>\n",
       "      <td>68.0</td>\n",
       "      <td>86.0</td>\n",
       "      <td>57.0</td>\n",
       "      <td>15.0</td>\n",
       "      <td>53.0</td>\n",
       "      <td>45.0</td>\n",
       "    </tr>\n",
       "    <tr>\n",
       "      <th>10</th>\n",
       "      <td>79.0</td>\n",
       "      <td>93.0</td>\n",
       "      <td>46.0</td>\n",
       "      <td>30.0</td>\n",
       "      <td>45.0</td>\n",
       "      <td>15.0</td>\n",
       "    </tr>\n",
       "    <tr>\n",
       "      <th>13</th>\n",
       "      <td>93.0</td>\n",
       "      <td>100.0</td>\n",
       "      <td>48.0</td>\n",
       "      <td>56.0</td>\n",
       "      <td>63.0</td>\n",
       "      <td>100.0</td>\n",
       "    </tr>\n",
       "    <tr>\n",
       "      <th>23</th>\n",
       "      <td>100.0</td>\n",
       "      <td>100.0</td>\n",
       "      <td>88.0</td>\n",
       "      <td>61.0</td>\n",
       "      <td>90.0</td>\n",
       "      <td>33.0</td>\n",
       "    </tr>\n",
       "    <tr>\n",
       "      <th>32</th>\n",
       "      <td>93.0</td>\n",
       "      <td>100.0</td>\n",
       "      <td>65.0</td>\n",
       "      <td>53.0</td>\n",
       "      <td>45.0</td>\n",
       "      <td>90.0</td>\n",
       "    </tr>\n",
       "    <tr>\n",
       "      <th>...</th>\n",
       "      <td>...</td>\n",
       "      <td>...</td>\n",
       "      <td>...</td>\n",
       "      <td>...</td>\n",
       "      <td>...</td>\n",
       "      <td>...</td>\n",
       "    </tr>\n",
       "    <tr>\n",
       "      <th>1888</th>\n",
       "      <td>86.0</td>\n",
       "      <td>68.0</td>\n",
       "      <td>94.0</td>\n",
       "      <td>90.0</td>\n",
       "      <td>100.0</td>\n",
       "      <td>79.0</td>\n",
       "    </tr>\n",
       "    <tr>\n",
       "      <th>2014</th>\n",
       "      <td>65.0</td>\n",
       "      <td>58.0</td>\n",
       "      <td>63.0</td>\n",
       "      <td>0.0</td>\n",
       "      <td>0.0</td>\n",
       "      <td>0.0</td>\n",
       "    </tr>\n",
       "    <tr>\n",
       "      <th>2349</th>\n",
       "      <td>54.0</td>\n",
       "      <td>79.0</td>\n",
       "      <td>51.0</td>\n",
       "      <td>90.0</td>\n",
       "      <td>90.0</td>\n",
       "      <td>71.0</td>\n",
       "    </tr>\n",
       "    <tr>\n",
       "      <th>3165</th>\n",
       "      <td>47.0</td>\n",
       "      <td>93.0</td>\n",
       "      <td>55.0</td>\n",
       "      <td>30.0</td>\n",
       "      <td>100.0</td>\n",
       "      <td>71.0</td>\n",
       "    </tr>\n",
       "    <tr>\n",
       "      <th>3472</th>\n",
       "      <td>86.0</td>\n",
       "      <td>72.0</td>\n",
       "      <td>66.0</td>\n",
       "      <td>90.0</td>\n",
       "      <td>61.0</td>\n",
       "      <td>56.0</td>\n",
       "    </tr>\n",
       "  </tbody>\n",
       "</table>\n",
       "<p>351 rows × 6 columns</p>\n",
       "</div>"
      ],
      "text/plain": [
       "         국어     영어    수학    과학     사회     역사\n",
       "3      68.0   86.0  57.0  15.0   53.0   45.0\n",
       "10     79.0   93.0  46.0  30.0   45.0   15.0\n",
       "13     93.0  100.0  48.0  56.0   63.0  100.0\n",
       "23    100.0  100.0  88.0  61.0   90.0   33.0\n",
       "32     93.0  100.0  65.0  53.0   45.0   90.0\n",
       "...     ...    ...   ...   ...    ...    ...\n",
       "1888   86.0   68.0  94.0  90.0  100.0   79.0\n",
       "2014   65.0   58.0  63.0   0.0    0.0    0.0\n",
       "2349   54.0   79.0  51.0  90.0   90.0   71.0\n",
       "3165   47.0   93.0  55.0  30.0  100.0   71.0\n",
       "3472   86.0   72.0  66.0  90.0   61.0   56.0\n",
       "\n",
       "[351 rows x 6 columns]"
      ]
     },
     "execution_count": 6,
     "metadata": {},
     "output_type": "execute_result"
    }
   ],
   "source": [
    "middle1_score_df[['국어','영어','수학','과학','사회','역사']].dropna()"
   ]
  },
  {
   "cell_type": "markdown",
   "id": "o8j98BxWTPdr",
   "metadata": {
    "id": "o8j98BxWTPdr"
   },
   "source": [
    "```python\n",
    "input_data = middle1_score_df[['국어','영어','수학','과학','사회','역사']].dropna()\n",
    "```"
   ]
  },
  {
   "cell_type": "code",
   "execution_count": 7,
   "id": "xwhwYxP-GLqC",
   "metadata": {
    "executionInfo": {
     "elapsed": 3,
     "status": "ok",
     "timestamp": 1693401243453,
     "user": {
      "displayName": "박나연",
      "userId": "15219795176792784727"
     },
     "user_tz": -540
    },
    "id": "xwhwYxP-GLqC"
   },
   "outputs": [],
   "source": [
    "input_data = middle1_score_df[['국어','영어','수학','과학','사회','역사']].dropna()"
   ]
  },
  {
   "cell_type": "code",
   "execution_count": 9,
   "id": "yIWenGS9h1kZ",
   "metadata": {
    "id": "yIWenGS9h1kZ"
   },
   "outputs": [],
   "source": [
    "# PCA 분석을 한번 해봄"
   ]
  },
  {
   "cell_type": "markdown",
   "id": "7MhfnssbTWs4",
   "metadata": {
    "id": "7MhfnssbTWs4"
   },
   "source": [
    "```python\n",
    "from sklearn.decomposition import PCA\n",
    "\n",
    "pca = PCA(n_components=2)\n",
    "\n",
    "#fit( )과 transform( ) 을 호출하여 PCA 변환 데이터 반환\n",
    "pca.fit(input_data)\n",
    "score_pca = pca.transform(input_data)\n",
    "print(score_pca.shape)\n",
    "```"
   ]
  },
  {
   "cell_type": "code",
   "execution_count": 8,
   "id": "iybwS-DK7D9v",
   "metadata": {
    "id": "iybwS-DK7D9v"
   },
   "outputs": [
    {
     "name": "stdout",
     "output_type": "stream",
     "text": [
      "(351, 2)\n"
     ]
    }
   ],
   "source": [
    "from sklearn.decomposition import PCA\n",
    "\n",
    "pca = PCA(n_components=2)\n",
    "\n",
    "#fit( )과 transform( ) 을 호출하여 PCA 변환 데이터 반환\n",
    "pca.fit(input_data)\n",
    "score_pca = pca.transform(input_data)\n",
    "print(score_pca.shape)"
   ]
  },
  {
   "cell_type": "markdown",
   "id": "aPPIGRLDTYVF",
   "metadata": {
    "id": "aPPIGRLDTYVF"
   },
   "source": [
    "```python\n",
    "print(pca.explained_variance_ratio_)\n",
    "```"
   ]
  },
  {
   "cell_type": "code",
   "execution_count": 10,
   "id": "Au3GecTu7brG",
   "metadata": {
    "id": "Au3GecTu7brG"
   },
   "outputs": [
    {
     "name": "stdout",
     "output_type": "stream",
     "text": [
      "[0.52882125 0.1496732 ]\n"
     ]
    }
   ],
   "source": [
    "print(pca.explained_variance_ratio_)"
   ]
  },
  {
   "cell_type": "markdown",
   "id": "jaGVkdIQTZ2k",
   "metadata": {
    "id": "jaGVkdIQTZ2k"
   },
   "source": [
    "```python\n",
    "# PCA 환된 데이터의 컬럼명을 각각 pca_component_1, pca_component_2로 명명\n",
    "pca_columns=['pca_component_1','pca_component_2']\n",
    "scoreDF_pca = pd.DataFrame(score_pca, columns=pca_columns)\n",
    "scoreDF_pca.head(3)\n",
    "```"
   ]
  },
  {
   "cell_type": "code",
   "execution_count": 11,
   "id": "CKA_4WFq7D6m",
   "metadata": {
    "id": "CKA_4WFq7D6m"
   },
   "outputs": [
    {
     "data": {
      "text/html": [
       "<div>\n",
       "<style scoped>\n",
       "    .dataframe tbody tr th:only-of-type {\n",
       "        vertical-align: middle;\n",
       "    }\n",
       "\n",
       "    .dataframe tbody tr th {\n",
       "        vertical-align: top;\n",
       "    }\n",
       "\n",
       "    .dataframe thead th {\n",
       "        text-align: right;\n",
       "    }\n",
       "</style>\n",
       "<table border=\"1\" class=\"dataframe\">\n",
       "  <thead>\n",
       "    <tr style=\"text-align: right;\">\n",
       "      <th></th>\n",
       "      <th>pca_component_1</th>\n",
       "      <th>pca_component_2</th>\n",
       "    </tr>\n",
       "  </thead>\n",
       "  <tbody>\n",
       "    <tr>\n",
       "      <th>0</th>\n",
       "      <td>37.776471</td>\n",
       "      <td>17.448316</td>\n",
       "    </tr>\n",
       "    <tr>\n",
       "      <th>1</th>\n",
       "      <td>51.757373</td>\n",
       "      <td>0.920640</td>\n",
       "    </tr>\n",
       "    <tr>\n",
       "      <th>2</th>\n",
       "      <td>-21.036371</td>\n",
       "      <td>48.266700</td>\n",
       "    </tr>\n",
       "  </tbody>\n",
       "</table>\n",
       "</div>"
      ],
      "text/plain": [
       "   pca_component_1  pca_component_2\n",
       "0        37.776471        17.448316\n",
       "1        51.757373         0.920640\n",
       "2       -21.036371        48.266700"
      ]
     },
     "execution_count": 11,
     "metadata": {},
     "output_type": "execute_result"
    }
   ],
   "source": [
    "# PCA 분석화된 데이터의 컬럼명을 각각 pca_component_1, pca_component_2로 명명\n",
    "pca_columns=['pca_component_1','pca_component_2']\n",
    "scoreDF_pca = pd.DataFrame(score_pca, columns=pca_columns)\n",
    "scoreDF_pca.head(3)"
   ]
  },
  {
   "cell_type": "markdown",
   "id": "2q_GGtEyTcHS",
   "metadata": {
    "id": "2q_GGtEyTcHS"
   },
   "source": [
    "```python\n",
    "x_axis_data = scoreDF_pca['pca_component_1']\n",
    "y_axis_data = scoreDF_pca['pca_component_2']\n",
    "plt.scatter(x_axis_data, y_axis_data, marker='o')\n",
    "\n",
    "plt.legend()\n",
    "plt.xlabel('pca_component_1')\n",
    "plt.ylabel('pca_component_2')\n",
    "plt.show()\n",
    "```"
   ]
  },
  {
   "cell_type": "code",
   "execution_count": 12,
   "id": "lMp_egUw7D35",
   "metadata": {
    "id": "lMp_egUw7D35"
   },
   "outputs": [
    {
     "name": "stderr",
     "output_type": "stream",
     "text": [
      "No artists with labels found to put in legend.  Note that artists whose label start with an underscore are ignored when legend() is called with no argument.\n"
     ]
    },
    {
     "data": {
      "image/png": "[encoded data removed]",
      "text/plain": [
       "<Figure size 640x480 with 1 Axes>"
      ]
     },
     "metadata": {},
     "output_type": "display_data"
    }
   ],
   "source": [
    "x_axis_data = scoreDF_pca['pca_component_1']\n",
    "y_axis_data = scoreDF_pca['pca_component_2']\n",
    "plt.scatter(x_axis_data, y_axis_data, marker='o')\n",
    "\n",
    "plt.legend()\n",
    "plt.xlabel('pca_component_1')\n",
    "plt.ylabel('pca_component_2')\n",
    "plt.show()"
   ]
  },
  {
   "cell_type": "markdown",
   "id": "zA8W76VKTeP0",
   "metadata": {
    "id": "zA8W76VKTeP0"
   },
   "source": [
    "```python\n",
    "gmm = GaussianMixture(n_components=3, random_state = 42)\n",
    "gmm_labels = gmm.fit_predict(scoreDF_pca)\n",
    "\n",
    "scoreDF_pca['gmm_cluster'] = gmm_labels\n",
    "```"
   ]
  },
  {
   "cell_type": "code",
   "execution_count": 13,
   "id": "CoBaKi0qnqM9",
   "metadata": {
    "id": "CoBaKi0qnqM9"
   },
   "outputs": [
    {
     "name": "stderr",
     "output_type": "stream",
     "text": [
      "C:\\ProgramData\\anaconda3\\lib\\site-packages\\sklearn\\cluster\\_kmeans.py:1382: UserWarning: KMeans is known to have a memory leak on Windows with MKL, when there are less chunks than available threads. You can avoid it by setting the environment variable OMP_NUM_THREADS=2.\n",
      "  warnings.warn(\n"
     ]
    },
    {
     "data": {
      "text/plain": [
       "array([0, 0, 0, 0, 0, 1, 2, 2, 2, 0, 0, 0, 2, 0, 0, 0, 0, 1, 0, 0, 1, 1,\n",
       "       0, 0, 0, 0, 1, 1, 0, 0, 1, 0, 0, 1, 1, 0, 1, 0, 1, 2, 1, 1, 1, 1,\n",
       "       0, 1, 0, 1, 0, 1, 1, 0, 0, 1, 0, 0, 0, 1, 0, 0, 1, 1, 1, 0, 1, 0,\n",
       "       1, 0, 0, 1, 1, 1, 0, 1, 1, 0, 1, 1, 1, 0, 1, 1, 0, 0, 0, 2, 1, 0,\n",
       "       0, 1, 0, 1, 0, 0, 0, 0, 0, 1, 1, 1, 0, 0, 0, 0, 1, 1, 0, 0, 1, 1,\n",
       "       0, 1, 0, 1, 0, 0, 0, 1, 0, 0, 1, 0, 0, 0, 1, 0, 1, 1, 0, 0, 1, 0,\n",
       "       0, 0, 1, 0, 0, 0, 1, 1, 0, 0, 1, 0, 1, 2, 1, 0, 1, 0, 1, 0, 0, 0,\n",
       "       0, 0, 0, 0, 1, 0, 1, 1, 1, 2, 1, 0, 0, 0, 2, 1, 1, 0, 1, 0, 1, 0,\n",
       "       0, 0, 0, 0, 0, 0, 0, 0, 1, 1, 1, 1, 0, 0, 2, 1, 0, 0, 2, 2, 1, 0,\n",
       "       0, 2, 1, 1, 1, 0, 1, 0, 0, 0, 0, 0, 1, 1, 1, 1, 0, 0, 1, 1, 1, 1,\n",
       "       0, 0, 1, 1, 0, 2, 0, 0, 1, 0, 2, 2, 0, 0, 0, 0, 0, 1, 1, 1, 0, 1,\n",
       "       0, 0, 0, 0, 0, 2, 1, 0, 1, 1, 1, 1, 2, 0, 1, 0, 0, 1, 2, 0, 1, 0,\n",
       "       1, 0, 1, 1, 0, 1, 1, 0, 0, 0, 0, 0, 0, 2, 1, 0, 0, 0, 1, 2, 2, 0,\n",
       "       0, 1, 0, 1, 0, 1, 0, 1, 1, 0, 0, 0, 0, 0, 0, 0, 0, 0, 0, 0, 1, 2,\n",
       "       2, 2, 0, 2, 0, 0, 0, 0, 0, 0, 0, 0, 0, 0, 0, 0, 2, 0, 0, 0, 0, 0,\n",
       "       2, 0, 1, 0, 1, 1, 0, 2, 0, 0, 0, 0, 2, 2, 2, 0, 1, 2, 1, 0, 0],\n",
       "      dtype=int64)"
      ]
     },
     "execution_count": 13,
     "metadata": {},
     "output_type": "execute_result"
    }
   ],
   "source": [
    "gmm = GaussianMixture(n_components=3, random_state = 42) # 학생들의 성적 수준을 상중하로 나눔\n",
    "gmm_labels = gmm.fit_predict(scoreDF_pca)\n",
    "gmm_labels"
   ]
  },
  {
   "cell_type": "code",
   "execution_count": 14,
   "id": "4db26d58",
   "metadata": {},
   "outputs": [],
   "source": [
    "scoreDF_pca['gmm_cluster'] = gmm_labels"
   ]
  },
  {
   "cell_type": "code",
   "execution_count": 15,
   "id": "d2adcfec",
   "metadata": {},
   "outputs": [
    {
     "data": {
      "text/html": [
       "<div>\n",
       "<style scoped>\n",
       "    .dataframe tbody tr th:only-of-type {\n",
       "        vertical-align: middle;\n",
       "    }\n",
       "\n",
       "    .dataframe tbody tr th {\n",
       "        vertical-align: top;\n",
       "    }\n",
       "\n",
       "    .dataframe thead th {\n",
       "        text-align: right;\n",
       "    }\n",
       "</style>\n",
       "<table border=\"1\" class=\"dataframe\">\n",
       "  <thead>\n",
       "    <tr style=\"text-align: right;\">\n",
       "      <th></th>\n",
       "      <th>pca_component_1</th>\n",
       "      <th>pca_component_2</th>\n",
       "      <th>gmm_cluster</th>\n",
       "    </tr>\n",
       "  </thead>\n",
       "  <tbody>\n",
       "    <tr>\n",
       "      <th>0</th>\n",
       "      <td>37.776471</td>\n",
       "      <td>17.448316</td>\n",
       "      <td>0</td>\n",
       "    </tr>\n",
       "    <tr>\n",
       "      <th>1</th>\n",
       "      <td>51.757373</td>\n",
       "      <td>0.920640</td>\n",
       "      <td>0</td>\n",
       "    </tr>\n",
       "    <tr>\n",
       "      <th>2</th>\n",
       "      <td>-21.036371</td>\n",
       "      <td>48.266700</td>\n",
       "      <td>0</td>\n",
       "    </tr>\n",
       "    <tr>\n",
       "      <th>3</th>\n",
       "      <td>-16.262894</td>\n",
       "      <td>-23.579302</td>\n",
       "      <td>0</td>\n",
       "    </tr>\n",
       "    <tr>\n",
       "      <th>4</th>\n",
       "      <td>-12.506128</td>\n",
       "      <td>50.820127</td>\n",
       "      <td>0</td>\n",
       "    </tr>\n",
       "    <tr>\n",
       "      <th>...</th>\n",
       "      <td>...</td>\n",
       "      <td>...</td>\n",
       "      <td>...</td>\n",
       "    </tr>\n",
       "    <tr>\n",
       "      <th>346</th>\n",
       "      <td>-52.736781</td>\n",
       "      <td>-5.040470</td>\n",
       "      <td>1</td>\n",
       "    </tr>\n",
       "    <tr>\n",
       "      <th>347</th>\n",
       "      <td>99.205888</td>\n",
       "      <td>18.381238</td>\n",
       "      <td>2</td>\n",
       "    </tr>\n",
       "    <tr>\n",
       "      <th>348</th>\n",
       "      <td>-23.243371</td>\n",
       "      <td>-0.324138</td>\n",
       "      <td>1</td>\n",
       "    </tr>\n",
       "    <tr>\n",
       "      <th>349</th>\n",
       "      <td>-2.795940</td>\n",
       "      <td>2.950650</td>\n",
       "      <td>0</td>\n",
       "    </tr>\n",
       "    <tr>\n",
       "      <th>350</th>\n",
       "      <td>-11.510151</td>\n",
       "      <td>7.219618</td>\n",
       "      <td>0</td>\n",
       "    </tr>\n",
       "  </tbody>\n",
       "</table>\n",
       "<p>351 rows × 3 columns</p>\n",
       "</div>"
      ],
      "text/plain": [
       "     pca_component_1  pca_component_2  gmm_cluster\n",
       "0          37.776471        17.448316            0\n",
       "1          51.757373         0.920640            0\n",
       "2         -21.036371        48.266700            0\n",
       "3         -16.262894       -23.579302            0\n",
       "4         -12.506128        50.820127            0\n",
       "..               ...              ...          ...\n",
       "346       -52.736781        -5.040470            1\n",
       "347        99.205888        18.381238            2\n",
       "348       -23.243371        -0.324138            1\n",
       "349        -2.795940         2.950650            0\n",
       "350       -11.510151         7.219618            0\n",
       "\n",
       "[351 rows x 3 columns]"
      ]
     },
     "execution_count": 15,
     "metadata": {},
     "output_type": "execute_result"
    }
   ],
   "source": [
    "scoreDF_pca"
   ]
  },
  {
   "cell_type": "markdown",
   "id": "0NFOk7RlTh1p",
   "metadata": {
    "id": "0NFOk7RlTh1p"
   },
   "source": [
    "```python\n",
    "markers=['^', 's', 'o']\n",
    "\n",
    "for i, marker in enumerate(markers):\n",
    "    x_axis_data = scoreDF_pca[scoreDF_pca['gmm_cluster']==i]['pca_component_1']\n",
    "    y_axis_data = scoreDF_pca[scoreDF_pca['gmm_cluster']==i]['pca_component_2']\n",
    "    plt.scatter(x_axis_data, y_axis_data, marker=marker)\n",
    "\n",
    "plt.legend()\n",
    "plt.xlabel('pca_component_1')\n",
    "plt.ylabel('pca_component_2')\n",
    "plt.show()\n",
    "```"
   ]
  },
  {
   "cell_type": "code",
   "execution_count": 16,
   "id": "7etSHphn8aCS",
   "metadata": {
    "id": "7etSHphn8aCS"
   },
   "outputs": [
    {
     "name": "stderr",
     "output_type": "stream",
     "text": [
      "No artists with labels found to put in legend.  Note that artists whose label start with an underscore are ignored when legend() is called with no argument.\n"
     ]
    },
    {
     "data": {
      "image/png": "[encoded data removed]",
      "text/plain": [
       "<Figure size 640x480 with 1 Axes>"
      ]
     },
     "metadata": {},
     "output_type": "display_data"
    }
   ],
   "source": [
    "markers=['^', 's', 'o']\n",
    "\n",
    "for i, marker in enumerate(markers):\n",
    "    x_axis_data = scoreDF_pca[scoreDF_pca['gmm_cluster']==i]['pca_component_1']\n",
    "    y_axis_data = scoreDF_pca[scoreDF_pca['gmm_cluster']==i]['pca_component_2']\n",
    "    plt.scatter(x_axis_data, y_axis_data, marker=marker)\n",
    "\n",
    "plt.legend()\n",
    "plt.xlabel('pca_component_1')\n",
    "plt.ylabel('pca_component_2')\n",
    "plt.show()"
   ]
  },
  {
   "cell_type": "markdown",
   "id": "2W8mGLL_IxwY",
   "metadata": {
    "id": "2W8mGLL_IxwY"
   },
   "source": [
    "### 결과 과목별 시각화 (레벨 확인)"
   ]
  },
  {
   "cell_type": "markdown",
   "id": "5Mnv_9WbTj56",
   "metadata": {
    "id": "5Mnv_9WbTj56"
   },
   "source": [
    "```python\n",
    "result = pd.concat([input_data.reset_index(),scoreDF_pca], axis=1)\n",
    "result\n",
    "```"
   ]
  },
  {
   "cell_type": "code",
   "execution_count": 17,
   "id": "QmBsDDKU9dmp",
   "metadata": {
    "id": "QmBsDDKU9dmp"
   },
   "outputs": [
    {
     "data": {
      "text/html": [
       "<div>\n",
       "<style scoped>\n",
       "    .dataframe tbody tr th:only-of-type {\n",
       "        vertical-align: middle;\n",
       "    }\n",
       "\n",
       "    .dataframe tbody tr th {\n",
       "        vertical-align: top;\n",
       "    }\n",
       "\n",
       "    .dataframe thead th {\n",
       "        text-align: right;\n",
       "    }\n",
       "</style>\n",
       "<table border=\"1\" class=\"dataframe\">\n",
       "  <thead>\n",
       "    <tr style=\"text-align: right;\">\n",
       "      <th></th>\n",
       "      <th>index</th>\n",
       "      <th>국어</th>\n",
       "      <th>영어</th>\n",
       "      <th>수학</th>\n",
       "      <th>과학</th>\n",
       "      <th>사회</th>\n",
       "      <th>역사</th>\n",
       "      <th>pca_component_1</th>\n",
       "      <th>pca_component_2</th>\n",
       "      <th>gmm_cluster</th>\n",
       "    </tr>\n",
       "  </thead>\n",
       "  <tbody>\n",
       "    <tr>\n",
       "      <th>0</th>\n",
       "      <td>3</td>\n",
       "      <td>68.0</td>\n",
       "      <td>86.0</td>\n",
       "      <td>57.0</td>\n",
       "      <td>15.0</td>\n",
       "      <td>53.0</td>\n",
       "      <td>45.0</td>\n",
       "      <td>37.776471</td>\n",
       "      <td>17.448316</td>\n",
       "      <td>0</td>\n",
       "    </tr>\n",
       "    <tr>\n",
       "      <th>1</th>\n",
       "      <td>10</td>\n",
       "      <td>79.0</td>\n",
       "      <td>93.0</td>\n",
       "      <td>46.0</td>\n",
       "      <td>30.0</td>\n",
       "      <td>45.0</td>\n",
       "      <td>15.0</td>\n",
       "      <td>51.757373</td>\n",
       "      <td>0.920640</td>\n",
       "      <td>0</td>\n",
       "    </tr>\n",
       "    <tr>\n",
       "      <th>2</th>\n",
       "      <td>13</td>\n",
       "      <td>93.0</td>\n",
       "      <td>100.0</td>\n",
       "      <td>48.0</td>\n",
       "      <td>56.0</td>\n",
       "      <td>63.0</td>\n",
       "      <td>100.0</td>\n",
       "      <td>-21.036371</td>\n",
       "      <td>48.266700</td>\n",
       "      <td>0</td>\n",
       "    </tr>\n",
       "    <tr>\n",
       "      <th>3</th>\n",
       "      <td>23</td>\n",
       "      <td>100.0</td>\n",
       "      <td>100.0</td>\n",
       "      <td>88.0</td>\n",
       "      <td>61.0</td>\n",
       "      <td>90.0</td>\n",
       "      <td>33.0</td>\n",
       "      <td>-16.262894</td>\n",
       "      <td>-23.579302</td>\n",
       "      <td>0</td>\n",
       "    </tr>\n",
       "    <tr>\n",
       "      <th>4</th>\n",
       "      <td>32</td>\n",
       "      <td>93.0</td>\n",
       "      <td>100.0</td>\n",
       "      <td>65.0</td>\n",
       "      <td>53.0</td>\n",
       "      <td>45.0</td>\n",
       "      <td>90.0</td>\n",
       "      <td>-12.506128</td>\n",
       "      <td>50.820127</td>\n",
       "      <td>0</td>\n",
       "    </tr>\n",
       "    <tr>\n",
       "      <th>...</th>\n",
       "      <td>...</td>\n",
       "      <td>...</td>\n",
       "      <td>...</td>\n",
       "      <td>...</td>\n",
       "      <td>...</td>\n",
       "      <td>...</td>\n",
       "      <td>...</td>\n",
       "      <td>...</td>\n",
       "      <td>...</td>\n",
       "      <td>...</td>\n",
       "    </tr>\n",
       "    <tr>\n",
       "      <th>346</th>\n",
       "      <td>1888</td>\n",
       "      <td>86.0</td>\n",
       "      <td>68.0</td>\n",
       "      <td>94.0</td>\n",
       "      <td>90.0</td>\n",
       "      <td>100.0</td>\n",
       "      <td>79.0</td>\n",
       "      <td>-52.736781</td>\n",
       "      <td>-5.040470</td>\n",
       "      <td>1</td>\n",
       "    </tr>\n",
       "    <tr>\n",
       "      <th>347</th>\n",
       "      <td>2014</td>\n",
       "      <td>65.0</td>\n",
       "      <td>58.0</td>\n",
       "      <td>63.0</td>\n",
       "      <td>0.0</td>\n",
       "      <td>0.0</td>\n",
       "      <td>0.0</td>\n",
       "      <td>99.205888</td>\n",
       "      <td>18.381238</td>\n",
       "      <td>2</td>\n",
       "    </tr>\n",
       "    <tr>\n",
       "      <th>348</th>\n",
       "      <td>2349</td>\n",
       "      <td>54.0</td>\n",
       "      <td>79.0</td>\n",
       "      <td>51.0</td>\n",
       "      <td>90.0</td>\n",
       "      <td>90.0</td>\n",
       "      <td>71.0</td>\n",
       "      <td>-23.243371</td>\n",
       "      <td>-0.324138</td>\n",
       "      <td>1</td>\n",
       "    </tr>\n",
       "    <tr>\n",
       "      <th>349</th>\n",
       "      <td>3165</td>\n",
       "      <td>47.0</td>\n",
       "      <td>93.0</td>\n",
       "      <td>55.0</td>\n",
       "      <td>30.0</td>\n",
       "      <td>100.0</td>\n",
       "      <td>71.0</td>\n",
       "      <td>-2.795940</td>\n",
       "      <td>2.950650</td>\n",
       "      <td>0</td>\n",
       "    </tr>\n",
       "    <tr>\n",
       "      <th>350</th>\n",
       "      <td>3472</td>\n",
       "      <td>86.0</td>\n",
       "      <td>72.0</td>\n",
       "      <td>66.0</td>\n",
       "      <td>90.0</td>\n",
       "      <td>61.0</td>\n",
       "      <td>56.0</td>\n",
       "      <td>-11.510151</td>\n",
       "      <td>7.219618</td>\n",
       "      <td>0</td>\n",
       "    </tr>\n",
       "  </tbody>\n",
       "</table>\n",
       "<p>351 rows × 10 columns</p>\n",
       "</div>"
      ],
      "text/plain": [
       "     index     국어     영어    수학    과학     사회     역사  pca_component_1  \\\n",
       "0        3   68.0   86.0  57.0  15.0   53.0   45.0        37.776471   \n",
       "1       10   79.0   93.0  46.0  30.0   45.0   15.0        51.757373   \n",
       "2       13   93.0  100.0  48.0  56.0   63.0  100.0       -21.036371   \n",
       "3       23  100.0  100.0  88.0  61.0   90.0   33.0       -16.262894   \n",
       "4       32   93.0  100.0  65.0  53.0   45.0   90.0       -12.506128   \n",
       "..     ...    ...    ...   ...   ...    ...    ...              ...   \n",
       "346   1888   86.0   68.0  94.0  90.0  100.0   79.0       -52.736781   \n",
       "347   2014   65.0   58.0  63.0   0.0    0.0    0.0        99.205888   \n",
       "348   2349   54.0   79.0  51.0  90.0   90.0   71.0       -23.243371   \n",
       "349   3165   47.0   93.0  55.0  30.0  100.0   71.0        -2.795940   \n",
       "350   3472   86.0   72.0  66.0  90.0   61.0   56.0       -11.510151   \n",
       "\n",
       "     pca_component_2  gmm_cluster  \n",
       "0          17.448316            0  \n",
       "1           0.920640            0  \n",
       "2          48.266700            0  \n",
       "3         -23.579302            0  \n",
       "4          50.820127            0  \n",
       "..               ...          ...  \n",
       "346        -5.040470            1  \n",
       "347        18.381238            2  \n",
       "348        -0.324138            1  \n",
       "349         2.950650            0  \n",
       "350         7.219618            0  \n",
       "\n",
       "[351 rows x 10 columns]"
      ]
     },
     "execution_count": 17,
     "metadata": {},
     "output_type": "execute_result"
    }
   ],
   "source": [
    "result = pd.concat([input_data.reset_index(),scoreDF_pca], axis=1)\n",
    "result"
   ]
  },
  {
   "cell_type": "code",
   "execution_count": 18,
   "id": "gFjb3Z5oGoMu",
   "metadata": {
    "executionInfo": {
     "elapsed": 292,
     "status": "ok",
     "timestamp": 1693401271256,
     "user": {
      "displayName": "박나연",
      "userId": "15219795176792784727"
     },
     "user_tz": -540
    },
    "id": "gFjb3Z5oGoMu"
   },
   "outputs": [],
   "source": [
    "def ploting_score(df):\n",
    "    f, ax = plt.subplots(2,3)\n",
    "    f.set_size_inches((25,10))\n",
    "\n",
    "    plt.subplots_adjust(wspace = 0.3, hspace = 0.3)\n",
    "\n",
    "    ############ 1 ###############\n",
    "    \n",
    "    # 각 클러스터 별 과목점수 ==> 막대그래프\n",
    "    # 0번 클러스터\n",
    "    sns.histplot(df[df['gmm_cluster'] == 0]['국어'].tolist(),\n",
    "                color=\"tomato\", ax = ax[0,0])\n",
    "    # 1번 클러스터\n",
    "    sns.histplot(df[df['gmm_cluster'] == 1]['국어'].tolist(),\n",
    "                color=\"mediumorchid\", ax = ax[0,0])\n",
    "    # 2번 클러스터\n",
    "    sns.histplot(df[df['gmm_cluster'] == 2]['국어'].tolist(),\n",
    "                color=\"gold\", ax = ax[0,0])\n",
    "    ax[0,0].set_title('Korean')\n",
    "    ax[0,0].set_xlim([-10,110])\n",
    "\n",
    "    ############ 2 ###############\n",
    "\n",
    "    sns.histplot(df[df['gmm_cluster'] == 0]['수학'].tolist(),\n",
    "                color=\"tomato\", ax = ax[0,1])\n",
    "    sns.histplot(df[df['gmm_cluster'] == 1]['수학'].tolist(),\n",
    "                color=\"mediumorchid\", ax = ax[0,1])\n",
    "    sns.histplot(df[df['gmm_cluster'] == 2]['수학'].tolist(),\n",
    "                color=\"gold\", ax = ax[0,1])\n",
    "    ax[0,1].set_title('Math')\n",
    "    ax[0,1].set_xlim([-10,110])\n",
    "\n",
    "\n",
    "    ############ 3 ###############\n",
    "    sns.histplot(df[df['gmm_cluster'] == 0]['영어'].tolist(),\n",
    "                color=\"tomato\",ax = ax[0,2])\n",
    "    sns.histplot(df[df['gmm_cluster'] == 1]['영어'].tolist(),\n",
    "                color=\"mediumorchid\", ax = ax[0,2])\n",
    "    sns.histplot(df[df['gmm_cluster'] == 2]['영어'].tolist(),\n",
    "                color=\"gold\", ax = ax[0,2])\n",
    "    ax[0,2].set_title('English')\n",
    "    ax[0,2].set_xlim([-10,110])\n",
    "\n",
    "    ############ 4 ###############\n",
    "    sns.histplot(df[df['gmm_cluster'] == 0]['사회'].tolist(),\n",
    "                color=\"tomato\", ax = ax[1,0])\n",
    "    sns.histplot(df[df['gmm_cluster'] == 1]['사회'].tolist(),\n",
    "                color=\"mediumorchid\", ax = ax[1,0])\n",
    "    sns.histplot(df[df['gmm_cluster'] == 2]['사회'].tolist(),\n",
    "                color=\"gold\", ax = ax[1,0])\n",
    "    ax[1,0].set_title('Social')\n",
    "    ax[1,0].set_xlim([-10,110])\n",
    "\n",
    "    ############ 5 ###############\n",
    "    sns.histplot(df[df['gmm_cluster'] == 0]['과학'].tolist(),\n",
    "                color=\"tomato\", ax = ax[1,1])\n",
    "    sns.histplot(df[df['gmm_cluster'] == 1]['과학'].tolist(),\n",
    "                color=\"mediumorchid\", ax = ax[1,1])\n",
    "    sns.histplot(df[df['gmm_cluster'] == 2]['과학'].tolist(),\n",
    "                color=\"gold\", ax = ax[1,1])\n",
    "    ax[1,1].set_title('Science')\n",
    "    ax[1,1].set_xlim([-10,110])\n",
    "\n",
    "    ############ 6 ###############\n",
    "    sns.histplot(df[df['gmm_cluster'] == 0]['역사'].tolist(),\n",
    "                color=\"tomato\", ax = ax[1,2])\n",
    "    sns.histplot(df[df['gmm_cluster'] == 1]['역사'].tolist(),\n",
    "                color=\"mediumorchid\", ax = ax[1,2])\n",
    "    sns.histplot(df[df['gmm_cluster'] == 2]['역사'].tolist(),\n",
    "                color=\"gold\", ax = ax[1,2])\n",
    "    ax[1,2].set_title('History')\n",
    "    ax[1,2].set_xlim([-10,110])\n",
    "\n",
    "    plt.xlim(0,100)\n",
    "    plt.show()"
   ]
  },
  {
   "cell_type": "code",
   "execution_count": 19,
   "id": "3Dpf1TzVGoIX",
   "metadata": {
    "colab": {
     "base_uri": "https://localhost:8080/",
     "height": 603
    },
    "executionInfo": {
     "elapsed": 2341,
     "status": "ok",
     "timestamp": 1693401969641,
     "user": {
      "displayName": "박나연",
      "userId": "15219795176792784727"
     },
     "user_tz": -540
    },
    "id": "3Dpf1TzVGoIX",
    "outputId": "fd0d679d-3e60-46a0-85d1-78718db993f8"
   },
   "outputs": [
    {
     "data": {
      "image/png": "[encoded data removed]",
      "text/plain": [
       "<Figure size 2500x1000 with 6 Axes>"
      ]
     },
     "metadata": {},
     "output_type": "display_data"
    }
   ],
   "source": [
    "ploting_score(result)"
   ]
  },
  {
   "cell_type": "code",
   "execution_count": 20,
   "id": "OBL5qoGoQyMU",
   "metadata": {
    "id": "OBL5qoGoQyMU"
   },
   "outputs": [],
   "source": [
    "# 수학과 과학 과목에 많이 영향을 받는구나 라고 생각할 수 있음 (가우시안 분포에 가깝게 분포가 됨)"
   ]
  },
  {
   "cell_type": "markdown",
   "id": "gUuj7vqRldiv",
   "metadata": {
    "id": "gUuj7vqRldiv"
   },
   "source": [
    "### TODO : 학생별 평균점수의 분포 시각화"
   ]
  },
  {
   "cell_type": "code",
   "execution_count": 89,
   "id": "AjsPaDEPlcyO",
   "metadata": {
    "id": "AjsPaDEPlcyO"
   },
   "outputs": [],
   "source": [
    "def ploting_score(df):    \n",
    "#     f, ax = plt.subplots(1,1)\n",
    "#     f.set_size_inches((25,10))\n",
    "\n",
    "    plt.subplots_adjust(wspace = 0.3, hspace = 0.3)\n",
    "    \n",
    "    # 각 클러스터 별 과목점수 ==> 막대그래프\n",
    "    # 0번 클러스터\n",
    "    sns.histplot(df[df['gmm_cluster'] == 0]['평균점수'].tolist(),\n",
    "                color=\"tomato\")\n",
    "    # 1번 클러스터\n",
    "    sns.histplot(df[df['gmm_cluster'] == 1]['평균점수'].tolist(),\n",
    "                color=\"mediumorchid\")\n",
    "    # 2번 클러스터\n",
    "    sns.histplot(df[df['gmm_cluster'] == 2]['평균점수'].tolist(),\n",
    "                color=\"gold\")\n",
    "    plt.title('score mean')\n",
    "    plt.xlim(-10,110)\n",
    "    plt.show()"
   ]
  },
  {
   "cell_type": "code",
   "execution_count": 90,
   "id": "76536db3",
   "metadata": {},
   "outputs": [
    {
     "data": {
      "image/png": "[encoded data removed]",
      "text/plain": [
       "<Figure size 640x480 with 1 Axes>"
      ]
     },
     "metadata": {},
     "output_type": "display_data"
    }
   ],
   "source": [
    "ploting_score(result)"
   ]
  },
  {
   "cell_type": "code",
   "execution_count": 60,
   "id": "9c501572",
   "metadata": {},
   "outputs": [
    {
     "data": {
      "text/plain": [
       "351"
      ]
     },
     "execution_count": 60,
     "metadata": {},
     "output_type": "execute_result"
    }
   ],
   "source": [
    "len(result)"
   ]
  },
  {
   "cell_type": "code",
   "execution_count": 78,
   "id": "472c816b",
   "metadata": {},
   "outputs": [
    {
     "data": {
      "text/plain": [
       "54.0"
      ]
     },
     "execution_count": 78,
     "metadata": {},
     "output_type": "execute_result"
    }
   ],
   "source": [
    "result.loc[0][1:7].sum()/6"
   ]
  },
  {
   "cell_type": "code",
   "execution_count": 84,
   "id": "d1bb4495",
   "metadata": {},
   "outputs": [
    {
     "name": "stderr",
     "output_type": "stream",
     "text": [
      "C:\\Users\\leah5\\AppData\\Local\\Temp\\ipykernel_4444\\325660581.py:2: SettingWithCopyWarning: \n",
      "A value is trying to be set on a copy of a slice from a DataFrame\n",
      "\n",
      "See the caveats in the documentation: https://pandas.pydata.org/pandas-docs/stable/user_guide/indexing.html#returning-a-view-versus-a-copy\n",
      "  result['평균점수'][i] = result.loc[i][1:7].sum()/6\n"
     ]
    }
   ],
   "source": [
    "for i in range(0,351):\n",
    "    result['평균점수'][i] = result.loc[i][1:7].sum()/6"
   ]
  },
  {
   "cell_type": "code",
   "execution_count": 85,
   "id": "3306ae97",
   "metadata": {},
   "outputs": [
    {
     "data": {
      "text/html": [
       "<div>\n",
       "<style scoped>\n",
       "    .dataframe tbody tr th:only-of-type {\n",
       "        vertical-align: middle;\n",
       "    }\n",
       "\n",
       "    .dataframe tbody tr th {\n",
       "        vertical-align: top;\n",
       "    }\n",
       "\n",
       "    .dataframe thead th {\n",
       "        text-align: right;\n",
       "    }\n",
       "</style>\n",
       "<table border=\"1\" class=\"dataframe\">\n",
       "  <thead>\n",
       "    <tr style=\"text-align: right;\">\n",
       "      <th></th>\n",
       "      <th>index</th>\n",
       "      <th>국어</th>\n",
       "      <th>영어</th>\n",
       "      <th>수학</th>\n",
       "      <th>과학</th>\n",
       "      <th>사회</th>\n",
       "      <th>역사</th>\n",
       "      <th>pca_component_1</th>\n",
       "      <th>pca_component_2</th>\n",
       "      <th>gmm_cluster</th>\n",
       "      <th>평균점수</th>\n",
       "    </tr>\n",
       "  </thead>\n",
       "  <tbody>\n",
       "    <tr>\n",
       "      <th>0</th>\n",
       "      <td>3</td>\n",
       "      <td>68.0</td>\n",
       "      <td>86.0</td>\n",
       "      <td>57.0</td>\n",
       "      <td>15.0</td>\n",
       "      <td>53.0</td>\n",
       "      <td>45.0</td>\n",
       "      <td>37.776471</td>\n",
       "      <td>17.448316</td>\n",
       "      <td>0</td>\n",
       "      <td>54.000000</td>\n",
       "    </tr>\n",
       "    <tr>\n",
       "      <th>1</th>\n",
       "      <td>10</td>\n",
       "      <td>79.0</td>\n",
       "      <td>93.0</td>\n",
       "      <td>46.0</td>\n",
       "      <td>30.0</td>\n",
       "      <td>45.0</td>\n",
       "      <td>15.0</td>\n",
       "      <td>51.757373</td>\n",
       "      <td>0.920640</td>\n",
       "      <td>0</td>\n",
       "      <td>51.333333</td>\n",
       "    </tr>\n",
       "    <tr>\n",
       "      <th>2</th>\n",
       "      <td>13</td>\n",
       "      <td>93.0</td>\n",
       "      <td>100.0</td>\n",
       "      <td>48.0</td>\n",
       "      <td>56.0</td>\n",
       "      <td>63.0</td>\n",
       "      <td>100.0</td>\n",
       "      <td>-21.036371</td>\n",
       "      <td>48.266700</td>\n",
       "      <td>0</td>\n",
       "      <td>76.666667</td>\n",
       "    </tr>\n",
       "    <tr>\n",
       "      <th>3</th>\n",
       "      <td>23</td>\n",
       "      <td>100.0</td>\n",
       "      <td>100.0</td>\n",
       "      <td>88.0</td>\n",
       "      <td>61.0</td>\n",
       "      <td>90.0</td>\n",
       "      <td>33.0</td>\n",
       "      <td>-16.262894</td>\n",
       "      <td>-23.579302</td>\n",
       "      <td>0</td>\n",
       "      <td>78.666667</td>\n",
       "    </tr>\n",
       "    <tr>\n",
       "      <th>4</th>\n",
       "      <td>32</td>\n",
       "      <td>93.0</td>\n",
       "      <td>100.0</td>\n",
       "      <td>65.0</td>\n",
       "      <td>53.0</td>\n",
       "      <td>45.0</td>\n",
       "      <td>90.0</td>\n",
       "      <td>-12.506128</td>\n",
       "      <td>50.820127</td>\n",
       "      <td>0</td>\n",
       "      <td>74.333333</td>\n",
       "    </tr>\n",
       "    <tr>\n",
       "      <th>...</th>\n",
       "      <td>...</td>\n",
       "      <td>...</td>\n",
       "      <td>...</td>\n",
       "      <td>...</td>\n",
       "      <td>...</td>\n",
       "      <td>...</td>\n",
       "      <td>...</td>\n",
       "      <td>...</td>\n",
       "      <td>...</td>\n",
       "      <td>...</td>\n",
       "      <td>...</td>\n",
       "    </tr>\n",
       "    <tr>\n",
       "      <th>346</th>\n",
       "      <td>1888</td>\n",
       "      <td>86.0</td>\n",
       "      <td>68.0</td>\n",
       "      <td>94.0</td>\n",
       "      <td>90.0</td>\n",
       "      <td>100.0</td>\n",
       "      <td>79.0</td>\n",
       "      <td>-52.736781</td>\n",
       "      <td>-5.040470</td>\n",
       "      <td>1</td>\n",
       "      <td>86.166667</td>\n",
       "    </tr>\n",
       "    <tr>\n",
       "      <th>347</th>\n",
       "      <td>2014</td>\n",
       "      <td>65.0</td>\n",
       "      <td>58.0</td>\n",
       "      <td>63.0</td>\n",
       "      <td>0.0</td>\n",
       "      <td>0.0</td>\n",
       "      <td>0.0</td>\n",
       "      <td>99.205888</td>\n",
       "      <td>18.381238</td>\n",
       "      <td>2</td>\n",
       "      <td>31.000000</td>\n",
       "    </tr>\n",
       "    <tr>\n",
       "      <th>348</th>\n",
       "      <td>2349</td>\n",
       "      <td>54.0</td>\n",
       "      <td>79.0</td>\n",
       "      <td>51.0</td>\n",
       "      <td>90.0</td>\n",
       "      <td>90.0</td>\n",
       "      <td>71.0</td>\n",
       "      <td>-23.243371</td>\n",
       "      <td>-0.324138</td>\n",
       "      <td>1</td>\n",
       "      <td>72.500000</td>\n",
       "    </tr>\n",
       "    <tr>\n",
       "      <th>349</th>\n",
       "      <td>3165</td>\n",
       "      <td>47.0</td>\n",
       "      <td>93.0</td>\n",
       "      <td>55.0</td>\n",
       "      <td>30.0</td>\n",
       "      <td>100.0</td>\n",
       "      <td>71.0</td>\n",
       "      <td>-2.795940</td>\n",
       "      <td>2.950650</td>\n",
       "      <td>0</td>\n",
       "      <td>66.000000</td>\n",
       "    </tr>\n",
       "    <tr>\n",
       "      <th>350</th>\n",
       "      <td>3472</td>\n",
       "      <td>86.0</td>\n",
       "      <td>72.0</td>\n",
       "      <td>66.0</td>\n",
       "      <td>90.0</td>\n",
       "      <td>61.0</td>\n",
       "      <td>56.0</td>\n",
       "      <td>-11.510151</td>\n",
       "      <td>7.219618</td>\n",
       "      <td>0</td>\n",
       "      <td>71.833333</td>\n",
       "    </tr>\n",
       "  </tbody>\n",
       "</table>\n",
       "<p>351 rows × 11 columns</p>\n",
       "</div>"
      ],
      "text/plain": [
       "     index     국어     영어    수학    과학     사회     역사  pca_component_1  \\\n",
       "0        3   68.0   86.0  57.0  15.0   53.0   45.0        37.776471   \n",
       "1       10   79.0   93.0  46.0  30.0   45.0   15.0        51.757373   \n",
       "2       13   93.0  100.0  48.0  56.0   63.0  100.0       -21.036371   \n",
       "3       23  100.0  100.0  88.0  61.0   90.0   33.0       -16.262894   \n",
       "4       32   93.0  100.0  65.0  53.0   45.0   90.0       -12.506128   \n",
       "..     ...    ...    ...   ...   ...    ...    ...              ...   \n",
       "346   1888   86.0   68.0  94.0  90.0  100.0   79.0       -52.736781   \n",
       "347   2014   65.0   58.0  63.0   0.0    0.0    0.0        99.205888   \n",
       "348   2349   54.0   79.0  51.0  90.0   90.0   71.0       -23.243371   \n",
       "349   3165   47.0   93.0  55.0  30.0  100.0   71.0        -2.795940   \n",
       "350   3472   86.0   72.0  66.0  90.0   61.0   56.0       -11.510151   \n",
       "\n",
       "     pca_component_2  gmm_cluster       평균점수  \n",
       "0          17.448316            0  54.000000  \n",
       "1           0.920640            0  51.333333  \n",
       "2          48.266700            0  76.666667  \n",
       "3         -23.579302            0  78.666667  \n",
       "4          50.820127            0  74.333333  \n",
       "..               ...          ...        ...  \n",
       "346        -5.040470            1  86.166667  \n",
       "347        18.381238            2  31.000000  \n",
       "348        -0.324138            1  72.500000  \n",
       "349         2.950650            0  66.000000  \n",
       "350         7.219618            0  71.833333  \n",
       "\n",
       "[351 rows x 11 columns]"
      ]
     },
     "execution_count": 85,
     "metadata": {},
     "output_type": "execute_result"
    }
   ],
   "source": [
    "result"
   ]
  },
  {
   "cell_type": "code",
   "execution_count": 86,
   "id": "2761bbfe",
   "metadata": {
    "scrolled": true
   },
   "outputs": [
    {
     "data": {
      "text/plain": [
       "gmm_cluster\n",
       "0    64.856293\n",
       "1    84.581967\n",
       "2    31.646465\n",
       "Name: 평균점수, dtype: float64"
      ]
     },
     "execution_count": 86,
     "metadata": {},
     "output_type": "execute_result"
    }
   ],
   "source": [
    "result.groupby('gmm_cluster')['평균점수'].mean()"
   ]
  },
  {
   "cell_type": "code",
   "execution_count": 82,
   "id": "e3a038dc",
   "metadata": {},
   "outputs": [
    {
     "data": {
      "text/plain": [
       "517"
      ]
     },
     "execution_count": 82,
     "metadata": {},
     "output_type": "execute_result"
    }
   ],
   "source": [
    "# 인덱스 번호 346번 검산\n",
    "86+68+94+90+100+79"
   ]
  },
  {
   "cell_type": "code",
   "execution_count": 83,
   "id": "f8c9d7d7",
   "metadata": {},
   "outputs": [
    {
     "data": {
      "text/plain": [
       "86.16666666666667"
      ]
     },
     "execution_count": 83,
     "metadata": {},
     "output_type": "execute_result"
    }
   ],
   "source": [
    "517/6"
   ]
  },
  {
   "cell_type": "code",
   "execution_count": 91,
   "id": "0b11c4b8",
   "metadata": {},
   "outputs": [],
   "source": [
    "# 평균 있는지 몰랐음..."
   ]
  },
  {
   "cell_type": "code",
   "execution_count": 93,
   "id": "2e2f85b3",
   "metadata": {},
   "outputs": [
    {
     "data": {
      "text/html": [
       "<div>\n",
       "<style scoped>\n",
       "    .dataframe tbody tr th:only-of-type {\n",
       "        vertical-align: middle;\n",
       "    }\n",
       "\n",
       "    .dataframe tbody tr th {\n",
       "        vertical-align: top;\n",
       "    }\n",
       "\n",
       "    .dataframe thead th {\n",
       "        text-align: right;\n",
       "    }\n",
       "</style>\n",
       "<table border=\"1\" class=\"dataframe\">\n",
       "  <thead>\n",
       "    <tr style=\"text-align: right;\">\n",
       "      <th></th>\n",
       "      <th>국어</th>\n",
       "      <th>영어</th>\n",
       "      <th>수학</th>\n",
       "      <th>과학</th>\n",
       "      <th>사회</th>\n",
       "      <th>역사</th>\n",
       "      <th>평균</th>\n",
       "    </tr>\n",
       "  </thead>\n",
       "  <tbody>\n",
       "    <tr>\n",
       "      <th>3</th>\n",
       "      <td>68.0</td>\n",
       "      <td>86.0</td>\n",
       "      <td>57.0</td>\n",
       "      <td>15.0</td>\n",
       "      <td>53.0</td>\n",
       "      <td>45.0</td>\n",
       "      <td>54.000000</td>\n",
       "    </tr>\n",
       "    <tr>\n",
       "      <th>10</th>\n",
       "      <td>79.0</td>\n",
       "      <td>93.0</td>\n",
       "      <td>46.0</td>\n",
       "      <td>30.0</td>\n",
       "      <td>45.0</td>\n",
       "      <td>15.0</td>\n",
       "      <td>51.333333</td>\n",
       "    </tr>\n",
       "    <tr>\n",
       "      <th>13</th>\n",
       "      <td>93.0</td>\n",
       "      <td>100.0</td>\n",
       "      <td>48.0</td>\n",
       "      <td>56.0</td>\n",
       "      <td>63.0</td>\n",
       "      <td>100.0</td>\n",
       "      <td>76.666667</td>\n",
       "    </tr>\n",
       "    <tr>\n",
       "      <th>23</th>\n",
       "      <td>100.0</td>\n",
       "      <td>100.0</td>\n",
       "      <td>88.0</td>\n",
       "      <td>61.0</td>\n",
       "      <td>90.0</td>\n",
       "      <td>33.0</td>\n",
       "      <td>78.666667</td>\n",
       "    </tr>\n",
       "    <tr>\n",
       "      <th>32</th>\n",
       "      <td>93.0</td>\n",
       "      <td>100.0</td>\n",
       "      <td>65.0</td>\n",
       "      <td>53.0</td>\n",
       "      <td>45.0</td>\n",
       "      <td>90.0</td>\n",
       "      <td>74.333333</td>\n",
       "    </tr>\n",
       "    <tr>\n",
       "      <th>...</th>\n",
       "      <td>...</td>\n",
       "      <td>...</td>\n",
       "      <td>...</td>\n",
       "      <td>...</td>\n",
       "      <td>...</td>\n",
       "      <td>...</td>\n",
       "      <td>...</td>\n",
       "    </tr>\n",
       "    <tr>\n",
       "      <th>1888</th>\n",
       "      <td>86.0</td>\n",
       "      <td>68.0</td>\n",
       "      <td>94.0</td>\n",
       "      <td>90.0</td>\n",
       "      <td>100.0</td>\n",
       "      <td>79.0</td>\n",
       "      <td>86.166667</td>\n",
       "    </tr>\n",
       "    <tr>\n",
       "      <th>2014</th>\n",
       "      <td>65.0</td>\n",
       "      <td>58.0</td>\n",
       "      <td>63.0</td>\n",
       "      <td>0.0</td>\n",
       "      <td>0.0</td>\n",
       "      <td>0.0</td>\n",
       "      <td>31.000000</td>\n",
       "    </tr>\n",
       "    <tr>\n",
       "      <th>2349</th>\n",
       "      <td>54.0</td>\n",
       "      <td>79.0</td>\n",
       "      <td>51.0</td>\n",
       "      <td>90.0</td>\n",
       "      <td>90.0</td>\n",
       "      <td>71.0</td>\n",
       "      <td>72.500000</td>\n",
       "    </tr>\n",
       "    <tr>\n",
       "      <th>3165</th>\n",
       "      <td>47.0</td>\n",
       "      <td>93.0</td>\n",
       "      <td>55.0</td>\n",
       "      <td>30.0</td>\n",
       "      <td>100.0</td>\n",
       "      <td>71.0</td>\n",
       "      <td>66.000000</td>\n",
       "    </tr>\n",
       "    <tr>\n",
       "      <th>3472</th>\n",
       "      <td>86.0</td>\n",
       "      <td>72.0</td>\n",
       "      <td>66.0</td>\n",
       "      <td>90.0</td>\n",
       "      <td>61.0</td>\n",
       "      <td>56.0</td>\n",
       "      <td>71.833333</td>\n",
       "    </tr>\n",
       "  </tbody>\n",
       "</table>\n",
       "<p>351 rows × 7 columns</p>\n",
       "</div>"
      ],
      "text/plain": [
       "         국어     영어    수학    과학     사회     역사         평균\n",
       "3      68.0   86.0  57.0  15.0   53.0   45.0  54.000000\n",
       "10     79.0   93.0  46.0  30.0   45.0   15.0  51.333333\n",
       "13     93.0  100.0  48.0  56.0   63.0  100.0  76.666667\n",
       "23    100.0  100.0  88.0  61.0   90.0   33.0  78.666667\n",
       "32     93.0  100.0  65.0  53.0   45.0   90.0  74.333333\n",
       "...     ...    ...   ...   ...    ...    ...        ...\n",
       "1888   86.0   68.0  94.0  90.0  100.0   79.0  86.166667\n",
       "2014   65.0   58.0  63.0   0.0    0.0    0.0  31.000000\n",
       "2349   54.0   79.0  51.0  90.0   90.0   71.0  72.500000\n",
       "3165   47.0   93.0  55.0  30.0  100.0   71.0  66.000000\n",
       "3472   86.0   72.0  66.0  90.0   61.0   56.0  71.833333\n",
       "\n",
       "[351 rows x 7 columns]"
      ]
     },
     "execution_count": 93,
     "metadata": {},
     "output_type": "execute_result"
    }
   ],
   "source": [
    "input_data = middle1_score_df[['국어','영어','수학','과학','사회','역사','평균']].dropna()\n",
    "input_data"
   ]
  },
  {
   "cell_type": "code",
   "execution_count": 94,
   "id": "2347a7d3",
   "metadata": {},
   "outputs": [],
   "source": [
    "result = pd.concat([input_data.reset_index(), scoreDF_pca], axis=1)"
   ]
  },
  {
   "cell_type": "code",
   "execution_count": 96,
   "id": "e7abf77b",
   "metadata": {},
   "outputs": [
    {
     "data": {
      "text/plain": [
       "<Axes: ylabel='Count'>"
      ]
     },
     "execution_count": 96,
     "metadata": {},
     "output_type": "execute_result"
    },
    {
     "data": {
      "image/png": "[encoded data removed]",
      "text/plain": [
       "<Figure size 640x480 with 1 Axes>"
      ]
     },
     "metadata": {},
     "output_type": "display_data"
    }
   ],
   "source": [
    "sns.histplot(result[result['gmm_cluster'] == 0]['평균'].tolist(),\n",
    "            color=\"tomato\")\n",
    "sns.histplot(result[result['gmm_cluster'] == 1]['평균'].tolist(),\n",
    "            color=\"mediumorchid\")\n",
    "sns.histplot(result[result['gmm_cluster'] == 2]['평균'].tolist(),\n",
    "            color=\"gold\")"
   ]
  },
  {
   "cell_type": "code",
   "execution_count": null,
   "id": "0867c440",
   "metadata": {},
   "outputs": [],
   "source": []
  }
 ],
 "metadata": {
  "colab": {
   "collapsed_sections": [
    "d9d1332b"
   ],
   "provenance": []
  },
  "kernelspec": {
   "display_name": "Python 3 (ipykernel)",
   "language": "python",
   "name": "python3"
  },
  "language_info": {
   "codemirror_mode": {
    "name": "ipython",
    "version": 3
   },
   "file_extension": ".py",
   "mimetype": "text/x-python",
   "name": "python",
   "nbconvert_exporter": "python",
   "pygments_lexer": "ipython3",
   "version": "3.10.9"
  }
 },
 "nbformat": 4,
 "nbformat_minor": 5
}
