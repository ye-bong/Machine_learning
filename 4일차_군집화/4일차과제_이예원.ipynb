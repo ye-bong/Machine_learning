{
 "cells": [
  {
   "cell_type": "markdown",
   "id": "d9d1332b",
   "metadata": {
    "id": "d9d1332b"
   },
   "source": [
    "## Import"
   ]
  },
  {
   "cell_type": "code",
   "execution_count": 1,
   "id": "e9a1702c",
   "metadata": {
    "id": "e9a1702c"
   },
   "outputs": [],
   "source": [
    "from sklearn.mixture import GaussianMixture\n",
    "import matplotlib.pyplot as plt\n",
    "import seaborn as sns"
   ]
  },
  {
   "cell_type": "code",
   "execution_count": 2,
   "id": "fd7f6d56",
   "metadata": {
    "id": "fd7f6d56"
   },
   "outputs": [],
   "source": [
    "from sklearn.datasets import load_iris\n",
    "from sklearn.cluster import KMeans\n",
    "\n",
    "import matplotlib.pyplot as plt\n",
    "import numpy as np\n",
    "import pandas as pd"
   ]
  },
  {
   "cell_type": "markdown",
   "id": "2f2a1576",
   "metadata": {
    "id": "2f2a1576"
   },
   "source": [
    "## 초등 학생별 수준 군집화"
   ]
  },
  {
   "cell_type": "code",
   "execution_count": 7,
   "id": "IXQUd7JN6lJF",
   "metadata": {
    "colab": {
     "base_uri": "https://localhost:8080/"
    },
    "executionInfo": {
     "elapsed": 2428,
     "status": "ok",
     "timestamp": 1678501986485,
     "user": {
      "displayName": "박나연",
      "userId": "09406148759772297697"
     },
     "user_tz": -540
    },
    "id": "IXQUd7JN6lJF",
    "outputId": "813ba274-874c-46b4-f9a8-bda3fd19cf29"
   },
   "outputs": [],
   "source": [
    "# from google.colab import drive\n",
    "# drive.mount('/content/drive')"
   ]
  },
  {
   "cell_type": "code",
   "execution_count": 8,
   "id": "j2muK0n06j9c",
   "metadata": {
    "id": "j2muK0n06j9c"
   },
   "outputs": [],
   "source": [
    "# %cd /content/drive/MyDrive/강의자료/머신러닝기초/4일차_차원축소와군집화"
   ]
  },
  {
   "cell_type": "code",
   "execution_count": 5,
   "id": "79036d97",
   "metadata": {
    "id": "79036d97",
    "scrolled": true
   },
   "outputs": [],
   "source": [
    "middle1_score_df = pd.read_csv('./datasets/중1_밀크T중학_AI진단평가_개인별전과목점수.csv',index_col=0)"
   ]
  },
  {
   "cell_type": "code",
   "execution_count": 6,
   "id": "f4KYfs7iBcv-",
   "metadata": {
    "colab": {
     "base_uri": "https://localhost:8080/",
     "height": 423
    },
    "executionInfo": {
     "elapsed": 6,
     "status": "ok",
     "timestamp": 1678501986486,
     "user": {
      "displayName": "박나연",
      "userId": "09406148759772297697"
     },
     "user_tz": -540
    },
    "id": "f4KYfs7iBcv-",
    "outputId": "9b218cd7-757d-481a-d1cc-9c65da76513a"
   },
   "outputs": [
    {
     "data": {
      "text/html": [
       "<div>\n",
       "<style scoped>\n",
       "    .dataframe tbody tr th:only-of-type {\n",
       "        vertical-align: middle;\n",
       "    }\n",
       "\n",
       "    .dataframe tbody tr th {\n",
       "        vertical-align: top;\n",
       "    }\n",
       "\n",
       "    .dataframe thead th {\n",
       "        text-align: right;\n",
       "    }\n",
       "</style>\n",
       "<table border=\"1\" class=\"dataframe\">\n",
       "  <thead>\n",
       "    <tr style=\"text-align: right;\">\n",
       "      <th></th>\n",
       "      <th>국어</th>\n",
       "      <th>영어</th>\n",
       "      <th>수학</th>\n",
       "      <th>과학</th>\n",
       "      <th>사회</th>\n",
       "      <th>역사</th>\n",
       "    </tr>\n",
       "  </thead>\n",
       "  <tbody>\n",
       "    <tr>\n",
       "      <th>3</th>\n",
       "      <td>68.0</td>\n",
       "      <td>86.0</td>\n",
       "      <td>57.0</td>\n",
       "      <td>15.0</td>\n",
       "      <td>53.0</td>\n",
       "      <td>45.0</td>\n",
       "    </tr>\n",
       "    <tr>\n",
       "      <th>10</th>\n",
       "      <td>79.0</td>\n",
       "      <td>93.0</td>\n",
       "      <td>46.0</td>\n",
       "      <td>30.0</td>\n",
       "      <td>45.0</td>\n",
       "      <td>15.0</td>\n",
       "    </tr>\n",
       "    <tr>\n",
       "      <th>13</th>\n",
       "      <td>93.0</td>\n",
       "      <td>100.0</td>\n",
       "      <td>48.0</td>\n",
       "      <td>56.0</td>\n",
       "      <td>63.0</td>\n",
       "      <td>100.0</td>\n",
       "    </tr>\n",
       "    <tr>\n",
       "      <th>23</th>\n",
       "      <td>100.0</td>\n",
       "      <td>100.0</td>\n",
       "      <td>88.0</td>\n",
       "      <td>61.0</td>\n",
       "      <td>90.0</td>\n",
       "      <td>33.0</td>\n",
       "    </tr>\n",
       "    <tr>\n",
       "      <th>32</th>\n",
       "      <td>93.0</td>\n",
       "      <td>100.0</td>\n",
       "      <td>65.0</td>\n",
       "      <td>53.0</td>\n",
       "      <td>45.0</td>\n",
       "      <td>90.0</td>\n",
       "    </tr>\n",
       "    <tr>\n",
       "      <th>...</th>\n",
       "      <td>...</td>\n",
       "      <td>...</td>\n",
       "      <td>...</td>\n",
       "      <td>...</td>\n",
       "      <td>...</td>\n",
       "      <td>...</td>\n",
       "    </tr>\n",
       "    <tr>\n",
       "      <th>1888</th>\n",
       "      <td>86.0</td>\n",
       "      <td>68.0</td>\n",
       "      <td>94.0</td>\n",
       "      <td>90.0</td>\n",
       "      <td>100.0</td>\n",
       "      <td>79.0</td>\n",
       "    </tr>\n",
       "    <tr>\n",
       "      <th>2014</th>\n",
       "      <td>65.0</td>\n",
       "      <td>58.0</td>\n",
       "      <td>63.0</td>\n",
       "      <td>0.0</td>\n",
       "      <td>0.0</td>\n",
       "      <td>0.0</td>\n",
       "    </tr>\n",
       "    <tr>\n",
       "      <th>2349</th>\n",
       "      <td>54.0</td>\n",
       "      <td>79.0</td>\n",
       "      <td>51.0</td>\n",
       "      <td>90.0</td>\n",
       "      <td>90.0</td>\n",
       "      <td>71.0</td>\n",
       "    </tr>\n",
       "    <tr>\n",
       "      <th>3165</th>\n",
       "      <td>47.0</td>\n",
       "      <td>93.0</td>\n",
       "      <td>55.0</td>\n",
       "      <td>30.0</td>\n",
       "      <td>100.0</td>\n",
       "      <td>71.0</td>\n",
       "    </tr>\n",
       "    <tr>\n",
       "      <th>3472</th>\n",
       "      <td>86.0</td>\n",
       "      <td>72.0</td>\n",
       "      <td>66.0</td>\n",
       "      <td>90.0</td>\n",
       "      <td>61.0</td>\n",
       "      <td>56.0</td>\n",
       "    </tr>\n",
       "  </tbody>\n",
       "</table>\n",
       "<p>351 rows × 6 columns</p>\n",
       "</div>"
      ],
      "text/plain": [
       "         국어     영어    수학    과학     사회     역사\n",
       "3      68.0   86.0  57.0  15.0   53.0   45.0\n",
       "10     79.0   93.0  46.0  30.0   45.0   15.0\n",
       "13     93.0  100.0  48.0  56.0   63.0  100.0\n",
       "23    100.0  100.0  88.0  61.0   90.0   33.0\n",
       "32     93.0  100.0  65.0  53.0   45.0   90.0\n",
       "...     ...    ...   ...   ...    ...    ...\n",
       "1888   86.0   68.0  94.0  90.0  100.0   79.0\n",
       "2014   65.0   58.0  63.0   0.0    0.0    0.0\n",
       "2349   54.0   79.0  51.0  90.0   90.0   71.0\n",
       "3165   47.0   93.0  55.0  30.0  100.0   71.0\n",
       "3472   86.0   72.0  66.0  90.0   61.0   56.0\n",
       "\n",
       "[351 rows x 6 columns]"
      ]
     },
     "execution_count": 6,
     "metadata": {},
     "output_type": "execute_result"
    }
   ],
   "source": [
    "middle1_score_df[['국어','영어','수학','과학','사회','역사']].dropna()"
   ]
  },
  {
   "cell_type": "code",
   "execution_count": 9,
   "id": "xwhwYxP-GLqC",
   "metadata": {
    "id": "xwhwYxP-GLqC"
   },
   "outputs": [],
   "source": [
    "input_data = middle1_score_df[['국어','영어','수학','과학','사회','역사']].dropna()"
   ]
  },
  {
   "cell_type": "code",
   "execution_count": 10,
   "id": "7e5a0276",
   "metadata": {
    "id": "7e5a0276",
    "scrolled": true
   },
   "outputs": [
    {
     "name": "stderr",
     "output_type": "stream",
     "text": [
      "C:\\ProgramData\\anaconda3\\lib\\site-packages\\sklearn\\cluster\\_kmeans.py:1382: UserWarning: KMeans is known to have a memory leak on Windows with MKL, when there are less chunks than available threads. You can avoid it by setting the environment variable OMP_NUM_THREADS=2.\n",
      "  warnings.warn(\n"
     ]
    }
   ],
   "source": [
    "gmm = GaussianMixture(n_components=3, random_state = 42)\n",
    "gmm_labels = gmm.fit_predict(input_data)\n",
    "\n",
    "input_data['gmm_cluster'] = gmm_labels"
   ]
  },
  {
   "cell_type": "code",
   "execution_count": 11,
   "id": "r4VTu5w_giz9",
   "metadata": {
    "colab": {
     "base_uri": "https://localhost:8080/",
     "height": 423
    },
    "executionInfo": {
     "elapsed": 4,
     "status": "ok",
     "timestamp": 1678502050028,
     "user": {
      "displayName": "박나연",
      "userId": "09406148759772297697"
     },
     "user_tz": -540
    },
    "id": "r4VTu5w_giz9",
    "outputId": "895454f7-e45d-4257-df42-3b810706a3cd"
   },
   "outputs": [
    {
     "data": {
      "text/html": [
       "<div>\n",
       "<style scoped>\n",
       "    .dataframe tbody tr th:only-of-type {\n",
       "        vertical-align: middle;\n",
       "    }\n",
       "\n",
       "    .dataframe tbody tr th {\n",
       "        vertical-align: top;\n",
       "    }\n",
       "\n",
       "    .dataframe thead th {\n",
       "        text-align: right;\n",
       "    }\n",
       "</style>\n",
       "<table border=\"1\" class=\"dataframe\">\n",
       "  <thead>\n",
       "    <tr style=\"text-align: right;\">\n",
       "      <th></th>\n",
       "      <th>국어</th>\n",
       "      <th>영어</th>\n",
       "      <th>수학</th>\n",
       "      <th>과학</th>\n",
       "      <th>사회</th>\n",
       "      <th>역사</th>\n",
       "      <th>gmm_cluster</th>\n",
       "    </tr>\n",
       "  </thead>\n",
       "  <tbody>\n",
       "    <tr>\n",
       "      <th>3</th>\n",
       "      <td>68.0</td>\n",
       "      <td>86.0</td>\n",
       "      <td>57.0</td>\n",
       "      <td>15.0</td>\n",
       "      <td>53.0</td>\n",
       "      <td>45.0</td>\n",
       "      <td>0</td>\n",
       "    </tr>\n",
       "    <tr>\n",
       "      <th>10</th>\n",
       "      <td>79.0</td>\n",
       "      <td>93.0</td>\n",
       "      <td>46.0</td>\n",
       "      <td>30.0</td>\n",
       "      <td>45.0</td>\n",
       "      <td>15.0</td>\n",
       "      <td>0</td>\n",
       "    </tr>\n",
       "    <tr>\n",
       "      <th>13</th>\n",
       "      <td>93.0</td>\n",
       "      <td>100.0</td>\n",
       "      <td>48.0</td>\n",
       "      <td>56.0</td>\n",
       "      <td>63.0</td>\n",
       "      <td>100.0</td>\n",
       "      <td>0</td>\n",
       "    </tr>\n",
       "    <tr>\n",
       "      <th>23</th>\n",
       "      <td>100.0</td>\n",
       "      <td>100.0</td>\n",
       "      <td>88.0</td>\n",
       "      <td>61.0</td>\n",
       "      <td>90.0</td>\n",
       "      <td>33.0</td>\n",
       "      <td>1</td>\n",
       "    </tr>\n",
       "    <tr>\n",
       "      <th>32</th>\n",
       "      <td>93.0</td>\n",
       "      <td>100.0</td>\n",
       "      <td>65.0</td>\n",
       "      <td>53.0</td>\n",
       "      <td>45.0</td>\n",
       "      <td>90.0</td>\n",
       "      <td>0</td>\n",
       "    </tr>\n",
       "    <tr>\n",
       "      <th>...</th>\n",
       "      <td>...</td>\n",
       "      <td>...</td>\n",
       "      <td>...</td>\n",
       "      <td>...</td>\n",
       "      <td>...</td>\n",
       "      <td>...</td>\n",
       "      <td>...</td>\n",
       "    </tr>\n",
       "    <tr>\n",
       "      <th>1888</th>\n",
       "      <td>86.0</td>\n",
       "      <td>68.0</td>\n",
       "      <td>94.0</td>\n",
       "      <td>90.0</td>\n",
       "      <td>100.0</td>\n",
       "      <td>79.0</td>\n",
       "      <td>1</td>\n",
       "    </tr>\n",
       "    <tr>\n",
       "      <th>2014</th>\n",
       "      <td>65.0</td>\n",
       "      <td>58.0</td>\n",
       "      <td>63.0</td>\n",
       "      <td>0.0</td>\n",
       "      <td>0.0</td>\n",
       "      <td>0.0</td>\n",
       "      <td>2</td>\n",
       "    </tr>\n",
       "    <tr>\n",
       "      <th>2349</th>\n",
       "      <td>54.0</td>\n",
       "      <td>79.0</td>\n",
       "      <td>51.0</td>\n",
       "      <td>90.0</td>\n",
       "      <td>90.0</td>\n",
       "      <td>71.0</td>\n",
       "      <td>0</td>\n",
       "    </tr>\n",
       "    <tr>\n",
       "      <th>3165</th>\n",
       "      <td>47.0</td>\n",
       "      <td>93.0</td>\n",
       "      <td>55.0</td>\n",
       "      <td>30.0</td>\n",
       "      <td>100.0</td>\n",
       "      <td>71.0</td>\n",
       "      <td>0</td>\n",
       "    </tr>\n",
       "    <tr>\n",
       "      <th>3472</th>\n",
       "      <td>86.0</td>\n",
       "      <td>72.0</td>\n",
       "      <td>66.0</td>\n",
       "      <td>90.0</td>\n",
       "      <td>61.0</td>\n",
       "      <td>56.0</td>\n",
       "      <td>0</td>\n",
       "    </tr>\n",
       "  </tbody>\n",
       "</table>\n",
       "<p>351 rows × 7 columns</p>\n",
       "</div>"
      ],
      "text/plain": [
       "         국어     영어    수학    과학     사회     역사  gmm_cluster\n",
       "3      68.0   86.0  57.0  15.0   53.0   45.0            0\n",
       "10     79.0   93.0  46.0  30.0   45.0   15.0            0\n",
       "13     93.0  100.0  48.0  56.0   63.0  100.0            0\n",
       "23    100.0  100.0  88.0  61.0   90.0   33.0            1\n",
       "32     93.0  100.0  65.0  53.0   45.0   90.0            0\n",
       "...     ...    ...   ...   ...    ...    ...          ...\n",
       "1888   86.0   68.0  94.0  90.0  100.0   79.0            1\n",
       "2014   65.0   58.0  63.0   0.0    0.0    0.0            2\n",
       "2349   54.0   79.0  51.0  90.0   90.0   71.0            0\n",
       "3165   47.0   93.0  55.0  30.0  100.0   71.0            0\n",
       "3472   86.0   72.0  66.0  90.0   61.0   56.0            0\n",
       "\n",
       "[351 rows x 7 columns]"
      ]
     },
     "execution_count": 11,
     "metadata": {},
     "output_type": "execute_result"
    }
   ],
   "source": [
    "input_data"
   ]
  },
  {
   "cell_type": "markdown",
   "id": "2W8mGLL_IxwY",
   "metadata": {
    "id": "2W8mGLL_IxwY"
   },
   "source": [
    "### 결과 과목별 시각화"
   ]
  },
  {
   "cell_type": "code",
   "execution_count": 12,
   "id": "gFjb3Z5oGoMu",
   "metadata": {
    "id": "gFjb3Z5oGoMu"
   },
   "outputs": [],
   "source": [
    "def ploting_score(df):\n",
    "    f, ax = plt.subplots(2,3)\n",
    "    f.set_size_inches((25,10))\n",
    "\n",
    "    plt.subplots_adjust(wspace = 0.3, hspace = 0.3)\n",
    "\n",
    "    ############ 1 ###############\n",
    "\n",
    "    sns.histplot(df[df['gmm_cluster'] == 0]['국어'].tolist(),\n",
    "                color=\"tomato\", ax = ax[0,0])\n",
    "    sns.histplot(df[df['gmm_cluster'] == 1]['국어'].tolist(),\n",
    "                color=\"mediumorchid\", ax = ax[0,0])\n",
    "    sns.histplot(df[df['gmm_cluster'] == 2]['국어'].tolist(),\n",
    "                color=\"gold\", ax = ax[0,0])\n",
    "    ax[0,0].set_title('Korean')\n",
    "    ax[0,0].set_xlim([-10,110])\n",
    "\n",
    "    ############ 2 ###############\n",
    "\n",
    "    sns.histplot(df[df['gmm_cluster'] == 0]['수학'].tolist(),\n",
    "                color=\"tomato\", ax = ax[0,1])\n",
    "    sns.histplot(df[df['gmm_cluster'] == 1]['수학'].tolist(),\n",
    "                color=\"mediumorchid\", ax = ax[0,1])\n",
    "    sns.histplot(df[df['gmm_cluster'] == 2]['수학'].tolist(),\n",
    "                color=\"gold\", ax = ax[0,1])\n",
    "    ax[0,1].set_title('Math')\n",
    "    ax[0,1].set_xlim([-10,110])\n",
    "\n",
    "\n",
    "    ############ 3 ###############\n",
    "    sns.histplot(df[df['gmm_cluster'] == 0]['영어'].tolist(),\n",
    "                color=\"tomato\",ax = ax[0,2])\n",
    "    sns.histplot(df[df['gmm_cluster'] == 1]['영어'].tolist(),\n",
    "                color=\"mediumorchid\", ax = ax[0,2])\n",
    "    sns.histplot(df[df['gmm_cluster'] == 2]['영어'].tolist(),\n",
    "                color=\"gold\", ax = ax[0,2])\n",
    "    ax[0,2].set_title('English')\n",
    "    ax[0,2].set_xlim([-10,110])\n",
    "\n",
    "    ############ 4 ###############\n",
    "    sns.histplot(df[df['gmm_cluster'] == 0]['사회'].tolist(),\n",
    "                color=\"tomato\", ax = ax[1,0])\n",
    "    sns.histplot(df[df['gmm_cluster'] == 1]['사회'].tolist(),\n",
    "                color=\"mediumorchid\", ax = ax[1,0])\n",
    "    sns.histplot(df[df['gmm_cluster'] == 2]['사회'].tolist(),\n",
    "                color=\"gold\", ax = ax[1,0])\n",
    "    ax[1,0].set_title('Social')\n",
    "    ax[1,0].set_xlim([-10,110])\n",
    "\n",
    "    ############ 5 ###############\n",
    "    sns.histplot(df[df['gmm_cluster'] == 0]['과학'].tolist(),\n",
    "                color=\"tomato\", ax = ax[1,1])\n",
    "    sns.histplot(df[df['gmm_cluster'] == 1]['과학'].tolist(),\n",
    "                color=\"mediumorchid\", ax = ax[1,1])\n",
    "    sns.histplot(df[df['gmm_cluster'] == 2]['과학'].tolist(),\n",
    "                color=\"gold\", ax = ax[1,1])\n",
    "    ax[1,1].set_title('Science')\n",
    "    ax[1,1].set_xlim([-10,110])\n",
    "\n",
    "    ############ 6 ###############\n",
    "    sns.histplot(df[df['gmm_cluster'] == 0]['역사'].tolist(),\n",
    "                color=\"tomato\", ax = ax[1,2])\n",
    "    sns.histplot(df[df['gmm_cluster'] == 1]['역사'].tolist(),\n",
    "                color=\"mediumorchid\", ax = ax[1,2])\n",
    "    sns.histplot(df[df['gmm_cluster'] == 2]['역사'].tolist(),\n",
    "                color=\"gold\", ax = ax[1,2])\n",
    "    ax[1,2].set_title('History')\n",
    "    ax[1,2].set_xlim([-10,110])\n",
    "\n",
    "    plt.xlim(0,100)\n",
    "    plt.show()"
   ]
  },
  {
   "cell_type": "code",
   "execution_count": 13,
   "id": "3Dpf1TzVGoIX",
   "metadata": {
    "colab": {
     "base_uri": "https://localhost:8080/",
     "height": 593
    },
    "executionInfo": {
     "elapsed": 1871,
     "status": "ok",
     "timestamp": 1678502682012,
     "user": {
      "displayName": "박나연",
      "userId": "09406148759772297697"
     },
     "user_tz": -540
    },
    "id": "3Dpf1TzVGoIX",
    "outputId": "2fb106d7-257d-4f55-988c-f1b75e165367"
   },
   "outputs": [
    {
     "data": {
      "image/png": "[encoded data removed]",
      "text/plain": [
       "<Figure size 2500x1000 with 6 Axes>"
      ]
     },
     "metadata": {},
     "output_type": "display_data"
    }
   ],
   "source": [
    "ploting_score(input_data)"
   ]
  },
  {
   "cell_type": "code",
   "execution_count": null,
   "id": "eQ2iOVxosP7f",
   "metadata": {
    "id": "eQ2iOVxosP7f"
   },
   "outputs": [],
   "source": []
  },
  {
   "cell_type": "markdown",
   "id": "Nf3-8eT8sQbP",
   "metadata": {
    "id": "Nf3-8eT8sQbP"
   },
   "source": [
    "### 과제"
   ]
  },
  {
   "cell_type": "markdown",
   "id": "hQRXkG3Bt3x_",
   "metadata": {
    "id": "hQRXkG3Bt3x_"
   },
   "source": [
    "#### 1. PCA 진행하지 않고, GMM 적용해보기(결과만 시각화)"
   ]
  },
  {
   "cell_type": "code",
   "execution_count": 15,
   "id": "759b14c5",
   "metadata": {},
   "outputs": [
    {
     "data": {
      "image/png": "[encoded data removed]",
      "text/plain": [
       "<Figure size 2500x1000 with 6 Axes>"
      ]
     },
     "metadata": {},
     "output_type": "display_data"
    }
   ],
   "source": [
    "ploting_score(input_data)"
   ]
  },
  {
   "cell_type": "markdown",
   "id": "EVsIGGY8sWlN",
   "metadata": {
    "id": "EVsIGGY8sWlN"
   },
   "source": [
    "#### 2. 국어와 수학과목의 성적이 유사한 사용자끼리 묶이도록 K-means 활용하여 5개의 군집 만들기"
   ]
  },
  {
   "cell_type": "code",
   "execution_count": 16,
   "id": "hRCcOMQ-W6bB",
   "metadata": {
    "id": "hRCcOMQ-W6bB"
   },
   "outputs": [],
   "source": [
    "## X : 국어 , Y : 수학\n",
    "from sklearn.cluster import KMeans"
   ]
  },
  {
   "cell_type": "code",
   "execution_count": 34,
   "id": "d0b96b08",
   "metadata": {},
   "outputs": [],
   "source": [
    "X = input_data[['국어','수학']]"
   ]
  },
  {
   "cell_type": "code",
   "execution_count": 36,
   "id": "7593cded",
   "metadata": {},
   "outputs": [
    {
     "data": {
      "text/html": [
       "<div>\n",
       "<style scoped>\n",
       "    .dataframe tbody tr th:only-of-type {\n",
       "        vertical-align: middle;\n",
       "    }\n",
       "\n",
       "    .dataframe tbody tr th {\n",
       "        vertical-align: top;\n",
       "    }\n",
       "\n",
       "    .dataframe thead th {\n",
       "        text-align: right;\n",
       "    }\n",
       "</style>\n",
       "<table border=\"1\" class=\"dataframe\">\n",
       "  <thead>\n",
       "    <tr style=\"text-align: right;\">\n",
       "      <th></th>\n",
       "      <th>국어</th>\n",
       "      <th>수학</th>\n",
       "    </tr>\n",
       "  </thead>\n",
       "  <tbody>\n",
       "    <tr>\n",
       "      <th>3</th>\n",
       "      <td>68.0</td>\n",
       "      <td>57.0</td>\n",
       "    </tr>\n",
       "    <tr>\n",
       "      <th>10</th>\n",
       "      <td>79.0</td>\n",
       "      <td>46.0</td>\n",
       "    </tr>\n",
       "    <tr>\n",
       "      <th>13</th>\n",
       "      <td>93.0</td>\n",
       "      <td>48.0</td>\n",
       "    </tr>\n",
       "    <tr>\n",
       "      <th>23</th>\n",
       "      <td>100.0</td>\n",
       "      <td>88.0</td>\n",
       "    </tr>\n",
       "    <tr>\n",
       "      <th>32</th>\n",
       "      <td>93.0</td>\n",
       "      <td>65.0</td>\n",
       "    </tr>\n",
       "    <tr>\n",
       "      <th>...</th>\n",
       "      <td>...</td>\n",
       "      <td>...</td>\n",
       "    </tr>\n",
       "    <tr>\n",
       "      <th>1888</th>\n",
       "      <td>86.0</td>\n",
       "      <td>94.0</td>\n",
       "    </tr>\n",
       "    <tr>\n",
       "      <th>2014</th>\n",
       "      <td>65.0</td>\n",
       "      <td>63.0</td>\n",
       "    </tr>\n",
       "    <tr>\n",
       "      <th>2349</th>\n",
       "      <td>54.0</td>\n",
       "      <td>51.0</td>\n",
       "    </tr>\n",
       "    <tr>\n",
       "      <th>3165</th>\n",
       "      <td>47.0</td>\n",
       "      <td>55.0</td>\n",
       "    </tr>\n",
       "    <tr>\n",
       "      <th>3472</th>\n",
       "      <td>86.0</td>\n",
       "      <td>66.0</td>\n",
       "    </tr>\n",
       "  </tbody>\n",
       "</table>\n",
       "<p>351 rows × 2 columns</p>\n",
       "</div>"
      ],
      "text/plain": [
       "         국어    수학\n",
       "3      68.0  57.0\n",
       "10     79.0  46.0\n",
       "13     93.0  48.0\n",
       "23    100.0  88.0\n",
       "32     93.0  65.0\n",
       "...     ...   ...\n",
       "1888   86.0  94.0\n",
       "2014   65.0  63.0\n",
       "2349   54.0  51.0\n",
       "3165   47.0  55.0\n",
       "3472   86.0  66.0\n",
       "\n",
       "[351 rows x 2 columns]"
      ]
     },
     "execution_count": 36,
     "metadata": {},
     "output_type": "execute_result"
    }
   ],
   "source": [
    "X"
   ]
  },
  {
   "cell_type": "code",
   "execution_count": 37,
   "id": "0d549d17",
   "metadata": {},
   "outputs": [
    {
     "name": "stderr",
     "output_type": "stream",
     "text": [
      "C:\\ProgramData\\anaconda3\\lib\\site-packages\\sklearn\\cluster\\_kmeans.py:870: FutureWarning: The default value of `n_init` will change from 10 to 'auto' in 1.4. Set the value of `n_init` explicitly to suppress the warning\n",
      "  warnings.warn(\n",
      "C:\\ProgramData\\anaconda3\\lib\\site-packages\\sklearn\\cluster\\_kmeans.py:1382: UserWarning: KMeans is known to have a memory leak on Windows with MKL, when there are less chunks than available threads. You can avoid it by setting the environment variable OMP_NUM_THREADS=2.\n",
      "  warnings.warn(\n"
     ]
    }
   ],
   "source": [
    "k = 5\n",
    "kmeans = KMeans(n_clusters=k, random_state=42)\n",
    "y_pred = kmeans.fit_predict(X)"
   ]
  },
  {
   "cell_type": "code",
   "execution_count": 38,
   "id": "52378b19",
   "metadata": {},
   "outputs": [
    {
     "data": {
      "text/plain": [
       "array([4, 3, 3, 1, 0, 0, 0, 4, 4, 3, 3, 1, 0, 1, 0, 2, 0, 0, 3, 0, 1, 1,\n",
       "       0, 4, 1, 4, 0, 1, 3, 0, 0, 1, 1, 1, 0, 0, 1, 1, 0, 2, 1, 3, 1, 0,\n",
       "       0, 0, 0, 0, 1, 1, 0, 3, 1, 0, 0, 4, 3, 1, 0, 0, 0, 1, 0, 0, 1, 0,\n",
       "       1, 1, 0, 1, 1, 1, 4, 0, 0, 0, 1, 1, 1, 3, 1, 0, 0, 4, 3, 0, 1, 1,\n",
       "       4, 0, 0, 1, 1, 3, 0, 0, 3, 1, 1, 1, 1, 0, 1, 4, 0, 0, 0, 0, 1, 1,\n",
       "       4, 3, 1, 1, 0, 4, 0, 1, 1, 1, 0, 0, 0, 3, 1, 0, 1, 1, 1, 4, 1, 4,\n",
       "       3, 0, 0, 0, 4, 3, 4, 0, 4, 1, 1, 1, 0, 0, 1, 3, 1, 0, 1, 1, 3, 4,\n",
       "       3, 0, 3, 4, 1, 0, 0, 1, 0, 2, 1, 1, 1, 4, 3, 1, 1, 4, 0, 3, 0, 1,\n",
       "       4, 4, 1, 3, 1, 0, 0, 4, 1, 4, 0, 1, 3, 1, 4, 0, 3, 4, 4, 2, 0, 0,\n",
       "       4, 4, 1, 1, 1, 0, 1, 0, 0, 0, 0, 4, 0, 1, 0, 0, 1, 0, 1, 1, 1, 1,\n",
       "       3, 0, 1, 1, 1, 2, 3, 3, 4, 4, 2, 4, 1, 3, 4, 0, 0, 3, 1, 1, 3, 0,\n",
       "       0, 1, 4, 3, 3, 3, 0, 4, 1, 1, 0, 1, 4, 3, 1, 0, 3, 1, 2, 1, 0, 0,\n",
       "       1, 4, 0, 1, 4, 3, 0, 3, 3, 0, 0, 3, 3, 2, 1, 4, 3, 4, 1, 4, 3, 1,\n",
       "       0, 0, 0, 1, 3, 1, 0, 0, 0, 4, 3, 0, 1, 0, 0, 1, 1, 1, 1, 4, 0, 3,\n",
       "       2, 2, 3, 4, 3, 1, 0, 1, 3, 0, 0, 3, 0, 1, 0, 0, 4, 3, 3, 1, 0, 0,\n",
       "       2, 1, 0, 3, 1, 1, 2, 2, 0, 0, 3, 4, 2, 4, 2, 0, 1, 4, 4, 4, 0])"
      ]
     },
     "execution_count": 38,
     "metadata": {},
     "output_type": "execute_result"
    }
   ],
   "source": [
    "y_pred"
   ]
  },
  {
   "cell_type": "code",
   "execution_count": 39,
   "id": "266c1329",
   "metadata": {},
   "outputs": [
    {
     "data": {
      "text/plain": [
       "array([0, 1, 2, 3, 4])"
      ]
     },
     "execution_count": 39,
     "metadata": {},
     "output_type": "execute_result"
    }
   ],
   "source": [
    "np.unique(y_pred)"
   ]
  },
  {
   "cell_type": "code",
   "execution_count": 42,
   "id": "fe33bbad",
   "metadata": {},
   "outputs": [
    {
     "data": {
      "text/plain": [
       "array([[90.87931034, 67.35344828],\n",
       "       [91.68141593, 91.28318584],\n",
       "       [75.53333333,  1.53333333],\n",
       "       [87.36363636, 41.23636364],\n",
       "       [49.98076923, 52.51923077]])"
      ]
     },
     "execution_count": 42,
     "metadata": {},
     "output_type": "execute_result"
    }
   ],
   "source": [
    "kmeans.cluster_centers_ # 중심점의 위치"
   ]
  },
  {
   "cell_type": "code",
   "execution_count": 40,
   "id": "cccb209d",
   "metadata": {},
   "outputs": [
    {
     "name": "stderr",
     "output_type": "stream",
     "text": [
      "C:\\Users\\leah5\\AppData\\Local\\Temp\\ipykernel_23052\\3961156437.py:1: SettingWithCopyWarning: \n",
      "A value is trying to be set on a copy of a slice from a DataFrame.\n",
      "Try using .loc[row_indexer,col_indexer] = value instead\n",
      "\n",
      "See the caveats in the documentation: https://pandas.pydata.org/pandas-docs/stable/user_guide/indexing.html#returning-a-view-versus-a-copy\n",
      "  X['cluster'] = y_pred\n"
     ]
    }
   ],
   "source": [
    "X['cluster'] = y_pred"
   ]
  },
  {
   "cell_type": "code",
   "execution_count": 41,
   "id": "293ffa66",
   "metadata": {},
   "outputs": [
    {
     "data": {
      "text/html": [
       "<div>\n",
       "<style scoped>\n",
       "    .dataframe tbody tr th:only-of-type {\n",
       "        vertical-align: middle;\n",
       "    }\n",
       "\n",
       "    .dataframe tbody tr th {\n",
       "        vertical-align: top;\n",
       "    }\n",
       "\n",
       "    .dataframe thead th {\n",
       "        text-align: right;\n",
       "    }\n",
       "</style>\n",
       "<table border=\"1\" class=\"dataframe\">\n",
       "  <thead>\n",
       "    <tr style=\"text-align: right;\">\n",
       "      <th></th>\n",
       "      <th>국어</th>\n",
       "      <th>수학</th>\n",
       "      <th>cluster</th>\n",
       "    </tr>\n",
       "  </thead>\n",
       "  <tbody>\n",
       "    <tr>\n",
       "      <th>3</th>\n",
       "      <td>68.0</td>\n",
       "      <td>57.0</td>\n",
       "      <td>4</td>\n",
       "    </tr>\n",
       "    <tr>\n",
       "      <th>10</th>\n",
       "      <td>79.0</td>\n",
       "      <td>46.0</td>\n",
       "      <td>3</td>\n",
       "    </tr>\n",
       "    <tr>\n",
       "      <th>13</th>\n",
       "      <td>93.0</td>\n",
       "      <td>48.0</td>\n",
       "      <td>3</td>\n",
       "    </tr>\n",
       "    <tr>\n",
       "      <th>23</th>\n",
       "      <td>100.0</td>\n",
       "      <td>88.0</td>\n",
       "      <td>1</td>\n",
       "    </tr>\n",
       "    <tr>\n",
       "      <th>32</th>\n",
       "      <td>93.0</td>\n",
       "      <td>65.0</td>\n",
       "      <td>0</td>\n",
       "    </tr>\n",
       "    <tr>\n",
       "      <th>...</th>\n",
       "      <td>...</td>\n",
       "      <td>...</td>\n",
       "      <td>...</td>\n",
       "    </tr>\n",
       "    <tr>\n",
       "      <th>1888</th>\n",
       "      <td>86.0</td>\n",
       "      <td>94.0</td>\n",
       "      <td>1</td>\n",
       "    </tr>\n",
       "    <tr>\n",
       "      <th>2014</th>\n",
       "      <td>65.0</td>\n",
       "      <td>63.0</td>\n",
       "      <td>4</td>\n",
       "    </tr>\n",
       "    <tr>\n",
       "      <th>2349</th>\n",
       "      <td>54.0</td>\n",
       "      <td>51.0</td>\n",
       "      <td>4</td>\n",
       "    </tr>\n",
       "    <tr>\n",
       "      <th>3165</th>\n",
       "      <td>47.0</td>\n",
       "      <td>55.0</td>\n",
       "      <td>4</td>\n",
       "    </tr>\n",
       "    <tr>\n",
       "      <th>3472</th>\n",
       "      <td>86.0</td>\n",
       "      <td>66.0</td>\n",
       "      <td>0</td>\n",
       "    </tr>\n",
       "  </tbody>\n",
       "</table>\n",
       "<p>351 rows × 3 columns</p>\n",
       "</div>"
      ],
      "text/plain": [
       "         국어    수학  cluster\n",
       "3      68.0  57.0        4\n",
       "10     79.0  46.0        3\n",
       "13     93.0  48.0        3\n",
       "23    100.0  88.0        1\n",
       "32     93.0  65.0        0\n",
       "...     ...   ...      ...\n",
       "1888   86.0  94.0        1\n",
       "2014   65.0  63.0        4\n",
       "2349   54.0  51.0        4\n",
       "3165   47.0  55.0        4\n",
       "3472   86.0  66.0        0\n",
       "\n",
       "[351 rows x 3 columns]"
      ]
     },
     "execution_count": 41,
     "metadata": {},
     "output_type": "execute_result"
    }
   ],
   "source": [
    "X"
   ]
  },
  {
   "cell_type": "code",
   "execution_count": 70,
   "id": "91f728e9",
   "metadata": {},
   "outputs": [
    {
     "data": {
      "image/png": "[encoded data removed]",
      "text/plain": [
       "<Figure size 640x480 with 1 Axes>"
      ]
     },
     "metadata": {},
     "output_type": "display_data"
    }
   ],
   "source": [
    "plt.scatter(X['국어'], X['수학'], c=y_pred, cmap='rainbow')\n",
    "plt.xlabel('korean')\n",
    "plt.ylabel('math')\n",
    "plt.title('K-means Clustering')\n",
    "plt.show()"
   ]
  },
  {
   "cell_type": "code",
   "execution_count": 56,
   "id": "5f0208c8",
   "metadata": {},
   "outputs": [
    {
     "data": {
      "text/html": [
       "<div>\n",
       "<style scoped>\n",
       "    .dataframe tbody tr th:only-of-type {\n",
       "        vertical-align: middle;\n",
       "    }\n",
       "\n",
       "    .dataframe tbody tr th {\n",
       "        vertical-align: top;\n",
       "    }\n",
       "\n",
       "    .dataframe thead th {\n",
       "        text-align: right;\n",
       "    }\n",
       "</style>\n",
       "<table border=\"1\" class=\"dataframe\">\n",
       "  <thead>\n",
       "    <tr style=\"text-align: right;\">\n",
       "      <th></th>\n",
       "      <th>국어</th>\n",
       "      <th>수학</th>\n",
       "      <th>cluster</th>\n",
       "    </tr>\n",
       "  </thead>\n",
       "  <tbody>\n",
       "    <tr>\n",
       "      <th>3</th>\n",
       "      <td>68.0</td>\n",
       "      <td>57.0</td>\n",
       "      <td>4</td>\n",
       "    </tr>\n",
       "    <tr>\n",
       "      <th>10</th>\n",
       "      <td>79.0</td>\n",
       "      <td>46.0</td>\n",
       "      <td>3</td>\n",
       "    </tr>\n",
       "    <tr>\n",
       "      <th>13</th>\n",
       "      <td>93.0</td>\n",
       "      <td>48.0</td>\n",
       "      <td>3</td>\n",
       "    </tr>\n",
       "    <tr>\n",
       "      <th>23</th>\n",
       "      <td>100.0</td>\n",
       "      <td>88.0</td>\n",
       "      <td>1</td>\n",
       "    </tr>\n",
       "    <tr>\n",
       "      <th>32</th>\n",
       "      <td>93.0</td>\n",
       "      <td>65.0</td>\n",
       "      <td>0</td>\n",
       "    </tr>\n",
       "    <tr>\n",
       "      <th>...</th>\n",
       "      <td>...</td>\n",
       "      <td>...</td>\n",
       "      <td>...</td>\n",
       "    </tr>\n",
       "    <tr>\n",
       "      <th>1888</th>\n",
       "      <td>86.0</td>\n",
       "      <td>94.0</td>\n",
       "      <td>1</td>\n",
       "    </tr>\n",
       "    <tr>\n",
       "      <th>2014</th>\n",
       "      <td>65.0</td>\n",
       "      <td>63.0</td>\n",
       "      <td>4</td>\n",
       "    </tr>\n",
       "    <tr>\n",
       "      <th>2349</th>\n",
       "      <td>54.0</td>\n",
       "      <td>51.0</td>\n",
       "      <td>4</td>\n",
       "    </tr>\n",
       "    <tr>\n",
       "      <th>3165</th>\n",
       "      <td>47.0</td>\n",
       "      <td>55.0</td>\n",
       "      <td>4</td>\n",
       "    </tr>\n",
       "    <tr>\n",
       "      <th>3472</th>\n",
       "      <td>86.0</td>\n",
       "      <td>66.0</td>\n",
       "      <td>0</td>\n",
       "    </tr>\n",
       "  </tbody>\n",
       "</table>\n",
       "<p>351 rows × 3 columns</p>\n",
       "</div>"
      ],
      "text/plain": [
       "         국어    수학  cluster\n",
       "3      68.0  57.0        4\n",
       "10     79.0  46.0        3\n",
       "13     93.0  48.0        3\n",
       "23    100.0  88.0        1\n",
       "32     93.0  65.0        0\n",
       "...     ...   ...      ...\n",
       "1888   86.0  94.0        1\n",
       "2014   65.0  63.0        4\n",
       "2349   54.0  51.0        4\n",
       "3165   47.0  55.0        4\n",
       "3472   86.0  66.0        0\n",
       "\n",
       "[351 rows x 3 columns]"
      ]
     },
     "execution_count": 56,
     "metadata": {},
     "output_type": "execute_result"
    }
   ],
   "source": [
    "X"
   ]
  },
  {
   "cell_type": "code",
   "execution_count": 55,
   "id": "5da03e74",
   "metadata": {},
   "outputs": [
    {
     "data": {
      "text/plain": [
       "array([[ 68.,  79.,  93., 100.,  93.,  86.,  93.,  40.,  47.,  93.,  79.,\n",
       "        100.,  86.,  72.,  93., 100.,  93., 100.,  72.,  86., 100.,  86.,\n",
       "         86.,  65., 100.,  54., 100.,  86.,  72.,  86.,  86., 100., 100.,\n",
       "        100., 100.,  93., 100.,  86.,  93.,  79.,  86.,  86., 100., 100.,\n",
       "         93.,  86.,  93., 100., 100., 100.,  86.,  79.,  79., 100.,  86.,\n",
       "         68.,  93., 100.,  79., 100., 100., 100., 100., 100.,  86.,  93.,\n",
       "         93.,  79., 100., 100.,  86., 100.,  61., 100., 100.,  79.,  93.,\n",
       "         93.,  75.,  75.,  93., 100.,  72.,  22.,  93., 100., 100., 100.,\n",
       "         18., 100.,  93., 100., 100.,  79.,  68.,  79.,  93.,  86., 100.,\n",
       "         79.,  86., 100.,  86.,  44.,  86.,  72.,  72., 100., 100., 100.,\n",
       "         47., 100., 100., 100.,  86.,  54.,  86.,  86.,  93.,  93., 100.,\n",
       "        100.,  79., 100.,  93., 100., 100.,  79.,  86.,  58., 100.,  65.,\n",
       "         86.,  86.,  79.,  93.,  29., 100.,  33.,  93.,  65.,  93.,  61.,\n",
       "         86.,  72.,  79., 100.,  72., 100.,  79.,  93., 100.,  93.,  47.,\n",
       "         79.,  93.,  72.,  54.,  86.,  86.,  93., 100., 100., 100.,  72.,\n",
       "        100., 100.,  54.,  86., 100., 100.,  11., 100.,  86., 100.,  93.,\n",
       "         29.,  47., 100.,  79.,  68., 100., 100.,  68., 100.,  58.,  68.,\n",
       "         86., 100.,  86.,  61.,  86.,  79.,  47.,  47.,  86., 100.,  79.,\n",
       "         58.,  40.,  93.,  93.,  93., 100., 100., 100.,  72., 100.,  93.,\n",
       "         54., 100.,  72., 100.,  86.,  86.,  93.,  65., 100., 100., 100.,\n",
       "         86., 100., 100.,  93., 100.,  65., 100.,  93.,  61.,  58.,  36.,\n",
       "         40.,  93.,  93.,  58., 100.,  86., 100., 100.,  68.,  93.,  86.,\n",
       "        100.,  93.,  36., 100.,  68., 100.,  86.,  68.,  65.,  86.,  93.,\n",
       "         72.,  54.,  93.,  86.,  93.,  93., 100.,  86.,  72.,  93.,  93.,\n",
       "         86.,  36.,  93.,  86.,  40.,  75.,  72.,  93., 100.,  86.,  79.,\n",
       "         86.,  93., 100., 100.,  61.,  93.,  58.,  86.,  47.,  72.,  86.,\n",
       "        100.,  79.,  93.,  86.,  93., 100.,  93., 100.,  79.,  68.,  86.,\n",
       "        100., 100.,  93.,  79.,  86., 100.,  93., 100.,  29., 100.,  93.,\n",
       "         36.,  79.,  68.,  44.,  93., 100., 100., 100.,  79.,  93.,  79.,\n",
       "         86.,  93.,  93.,  93.,  93.,  54.,  79.,  79.,  79., 100.,  79.,\n",
       "         61.,  86.,  93., 100., 100.,  93.,  72.,  86.,  86.,  93., 100.,\n",
       "         61.,  86.,  47.,  61.,  86.,  86.,  65.,  54.,  47.,  86.]])"
      ]
     },
     "execution_count": 55,
     "metadata": {},
     "output_type": "execute_result"
    }
   ],
   "source": [
    "X['국어'].values.reshape(1,-1)"
   ]
  },
  {
   "cell_type": "code",
   "execution_count": 57,
   "id": "550d8ff3",
   "metadata": {},
   "outputs": [
    {
     "data": {
      "text/plain": [
       "array([[ 57.,  46.,  48.,  88.,  65.,  57.,  77.,  52.,  46.,  46.,  43.,\n",
       "         88.,  57.,  88.,  57.,   0.,  60.,  77.,  43.,  60.,  88., 100.,\n",
       "         57.,  55.,  88.,  46.,  71.,  83.,  46.,  56.,  77.,  94.,  88.,\n",
       "         88.,  65.,  70.,  94.,  88.,  76.,   0., 100.,  46.,  94.,  65.,\n",
       "         57.,  65.,  65.,  66.,  88.,  88.,  72.,  52., 100.,  68.,  65.,\n",
       "         46.,  34.,  94.,  68.,  56.,  77.,  88.,  70.,  76.,  89.,  72.,\n",
       "        100.,  88.,  76.,  94.,  94., 100.,  42.,  71.,  77.,  62., 100.,\n",
       "         80.,  82.,  48.,  88.,  54.,  62.,  51.,  50.,  56., 100.,  94.,\n",
       "         51.,  76.,  71.,  94.,  94.,  37.,  69.,  77.,  51., 100.,  94.,\n",
       "         88.,  94.,  60.,  88.,  41.,  74.,  68.,  69.,  55.,  94., 100.,\n",
       "         82.,  52.,  88., 100.,  57.,  65.,  68.,  89.,  80.,  83.,  60.,\n",
       "         63.,  60.,  48.,  94.,  60.,  94.,  94., 100.,  57., 100.,  63.,\n",
       "         37.,  66.,  77.,  60.,  46.,  36.,  51.,  71.,  65.,  94.,  88.,\n",
       "         83.,  69.,  57.,  94.,  51.,  83.,  69.,  94.,  82.,  48.,  51.,\n",
       "         51.,  61.,  28.,  41.,  88.,  77.,  71.,  88.,  66.,   0., 100.,\n",
       "        100.,  83.,  51.,  51.,  94.,  94.,  60.,  66.,  46.,  68., 100.,\n",
       "         23.,  57.,  94.,  46.,  94.,  54.,  70.,  51.,  88.,  82.,  76.,\n",
       "         94.,  51.,  94.,  38.,  77.,  37.,  57.,  23.,   0.,  77.,  61.,\n",
       "         51.,  28.,  94.,  88.,  82.,  77., 100.,  68.,  76.,  65.,  77.,\n",
       "         55.,  77., 100.,  76.,  57., 100.,  63.,  94.,  94.,  88.,  94.,\n",
       "         46.,  74., 100.,  82.,  88.,   0.,  42.,  28.,  60.,  51.,   0.,\n",
       "         48.,  88.,  37.,  68.,  77.,  55.,  40.,  94.,  88.,  32.,  76.,\n",
       "         70.,  82.,  51.,  27.,  28.,  41.,  76.,  51.,  94.,  94.,  71.,\n",
       "         94.,  37.,  46.,  94.,  65.,  42.,  82.,   9.,  82.,  56.,  72.,\n",
       "        100.,  83.,  74.,  82.,  51.,  42.,  60.,  46.,  23.,  62.,  77.,\n",
       "         43.,  51.,   0.,  82.,  58.,  38.,  68.,  82.,  54.,  46.,  82.,\n",
       "         74.,  63.,  57.,  88.,  37.,  83.,  76.,  57.,  77.,  66.,  42.,\n",
       "         57.,  88.,  72.,  77., 100.,  82.,  88., 100.,  71.,  77.,  37.,\n",
       "          0.,   0.,  32.,  46.,  23.,  82.,  63., 100.,  23.,  69.,  63.,\n",
       "         23.,  60., 100.,  60.,  70.,  32.,  41.,  46.,  94.,  68.,  65.,\n",
       "          0.,  82.,  77.,  52.,  89.,  88.,   0.,   0.,  74.,  63.,  42.,\n",
       "         41.,  14.,  42.,   0.,  65.,  94.,  63.,  51.,  55.,  66.]])"
      ]
     },
     "execution_count": 57,
     "metadata": {},
     "output_type": "execute_result"
    }
   ],
   "source": [
    "X['수학'].values.reshape(1,-1)"
   ]
  },
  {
   "cell_type": "code",
   "execution_count": 69,
   "id": "aca88655",
   "metadata": {},
   "outputs": [
    {
     "name": "stderr",
     "output_type": "stream",
     "text": [
      "C:\\ProgramData\\anaconda3\\lib\\site-packages\\sklearn\\base.py:420: UserWarning: X does not have valid feature names, but KMeans was fitted with feature names\n",
      "  warnings.warn(\n"
     ]
    },
    {
     "data": {
      "image/png": "[encoded data removed]",
      "text/plain": [
       "<Figure size 800x400 with 1 Axes>"
      ]
     },
     "metadata": {},
     "output_type": "display_data"
    }
   ],
   "source": [
    "def plot_data(X):\n",
    "    plt.plot(X['국어'].values.reshape(1,-1), X['수학'].values.reshape(1,-1), 'k.', markersize=2)\n",
    "\n",
    "def plot_centroids(centroids, weights=None, circle_color='w', cross_color='k'):\n",
    "    if weights is not None:\n",
    "        centroids = centroids[weights > weights.max() / 10]\n",
    "    plt.scatter(centroids[:, 0], centroids[:, 1],\n",
    "                marker='o', s=35, linewidths=8,\n",
    "                color=circle_color, zorder=10, alpha=0.9)\n",
    "    plt.scatter(centroids[:, 0], centroids[:, 1],\n",
    "                marker='x', s=2, linewidths=12,\n",
    "                color=cross_color, zorder=11, alpha=1)\n",
    "\n",
    "def plot_decision_boundaries(clusterer, X, resolution=1000, show_centroids=True,\n",
    "                             show_xlabels=True, show_ylabels=True):\n",
    "    # 바탕 그리기\n",
    "    mins = X.min(axis=0) - 0.1\n",
    "    maxs = X.max(axis=0) + 0.1\n",
    "    xx, yy = np.meshgrid(np.linspace(mins[0], maxs[0], resolution),\n",
    "                         np.linspace(mins[1], maxs[1], resolution))\n",
    "    Z = clusterer.predict(np.c_[xx.ravel(), yy.ravel()])\n",
    "    Z = Z.reshape(xx.shape)\n",
    "\n",
    "    plt.contourf(Z, extent=(mins[0], maxs[0], mins[1], maxs[1]),\n",
    "                cmap=\"Pastel2\")\n",
    "\n",
    "    # 결정 경계 그리기\n",
    "    plt.contour(Z, extent=(mins[0], maxs[0], mins[1], maxs[1]),\n",
    "                linewidths=1, colors='k')\n",
    "\n",
    "    # 훈련 데이터셋과 센트로이드 그리기\n",
    "    plot_data(X)\n",
    "    if show_centroids:\n",
    "        plot_centroids(clusterer.cluster_centers_)\n",
    "\n",
    "    if show_xlabels:\n",
    "        plt.xlabel(\"$korean$\")\n",
    "    else:\n",
    "        plt.tick_params(labelbottom=False)\n",
    "    if show_ylabels:\n",
    "        plt.ylabel(\"$math$\", rotation=0)\n",
    "    else:\n",
    "        plt.tick_params(labelleft=False)\n",
    "\n",
    "plt.figure(figsize=(8, 4))\n",
    "plot_decision_boundaries(kmeans, X)\n",
    "\n",
    "plt.show()"
   ]
  },
  {
   "cell_type": "markdown",
   "id": "rWBS8PFWjykp",
   "metadata": {
    "id": "rWBS8PFWjykp"
   },
   "source": [
    "#### 느낀점\n",
    "\n",
    "1. ex. 시각화결과를 보니 PCA가 ~~ 역할을 해준 것 같다.\n",
    "\n",
    "\n",
    "2. ex. K-means를 항상 사용할 수 있을 까?"
   ]
  },
  {
   "cell_type": "markdown",
   "id": "b237a1ca",
   "metadata": {},
   "source": [
    "#### 답변"
   ]
  },
  {
   "cell_type": "markdown",
   "id": "82cd214a",
   "metadata": {},
   "source": [
    "1. 시각화 결과를 보니 PCA가 클러스터 간에 값들이 좀 더 극명한 차이가 나도록 보여주는 것 같다. 이로 인해 PCA를 한 클러스터링이 클러스터간의 특징을 빠르고 직관적으로 파악할 수 있다.\n",
    "2. k-means는 모든 상황에 적합하지 않다. 데이터 간의 거리가 비슷하거나 모든 데이터가 비슷한 범위의 값을 가질 때 군집이 잘 분류되지 않는다."
   ]
  },
  {
   "cell_type": "code",
   "execution_count": null,
   "id": "85df6338",
   "metadata": {},
   "outputs": [],
   "source": []
  }
 ],
 "metadata": {
  "colab": {
   "provenance": []
  },
  "kernelspec": {
   "display_name": "Python 3 (ipykernel)",
   "language": "python",
   "name": "python3"
  },
  "language_info": {
   "codemirror_mode": {
    "name": "ipython",
    "version": 3
   },
   "file_extension": ".py",
   "mimetype": "text/x-python",
   "name": "python",
   "nbconvert_exporter": "python",
   "pygments_lexer": "ipython3",
   "version": "3.10.9"
  }
 },
 "nbformat": 4,
 "nbformat_minor": 5
}
